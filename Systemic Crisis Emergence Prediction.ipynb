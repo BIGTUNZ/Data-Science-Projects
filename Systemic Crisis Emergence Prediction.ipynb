{
 "cells": [
  {
   "cell_type": "code",
   "execution_count": 62,
   "id": "597d8e76-8236-48a5-af8e-49cb2f4e1dde",
   "metadata": {},
   "outputs": [],
   "source": [
    "import numpy as np\n",
    "import pandas as pd\n",
    "import matplotlib.pyplot as plt\n",
    "import plotly.express as px\n",
    "import seaborn as sns \n",
    "%matplotlib inline "
   ]
  },
  {
   "cell_type": "code",
   "execution_count": 63,
   "id": "d3de75ab-4bf0-4859-a5c2-5b334239bc48",
   "metadata": {},
   "outputs": [],
   "source": [
    "import warnings\n",
    "warnings.filterwarnings('ignore')"
   ]
  },
  {
   "cell_type": "code",
   "execution_count": 64,
   "id": "c3c9d60f-1c70-4ef5-bf8d-a37c2ff81efe",
   "metadata": {},
   "outputs": [],
   "source": [
    "df = pd.read_csv('African_crises_dataset.csv')"
   ]
  },
  {
   "cell_type": "code",
   "execution_count": 65,
   "id": "640c87ba-4f03-4919-99f4-66520c88c5bc",
   "metadata": {},
   "outputs": [
    {
     "data": {
      "text/html": [
       "<div>\n",
       "<style scoped>\n",
       "    .dataframe tbody tr th:only-of-type {\n",
       "        vertical-align: middle;\n",
       "    }\n",
       "\n",
       "    .dataframe tbody tr th {\n",
       "        vertical-align: top;\n",
       "    }\n",
       "\n",
       "    .dataframe thead th {\n",
       "        text-align: right;\n",
       "    }\n",
       "</style>\n",
       "<table border=\"1\" class=\"dataframe\">\n",
       "  <thead>\n",
       "    <tr style=\"text-align: right;\">\n",
       "      <th></th>\n",
       "      <th>country_number</th>\n",
       "      <th>country_code</th>\n",
       "      <th>country</th>\n",
       "      <th>year</th>\n",
       "      <th>systemic_crisis</th>\n",
       "      <th>exch_usd</th>\n",
       "      <th>domestic_debt_in_default</th>\n",
       "      <th>sovereign_external_debt_default</th>\n",
       "      <th>gdp_weighted_default</th>\n",
       "      <th>inflation_annual_cpi</th>\n",
       "      <th>independence</th>\n",
       "      <th>currency_crises</th>\n",
       "      <th>inflation_crises</th>\n",
       "      <th>banking_crisis</th>\n",
       "    </tr>\n",
       "  </thead>\n",
       "  <tbody>\n",
       "    <tr>\n",
       "      <th>0</th>\n",
       "      <td>1</td>\n",
       "      <td>DZA</td>\n",
       "      <td>Algeria</td>\n",
       "      <td>1870</td>\n",
       "      <td>1</td>\n",
       "      <td>0.052264</td>\n",
       "      <td>0</td>\n",
       "      <td>0</td>\n",
       "      <td>0.0</td>\n",
       "      <td>3.441456</td>\n",
       "      <td>0</td>\n",
       "      <td>0</td>\n",
       "      <td>0</td>\n",
       "      <td>crisis</td>\n",
       "    </tr>\n",
       "    <tr>\n",
       "      <th>1</th>\n",
       "      <td>1</td>\n",
       "      <td>DZA</td>\n",
       "      <td>Algeria</td>\n",
       "      <td>1871</td>\n",
       "      <td>0</td>\n",
       "      <td>0.052798</td>\n",
       "      <td>0</td>\n",
       "      <td>0</td>\n",
       "      <td>0.0</td>\n",
       "      <td>14.149140</td>\n",
       "      <td>0</td>\n",
       "      <td>0</td>\n",
       "      <td>0</td>\n",
       "      <td>no_crisis</td>\n",
       "    </tr>\n",
       "    <tr>\n",
       "      <th>2</th>\n",
       "      <td>1</td>\n",
       "      <td>DZA</td>\n",
       "      <td>Algeria</td>\n",
       "      <td>1872</td>\n",
       "      <td>0</td>\n",
       "      <td>0.052274</td>\n",
       "      <td>0</td>\n",
       "      <td>0</td>\n",
       "      <td>0.0</td>\n",
       "      <td>-3.718593</td>\n",
       "      <td>0</td>\n",
       "      <td>0</td>\n",
       "      <td>0</td>\n",
       "      <td>no_crisis</td>\n",
       "    </tr>\n",
       "    <tr>\n",
       "      <th>3</th>\n",
       "      <td>1</td>\n",
       "      <td>DZA</td>\n",
       "      <td>Algeria</td>\n",
       "      <td>1873</td>\n",
       "      <td>0</td>\n",
       "      <td>0.051680</td>\n",
       "      <td>0</td>\n",
       "      <td>0</td>\n",
       "      <td>0.0</td>\n",
       "      <td>11.203897</td>\n",
       "      <td>0</td>\n",
       "      <td>0</td>\n",
       "      <td>0</td>\n",
       "      <td>no_crisis</td>\n",
       "    </tr>\n",
       "    <tr>\n",
       "      <th>4</th>\n",
       "      <td>1</td>\n",
       "      <td>DZA</td>\n",
       "      <td>Algeria</td>\n",
       "      <td>1874</td>\n",
       "      <td>0</td>\n",
       "      <td>0.051308</td>\n",
       "      <td>0</td>\n",
       "      <td>0</td>\n",
       "      <td>0.0</td>\n",
       "      <td>-3.848561</td>\n",
       "      <td>0</td>\n",
       "      <td>0</td>\n",
       "      <td>0</td>\n",
       "      <td>no_crisis</td>\n",
       "    </tr>\n",
       "  </tbody>\n",
       "</table>\n",
       "</div>"
      ],
      "text/plain": [
       "   country_number country_code  country  year  systemic_crisis  exch_usd  \\\n",
       "0               1          DZA  Algeria  1870                1  0.052264   \n",
       "1               1          DZA  Algeria  1871                0  0.052798   \n",
       "2               1          DZA  Algeria  1872                0  0.052274   \n",
       "3               1          DZA  Algeria  1873                0  0.051680   \n",
       "4               1          DZA  Algeria  1874                0  0.051308   \n",
       "\n",
       "   domestic_debt_in_default  sovereign_external_debt_default  \\\n",
       "0                         0                                0   \n",
       "1                         0                                0   \n",
       "2                         0                                0   \n",
       "3                         0                                0   \n",
       "4                         0                                0   \n",
       "\n",
       "   gdp_weighted_default  inflation_annual_cpi  independence  currency_crises  \\\n",
       "0                   0.0              3.441456             0                0   \n",
       "1                   0.0             14.149140             0                0   \n",
       "2                   0.0             -3.718593             0                0   \n",
       "3                   0.0             11.203897             0                0   \n",
       "4                   0.0             -3.848561             0                0   \n",
       "\n",
       "   inflation_crises banking_crisis  \n",
       "0                 0         crisis  \n",
       "1                 0      no_crisis  \n",
       "2                 0      no_crisis  \n",
       "3                 0      no_crisis  \n",
       "4                 0      no_crisis  "
      ]
     },
     "execution_count": 65,
     "metadata": {},
     "output_type": "execute_result"
    }
   ],
   "source": [
    "df.head()"
   ]
  },
  {
   "cell_type": "code",
   "execution_count": 66,
   "id": "d8df0c3d-02aa-40ae-b59e-719db291e7ec",
   "metadata": {},
   "outputs": [
    {
     "name": "stdout",
     "output_type": "stream",
     "text": [
      "<class 'pandas.core.frame.DataFrame'>\n",
      "RangeIndex: 1059 entries, 0 to 1058\n",
      "Data columns (total 14 columns):\n",
      " #   Column                           Non-Null Count  Dtype  \n",
      "---  ------                           --------------  -----  \n",
      " 0   country_number                   1059 non-null   int64  \n",
      " 1   country_code                     1059 non-null   object \n",
      " 2   country                          1059 non-null   object \n",
      " 3   year                             1059 non-null   int64  \n",
      " 4   systemic_crisis                  1059 non-null   int64  \n",
      " 5   exch_usd                         1059 non-null   float64\n",
      " 6   domestic_debt_in_default         1059 non-null   int64  \n",
      " 7   sovereign_external_debt_default  1059 non-null   int64  \n",
      " 8   gdp_weighted_default             1059 non-null   float64\n",
      " 9   inflation_annual_cpi             1059 non-null   float64\n",
      " 10  independence                     1059 non-null   int64  \n",
      " 11  currency_crises                  1059 non-null   int64  \n",
      " 12  inflation_crises                 1059 non-null   int64  \n",
      " 13  banking_crisis                   1059 non-null   object \n",
      "dtypes: float64(3), int64(8), object(3)\n",
      "memory usage: 116.0+ KB\n"
     ]
    }
   ],
   "source": [
    "df.info()"
   ]
  },
  {
   "cell_type": "code",
   "execution_count": 67,
   "id": "52bf3518-e101-449f-b4ba-0a2c33de4ce1",
   "metadata": {},
   "outputs": [
    {
     "data": {
      "text/html": [
       "<div>\n",
       "<style scoped>\n",
       "    .dataframe tbody tr th:only-of-type {\n",
       "        vertical-align: middle;\n",
       "    }\n",
       "\n",
       "    .dataframe tbody tr th {\n",
       "        vertical-align: top;\n",
       "    }\n",
       "\n",
       "    .dataframe thead th {\n",
       "        text-align: right;\n",
       "    }\n",
       "</style>\n",
       "<table border=\"1\" class=\"dataframe\">\n",
       "  <thead>\n",
       "    <tr style=\"text-align: right;\">\n",
       "      <th></th>\n",
       "      <th>country_number</th>\n",
       "      <th>year</th>\n",
       "      <th>systemic_crisis</th>\n",
       "      <th>exch_usd</th>\n",
       "      <th>domestic_debt_in_default</th>\n",
       "      <th>sovereign_external_debt_default</th>\n",
       "      <th>gdp_weighted_default</th>\n",
       "      <th>inflation_annual_cpi</th>\n",
       "      <th>independence</th>\n",
       "      <th>currency_crises</th>\n",
       "      <th>inflation_crises</th>\n",
       "    </tr>\n",
       "  </thead>\n",
       "  <tbody>\n",
       "    <tr>\n",
       "      <th>count</th>\n",
       "      <td>1059.000000</td>\n",
       "      <td>1059.000000</td>\n",
       "      <td>1059.000000</td>\n",
       "      <td>1059.000000</td>\n",
       "      <td>1059.000000</td>\n",
       "      <td>1059.000000</td>\n",
       "      <td>1059.000000</td>\n",
       "      <td>1.059000e+03</td>\n",
       "      <td>1059.000000</td>\n",
       "      <td>1059.000000</td>\n",
       "      <td>1059.000000</td>\n",
       "    </tr>\n",
       "    <tr>\n",
       "      <th>mean</th>\n",
       "      <td>35.613787</td>\n",
       "      <td>1967.767705</td>\n",
       "      <td>0.077432</td>\n",
       "      <td>43.140831</td>\n",
       "      <td>0.039660</td>\n",
       "      <td>0.152975</td>\n",
       "      <td>0.006402</td>\n",
       "      <td>2.084889e+04</td>\n",
       "      <td>0.776204</td>\n",
       "      <td>0.132200</td>\n",
       "      <td>0.129367</td>\n",
       "    </tr>\n",
       "    <tr>\n",
       "      <th>std</th>\n",
       "      <td>23.692402</td>\n",
       "      <td>33.530632</td>\n",
       "      <td>0.267401</td>\n",
       "      <td>111.475380</td>\n",
       "      <td>0.195251</td>\n",
       "      <td>0.360133</td>\n",
       "      <td>0.043572</td>\n",
       "      <td>6.757274e+05</td>\n",
       "      <td>0.416984</td>\n",
       "      <td>0.349847</td>\n",
       "      <td>0.335765</td>\n",
       "    </tr>\n",
       "    <tr>\n",
       "      <th>min</th>\n",
       "      <td>1.000000</td>\n",
       "      <td>1860.000000</td>\n",
       "      <td>0.000000</td>\n",
       "      <td>0.000000</td>\n",
       "      <td>0.000000</td>\n",
       "      <td>0.000000</td>\n",
       "      <td>0.000000</td>\n",
       "      <td>-2.850214e+01</td>\n",
       "      <td>0.000000</td>\n",
       "      <td>0.000000</td>\n",
       "      <td>0.000000</td>\n",
       "    </tr>\n",
       "    <tr>\n",
       "      <th>25%</th>\n",
       "      <td>15.000000</td>\n",
       "      <td>1951.000000</td>\n",
       "      <td>0.000000</td>\n",
       "      <td>0.195350</td>\n",
       "      <td>0.000000</td>\n",
       "      <td>0.000000</td>\n",
       "      <td>0.000000</td>\n",
       "      <td>2.086162e+00</td>\n",
       "      <td>1.000000</td>\n",
       "      <td>0.000000</td>\n",
       "      <td>0.000000</td>\n",
       "    </tr>\n",
       "    <tr>\n",
       "      <th>50%</th>\n",
       "      <td>38.000000</td>\n",
       "      <td>1973.000000</td>\n",
       "      <td>0.000000</td>\n",
       "      <td>0.868400</td>\n",
       "      <td>0.000000</td>\n",
       "      <td>0.000000</td>\n",
       "      <td>0.000000</td>\n",
       "      <td>5.762330e+00</td>\n",
       "      <td>1.000000</td>\n",
       "      <td>0.000000</td>\n",
       "      <td>0.000000</td>\n",
       "    </tr>\n",
       "    <tr>\n",
       "      <th>75%</th>\n",
       "      <td>56.000000</td>\n",
       "      <td>1994.000000</td>\n",
       "      <td>0.000000</td>\n",
       "      <td>8.462750</td>\n",
       "      <td>0.000000</td>\n",
       "      <td>0.000000</td>\n",
       "      <td>0.000000</td>\n",
       "      <td>1.164405e+01</td>\n",
       "      <td>1.000000</td>\n",
       "      <td>0.000000</td>\n",
       "      <td>0.000000</td>\n",
       "    </tr>\n",
       "    <tr>\n",
       "      <th>max</th>\n",
       "      <td>70.000000</td>\n",
       "      <td>2014.000000</td>\n",
       "      <td>1.000000</td>\n",
       "      <td>744.306139</td>\n",
       "      <td>1.000000</td>\n",
       "      <td>1.000000</td>\n",
       "      <td>0.400000</td>\n",
       "      <td>2.198970e+07</td>\n",
       "      <td>1.000000</td>\n",
       "      <td>2.000000</td>\n",
       "      <td>1.000000</td>\n",
       "    </tr>\n",
       "  </tbody>\n",
       "</table>\n",
       "</div>"
      ],
      "text/plain": [
       "       country_number         year  systemic_crisis     exch_usd  \\\n",
       "count     1059.000000  1059.000000      1059.000000  1059.000000   \n",
       "mean        35.613787  1967.767705         0.077432    43.140831   \n",
       "std         23.692402    33.530632         0.267401   111.475380   \n",
       "min          1.000000  1860.000000         0.000000     0.000000   \n",
       "25%         15.000000  1951.000000         0.000000     0.195350   \n",
       "50%         38.000000  1973.000000         0.000000     0.868400   \n",
       "75%         56.000000  1994.000000         0.000000     8.462750   \n",
       "max         70.000000  2014.000000         1.000000   744.306139   \n",
       "\n",
       "       domestic_debt_in_default  sovereign_external_debt_default  \\\n",
       "count               1059.000000                      1059.000000   \n",
       "mean                   0.039660                         0.152975   \n",
       "std                    0.195251                         0.360133   \n",
       "min                    0.000000                         0.000000   \n",
       "25%                    0.000000                         0.000000   \n",
       "50%                    0.000000                         0.000000   \n",
       "75%                    0.000000                         0.000000   \n",
       "max                    1.000000                         1.000000   \n",
       "\n",
       "       gdp_weighted_default  inflation_annual_cpi  independence  \\\n",
       "count           1059.000000          1.059000e+03   1059.000000   \n",
       "mean               0.006402          2.084889e+04      0.776204   \n",
       "std                0.043572          6.757274e+05      0.416984   \n",
       "min                0.000000         -2.850214e+01      0.000000   \n",
       "25%                0.000000          2.086162e+00      1.000000   \n",
       "50%                0.000000          5.762330e+00      1.000000   \n",
       "75%                0.000000          1.164405e+01      1.000000   \n",
       "max                0.400000          2.198970e+07      1.000000   \n",
       "\n",
       "       currency_crises  inflation_crises  \n",
       "count      1059.000000       1059.000000  \n",
       "mean          0.132200          0.129367  \n",
       "std           0.349847          0.335765  \n",
       "min           0.000000          0.000000  \n",
       "25%           0.000000          0.000000  \n",
       "50%           0.000000          0.000000  \n",
       "75%           0.000000          0.000000  \n",
       "max           2.000000          1.000000  "
      ]
     },
     "execution_count": 67,
     "metadata": {},
     "output_type": "execute_result"
    }
   ],
   "source": [
    "df.describe()"
   ]
  },
  {
   "cell_type": "code",
   "execution_count": 68,
   "id": "1408636d-b471-4ec9-a029-d9e27e34a97f",
   "metadata": {},
   "outputs": [
    {
     "data": {
      "text/plain": [
       "country_number                     0\n",
       "country_code                       0\n",
       "country                            0\n",
       "year                               0\n",
       "systemic_crisis                    0\n",
       "exch_usd                           0\n",
       "domestic_debt_in_default           0\n",
       "sovereign_external_debt_default    0\n",
       "gdp_weighted_default               0\n",
       "inflation_annual_cpi               0\n",
       "independence                       0\n",
       "currency_crises                    0\n",
       "inflation_crises                   0\n",
       "banking_crisis                     0\n",
       "dtype: int64"
      ]
     },
     "execution_count": 68,
     "metadata": {},
     "output_type": "execute_result"
    }
   ],
   "source": [
    "df.isnull().sum()"
   ]
  },
  {
   "cell_type": "code",
   "execution_count": 69,
   "id": "3188dc0f-2baf-46aa-8e47-e612d8d1dddf",
   "metadata": {},
   "outputs": [
    {
     "data": {
      "text/html": [
       "<div>\n",
       "<style scoped>\n",
       "    .dataframe tbody tr th:only-of-type {\n",
       "        vertical-align: middle;\n",
       "    }\n",
       "\n",
       "    .dataframe tbody tr th {\n",
       "        vertical-align: top;\n",
       "    }\n",
       "\n",
       "    .dataframe thead th {\n",
       "        text-align: right;\n",
       "    }\n",
       "</style>\n",
       "<table border=\"1\" class=\"dataframe\">\n",
       "  <thead>\n",
       "    <tr style=\"text-align: right;\">\n",
       "      <th></th>\n",
       "      <th>country_number</th>\n",
       "      <th>year</th>\n",
       "      <th>systemic_crisis</th>\n",
       "      <th>exch_usd</th>\n",
       "      <th>domestic_debt_in_default</th>\n",
       "      <th>sovereign_external_debt_default</th>\n",
       "      <th>gdp_weighted_default</th>\n",
       "      <th>inflation_annual_cpi</th>\n",
       "      <th>independence</th>\n",
       "      <th>currency_crises</th>\n",
       "      <th>inflation_crises</th>\n",
       "    </tr>\n",
       "  </thead>\n",
       "  <tbody>\n",
       "    <tr>\n",
       "      <th>country_number</th>\n",
       "      <td>1.000000</td>\n",
       "      <td>0.115574</td>\n",
       "      <td>0.010991</td>\n",
       "      <td>-0.231976</td>\n",
       "      <td>0.128358</td>\n",
       "      <td>-0.039262</td>\n",
       "      <td>-0.032981</td>\n",
       "      <td>0.044762</td>\n",
       "      <td>0.021858</td>\n",
       "      <td>0.095339</td>\n",
       "      <td>0.006405</td>\n",
       "    </tr>\n",
       "    <tr>\n",
       "      <th>year</th>\n",
       "      <td>0.115574</td>\n",
       "      <td>1.000000</td>\n",
       "      <td>0.197450</td>\n",
       "      <td>0.248757</td>\n",
       "      <td>0.136828</td>\n",
       "      <td>0.271890</td>\n",
       "      <td>-0.054670</td>\n",
       "      <td>0.037035</td>\n",
       "      <td>0.407360</td>\n",
       "      <td>0.189390</td>\n",
       "      <td>0.098630</td>\n",
       "    </tr>\n",
       "    <tr>\n",
       "      <th>systemic_crisis</th>\n",
       "      <td>0.010991</td>\n",
       "      <td>0.197450</td>\n",
       "      <td>1.000000</td>\n",
       "      <td>0.202687</td>\n",
       "      <td>0.122158</td>\n",
       "      <td>0.249850</td>\n",
       "      <td>0.005274</td>\n",
       "      <td>0.106452</td>\n",
       "      <td>0.147083</td>\n",
       "      <td>0.112751</td>\n",
       "      <td>0.172562</td>\n",
       "    </tr>\n",
       "    <tr>\n",
       "      <th>exch_usd</th>\n",
       "      <td>-0.231976</td>\n",
       "      <td>0.248757</td>\n",
       "      <td>0.202687</td>\n",
       "      <td>1.000000</td>\n",
       "      <td>0.005253</td>\n",
       "      <td>0.422890</td>\n",
       "      <td>-0.040726</td>\n",
       "      <td>-0.011947</td>\n",
       "      <td>0.126034</td>\n",
       "      <td>-0.056472</td>\n",
       "      <td>-0.063783</td>\n",
       "    </tr>\n",
       "    <tr>\n",
       "      <th>domestic_debt_in_default</th>\n",
       "      <td>0.128358</td>\n",
       "      <td>0.136828</td>\n",
       "      <td>0.122158</td>\n",
       "      <td>0.005253</td>\n",
       "      <td>1.000000</td>\n",
       "      <td>0.464751</td>\n",
       "      <td>-0.029874</td>\n",
       "      <td>0.151832</td>\n",
       "      <td>0.109120</td>\n",
       "      <td>0.227585</td>\n",
       "      <td>0.224429</td>\n",
       "    </tr>\n",
       "    <tr>\n",
       "      <th>sovereign_external_debt_default</th>\n",
       "      <td>-0.039262</td>\n",
       "      <td>0.271890</td>\n",
       "      <td>0.249850</td>\n",
       "      <td>0.422890</td>\n",
       "      <td>0.464751</td>\n",
       "      <td>1.000000</td>\n",
       "      <td>0.345919</td>\n",
       "      <td>0.072609</td>\n",
       "      <td>0.228192</td>\n",
       "      <td>0.199428</td>\n",
       "      <td>0.187930</td>\n",
       "    </tr>\n",
       "    <tr>\n",
       "      <th>gdp_weighted_default</th>\n",
       "      <td>-0.032981</td>\n",
       "      <td>-0.054670</td>\n",
       "      <td>0.005274</td>\n",
       "      <td>-0.040726</td>\n",
       "      <td>-0.029874</td>\n",
       "      <td>0.345919</td>\n",
       "      <td>1.000000</td>\n",
       "      <td>-0.004535</td>\n",
       "      <td>0.078936</td>\n",
       "      <td>0.016970</td>\n",
       "      <td>0.017630</td>\n",
       "    </tr>\n",
       "    <tr>\n",
       "      <th>inflation_annual_cpi</th>\n",
       "      <td>0.044762</td>\n",
       "      <td>0.037035</td>\n",
       "      <td>0.106452</td>\n",
       "      <td>-0.011947</td>\n",
       "      <td>0.151832</td>\n",
       "      <td>0.072609</td>\n",
       "      <td>-0.004535</td>\n",
       "      <td>1.000000</td>\n",
       "      <td>0.016569</td>\n",
       "      <td>0.076590</td>\n",
       "      <td>0.080060</td>\n",
       "    </tr>\n",
       "    <tr>\n",
       "      <th>independence</th>\n",
       "      <td>0.021858</td>\n",
       "      <td>0.407360</td>\n",
       "      <td>0.147083</td>\n",
       "      <td>0.126034</td>\n",
       "      <td>0.109120</td>\n",
       "      <td>0.228192</td>\n",
       "      <td>0.078936</td>\n",
       "      <td>0.016569</td>\n",
       "      <td>1.000000</td>\n",
       "      <td>0.086376</td>\n",
       "      <td>-0.022548</td>\n",
       "    </tr>\n",
       "    <tr>\n",
       "      <th>currency_crises</th>\n",
       "      <td>0.095339</td>\n",
       "      <td>0.189390</td>\n",
       "      <td>0.112751</td>\n",
       "      <td>-0.056472</td>\n",
       "      <td>0.227585</td>\n",
       "      <td>0.199428</td>\n",
       "      <td>0.016970</td>\n",
       "      <td>0.076590</td>\n",
       "      <td>0.086376</td>\n",
       "      <td>1.000000</td>\n",
       "      <td>0.393376</td>\n",
       "    </tr>\n",
       "    <tr>\n",
       "      <th>inflation_crises</th>\n",
       "      <td>0.006405</td>\n",
       "      <td>0.098630</td>\n",
       "      <td>0.172562</td>\n",
       "      <td>-0.063783</td>\n",
       "      <td>0.224429</td>\n",
       "      <td>0.187930</td>\n",
       "      <td>0.017630</td>\n",
       "      <td>0.080060</td>\n",
       "      <td>-0.022548</td>\n",
       "      <td>0.393376</td>\n",
       "      <td>1.000000</td>\n",
       "    </tr>\n",
       "  </tbody>\n",
       "</table>\n",
       "</div>"
      ],
      "text/plain": [
       "                                 country_number      year  systemic_crisis  \\\n",
       "country_number                         1.000000  0.115574         0.010991   \n",
       "year                                   0.115574  1.000000         0.197450   \n",
       "systemic_crisis                        0.010991  0.197450         1.000000   \n",
       "exch_usd                              -0.231976  0.248757         0.202687   \n",
       "domestic_debt_in_default               0.128358  0.136828         0.122158   \n",
       "sovereign_external_debt_default       -0.039262  0.271890         0.249850   \n",
       "gdp_weighted_default                  -0.032981 -0.054670         0.005274   \n",
       "inflation_annual_cpi                   0.044762  0.037035         0.106452   \n",
       "independence                           0.021858  0.407360         0.147083   \n",
       "currency_crises                        0.095339  0.189390         0.112751   \n",
       "inflation_crises                       0.006405  0.098630         0.172562   \n",
       "\n",
       "                                 exch_usd  domestic_debt_in_default  \\\n",
       "country_number                  -0.231976                  0.128358   \n",
       "year                             0.248757                  0.136828   \n",
       "systemic_crisis                  0.202687                  0.122158   \n",
       "exch_usd                         1.000000                  0.005253   \n",
       "domestic_debt_in_default         0.005253                  1.000000   \n",
       "sovereign_external_debt_default  0.422890                  0.464751   \n",
       "gdp_weighted_default            -0.040726                 -0.029874   \n",
       "inflation_annual_cpi            -0.011947                  0.151832   \n",
       "independence                     0.126034                  0.109120   \n",
       "currency_crises                 -0.056472                  0.227585   \n",
       "inflation_crises                -0.063783                  0.224429   \n",
       "\n",
       "                                 sovereign_external_debt_default  \\\n",
       "country_number                                         -0.039262   \n",
       "year                                                    0.271890   \n",
       "systemic_crisis                                         0.249850   \n",
       "exch_usd                                                0.422890   \n",
       "domestic_debt_in_default                                0.464751   \n",
       "sovereign_external_debt_default                         1.000000   \n",
       "gdp_weighted_default                                    0.345919   \n",
       "inflation_annual_cpi                                    0.072609   \n",
       "independence                                            0.228192   \n",
       "currency_crises                                         0.199428   \n",
       "inflation_crises                                        0.187930   \n",
       "\n",
       "                                 gdp_weighted_default  inflation_annual_cpi  \\\n",
       "country_number                              -0.032981              0.044762   \n",
       "year                                        -0.054670              0.037035   \n",
       "systemic_crisis                              0.005274              0.106452   \n",
       "exch_usd                                    -0.040726             -0.011947   \n",
       "domestic_debt_in_default                    -0.029874              0.151832   \n",
       "sovereign_external_debt_default              0.345919              0.072609   \n",
       "gdp_weighted_default                         1.000000             -0.004535   \n",
       "inflation_annual_cpi                        -0.004535              1.000000   \n",
       "independence                                 0.078936              0.016569   \n",
       "currency_crises                              0.016970              0.076590   \n",
       "inflation_crises                             0.017630              0.080060   \n",
       "\n",
       "                                 independence  currency_crises  \\\n",
       "country_number                       0.021858         0.095339   \n",
       "year                                 0.407360         0.189390   \n",
       "systemic_crisis                      0.147083         0.112751   \n",
       "exch_usd                             0.126034        -0.056472   \n",
       "domestic_debt_in_default             0.109120         0.227585   \n",
       "sovereign_external_debt_default      0.228192         0.199428   \n",
       "gdp_weighted_default                 0.078936         0.016970   \n",
       "inflation_annual_cpi                 0.016569         0.076590   \n",
       "independence                         1.000000         0.086376   \n",
       "currency_crises                      0.086376         1.000000   \n",
       "inflation_crises                    -0.022548         0.393376   \n",
       "\n",
       "                                 inflation_crises  \n",
       "country_number                           0.006405  \n",
       "year                                     0.098630  \n",
       "systemic_crisis                          0.172562  \n",
       "exch_usd                                -0.063783  \n",
       "domestic_debt_in_default                 0.224429  \n",
       "sovereign_external_debt_default          0.187930  \n",
       "gdp_weighted_default                     0.017630  \n",
       "inflation_annual_cpi                     0.080060  \n",
       "independence                            -0.022548  \n",
       "currency_crises                          0.393376  \n",
       "inflation_crises                         1.000000  "
      ]
     },
     "execution_count": 69,
     "metadata": {},
     "output_type": "execute_result"
    }
   ],
   "source": [
    "df.corr(numeric_only=True)"
   ]
  },
  {
   "cell_type": "code",
   "execution_count": 70,
   "id": "f441d0d3-9b32-4ac0-aefa-112779c21a6f",
   "metadata": {},
   "outputs": [
    {
     "data": {
      "image/png": "[encoded data removed]",
      "text/plain": [
       "<Figure size 1200x800 with 2 Axes>"
      ]
     },
     "metadata": {},
     "output_type": "display_data"
    }
   ],
   "source": [
    "plt.figure(figsize = (12,8))\n",
    "sns.heatmap(df.corr(numeric_only=True), annot = True, cmap = 'Blues')\n",
    "plt.show()"
   ]
  },
  {
   "cell_type": "code",
   "execution_count": 71,
   "id": "aea35fc9-ce72-4298-82d0-d5b29722d5d2",
   "metadata": {},
   "outputs": [
    {
     "data": {
      "application/vnd.plotly.v1+json": {
       "config": {
        "plotlyServerURL": "https://plot.ly"
       },
       "data": [
        {
         "alignmentgroup": "True",
         "bingroup": "x",
         "hovertemplate": "banking_crisis=%{x}<br>count=%{y}<extra></extra>",
         "legendgroup": "crisis",
         "marker": {
          "color": "red",
          "pattern": {
           "shape": ""
          }
         },
         "name": "crisis",
         "offsetgroup": "crisis",
         "orientation": "v",
         "showlegend": true,
         "type": "histogram",
         "x": [
          "crisis",
          "crisis",
          "crisis",
          "crisis",
          "crisis",
          "crisis",
          "crisis",
          "crisis",
          "crisis",
          "crisis",
          "crisis",
          "crisis",
          "crisis",
          "crisis",
          "crisis",
          "crisis",
          "crisis",
          "crisis",
          "crisis",
          "crisis",
          "crisis",
          "crisis",
          "crisis",
          "crisis",
          "crisis",
          "crisis",
          "crisis",
          "crisis",
          "crisis",
          "crisis",
          "crisis",
          "crisis",
          "crisis",
          "crisis",
          "crisis",
          "crisis",
          "crisis",
          "crisis",
          "crisis",
          "crisis",
          "crisis",
          "crisis",
          "crisis",
          "crisis",
          "crisis",
          "crisis",
          "crisis",
          "crisis",
          "crisis",
          "crisis",
          "crisis",
          "crisis",
          "crisis",
          "crisis",
          "crisis",
          "crisis",
          "crisis",
          "crisis",
          "crisis",
          "crisis",
          "crisis",
          "crisis",
          "crisis",
          "crisis",
          "crisis",
          "crisis",
          "crisis",
          "crisis",
          "crisis",
          "crisis",
          "crisis",
          "crisis",
          "crisis",
          "crisis",
          "crisis",
          "crisis",
          "crisis",
          "crisis",
          "crisis",
          "crisis",
          "crisis",
          "crisis",
          "crisis",
          "crisis",
          "crisis",
          "crisis",
          "crisis",
          "crisis",
          "crisis",
          "crisis",
          "crisis",
          "crisis",
          "crisis",
          "crisis"
         ],
         "xaxis": "x",
         "yaxis": "y"
        },
        {
         "alignmentgroup": "True",
         "bingroup": "x",
         "hovertemplate": "banking_crisis=%{x}<br>count=%{y}<extra></extra>",
         "legendgroup": "no_crisis",
         "marker": {
          "color": "Blue",
          "pattern": {
           "shape": ""
          }
         },
         "name": "no_crisis",
         "offsetgroup": "no_crisis",
         "orientation": "v",
         "showlegend": true,
         "type": "histogram",
         "x": [
          "no_crisis",
          "no_crisis",
          "no_crisis",
          "no_crisis",
          "no_crisis",
          "no_crisis",
          "no_crisis",
          "no_crisis",
          "no_crisis",
          "no_crisis",
          "no_crisis",
          "no_crisis",
          "no_crisis",
          "no_crisis",
          "no_crisis",
          "no_crisis",
          "no_crisis",
          "no_crisis",
          "no_crisis",
          "no_crisis",
          "no_crisis",
          "no_crisis",
          "no_crisis",
          "no_crisis",
          "no_crisis",
          "no_crisis",
          "no_crisis",
          "no_crisis",
          "no_crisis",
          "no_crisis",
          "no_crisis",
          "no_crisis",
          "no_crisis",
          "no_crisis",
          "no_crisis",
          "no_crisis",
          "no_crisis",
          "no_crisis",
          "no_crisis",
          "no_crisis",
          "no_crisis",
          "no_crisis",
          "no_crisis",
          "no_crisis",
          "no_crisis",
          "no_crisis",
          "no_crisis",
          "no_crisis",
          "no_crisis",
          "no_crisis",
          "no_crisis",
          "no_crisis",
          "no_crisis",
          "no_crisis",
          "no_crisis",
          "no_crisis",
          "no_crisis",
          "no_crisis",
          "no_crisis",
          "no_crisis",
          "no_crisis",
          "no_crisis",
          "no_crisis",
          "no_crisis",
          "no_crisis",
          "no_crisis",
          "no_crisis",
          "no_crisis",
          "no_crisis",
          "no_crisis",
          "no_crisis",
          "no_crisis",
          "no_crisis",
          "no_crisis",
          "no_crisis",
          "no_crisis",
          "no_crisis",
          "no_crisis",
          "no_crisis",
          "no_crisis",
          "no_crisis",
          "no_crisis",
          "no_crisis",
          "no_crisis",
          "no_crisis",
          "no_crisis",
          "no_crisis",
          "no_crisis",
          "no_crisis",
          "no_crisis",
          "no_crisis",
          "no_crisis",
          "no_crisis",
          "no_crisis",
          "no_crisis",
          "no_crisis",
          "no_crisis",
          "no_crisis",
          "no_crisis",
          "no_crisis",
          "no_crisis",
          "no_crisis",
          "no_crisis",
          "no_crisis",
          "no_crisis",
          "no_crisis",
          "no_crisis",
          "no_crisis",
          "no_crisis",
          "no_crisis",
          "no_crisis",
          "no_crisis",
          "no_crisis",
          "no_crisis",
          "no_crisis",
          "no_crisis",
          "no_crisis",
          "no_crisis",
          "no_crisis",
          "no_crisis",
          "no_crisis",
          "no_crisis",
          "no_crisis",
          "no_crisis",
          "no_crisis",
          "no_crisis",
          "no_crisis",
          "no_crisis",
          "no_crisis",
          "no_crisis",
          "no_crisis",
          "no_crisis",
          "no_crisis",
          "no_crisis",
          "no_crisis",
          "no_crisis",
          "no_crisis",
          "no_crisis",
          "no_crisis",
          "no_crisis",
          "no_crisis",
          "no_crisis",
          "no_crisis",
          "no_crisis",
          "no_crisis",
          "no_crisis",
          "no_crisis",
          "no_crisis",
          "no_crisis",
          "no_crisis",
          "no_crisis",
          "no_crisis",
          "no_crisis",
          "no_crisis",
          "no_crisis",
          "no_crisis",
          "no_crisis",
          "no_crisis",
          "no_crisis",
          "no_crisis",
          "no_crisis",
          "no_crisis",
          "no_crisis",
          "no_crisis",
          "no_crisis",
          "no_crisis",
          "no_crisis",
          "no_crisis",
          "no_crisis",
          "no_crisis",
          "no_crisis",
          "no_crisis",
          "no_crisis",
          "no_crisis",
          "no_crisis",
          "no_crisis",
          "no_crisis",
          "no_crisis",
          "no_crisis",
          "no_crisis",
          "no_crisis",
          "no_crisis",
          "no_crisis",
          "no_crisis",
          "no_crisis",
          "no_crisis",
          "no_crisis",
          "no_crisis",
          "no_crisis",
          "no_crisis",
          "no_crisis",
          "no_crisis",
          "no_crisis",
          "no_crisis",
          "no_crisis",
          "no_crisis",
          "no_crisis",
          "no_crisis",
          "no_crisis",
          "no_crisis",
          "no_crisis",
          "no_crisis",
          "no_crisis",
          "no_crisis",
          "no_crisis",
          "no_crisis",
          "no_crisis",
          "no_crisis",
          "no_crisis",
          "no_crisis",
          "no_crisis",
          "no_crisis",
          "no_crisis",
          "no_crisis",
          "no_crisis",
          "no_crisis",
          "no_crisis",
          "no_crisis",
          "no_crisis",
          "no_crisis",
          "no_crisis",
          "no_crisis",
          "no_crisis",
          "no_crisis",
          "no_crisis",
          "no_crisis",
          "no_crisis",
          "no_crisis",
          "no_crisis",
          "no_crisis",
          "no_crisis",
          "no_crisis",
          "no_crisis",
          "no_crisis",
          "no_crisis",
          "no_crisis",
          "no_crisis",
          "no_crisis",
          "no_crisis",
          "no_crisis",
          "no_crisis",
          "no_crisis",
          "no_crisis",
          "no_crisis",
          "no_crisis",
          "no_crisis",
          "no_crisis",
          "no_crisis",
          "no_crisis",
          "no_crisis",
          "no_crisis",
          "no_crisis",
          "no_crisis",
          "no_crisis",
          "no_crisis",
          "no_crisis",
          "no_crisis",
          "no_crisis",
          "no_crisis",
          "no_crisis",
          "no_crisis",
          "no_crisis",
          "no_crisis",
          "no_crisis",
          "no_crisis",
          "no_crisis",
          "no_crisis",
          "no_crisis",
          "no_crisis",
          "no_crisis",
          "no_crisis",
          "no_crisis",
          "no_crisis",
          "no_crisis",
          "no_crisis",
          "no_crisis",
          "no_crisis",
          "no_crisis",
          "no_crisis",
          "no_crisis",
          "no_crisis",
          "no_crisis",
          "no_crisis",
          "no_crisis",
          "no_crisis",
          "no_crisis",
          "no_crisis",
          "no_crisis",
          "no_crisis",
          "no_crisis",
          "no_crisis",
          "no_crisis",
          "no_crisis",
          "no_crisis",
          "no_crisis",
          "no_crisis",
          "no_crisis",
          "no_crisis",
          "no_crisis",
          "no_crisis",
          "no_crisis",
          "no_crisis",
          "no_crisis",
          "no_crisis",
          "no_crisis",
          "no_crisis",
          "no_crisis",
          "no_crisis",
          "no_crisis",
          "no_crisis",
          "no_crisis",
          "no_crisis",
          "no_crisis",
          "no_crisis",
          "no_crisis",
          "no_crisis",
          "no_crisis",
          "no_crisis",
          "no_crisis",
          "no_crisis",
          "no_crisis",
          "no_crisis",
          "no_crisis",
          "no_crisis",
          "no_crisis",
          "no_crisis",
          "no_crisis",
          "no_crisis",
          "no_crisis",
          "no_crisis",
          "no_crisis",
          "no_crisis",
          "no_crisis",
          "no_crisis",
          "no_crisis",
          "no_crisis",
          "no_crisis",
          "no_crisis",
          "no_crisis",
          "no_crisis",
          "no_crisis",
          "no_crisis",
          "no_crisis",
          "no_crisis",
          "no_crisis",
          "no_crisis",
          "no_crisis",
          "no_crisis",
          "no_crisis",
          "no_crisis",
          "no_crisis",
          "no_crisis",
          "no_crisis",
          "no_crisis",
          "no_crisis",
          "no_crisis",
          "no_crisis",
          "no_crisis",
          "no_crisis",
          "no_crisis",
          "no_crisis",
          "no_crisis",
          "no_crisis",
          "no_crisis",
          "no_crisis",
          "no_crisis",
          "no_crisis",
          "no_crisis",
          "no_crisis",
          "no_crisis",
          "no_crisis",
          "no_crisis",
          "no_crisis",
          "no_crisis",
          "no_crisis",
          "no_crisis",
          "no_crisis",
          "no_crisis",
          "no_crisis",
          "no_crisis",
          "no_crisis",
          "no_crisis",
          "no_crisis",
          "no_crisis",
          "no_crisis",
          "no_crisis",
          "no_crisis",
          "no_crisis",
          "no_crisis",
          "no_crisis",
          "no_crisis",
          "no_crisis",
          "no_crisis",
          "no_crisis",
          "no_crisis",
          "no_crisis",
          "no_crisis",
          "no_crisis",
          "no_crisis",
          "no_crisis",
          "no_crisis",
          "no_crisis",
          "no_crisis",
          "no_crisis",
          "no_crisis",
          "no_crisis",
          "no_crisis",
          "no_crisis",
          "no_crisis",
          "no_crisis",
          "no_crisis",
          "no_crisis",
          "no_crisis",
          "no_crisis",
          "no_crisis",
          "no_crisis",
          "no_crisis",
          "no_crisis",
          "no_crisis",
          "no_crisis",
          "no_crisis",
          "no_crisis",
          "no_crisis",
          "no_crisis",
          "no_crisis",
          "no_crisis",
          "no_crisis",
          "no_crisis",
          "no_crisis",
          "no_crisis",
          "no_crisis",
          "no_crisis",
          "no_crisis",
          "no_crisis",
          "no_crisis",
          "no_crisis",
          "no_crisis",
          "no_crisis",
          "no_crisis",
          "no_crisis",
          "no_crisis",
          "no_crisis",
          "no_crisis",
          "no_crisis",
          "no_crisis",
          "no_crisis",
          "no_crisis",
          "no_crisis",
          "no_crisis",
          "no_crisis",
          "no_crisis",
          "no_crisis",
          "no_crisis",
          "no_crisis",
          "no_crisis",
          "no_crisis",
          "no_crisis",
          "no_crisis",
          "no_crisis",
          "no_crisis",
          "no_crisis",
          "no_crisis",
          "no_crisis",
          "no_crisis",
          "no_crisis",
          "no_crisis",
          "no_crisis",
          "no_crisis",
          "no_crisis",
          "no_crisis",
          "no_crisis",
          "no_crisis",
          "no_crisis",
          "no_crisis",
          "no_crisis",
          "no_crisis",
          "no_crisis",
          "no_crisis",
          "no_crisis",
          "no_crisis",
          "no_crisis",
          "no_crisis",
          "no_crisis",
          "no_crisis",
          "no_crisis",
          "no_crisis",
          "no_crisis",
          "no_crisis",
          "no_crisis",
          "no_crisis",
          "no_crisis",
          "no_crisis",
          "no_crisis",
          "no_crisis",
          "no_crisis",
          "no_crisis",
          "no_crisis",
          "no_crisis",
          "no_crisis",
          "no_crisis",
          "no_crisis",
          "no_crisis",
          "no_crisis",
          "no_crisis",
          "no_crisis",
          "no_crisis",
          "no_crisis",
          "no_crisis",
          "no_crisis",
          "no_crisis",
          "no_crisis",
          "no_crisis",
          "no_crisis",
          "no_crisis",
          "no_crisis",
          "no_crisis",
          "no_crisis",
          "no_crisis",
          "no_crisis",
          "no_crisis",
          "no_crisis",
          "no_crisis",
          "no_crisis",
          "no_crisis",
          "no_crisis",
          "no_crisis",
          "no_crisis",
          "no_crisis",
          "no_crisis",
          "no_crisis",
          "no_crisis",
          "no_crisis",
          "no_crisis",
          "no_crisis",
          "no_crisis",
          "no_crisis",
          "no_crisis",
          "no_crisis",
          "no_crisis",
          "no_crisis",
          "no_crisis",
          "no_crisis",
          "no_crisis",
          "no_crisis",
          "no_crisis",
          "no_crisis",
          "no_crisis",
          "no_crisis",
          "no_crisis",
          "no_crisis",
          "no_crisis",
          "no_crisis",
          "no_crisis",
          "no_crisis",
          "no_crisis",
          "no_crisis",
          "no_crisis",
          "no_crisis",
          "no_crisis",
          "no_crisis",
          "no_crisis",
          "no_crisis",
          "no_crisis",
          "no_crisis",
          "no_crisis",
          "no_crisis",
          "no_crisis",
          "no_crisis",
          "no_crisis",
          "no_crisis",
          "no_crisis",
          "no_crisis",
          "no_crisis",
          "no_crisis",
          "no_crisis",
          "no_crisis",
          "no_crisis",
          "no_crisis",
          "no_crisis",
          "no_crisis",
          "no_crisis",
          "no_crisis",
          "no_crisis",
          "no_crisis",
          "no_crisis",
          "no_crisis",
          "no_crisis",
          "no_crisis",
          "no_crisis",
          "no_crisis",
          "no_crisis",
          "no_crisis",
          "no_crisis",
          "no_crisis",
          "no_crisis",
          "no_crisis",
          "no_crisis",
          "no_crisis",
          "no_crisis",
          "no_crisis",
          "no_crisis",
          "no_crisis",
          "no_crisis",
          "no_crisis",
          "no_crisis",
          "no_crisis",
          "no_crisis",
          "no_crisis",
          "no_crisis",
          "no_crisis",
          "no_crisis",
          "no_crisis",
          "no_crisis",
          "no_crisis",
          "no_crisis",
          "no_crisis",
          "no_crisis",
          "no_crisis",
          "no_crisis",
          "no_crisis",
          "no_crisis",
          "no_crisis",
          "no_crisis",
          "no_crisis",
          "no_crisis",
          "no_crisis",
          "no_crisis",
          "no_crisis",
          "no_crisis",
          "no_crisis",
          "no_crisis",
          "no_crisis",
          "no_crisis",
          "no_crisis",
          "no_crisis",
          "no_crisis",
          "no_crisis",
          "no_crisis",
          "no_crisis",
          "no_crisis",
          "no_crisis",
          "no_crisis",
          "no_crisis",
          "no_crisis",
          "no_crisis",
          "no_crisis",
          "no_crisis",
          "no_crisis",
          "no_crisis",
          "no_crisis",
          "no_crisis",
          "no_crisis",
          "no_crisis",
          "no_crisis",
          "no_crisis",
          "no_crisis",
          "no_crisis",
          "no_crisis",
          "no_crisis",
          "no_crisis",
          "no_crisis",
          "no_crisis",
          "no_crisis",
          "no_crisis",
          "no_crisis",
          "no_crisis",
          "no_crisis",
          "no_crisis",
          "no_crisis",
          "no_crisis",
          "no_crisis",
          "no_crisis",
          "no_crisis",
          "no_crisis",
          "no_crisis",
          "no_crisis",
          "no_crisis",
          "no_crisis",
          "no_crisis",
          "no_crisis",
          "no_crisis",
          "no_crisis",
          "no_crisis",
          "no_crisis",
          "no_crisis",
          "no_crisis",
          "no_crisis",
          "no_crisis",
          "no_crisis",
          "no_crisis",
          "no_crisis",
          "no_crisis",
          "no_crisis",
          "no_crisis",
          "no_crisis",
          "no_crisis",
          "no_crisis",
          "no_crisis",
          "no_crisis",
          "no_crisis",
          "no_crisis",
          "no_crisis",
          "no_crisis",
          "no_crisis",
          "no_crisis",
          "no_crisis",
          "no_crisis",
          "no_crisis",
          "no_crisis",
          "no_crisis",
          "no_crisis",
          "no_crisis",
          "no_crisis",
          "no_crisis",
          "no_crisis",
          "no_crisis",
          "no_crisis",
          "no_crisis",
          "no_crisis",
          "no_crisis",
          "no_crisis",
          "no_crisis",
          "no_crisis",
          "no_crisis",
          "no_crisis",
          "no_crisis",
          "no_crisis",
          "no_crisis",
          "no_crisis",
          "no_crisis",
          "no_crisis",
          "no_crisis",
          "no_crisis",
          "no_crisis",
          "no_crisis",
          "no_crisis",
          "no_crisis",
          "no_crisis",
          "no_crisis",
          "no_crisis",
          "no_crisis",
          "no_crisis",
          "no_crisis",
          "no_crisis",
          "no_crisis",
          "no_crisis",
          "no_crisis",
          "no_crisis",
          "no_crisis",
          "no_crisis",
          "no_crisis",
          "no_crisis",
          "no_crisis",
          "no_crisis",
          "no_crisis",
          "no_crisis",
          "no_crisis",
          "no_crisis",
          "no_crisis",
          "no_crisis",
          "no_crisis",
          "no_crisis",
          "no_crisis",
          "no_crisis",
          "no_crisis",
          "no_crisis",
          "no_crisis",
          "no_crisis",
          "no_crisis",
          "no_crisis",
          "no_crisis",
          "no_crisis",
          "no_crisis",
          "no_crisis",
          "no_crisis",
          "no_crisis",
          "no_crisis",
          "no_crisis",
          "no_crisis",
          "no_crisis",
          "no_crisis",
          "no_crisis",
          "no_crisis",
          "no_crisis",
          "no_crisis",
          "no_crisis",
          "no_crisis",
          "no_crisis",
          "no_crisis",
          "no_crisis",
          "no_crisis",
          "no_crisis",
          "no_crisis",
          "no_crisis",
          "no_crisis",
          "no_crisis",
          "no_crisis",
          "no_crisis",
          "no_crisis",
          "no_crisis",
          "no_crisis",
          "no_crisis",
          "no_crisis",
          "no_crisis",
          "no_crisis",
          "no_crisis",
          "no_crisis",
          "no_crisis",
          "no_crisis",
          "no_crisis",
          "no_crisis",
          "no_crisis",
          "no_crisis",
          "no_crisis",
          "no_crisis",
          "no_crisis",
          "no_crisis",
          "no_crisis",
          "no_crisis",
          "no_crisis",
          "no_crisis",
          "no_crisis",
          "no_crisis",
          "no_crisis",
          "no_crisis",
          "no_crisis",
          "no_crisis",
          "no_crisis",
          "no_crisis",
          "no_crisis",
          "no_crisis",
          "no_crisis",
          "no_crisis",
          "no_crisis",
          "no_crisis",
          "no_crisis",
          "no_crisis",
          "no_crisis",
          "no_crisis",
          "no_crisis",
          "no_crisis",
          "no_crisis",
          "no_crisis",
          "no_crisis",
          "no_crisis",
          "no_crisis",
          "no_crisis",
          "no_crisis",
          "no_crisis",
          "no_crisis",
          "no_crisis",
          "no_crisis",
          "no_crisis",
          "no_crisis",
          "no_crisis",
          "no_crisis",
          "no_crisis",
          "no_crisis",
          "no_crisis",
          "no_crisis",
          "no_crisis",
          "no_crisis",
          "no_crisis",
          "no_crisis",
          "no_crisis",
          "no_crisis",
          "no_crisis",
          "no_crisis",
          "no_crisis",
          "no_crisis",
          "no_crisis",
          "no_crisis",
          "no_crisis",
          "no_crisis",
          "no_crisis",
          "no_crisis",
          "no_crisis",
          "no_crisis",
          "no_crisis",
          "no_crisis",
          "no_crisis",
          "no_crisis",
          "no_crisis",
          "no_crisis",
          "no_crisis",
          "no_crisis",
          "no_crisis",
          "no_crisis",
          "no_crisis",
          "no_crisis",
          "no_crisis",
          "no_crisis",
          "no_crisis",
          "no_crisis",
          "no_crisis",
          "no_crisis",
          "no_crisis",
          "no_crisis",
          "no_crisis",
          "no_crisis",
          "no_crisis",
          "no_crisis",
          "no_crisis",
          "no_crisis",
          "no_crisis",
          "no_crisis",
          "no_crisis",
          "no_crisis",
          "no_crisis",
          "no_crisis",
          "no_crisis",
          "no_crisis",
          "no_crisis",
          "no_crisis",
          "no_crisis",
          "no_crisis",
          "no_crisis",
          "no_crisis",
          "no_crisis",
          "no_crisis",
          "no_crisis",
          "no_crisis",
          "no_crisis",
          "no_crisis",
          "no_crisis",
          "no_crisis",
          "no_crisis",
          "no_crisis",
          "no_crisis",
          "no_crisis",
          "no_crisis",
          "no_crisis",
          "no_crisis",
          "no_crisis",
          "no_crisis",
          "no_crisis",
          "no_crisis",
          "no_crisis",
          "no_crisis",
          "no_crisis",
          "no_crisis",
          "no_crisis",
          "no_crisis",
          "no_crisis",
          "no_crisis",
          "no_crisis",
          "no_crisis",
          "no_crisis",
          "no_crisis",
          "no_crisis",
          "no_crisis",
          "no_crisis",
          "no_crisis",
          "no_crisis",
          "no_crisis",
          "no_crisis",
          "no_crisis",
          "no_crisis",
          "no_crisis",
          "no_crisis",
          "no_crisis",
          "no_crisis",
          "no_crisis",
          "no_crisis",
          "no_crisis"
         ],
         "xaxis": "x",
         "yaxis": "y"
        }
       ],
       "layout": {
        "autosize": true,
        "barmode": "relative",
        "legend": {
         "title": {
          "text": "banking_crisis"
         },
         "tracegroupgap": 0
        },
        "template": {
         "data": {
          "bar": [
           {
            "error_x": {
             "color": "#f2f5fa"
            },
            "error_y": {
             "color": "#f2f5fa"
            },
            "marker": {
             "line": {
              "color": "rgb(17,17,17)",
              "width": 0.5
             },
             "pattern": {
              "fillmode": "overlay",
              "size": 10,
              "solidity": 0.2
             }
            },
            "type": "bar"
           }
          ],
          "barpolar": [
           {
            "marker": {
             "line": {
              "color": "rgb(17,17,17)",
              "width": 0.5
             },
             "pattern": {
              "fillmode": "overlay",
              "size": 10,
              "solidity": 0.2
             }
            },
            "type": "barpolar"
           }
          ],
          "carpet": [
           {
            "aaxis": {
             "endlinecolor": "#A2B1C6",
             "gridcolor": "#506784",
             "linecolor": "#506784",
             "minorgridcolor": "#506784",
             "startlinecolor": "#A2B1C6"
            },
            "baxis": {
             "endlinecolor": "#A2B1C6",
             "gridcolor": "#506784",
             "linecolor": "#506784",
             "minorgridcolor": "#506784",
             "startlinecolor": "#A2B1C6"
            },
            "type": "carpet"
           }
          ],
          "choropleth": [
           {
            "colorbar": {
             "outlinewidth": 0,
             "ticks": ""
            },
            "type": "choropleth"
           }
          ],
          "contour": [
           {
            "colorbar": {
             "outlinewidth": 0,
             "ticks": ""
            },
            "colorscale": [
             [
              0,
              "#0d0887"
             ],
             [
              0.1111111111111111,
              "#46039f"
             ],
             [
              0.2222222222222222,
              "#7201a8"
             ],
             [
              0.3333333333333333,
              "#9c179e"
             ],
             [
              0.4444444444444444,
              "#bd3786"
             ],
             [
              0.5555555555555556,
              "#d8576b"
             ],
             [
              0.6666666666666666,
              "#ed7953"
             ],
             [
              0.7777777777777778,
              "#fb9f3a"
             ],
             [
              0.8888888888888888,
              "#fdca26"
             ],
             [
              1,
              "#f0f921"
             ]
            ],
            "type": "contour"
           }
          ],
          "contourcarpet": [
           {
            "colorbar": {
             "outlinewidth": 0,
             "ticks": ""
            },
            "type": "contourcarpet"
           }
          ],
          "heatmap": [
           {
            "colorbar": {
             "outlinewidth": 0,
             "ticks": ""
            },
            "colorscale": [
             [
              0,
              "#0d0887"
             ],
             [
              0.1111111111111111,
              "#46039f"
             ],
             [
              0.2222222222222222,
              "#7201a8"
             ],
             [
              0.3333333333333333,
              "#9c179e"
             ],
             [
              0.4444444444444444,
              "#bd3786"
             ],
             [
              0.5555555555555556,
              "#d8576b"
             ],
             [
              0.6666666666666666,
              "#ed7953"
             ],
             [
              0.7777777777777778,
              "#fb9f3a"
             ],
             [
              0.8888888888888888,
              "#fdca26"
             ],
             [
              1,
              "#f0f921"
             ]
            ],
            "type": "heatmap"
           }
          ],
          "heatmapgl": [
           {
            "colorbar": {
             "outlinewidth": 0,
             "ticks": ""
            },
            "colorscale": [
             [
              0,
              "#0d0887"
             ],
             [
              0.1111111111111111,
              "#46039f"
             ],
             [
              0.2222222222222222,
              "#7201a8"
             ],
             [
              0.3333333333333333,
              "#9c179e"
             ],
             [
              0.4444444444444444,
              "#bd3786"
             ],
             [
              0.5555555555555556,
              "#d8576b"
             ],
             [
              0.6666666666666666,
              "#ed7953"
             ],
             [
              0.7777777777777778,
              "#fb9f3a"
             ],
             [
              0.8888888888888888,
              "#fdca26"
             ],
             [
              1,
              "#f0f921"
             ]
            ],
            "type": "heatmapgl"
           }
          ],
          "histogram": [
           {
            "marker": {
             "pattern": {
              "fillmode": "overlay",
              "size": 10,
              "solidity": 0.2
             }
            },
            "type": "histogram"
           }
          ],
          "histogram2d": [
           {
            "colorbar": {
             "outlinewidth": 0,
             "ticks": ""
            },
            "colorscale": [
             [
              0,
              "#0d0887"
             ],
             [
              0.1111111111111111,
              "#46039f"
             ],
             [
              0.2222222222222222,
              "#7201a8"
             ],
             [
              0.3333333333333333,
              "#9c179e"
             ],
             [
              0.4444444444444444,
              "#bd3786"
             ],
             [
              0.5555555555555556,
              "#d8576b"
             ],
             [
              0.6666666666666666,
              "#ed7953"
             ],
             [
              0.7777777777777778,
              "#fb9f3a"
             ],
             [
              0.8888888888888888,
              "#fdca26"
             ],
             [
              1,
              "#f0f921"
             ]
            ],
            "type": "histogram2d"
           }
          ],
          "histogram2dcontour": [
           {
            "colorbar": {
             "outlinewidth": 0,
             "ticks": ""
            },
            "colorscale": [
             [
              0,
              "#0d0887"
             ],
             [
              0.1111111111111111,
              "#46039f"
             ],
             [
              0.2222222222222222,
              "#7201a8"
             ],
             [
              0.3333333333333333,
              "#9c179e"
             ],
             [
              0.4444444444444444,
              "#bd3786"
             ],
             [
              0.5555555555555556,
              "#d8576b"
             ],
             [
              0.6666666666666666,
              "#ed7953"
             ],
             [
              0.7777777777777778,
              "#fb9f3a"
             ],
             [
              0.8888888888888888,
              "#fdca26"
             ],
             [
              1,
              "#f0f921"
             ]
            ],
            "type": "histogram2dcontour"
           }
          ],
          "mesh3d": [
           {
            "colorbar": {
             "outlinewidth": 0,
             "ticks": ""
            },
            "type": "mesh3d"
           }
          ],
          "parcoords": [
           {
            "line": {
             "colorbar": {
              "outlinewidth": 0,
              "ticks": ""
             }
            },
            "type": "parcoords"
           }
          ],
          "pie": [
           {
            "automargin": true,
            "type": "pie"
           }
          ],
          "scatter": [
           {
            "marker": {
             "line": {
              "color": "#283442"
             }
            },
            "type": "scatter"
           }
          ],
          "scatter3d": [
           {
            "line": {
             "colorbar": {
              "outlinewidth": 0,
              "ticks": ""
             }
            },
            "marker": {
             "colorbar": {
              "outlinewidth": 0,
              "ticks": ""
             }
            },
            "type": "scatter3d"
           }
          ],
          "scattercarpet": [
           {
            "marker": {
             "colorbar": {
              "outlinewidth": 0,
              "ticks": ""
             }
            },
            "type": "scattercarpet"
           }
          ],
          "scattergeo": [
           {
            "marker": {
             "colorbar": {
              "outlinewidth": 0,
              "ticks": ""
             }
            },
            "type": "scattergeo"
           }
          ],
          "scattergl": [
           {
            "marker": {
             "line": {
              "color": "#283442"
             }
            },
            "type": "scattergl"
           }
          ],
          "scattermapbox": [
           {
            "marker": {
             "colorbar": {
              "outlinewidth": 0,
              "ticks": ""
             }
            },
            "type": "scattermapbox"
           }
          ],
          "scatterpolar": [
           {
            "marker": {
             "colorbar": {
              "outlinewidth": 0,
              "ticks": ""
             }
            },
            "type": "scatterpolar"
           }
          ],
          "scatterpolargl": [
           {
            "marker": {
             "colorbar": {
              "outlinewidth": 0,
              "ticks": ""
             }
            },
            "type": "scatterpolargl"
           }
          ],
          "scatterternary": [
           {
            "marker": {
             "colorbar": {
              "outlinewidth": 0,
              "ticks": ""
             }
            },
            "type": "scatterternary"
           }
          ],
          "surface": [
           {
            "colorbar": {
             "outlinewidth": 0,
             "ticks": ""
            },
            "colorscale": [
             [
              0,
              "#0d0887"
             ],
             [
              0.1111111111111111,
              "#46039f"
             ],
             [
              0.2222222222222222,
              "#7201a8"
             ],
             [
              0.3333333333333333,
              "#9c179e"
             ],
             [
              0.4444444444444444,
              "#bd3786"
             ],
             [
              0.5555555555555556,
              "#d8576b"
             ],
             [
              0.6666666666666666,
              "#ed7953"
             ],
             [
              0.7777777777777778,
              "#fb9f3a"
             ],
             [
              0.8888888888888888,
              "#fdca26"
             ],
             [
              1,
              "#f0f921"
             ]
            ],
            "type": "surface"
           }
          ],
          "table": [
           {
            "cells": {
             "fill": {
              "color": "#506784"
             },
             "line": {
              "color": "rgb(17,17,17)"
             }
            },
            "header": {
             "fill": {
              "color": "#2a3f5f"
             },
             "line": {
              "color": "rgb(17,17,17)"
             }
            },
            "type": "table"
           }
          ]
         },
         "layout": {
          "annotationdefaults": {
           "arrowcolor": "#f2f5fa",
           "arrowhead": 0,
           "arrowwidth": 1
          },
          "autotypenumbers": "strict",
          "coloraxis": {
           "colorbar": {
            "outlinewidth": 0,
            "ticks": ""
           }
          },
          "colorscale": {
           "diverging": [
            [
             0,
             "#8e0152"
            ],
            [
             0.1,
             "#c51b7d"
            ],
            [
             0.2,
             "#de77ae"
            ],
            [
             0.3,
             "#f1b6da"
            ],
            [
             0.4,
             "#fde0ef"
            ],
            [
             0.5,
             "#f7f7f7"
            ],
            [
             0.6,
             "#e6f5d0"
            ],
            [
             0.7,
             "#b8e186"
            ],
            [
             0.8,
             "#7fbc41"
            ],
            [
             0.9,
             "#4d9221"
            ],
            [
             1,
             "#276419"
            ]
           ],
           "sequential": [
            [
             0,
             "#0d0887"
            ],
            [
             0.1111111111111111,
             "#46039f"
            ],
            [
             0.2222222222222222,
             "#7201a8"
            ],
            [
             0.3333333333333333,
             "#9c179e"
            ],
            [
             0.4444444444444444,
             "#bd3786"
            ],
            [
             0.5555555555555556,
             "#d8576b"
            ],
            [
             0.6666666666666666,
             "#ed7953"
            ],
            [
             0.7777777777777778,
             "#fb9f3a"
            ],
            [
             0.8888888888888888,
             "#fdca26"
            ],
            [
             1,
             "#f0f921"
            ]
           ],
           "sequentialminus": [
            [
             0,
             "#0d0887"
            ],
            [
             0.1111111111111111,
             "#46039f"
            ],
            [
             0.2222222222222222,
             "#7201a8"
            ],
            [
             0.3333333333333333,
             "#9c179e"
            ],
            [
             0.4444444444444444,
             "#bd3786"
            ],
            [
             0.5555555555555556,
             "#d8576b"
            ],
            [
             0.6666666666666666,
             "#ed7953"
            ],
            [
             0.7777777777777778,
             "#fb9f3a"
            ],
            [
             0.8888888888888888,
             "#fdca26"
            ],
            [
             1,
             "#f0f921"
            ]
           ]
          },
          "colorway": [
           "#636efa",
           "#EF553B",
           "#00cc96",
           "#ab63fa",
           "#FFA15A",
           "#19d3f3",
           "#FF6692",
           "#B6E880",
           "#FF97FF",
           "#FECB52"
          ],
          "font": {
           "color": "#f2f5fa"
          },
          "geo": {
           "bgcolor": "rgb(17,17,17)",
           "lakecolor": "rgb(17,17,17)",
           "landcolor": "rgb(17,17,17)",
           "showlakes": true,
           "showland": true,
           "subunitcolor": "#506784"
          },
          "hoverlabel": {
           "align": "left"
          },
          "hovermode": "closest",
          "mapbox": {
           "style": "dark"
          },
          "paper_bgcolor": "rgb(17,17,17)",
          "plot_bgcolor": "rgb(17,17,17)",
          "polar": {
           "angularaxis": {
            "gridcolor": "#506784",
            "linecolor": "#506784",
            "ticks": ""
           },
           "bgcolor": "rgb(17,17,17)",
           "radialaxis": {
            "gridcolor": "#506784",
            "linecolor": "#506784",
            "ticks": ""
           }
          },
          "scene": {
           "xaxis": {
            "backgroundcolor": "rgb(17,17,17)",
            "gridcolor": "#506784",
            "gridwidth": 2,
            "linecolor": "#506784",
            "showbackground": true,
            "ticks": "",
            "zerolinecolor": "#C8D4E3"
           },
           "yaxis": {
            "backgroundcolor": "rgb(17,17,17)",
            "gridcolor": "#506784",
            "gridwidth": 2,
            "linecolor": "#506784",
            "showbackground": true,
            "ticks": "",
            "zerolinecolor": "#C8D4E3"
           },
           "zaxis": {
            "backgroundcolor": "rgb(17,17,17)",
            "gridcolor": "#506784",
            "gridwidth": 2,
            "linecolor": "#506784",
            "showbackground": true,
            "ticks": "",
            "zerolinecolor": "#C8D4E3"
           }
          },
          "shapedefaults": {
           "line": {
            "color": "#f2f5fa"
           }
          },
          "sliderdefaults": {
           "bgcolor": "#C8D4E3",
           "bordercolor": "rgb(17,17,17)",
           "borderwidth": 1,
           "tickwidth": 0
          },
          "ternary": {
           "aaxis": {
            "gridcolor": "#506784",
            "linecolor": "#506784",
            "ticks": ""
           },
           "baxis": {
            "gridcolor": "#506784",
            "linecolor": "#506784",
            "ticks": ""
           },
           "bgcolor": "rgb(17,17,17)",
           "caxis": {
            "gridcolor": "#506784",
            "linecolor": "#506784",
            "ticks": ""
           }
          },
          "title": {
           "x": 0.05
          },
          "updatemenudefaults": {
           "bgcolor": "#506784",
           "borderwidth": 0
          },
          "xaxis": {
           "automargin": true,
           "gridcolor": "#283442",
           "linecolor": "#506784",
           "ticks": "",
           "title": {
            "standoff": 15
           },
           "zerolinecolor": "#283442",
           "zerolinewidth": 2
          },
          "yaxis": {
           "automargin": true,
           "gridcolor": "#283442",
           "linecolor": "#506784",
           "ticks": "",
           "title": {
            "standoff": 15
           },
           "zerolinecolor": "#283442",
           "zerolinewidth": 2
          }
         }
        },
        "title": {
         "text": "Banking Crisis"
        },
        "xaxis": {
         "anchor": "y",
         "autorange": true,
         "categoryarray": [
          "crisis",
          "no_crisis"
         ],
         "categoryorder": "array",
         "domain": [
          0,
          1
         ],
         "range": [
          -0.5,
          1.5
         ],
         "title": {
          "text": "banking_crisis"
         },
         "type": "category"
        },
        "yaxis": {
         "anchor": "x",
         "autorange": true,
         "domain": [
          0,
          1
         ],
         "range": [
          0,
          1015.7894736842105
         ],
         "title": {
          "text": "count"
         }
        }
       }
      },
      "image/png": "[encoded data removed]",
      "text/html": [
       "<div>                            <div id=\"877112bb-578d-4cf7-8d5d-40bb7feb2413\" class=\"plotly-graph-div\" style=\"height:525px; width:100%;\"></div>            <script type=\"text/javascript\">                require([\"plotly\"], function(Plotly) {                    window.PLOTLYENV=window.PLOTLYENV || {};                                    if (document.getElementById(\"877112bb-578d-4cf7-8d5d-40bb7feb2413\")) {                    Plotly.newPlot(                        \"877112bb-578d-4cf7-8d5d-40bb7feb2413\",                        [{\"alignmentgroup\":\"True\",\"bingroup\":\"x\",\"hovertemplate\":\"banking_crisis=%{x}\\u003cbr\\u003ecount=%{y}\\u003cextra\\u003e\\u003c\\u002fextra\\u003e\",\"legendgroup\":\"crisis\",\"marker\":{\"color\":\"red\",\"pattern\":{\"shape\":\"\"}},\"name\":\"crisis\",\"offsetgroup\":\"crisis\",\"orientation\":\"v\",\"showlegend\":true,\"x\":[\"crisis\",\"crisis\",\"crisis\",\"crisis\",\"crisis\",\"crisis\",\"crisis\",\"crisis\",\"crisis\",\"crisis\",\"crisis\",\"crisis\",\"crisis\",\"crisis\",\"crisis\",\"crisis\",\"crisis\",\"crisis\",\"crisis\",\"crisis\",\"crisis\",\"crisis\",\"crisis\",\"crisis\",\"crisis\",\"crisis\",\"crisis\",\"crisis\",\"crisis\",\"crisis\",\"crisis\",\"crisis\",\"crisis\",\"crisis\",\"crisis\",\"crisis\",\"crisis\",\"crisis\",\"crisis\",\"crisis\",\"crisis\",\"crisis\",\"crisis\",\"crisis\",\"crisis\",\"crisis\",\"crisis\",\"crisis\",\"crisis\",\"crisis\",\"crisis\",\"crisis\",\"crisis\",\"crisis\",\"crisis\",\"crisis\",\"crisis\",\"crisis\",\"crisis\",\"crisis\",\"crisis\",\"crisis\",\"crisis\",\"crisis\",\"crisis\",\"crisis\",\"crisis\",\"crisis\",\"crisis\",\"crisis\",\"crisis\",\"crisis\",\"crisis\",\"crisis\",\"crisis\",\"crisis\",\"crisis\",\"crisis\",\"crisis\",\"crisis\",\"crisis\",\"crisis\",\"crisis\",\"crisis\",\"crisis\",\"crisis\",\"crisis\",\"crisis\",\"crisis\",\"crisis\",\"crisis\",\"crisis\",\"crisis\",\"crisis\"],\"xaxis\":\"x\",\"yaxis\":\"y\",\"type\":\"histogram\"},{\"alignmentgroup\":\"True\",\"bingroup\":\"x\",\"hovertemplate\":\"banking_crisis=%{x}\\u003cbr\\u003ecount=%{y}\\u003cextra\\u003e\\u003c\\u002fextra\\u003e\",\"legendgroup\":\"no_crisis\",\"marker\":{\"color\":\"Blue\",\"pattern\":{\"shape\":\"\"}},\"name\":\"no_crisis\",\"offsetgroup\":\"no_crisis\",\"orientation\":\"v\",\"showlegend\":true,\"x\":[\"no_crisis\",\"no_crisis\",\"no_crisis\",\"no_crisis\",\"no_crisis\",\"no_crisis\",\"no_crisis\",\"no_crisis\",\"no_crisis\",\"no_crisis\",\"no_crisis\",\"no_crisis\",\"no_crisis\",\"no_crisis\",\"no_crisis\",\"no_crisis\",\"no_crisis\",\"no_crisis\",\"no_crisis\",\"no_crisis\",\"no_crisis\",\"no_crisis\",\"no_crisis\",\"no_crisis\",\"no_crisis\",\"no_crisis\",\"no_crisis\",\"no_crisis\",\"no_crisis\",\"no_crisis\",\"no_crisis\",\"no_crisis\",\"no_crisis\",\"no_crisis\",\"no_crisis\",\"no_crisis\",\"no_crisis\",\"no_crisis\",\"no_crisis\",\"no_crisis\",\"no_crisis\",\"no_crisis\",\"no_crisis\",\"no_crisis\",\"no_crisis\",\"no_crisis\",\"no_crisis\",\"no_crisis\",\"no_crisis\",\"no_crisis\",\"no_crisis\",\"no_crisis\",\"no_crisis\",\"no_crisis\",\"no_crisis\",\"no_crisis\",\"no_crisis\",\"no_crisis\",\"no_crisis\",\"no_crisis\",\"no_crisis\",\"no_crisis\",\"no_crisis\",\"no_crisis\",\"no_crisis\",\"no_crisis\",\"no_crisis\",\"no_crisis\",\"no_crisis\",\"no_crisis\",\"no_crisis\",\"no_crisis\",\"no_crisis\",\"no_crisis\",\"no_crisis\",\"no_crisis\",\"no_crisis\",\"no_crisis\",\"no_crisis\",\"no_crisis\",\"no_crisis\",\"no_crisis\",\"no_crisis\",\"no_crisis\",\"no_crisis\",\"no_crisis\",\"no_crisis\",\"no_crisis\",\"no_crisis\",\"no_crisis\",\"no_crisis\",\"no_crisis\",\"no_crisis\",\"no_crisis\",\"no_crisis\",\"no_crisis\",\"no_crisis\",\"no_crisis\",\"no_crisis\",\"no_crisis\",\"no_crisis\",\"no_crisis\",\"no_crisis\",\"no_crisis\",\"no_crisis\",\"no_crisis\",\"no_crisis\",\"no_crisis\",\"no_crisis\",\"no_crisis\",\"no_crisis\",\"no_crisis\",\"no_crisis\",\"no_crisis\",\"no_crisis\",\"no_crisis\",\"no_crisis\",\"no_crisis\",\"no_crisis\",\"no_crisis\",\"no_crisis\",\"no_crisis\",\"no_crisis\",\"no_crisis\",\"no_crisis\",\"no_crisis\",\"no_crisis\",\"no_crisis\",\"no_crisis\",\"no_crisis\",\"no_crisis\",\"no_crisis\",\"no_crisis\",\"no_crisis\",\"no_crisis\",\"no_crisis\",\"no_crisis\",\"no_crisis\",\"no_crisis\",\"no_crisis\",\"no_crisis\",\"no_crisis\",\"no_crisis\",\"no_crisis\",\"no_crisis\",\"no_crisis\",\"no_crisis\",\"no_crisis\",\"no_crisis\",\"no_crisis\",\"no_crisis\",\"no_crisis\",\"no_crisis\",\"no_crisis\",\"no_crisis\",\"no_crisis\",\"no_crisis\",\"no_crisis\",\"no_crisis\",\"no_crisis\",\"no_crisis\",\"no_crisis\",\"no_crisis\",\"no_crisis\",\"no_crisis\",\"no_crisis\",\"no_crisis\",\"no_crisis\",\"no_crisis\",\"no_crisis\",\"no_crisis\",\"no_crisis\",\"no_crisis\",\"no_crisis\",\"no_crisis\",\"no_crisis\",\"no_crisis\",\"no_crisis\",\"no_crisis\",\"no_crisis\",\"no_crisis\",\"no_crisis\",\"no_crisis\",\"no_crisis\",\"no_crisis\",\"no_crisis\",\"no_crisis\",\"no_crisis\",\"no_crisis\",\"no_crisis\",\"no_crisis\",\"no_crisis\",\"no_crisis\",\"no_crisis\",\"no_crisis\",\"no_crisis\",\"no_crisis\",\"no_crisis\",\"no_crisis\",\"no_crisis\",\"no_crisis\",\"no_crisis\",\"no_crisis\",\"no_crisis\",\"no_crisis\",\"no_crisis\",\"no_crisis\",\"no_crisis\",\"no_crisis\",\"no_crisis\",\"no_crisis\",\"no_crisis\",\"no_crisis\",\"no_crisis\",\"no_crisis\",\"no_crisis\",\"no_crisis\",\"no_crisis\",\"no_crisis\",\"no_crisis\",\"no_crisis\",\"no_crisis\",\"no_crisis\",\"no_crisis\",\"no_crisis\",\"no_crisis\",\"no_crisis\",\"no_crisis\",\"no_crisis\",\"no_crisis\",\"no_crisis\",\"no_crisis\",\"no_crisis\",\"no_crisis\",\"no_crisis\",\"no_crisis\",\"no_crisis\",\"no_crisis\",\"no_crisis\",\"no_crisis\",\"no_crisis\",\"no_crisis\",\"no_crisis\",\"no_crisis\",\"no_crisis\",\"no_crisis\",\"no_crisis\",\"no_crisis\",\"no_crisis\",\"no_crisis\",\"no_crisis\",\"no_crisis\",\"no_crisis\",\"no_crisis\",\"no_crisis\",\"no_crisis\",\"no_crisis\",\"no_crisis\",\"no_crisis\",\"no_crisis\",\"no_crisis\",\"no_crisis\",\"no_crisis\",\"no_crisis\",\"no_crisis\",\"no_crisis\",\"no_crisis\",\"no_crisis\",\"no_crisis\",\"no_crisis\",\"no_crisis\",\"no_crisis\",\"no_crisis\",\"no_crisis\",\"no_crisis\",\"no_crisis\",\"no_crisis\",\"no_crisis\",\"no_crisis\",\"no_crisis\",\"no_crisis\",\"no_crisis\",\"no_crisis\",\"no_crisis\",\"no_crisis\",\"no_crisis\",\"no_crisis\",\"no_crisis\",\"no_crisis\",\"no_crisis\",\"no_crisis\",\"no_crisis\",\"no_crisis\",\"no_crisis\",\"no_crisis\",\"no_crisis\",\"no_crisis\",\"no_crisis\",\"no_crisis\",\"no_crisis\",\"no_crisis\",\"no_crisis\",\"no_crisis\",\"no_crisis\",\"no_crisis\",\"no_crisis\",\"no_crisis\",\"no_crisis\",\"no_crisis\",\"no_crisis\",\"no_crisis\",\"no_crisis\",\"no_crisis\",\"no_crisis\",\"no_crisis\",\"no_crisis\",\"no_crisis\",\"no_crisis\",\"no_crisis\",\"no_crisis\",\"no_crisis\",\"no_crisis\",\"no_crisis\",\"no_crisis\",\"no_crisis\",\"no_crisis\",\"no_crisis\",\"no_crisis\",\"no_crisis\",\"no_crisis\",\"no_crisis\",\"no_crisis\",\"no_crisis\",\"no_crisis\",\"no_crisis\",\"no_crisis\",\"no_crisis\",\"no_crisis\",\"no_crisis\",\"no_crisis\",\"no_crisis\",\"no_crisis\",\"no_crisis\",\"no_crisis\",\"no_crisis\",\"no_crisis\",\"no_crisis\",\"no_crisis\",\"no_crisis\",\"no_crisis\",\"no_crisis\",\"no_crisis\",\"no_crisis\",\"no_crisis\",\"no_crisis\",\"no_crisis\",\"no_crisis\",\"no_crisis\",\"no_crisis\",\"no_crisis\",\"no_crisis\",\"no_crisis\",\"no_crisis\",\"no_crisis\",\"no_crisis\",\"no_crisis\",\"no_crisis\",\"no_crisis\",\"no_crisis\",\"no_crisis\",\"no_crisis\",\"no_crisis\",\"no_crisis\",\"no_crisis\",\"no_crisis\",\"no_crisis\",\"no_crisis\",\"no_crisis\",\"no_crisis\",\"no_crisis\",\"no_crisis\",\"no_crisis\",\"no_crisis\",\"no_crisis\",\"no_crisis\",\"no_crisis\",\"no_crisis\",\"no_crisis\",\"no_crisis\",\"no_crisis\",\"no_crisis\",\"no_crisis\",\"no_crisis\",\"no_crisis\",\"no_crisis\",\"no_crisis\",\"no_crisis\",\"no_crisis\",\"no_crisis\",\"no_crisis\",\"no_crisis\",\"no_crisis\",\"no_crisis\",\"no_crisis\",\"no_crisis\",\"no_crisis\",\"no_crisis\",\"no_crisis\",\"no_crisis\",\"no_crisis\",\"no_crisis\",\"no_crisis\",\"no_crisis\",\"no_crisis\",\"no_crisis\",\"no_crisis\",\"no_crisis\",\"no_crisis\",\"no_crisis\",\"no_crisis\",\"no_crisis\",\"no_crisis\",\"no_crisis\",\"no_crisis\",\"no_crisis\",\"no_crisis\",\"no_crisis\",\"no_crisis\",\"no_crisis\",\"no_crisis\",\"no_crisis\",\"no_crisis\",\"no_crisis\",\"no_crisis\",\"no_crisis\",\"no_crisis\",\"no_crisis\",\"no_crisis\",\"no_crisis\",\"no_crisis\",\"no_crisis\",\"no_crisis\",\"no_crisis\",\"no_crisis\",\"no_crisis\",\"no_crisis\",\"no_crisis\",\"no_crisis\",\"no_crisis\",\"no_crisis\",\"no_crisis\",\"no_crisis\",\"no_crisis\",\"no_crisis\",\"no_crisis\",\"no_crisis\",\"no_crisis\",\"no_crisis\",\"no_crisis\",\"no_crisis\",\"no_crisis\",\"no_crisis\",\"no_crisis\",\"no_crisis\",\"no_crisis\",\"no_crisis\",\"no_crisis\",\"no_crisis\",\"no_crisis\",\"no_crisis\",\"no_crisis\",\"no_crisis\",\"no_crisis\",\"no_crisis\",\"no_crisis\",\"no_crisis\",\"no_crisis\",\"no_crisis\",\"no_crisis\",\"no_crisis\",\"no_crisis\",\"no_crisis\",\"no_crisis\",\"no_crisis\",\"no_crisis\",\"no_crisis\",\"no_crisis\",\"no_crisis\",\"no_crisis\",\"no_crisis\",\"no_crisis\",\"no_crisis\",\"no_crisis\",\"no_crisis\",\"no_crisis\",\"no_crisis\",\"no_crisis\",\"no_crisis\",\"no_crisis\",\"no_crisis\",\"no_crisis\",\"no_crisis\",\"no_crisis\",\"no_crisis\",\"no_crisis\",\"no_crisis\",\"no_crisis\",\"no_crisis\",\"no_crisis\",\"no_crisis\",\"no_crisis\",\"no_crisis\",\"no_crisis\",\"no_crisis\",\"no_crisis\",\"no_crisis\",\"no_crisis\",\"no_crisis\",\"no_crisis\",\"no_crisis\",\"no_crisis\",\"no_crisis\",\"no_crisis\",\"no_crisis\",\"no_crisis\",\"no_crisis\",\"no_crisis\",\"no_crisis\",\"no_crisis\",\"no_crisis\",\"no_crisis\",\"no_crisis\",\"no_crisis\",\"no_crisis\",\"no_crisis\",\"no_crisis\",\"no_crisis\",\"no_crisis\",\"no_crisis\",\"no_crisis\",\"no_crisis\",\"no_crisis\",\"no_crisis\",\"no_crisis\",\"no_crisis\",\"no_crisis\",\"no_crisis\",\"no_crisis\",\"no_crisis\",\"no_crisis\",\"no_crisis\",\"no_crisis\",\"no_crisis\",\"no_crisis\",\"no_crisis\",\"no_crisis\",\"no_crisis\",\"no_crisis\",\"no_crisis\",\"no_crisis\",\"no_crisis\",\"no_crisis\",\"no_crisis\",\"no_crisis\",\"no_crisis\",\"no_crisis\",\"no_crisis\",\"no_crisis\",\"no_crisis\",\"no_crisis\",\"no_crisis\",\"no_crisis\",\"no_crisis\",\"no_crisis\",\"no_crisis\",\"no_crisis\",\"no_crisis\",\"no_crisis\",\"no_crisis\",\"no_crisis\",\"no_crisis\",\"no_crisis\",\"no_crisis\",\"no_crisis\",\"no_crisis\",\"no_crisis\",\"no_crisis\",\"no_crisis\",\"no_crisis\",\"no_crisis\",\"no_crisis\",\"no_crisis\",\"no_crisis\",\"no_crisis\",\"no_crisis\",\"no_crisis\",\"no_crisis\",\"no_crisis\",\"no_crisis\",\"no_crisis\",\"no_crisis\",\"no_crisis\",\"no_crisis\",\"no_crisis\",\"no_crisis\",\"no_crisis\",\"no_crisis\",\"no_crisis\",\"no_crisis\",\"no_crisis\",\"no_crisis\",\"no_crisis\",\"no_crisis\",\"no_crisis\",\"no_crisis\",\"no_crisis\",\"no_crisis\",\"no_crisis\",\"no_crisis\",\"no_crisis\",\"no_crisis\",\"no_crisis\",\"no_crisis\",\"no_crisis\",\"no_crisis\",\"no_crisis\",\"no_crisis\",\"no_crisis\",\"no_crisis\",\"no_crisis\",\"no_crisis\",\"no_crisis\",\"no_crisis\",\"no_crisis\",\"no_crisis\",\"no_crisis\",\"no_crisis\",\"no_crisis\",\"no_crisis\",\"no_crisis\",\"no_crisis\",\"no_crisis\",\"no_crisis\",\"no_crisis\",\"no_crisis\",\"no_crisis\",\"no_crisis\",\"no_crisis\",\"no_crisis\",\"no_crisis\",\"no_crisis\",\"no_crisis\",\"no_crisis\",\"no_crisis\",\"no_crisis\",\"no_crisis\",\"no_crisis\",\"no_crisis\",\"no_crisis\",\"no_crisis\",\"no_crisis\",\"no_crisis\",\"no_crisis\",\"no_crisis\",\"no_crisis\",\"no_crisis\",\"no_crisis\",\"no_crisis\",\"no_crisis\",\"no_crisis\",\"no_crisis\",\"no_crisis\",\"no_crisis\",\"no_crisis\",\"no_crisis\",\"no_crisis\",\"no_crisis\",\"no_crisis\",\"no_crisis\",\"no_crisis\",\"no_crisis\",\"no_crisis\",\"no_crisis\",\"no_crisis\",\"no_crisis\",\"no_crisis\",\"no_crisis\",\"no_crisis\",\"no_crisis\",\"no_crisis\",\"no_crisis\",\"no_crisis\",\"no_crisis\",\"no_crisis\",\"no_crisis\",\"no_crisis\",\"no_crisis\",\"no_crisis\",\"no_crisis\",\"no_crisis\",\"no_crisis\",\"no_crisis\",\"no_crisis\",\"no_crisis\",\"no_crisis\",\"no_crisis\",\"no_crisis\",\"no_crisis\",\"no_crisis\",\"no_crisis\",\"no_crisis\",\"no_crisis\",\"no_crisis\",\"no_crisis\",\"no_crisis\",\"no_crisis\",\"no_crisis\",\"no_crisis\",\"no_crisis\",\"no_crisis\",\"no_crisis\",\"no_crisis\",\"no_crisis\",\"no_crisis\",\"no_crisis\",\"no_crisis\",\"no_crisis\",\"no_crisis\",\"no_crisis\",\"no_crisis\",\"no_crisis\",\"no_crisis\",\"no_crisis\",\"no_crisis\",\"no_crisis\",\"no_crisis\",\"no_crisis\",\"no_crisis\",\"no_crisis\",\"no_crisis\",\"no_crisis\",\"no_crisis\",\"no_crisis\",\"no_crisis\",\"no_crisis\",\"no_crisis\",\"no_crisis\",\"no_crisis\",\"no_crisis\",\"no_crisis\",\"no_crisis\",\"no_crisis\",\"no_crisis\",\"no_crisis\",\"no_crisis\",\"no_crisis\",\"no_crisis\",\"no_crisis\",\"no_crisis\",\"no_crisis\",\"no_crisis\",\"no_crisis\",\"no_crisis\",\"no_crisis\",\"no_crisis\",\"no_crisis\",\"no_crisis\",\"no_crisis\",\"no_crisis\",\"no_crisis\",\"no_crisis\",\"no_crisis\",\"no_crisis\",\"no_crisis\",\"no_crisis\",\"no_crisis\",\"no_crisis\",\"no_crisis\",\"no_crisis\",\"no_crisis\",\"no_crisis\",\"no_crisis\",\"no_crisis\",\"no_crisis\",\"no_crisis\",\"no_crisis\",\"no_crisis\",\"no_crisis\",\"no_crisis\",\"no_crisis\",\"no_crisis\",\"no_crisis\",\"no_crisis\",\"no_crisis\",\"no_crisis\",\"no_crisis\",\"no_crisis\",\"no_crisis\",\"no_crisis\",\"no_crisis\",\"no_crisis\",\"no_crisis\",\"no_crisis\",\"no_crisis\",\"no_crisis\",\"no_crisis\",\"no_crisis\",\"no_crisis\",\"no_crisis\",\"no_crisis\",\"no_crisis\",\"no_crisis\",\"no_crisis\",\"no_crisis\",\"no_crisis\",\"no_crisis\",\"no_crisis\",\"no_crisis\",\"no_crisis\",\"no_crisis\",\"no_crisis\",\"no_crisis\",\"no_crisis\",\"no_crisis\",\"no_crisis\",\"no_crisis\",\"no_crisis\",\"no_crisis\",\"no_crisis\",\"no_crisis\",\"no_crisis\",\"no_crisis\",\"no_crisis\",\"no_crisis\",\"no_crisis\",\"no_crisis\",\"no_crisis\",\"no_crisis\",\"no_crisis\",\"no_crisis\",\"no_crisis\",\"no_crisis\",\"no_crisis\",\"no_crisis\",\"no_crisis\",\"no_crisis\",\"no_crisis\",\"no_crisis\",\"no_crisis\",\"no_crisis\",\"no_crisis\",\"no_crisis\",\"no_crisis\",\"no_crisis\",\"no_crisis\",\"no_crisis\",\"no_crisis\",\"no_crisis\",\"no_crisis\",\"no_crisis\",\"no_crisis\",\"no_crisis\",\"no_crisis\",\"no_crisis\",\"no_crisis\",\"no_crisis\",\"no_crisis\",\"no_crisis\",\"no_crisis\",\"no_crisis\",\"no_crisis\",\"no_crisis\",\"no_crisis\",\"no_crisis\",\"no_crisis\",\"no_crisis\",\"no_crisis\",\"no_crisis\",\"no_crisis\",\"no_crisis\",\"no_crisis\",\"no_crisis\",\"no_crisis\",\"no_crisis\",\"no_crisis\",\"no_crisis\",\"no_crisis\",\"no_crisis\",\"no_crisis\",\"no_crisis\",\"no_crisis\",\"no_crisis\",\"no_crisis\",\"no_crisis\",\"no_crisis\",\"no_crisis\",\"no_crisis\",\"no_crisis\",\"no_crisis\",\"no_crisis\",\"no_crisis\",\"no_crisis\",\"no_crisis\",\"no_crisis\",\"no_crisis\",\"no_crisis\",\"no_crisis\",\"no_crisis\",\"no_crisis\",\"no_crisis\",\"no_crisis\",\"no_crisis\",\"no_crisis\",\"no_crisis\",\"no_crisis\",\"no_crisis\",\"no_crisis\",\"no_crisis\",\"no_crisis\",\"no_crisis\",\"no_crisis\",\"no_crisis\",\"no_crisis\",\"no_crisis\",\"no_crisis\",\"no_crisis\",\"no_crisis\",\"no_crisis\",\"no_crisis\",\"no_crisis\",\"no_crisis\",\"no_crisis\",\"no_crisis\",\"no_crisis\",\"no_crisis\",\"no_crisis\",\"no_crisis\",\"no_crisis\",\"no_crisis\",\"no_crisis\",\"no_crisis\",\"no_crisis\",\"no_crisis\",\"no_crisis\",\"no_crisis\",\"no_crisis\",\"no_crisis\",\"no_crisis\",\"no_crisis\",\"no_crisis\",\"no_crisis\",\"no_crisis\",\"no_crisis\",\"no_crisis\",\"no_crisis\",\"no_crisis\",\"no_crisis\",\"no_crisis\",\"no_crisis\",\"no_crisis\",\"no_crisis\",\"no_crisis\",\"no_crisis\",\"no_crisis\",\"no_crisis\"],\"xaxis\":\"x\",\"yaxis\":\"y\",\"type\":\"histogram\"}],                        {\"template\":{\"data\":{\"barpolar\":[{\"marker\":{\"line\":{\"color\":\"rgb(17,17,17)\",\"width\":0.5},\"pattern\":{\"fillmode\":\"overlay\",\"size\":10,\"solidity\":0.2}},\"type\":\"barpolar\"}],\"bar\":[{\"error_x\":{\"color\":\"#f2f5fa\"},\"error_y\":{\"color\":\"#f2f5fa\"},\"marker\":{\"line\":{\"color\":\"rgb(17,17,17)\",\"width\":0.5},\"pattern\":{\"fillmode\":\"overlay\",\"size\":10,\"solidity\":0.2}},\"type\":\"bar\"}],\"carpet\":[{\"aaxis\":{\"endlinecolor\":\"#A2B1C6\",\"gridcolor\":\"#506784\",\"linecolor\":\"#506784\",\"minorgridcolor\":\"#506784\",\"startlinecolor\":\"#A2B1C6\"},\"baxis\":{\"endlinecolor\":\"#A2B1C6\",\"gridcolor\":\"#506784\",\"linecolor\":\"#506784\",\"minorgridcolor\":\"#506784\",\"startlinecolor\":\"#A2B1C6\"},\"type\":\"carpet\"}],\"choropleth\":[{\"colorbar\":{\"outlinewidth\":0,\"ticks\":\"\"},\"type\":\"choropleth\"}],\"contourcarpet\":[{\"colorbar\":{\"outlinewidth\":0,\"ticks\":\"\"},\"type\":\"contourcarpet\"}],\"contour\":[{\"colorbar\":{\"outlinewidth\":0,\"ticks\":\"\"},\"colorscale\":[[0.0,\"#0d0887\"],[0.1111111111111111,\"#46039f\"],[0.2222222222222222,\"#7201a8\"],[0.3333333333333333,\"#9c179e\"],[0.4444444444444444,\"#bd3786\"],[0.5555555555555556,\"#d8576b\"],[0.6666666666666666,\"#ed7953\"],[0.7777777777777778,\"#fb9f3a\"],[0.8888888888888888,\"#fdca26\"],[1.0,\"#f0f921\"]],\"type\":\"contour\"}],\"heatmapgl\":[{\"colorbar\":{\"outlinewidth\":0,\"ticks\":\"\"},\"colorscale\":[[0.0,\"#0d0887\"],[0.1111111111111111,\"#46039f\"],[0.2222222222222222,\"#7201a8\"],[0.3333333333333333,\"#9c179e\"],[0.4444444444444444,\"#bd3786\"],[0.5555555555555556,\"#d8576b\"],[0.6666666666666666,\"#ed7953\"],[0.7777777777777778,\"#fb9f3a\"],[0.8888888888888888,\"#fdca26\"],[1.0,\"#f0f921\"]],\"type\":\"heatmapgl\"}],\"heatmap\":[{\"colorbar\":{\"outlinewidth\":0,\"ticks\":\"\"},\"colorscale\":[[0.0,\"#0d0887\"],[0.1111111111111111,\"#46039f\"],[0.2222222222222222,\"#7201a8\"],[0.3333333333333333,\"#9c179e\"],[0.4444444444444444,\"#bd3786\"],[0.5555555555555556,\"#d8576b\"],[0.6666666666666666,\"#ed7953\"],[0.7777777777777778,\"#fb9f3a\"],[0.8888888888888888,\"#fdca26\"],[1.0,\"#f0f921\"]],\"type\":\"heatmap\"}],\"histogram2dcontour\":[{\"colorbar\":{\"outlinewidth\":0,\"ticks\":\"\"},\"colorscale\":[[0.0,\"#0d0887\"],[0.1111111111111111,\"#46039f\"],[0.2222222222222222,\"#7201a8\"],[0.3333333333333333,\"#9c179e\"],[0.4444444444444444,\"#bd3786\"],[0.5555555555555556,\"#d8576b\"],[0.6666666666666666,\"#ed7953\"],[0.7777777777777778,\"#fb9f3a\"],[0.8888888888888888,\"#fdca26\"],[1.0,\"#f0f921\"]],\"type\":\"histogram2dcontour\"}],\"histogram2d\":[{\"colorbar\":{\"outlinewidth\":0,\"ticks\":\"\"},\"colorscale\":[[0.0,\"#0d0887\"],[0.1111111111111111,\"#46039f\"],[0.2222222222222222,\"#7201a8\"],[0.3333333333333333,\"#9c179e\"],[0.4444444444444444,\"#bd3786\"],[0.5555555555555556,\"#d8576b\"],[0.6666666666666666,\"#ed7953\"],[0.7777777777777778,\"#fb9f3a\"],[0.8888888888888888,\"#fdca26\"],[1.0,\"#f0f921\"]],\"type\":\"histogram2d\"}],\"histogram\":[{\"marker\":{\"pattern\":{\"fillmode\":\"overlay\",\"size\":10,\"solidity\":0.2}},\"type\":\"histogram\"}],\"mesh3d\":[{\"colorbar\":{\"outlinewidth\":0,\"ticks\":\"\"},\"type\":\"mesh3d\"}],\"parcoords\":[{\"line\":{\"colorbar\":{\"outlinewidth\":0,\"ticks\":\"\"}},\"type\":\"parcoords\"}],\"pie\":[{\"automargin\":true,\"type\":\"pie\"}],\"scatter3d\":[{\"line\":{\"colorbar\":{\"outlinewidth\":0,\"ticks\":\"\"}},\"marker\":{\"colorbar\":{\"outlinewidth\":0,\"ticks\":\"\"}},\"type\":\"scatter3d\"}],\"scattercarpet\":[{\"marker\":{\"colorbar\":{\"outlinewidth\":0,\"ticks\":\"\"}},\"type\":\"scattercarpet\"}],\"scattergeo\":[{\"marker\":{\"colorbar\":{\"outlinewidth\":0,\"ticks\":\"\"}},\"type\":\"scattergeo\"}],\"scattergl\":[{\"marker\":{\"line\":{\"color\":\"#283442\"}},\"type\":\"scattergl\"}],\"scattermapbox\":[{\"marker\":{\"colorbar\":{\"outlinewidth\":0,\"ticks\":\"\"}},\"type\":\"scattermapbox\"}],\"scatterpolargl\":[{\"marker\":{\"colorbar\":{\"outlinewidth\":0,\"ticks\":\"\"}},\"type\":\"scatterpolargl\"}],\"scatterpolar\":[{\"marker\":{\"colorbar\":{\"outlinewidth\":0,\"ticks\":\"\"}},\"type\":\"scatterpolar\"}],\"scatter\":[{\"marker\":{\"line\":{\"color\":\"#283442\"}},\"type\":\"scatter\"}],\"scatterternary\":[{\"marker\":{\"colorbar\":{\"outlinewidth\":0,\"ticks\":\"\"}},\"type\":\"scatterternary\"}],\"surface\":[{\"colorbar\":{\"outlinewidth\":0,\"ticks\":\"\"},\"colorscale\":[[0.0,\"#0d0887\"],[0.1111111111111111,\"#46039f\"],[0.2222222222222222,\"#7201a8\"],[0.3333333333333333,\"#9c179e\"],[0.4444444444444444,\"#bd3786\"],[0.5555555555555556,\"#d8576b\"],[0.6666666666666666,\"#ed7953\"],[0.7777777777777778,\"#fb9f3a\"],[0.8888888888888888,\"#fdca26\"],[1.0,\"#f0f921\"]],\"type\":\"surface\"}],\"table\":[{\"cells\":{\"fill\":{\"color\":\"#506784\"},\"line\":{\"color\":\"rgb(17,17,17)\"}},\"header\":{\"fill\":{\"color\":\"#2a3f5f\"},\"line\":{\"color\":\"rgb(17,17,17)\"}},\"type\":\"table\"}]},\"layout\":{\"annotationdefaults\":{\"arrowcolor\":\"#f2f5fa\",\"arrowhead\":0,\"arrowwidth\":1},\"autotypenumbers\":\"strict\",\"coloraxis\":{\"colorbar\":{\"outlinewidth\":0,\"ticks\":\"\"}},\"colorscale\":{\"diverging\":[[0,\"#8e0152\"],[0.1,\"#c51b7d\"],[0.2,\"#de77ae\"],[0.3,\"#f1b6da\"],[0.4,\"#fde0ef\"],[0.5,\"#f7f7f7\"],[0.6,\"#e6f5d0\"],[0.7,\"#b8e186\"],[0.8,\"#7fbc41\"],[0.9,\"#4d9221\"],[1,\"#276419\"]],\"sequential\":[[0.0,\"#0d0887\"],[0.1111111111111111,\"#46039f\"],[0.2222222222222222,\"#7201a8\"],[0.3333333333333333,\"#9c179e\"],[0.4444444444444444,\"#bd3786\"],[0.5555555555555556,\"#d8576b\"],[0.6666666666666666,\"#ed7953\"],[0.7777777777777778,\"#fb9f3a\"],[0.8888888888888888,\"#fdca26\"],[1.0,\"#f0f921\"]],\"sequentialminus\":[[0.0,\"#0d0887\"],[0.1111111111111111,\"#46039f\"],[0.2222222222222222,\"#7201a8\"],[0.3333333333333333,\"#9c179e\"],[0.4444444444444444,\"#bd3786\"],[0.5555555555555556,\"#d8576b\"],[0.6666666666666666,\"#ed7953\"],[0.7777777777777778,\"#fb9f3a\"],[0.8888888888888888,\"#fdca26\"],[1.0,\"#f0f921\"]]},\"colorway\":[\"#636efa\",\"#EF553B\",\"#00cc96\",\"#ab63fa\",\"#FFA15A\",\"#19d3f3\",\"#FF6692\",\"#B6E880\",\"#FF97FF\",\"#FECB52\"],\"font\":{\"color\":\"#f2f5fa\"},\"geo\":{\"bgcolor\":\"rgb(17,17,17)\",\"lakecolor\":\"rgb(17,17,17)\",\"landcolor\":\"rgb(17,17,17)\",\"showlakes\":true,\"showland\":true,\"subunitcolor\":\"#506784\"},\"hoverlabel\":{\"align\":\"left\"},\"hovermode\":\"closest\",\"mapbox\":{\"style\":\"dark\"},\"paper_bgcolor\":\"rgb(17,17,17)\",\"plot_bgcolor\":\"rgb(17,17,17)\",\"polar\":{\"angularaxis\":{\"gridcolor\":\"#506784\",\"linecolor\":\"#506784\",\"ticks\":\"\"},\"bgcolor\":\"rgb(17,17,17)\",\"radialaxis\":{\"gridcolor\":\"#506784\",\"linecolor\":\"#506784\",\"ticks\":\"\"}},\"scene\":{\"xaxis\":{\"backgroundcolor\":\"rgb(17,17,17)\",\"gridcolor\":\"#506784\",\"gridwidth\":2,\"linecolor\":\"#506784\",\"showbackground\":true,\"ticks\":\"\",\"zerolinecolor\":\"#C8D4E3\"},\"yaxis\":{\"backgroundcolor\":\"rgb(17,17,17)\",\"gridcolor\":\"#506784\",\"gridwidth\":2,\"linecolor\":\"#506784\",\"showbackground\":true,\"ticks\":\"\",\"zerolinecolor\":\"#C8D4E3\"},\"zaxis\":{\"backgroundcolor\":\"rgb(17,17,17)\",\"gridcolor\":\"#506784\",\"gridwidth\":2,\"linecolor\":\"#506784\",\"showbackground\":true,\"ticks\":\"\",\"zerolinecolor\":\"#C8D4E3\"}},\"shapedefaults\":{\"line\":{\"color\":\"#f2f5fa\"}},\"sliderdefaults\":{\"bgcolor\":\"#C8D4E3\",\"bordercolor\":\"rgb(17,17,17)\",\"borderwidth\":1,\"tickwidth\":0},\"ternary\":{\"aaxis\":{\"gridcolor\":\"#506784\",\"linecolor\":\"#506784\",\"ticks\":\"\"},\"baxis\":{\"gridcolor\":\"#506784\",\"linecolor\":\"#506784\",\"ticks\":\"\"},\"bgcolor\":\"rgb(17,17,17)\",\"caxis\":{\"gridcolor\":\"#506784\",\"linecolor\":\"#506784\",\"ticks\":\"\"}},\"title\":{\"x\":0.05},\"updatemenudefaults\":{\"bgcolor\":\"#506784\",\"borderwidth\":0},\"xaxis\":{\"automargin\":true,\"gridcolor\":\"#283442\",\"linecolor\":\"#506784\",\"ticks\":\"\",\"title\":{\"standoff\":15},\"zerolinecolor\":\"#283442\",\"zerolinewidth\":2},\"yaxis\":{\"automargin\":true,\"gridcolor\":\"#283442\",\"linecolor\":\"#506784\",\"ticks\":\"\",\"title\":{\"standoff\":15},\"zerolinecolor\":\"#283442\",\"zerolinewidth\":2}}},\"xaxis\":{\"anchor\":\"y\",\"domain\":[0.0,1.0],\"title\":{\"text\":\"banking_crisis\"},\"categoryorder\":\"array\",\"categoryarray\":[\"crisis\",\"no_crisis\"]},\"yaxis\":{\"anchor\":\"x\",\"domain\":[0.0,1.0],\"title\":{\"text\":\"count\"}},\"legend\":{\"title\":{\"text\":\"banking_crisis\"},\"tracegroupgap\":0},\"title\":{\"text\":\"Banking Crisis\"},\"barmode\":\"relative\"},                        {\"responsive\": true}                    ).then(function(){\n",
       "                            \n",
       "var gd = document.getElementById('877112bb-578d-4cf7-8d5d-40bb7feb2413');\n",
       "var x = new MutationObserver(function (mutations, observer) {{\n",
       "        var display = window.getComputedStyle(gd).display;\n",
       "        if (!display || display === 'none') {{\n",
       "            console.log([gd, 'removed!']);\n",
       "            Plotly.purge(gd);\n",
       "            observer.disconnect();\n",
       "        }}\n",
       "}});\n",
       "\n",
       "// Listen for the removal of the full notebook cells\n",
       "var notebookContainer = gd.closest('#notebook-container');\n",
       "if (notebookContainer) {{\n",
       "    x.observe(notebookContainer, {childList: true});\n",
       "}}\n",
       "\n",
       "// Listen for the clearing of the current output cell\n",
       "var outputEl = gd.closest('.output');\n",
       "if (outputEl) {{\n",
       "    x.observe(outputEl, {childList: true});\n",
       "}}\n",
       "\n",
       "                        })                };                });            </script>        </div>"
      ]
     },
     "metadata": {},
     "output_type": "display_data"
    }
   ],
   "source": [
    "px.histogram(df,\n",
    "            x = 'banking_crisis',\n",
    "            color = 'banking_crisis',\n",
    "            color_discrete_map={'crisis':'red','no_crisis':'Blue'},\n",
    "            template='plotly_dark',\n",
    "            title = 'Banking Crisis')"
   ]
  },
  {
   "cell_type": "code",
   "execution_count": 72,
   "id": "f22f0429-67ab-44c3-80a7-b6a4f924a4d9",
   "metadata": {},
   "outputs": [
    {
     "data": {
      "application/vnd.plotly.v1+json": {
       "config": {
        "plotlyServerURL": "https://plot.ly"
       },
       "data": [
        {
         "hovertemplate": "country=Algeria<br>year=%{x}<br>inflation_annual_cpi=%{y}<extra></extra>",
         "legendgroup": "Algeria",
         "line": {
          "color": "#636efa",
          "dash": "solid"
         },
         "marker": {
          "symbol": "circle"
         },
         "mode": "lines+markers",
         "name": "Algeria",
         "showlegend": true,
         "type": "scattergl",
         "visible": false,
         "x": [
          1870,
          1871,
          1872,
          1873,
          1874,
          1875,
          1876,
          1877,
          1878,
          1879,
          1880,
          1881,
          1882,
          1883,
          1884,
          1939,
          1940,
          1941,
          1942,
          1943,
          1944,
          1945,
          1946,
          1947,
          1948,
          1949,
          1950,
          1951,
          1952,
          1953,
          1954,
          1955,
          1956,
          1957,
          1958,
          1959,
          1960,
          1961,
          1968,
          1969,
          1970,
          1971,
          1972,
          1973,
          1974,
          1975,
          1976,
          1977,
          1978,
          1979,
          1980,
          1981,
          1982,
          1983,
          1984,
          1985,
          1986,
          1987,
          1988,
          1989,
          1990,
          1991,
          1992,
          1993,
          1994,
          1995,
          1996,
          1997,
          1998,
          1999,
          2000,
          2001,
          2002,
          2003,
          2004,
          2005,
          2006,
          2007,
          2008,
          2009,
          2010,
          2011,
          2012,
          2013,
          2014
         ],
         "xaxis": "x",
         "y": [
          3.441455696,
          14.14913958,
          -3.718592965,
          11.20389701,
          -3.848560701,
          -20.92417833,
          -1.769547325,
          29.11604525,
          -1.492537313,
          -16.83135705,
          3.881188119,
          12.61913839,
          -12.35612729,
          -1.390498262,
          -15.94202899,
          9.756097561,
          22.22222222,
          16.36363636,
          28.125,
          46.34146341,
          41.66666667,
          29.41176471,
          18.18181818,
          69.23076923,
          63.63636364,
          23.61111111,
          0,
          6.741573034,
          6.315789474,
          -0.99009901,
          1,
          0,
          1.98019802,
          2.912621359,
          12.26415094,
          9.243697479,
          5.384615385,
          2.919708029,
          6.599987838,
          2.626631862,
          3.656320975,
          6.172816266,
          4.734228715,
          8.961134756,
          8.87917187,
          12.09893382,
          17.17351914,
          11.45037883,
          9.668492611,
          14.60957788,
          9.668,
          14.61,
          6.593,
          7.835,
          6.31,
          10.432,
          14.007,
          5.857,
          5.938,
          9.172,
          9.272,
          25.9,
          31.7,
          20.5,
          29,
          29.8,
          18.7,
          5.7,
          4.95,
          2.6,
          0.3,
          4.2,
          1.43,
          4.259,
          3.972,
          1.382,
          2.315,
          3.674,
          4.855,
          5.743,
          3.913,
          4.522,
          8.916,
          3.255,
          2.917
         ],
         "yaxis": "y"
        },
        {
         "hovertemplate": "country=Angola<br>year=%{x}<br>inflation_annual_cpi=%{y}<extra></extra>",
         "legendgroup": "Angola",
         "line": {
          "color": "#EF553B",
          "dash": "solid"
         },
         "marker": {
          "symbol": "circle"
         },
         "mode": "lines+markers",
         "name": "Angola",
         "showlegend": true,
         "type": "scattergl",
         "visible": false,
         "x": [
          1921,
          1922,
          1923,
          1924,
          1925,
          1926,
          1927,
          1928,
          1929,
          1930,
          1931,
          1932,
          1933,
          1934,
          1935,
          1936,
          1937,
          1938,
          1939,
          1940,
          1941,
          1942,
          1943,
          1944,
          1945,
          1946,
          1947,
          1948,
          1949,
          1950,
          1951,
          1952,
          1953,
          1954,
          1955,
          1956,
          1957,
          1958,
          1959,
          1960,
          1961,
          1962,
          1970,
          1971,
          1972,
          1973,
          1974,
          1975,
          1976,
          1977,
          1978,
          1979,
          1980,
          1991,
          1992,
          1993,
          1994,
          1995,
          1996,
          1997,
          1998,
          1999,
          2000,
          2001,
          2002,
          2003,
          2004,
          2005,
          2006,
          2007,
          2008,
          2009,
          2010,
          2011,
          2012,
          2013,
          2014
         ],
         "xaxis": "x",
         "y": [
          29.62962963,
          45.71428571,
          68.62745098,
          126.744186,
          -27.17948718,
          -7.042253521,
          -17.42424242,
          -9.174311927,
          -5.050505051,
          -5.319148936,
          0,
          -2.247191011,
          2.298850575,
          3.370786517,
          5.434782609,
          -1.030927835,
          2.083333333,
          2.040816327,
          1,
          13.86138614,
          16.52173913,
          17.91044776,
          13.92405063,
          7.777777778,
          5.154639175,
          4.901960784,
          13.55140187,
          -16.87242798,
          -0.99009901,
          4,
          -7.692307692,
          3.125,
          0,
          -4.04040404,
          0,
          3.157894737,
          1.020408163,
          2.02020202,
          0,
          -0.99009901,
          2,
          5.882352941,
          7.965434021,
          5.777758599,
          15.79827455,
          15.67485015,
          27.41525989,
          29.00043489,
          80.69990445,
          69.00935079,
          48.46106867,
          101.3013176,
          46.70755462,
          85.265,
          299.097,
          1379.476,
          949.771,
          2672.23,
          4146.01,
          221.492,
          107.429,
          248.248,
          325.029,
          152.586,
          108.893,
          98.342,
          43.559,
          22.961,
          13.305,
          12.249,
          12.465,
          13.721,
          14.48,
          13.484,
          10.285,
          8.782,
          7.296
         ],
         "yaxis": "y"
        },
        {
         "hovertemplate": "country=Central African Republic<br>year=%{x}<br>inflation_annual_cpi=%{y}<extra></extra>",
         "legendgroup": "Central African Republic",
         "line": {
          "color": "#00cc96",
          "dash": "solid"
         },
         "marker": {
          "symbol": "circle"
         },
         "mode": "lines+markers",
         "name": "Central African Republic",
         "showlegend": true,
         "type": "scattergl",
         "visible": false,
         "x": [
          1957,
          1958,
          1959,
          1960,
          1961,
          1962,
          1963,
          1964,
          1965,
          1966,
          1967,
          1968,
          1969,
          1970,
          1971,
          1972,
          1973,
          1974,
          1975,
          1976,
          1977,
          1978,
          1979,
          1980,
          1981,
          1982,
          1983,
          1984,
          1985,
          1986,
          1987,
          1988,
          1989,
          1990,
          1991,
          1992,
          1993,
          1994,
          1995,
          1996,
          1997,
          1998,
          1999,
          2000,
          2001,
          2002,
          2003,
          2004,
          2005,
          2006,
          2007,
          2008,
          2009,
          2010,
          2011,
          2012,
          2013,
          2014
         ],
         "xaxis": "x",
         "y": [
          6.818181818,
          12.76595745,
          3.773584906,
          10.90909091,
          6.557377049,
          7.692307692,
          3.714285714,
          10.05509642,
          9.386733417,
          2.745995423,
          1.893095768,
          4.808743169,
          0.521376434,
          3.734439834,
          27.69953052,
          -8.823529412,
          5.64516129,
          9.541984733,
          16.02787456,
          10.51051051,
          11.14130435,
          11.49144254,
          9.210526316,
          13.3,
          14.66,
          13.243,
          14.558,
          2.604,
          10.457,
          2.411,
          -6.986,
          -3.934,
          0.645,
          -0.203,
          -2.848,
          -0.757,
          -2.909,
          24.55,
          19.2,
          3.723,
          1.597,
          -1.871,
          -1.415,
          3.202,
          3.843,
          2.298,
          4.353,
          -2.244,
          2.885,
          6.694,
          0.935,
          9.262,
          3.522,
          1.491,
          1.195,
          5.874,
          6.552,
          11.584
         ],
         "yaxis": "y"
        },
        {
         "hovertemplate": "country=Ivory Coast<br>year=%{x}<br>inflation_annual_cpi=%{y}<extra></extra>",
         "legendgroup": "Ivory Coast",
         "line": {
          "color": "#ab63fa",
          "dash": "solid"
         },
         "marker": {
          "symbol": "circle"
         },
         "mode": "lines+markers",
         "name": "Ivory Coast",
         "showlegend": true,
         "type": "scattergl",
         "visible": false,
         "x": [
          1952,
          1953,
          1954,
          1955,
          1956,
          1957,
          1958,
          1959,
          1960,
          1961,
          1962,
          1963,
          1964,
          1965,
          1966,
          1967,
          1968,
          1969,
          1970,
          1971,
          1972,
          1973,
          1974,
          1975,
          1976,
          1977,
          1978,
          1979,
          1980,
          1981,
          1982,
          1983,
          1984,
          1985,
          1986,
          1987,
          1988,
          1989,
          1990,
          1991,
          1992,
          1993,
          1994,
          1995,
          1996,
          1997,
          1998,
          1999,
          2000,
          2001,
          2002,
          2003,
          2004,
          2005,
          2006,
          2007,
          2008,
          2009,
          2010,
          2011,
          2012,
          2013,
          2014
         ],
         "xaxis": "x",
         "y": [
          16.21609969,
          2.326185353,
          -2.273304086,
          2.326185353,
          4.54479533,
          13.04340287,
          21.15476063,
          6.348281887,
          -2.152483452,
          14.43033046,
          -0.177568901,
          8.719549217,
          -3.169044947,
          1.757528693,
          4.665098294,
          2.766186537,
          7.747595621,
          2.502927383,
          8.075116891,
          -1.07225635,
          1.194615424,
          12.9325741,
          18.22418299,
          10.61769304,
          12.90885269,
          24.48243736,
          16.03173523,
          21.75954473,
          8.81,
          8.682,
          7.389,
          5.879,
          4.281,
          1.753,
          6.837,
          6.978,
          6.935,
          0.986,
          -0.658,
          1.575,
          4.218,
          2.13,
          25.956,
          14.1,
          2.7,
          6.301,
          5.219,
          0.92,
          -0.381,
          4.355,
          3.08,
          3.297,
          1.459,
          3.884,
          2.466,
          1.896,
          6.315,
          1.009,
          1.8,
          4.448,
          1.3,
          2.584,
          0.449
         ],
         "yaxis": "y"
        },
        {
         "hovertemplate": "country=Egypt<br>year=%{x}<br>inflation_annual_cpi=%{y}<extra></extra>",
         "legendgroup": "Egypt",
         "line": {
          "color": "#FFA15A",
          "dash": "solid"
         },
         "marker": {
          "symbol": "circle"
         },
         "mode": "lines+markers",
         "name": "Egypt",
         "showlegend": true,
         "type": "scattergl",
         "visible": false,
         "x": [
          1860,
          1861,
          1862,
          1863,
          1864,
          1865,
          1866,
          1867,
          1868,
          1869,
          1870,
          1871,
          1872,
          1873,
          1874,
          1875,
          1876,
          1877,
          1878,
          1879,
          1880,
          1881,
          1882,
          1883,
          1884,
          1885,
          1886,
          1887,
          1888,
          1889,
          1890,
          1891,
          1892,
          1893,
          1894,
          1895,
          1896,
          1897,
          1898,
          1899,
          1900,
          1901,
          1902,
          1903,
          1904,
          1905,
          1906,
          1907,
          1908,
          1909,
          1910,
          1911,
          1912,
          1913,
          1914,
          1915,
          1916,
          1917,
          1918,
          1919,
          1920,
          1921,
          1922,
          1923,
          1924,
          1925,
          1926,
          1927,
          1928,
          1929,
          1930,
          1931,
          1932,
          1933,
          1934,
          1935,
          1936,
          1937,
          1938,
          1939,
          1940,
          1941,
          1942,
          1943,
          1944,
          1945,
          1946,
          1947,
          1948,
          1949,
          1950,
          1951,
          1952,
          1953,
          1954,
          1955,
          1956,
          1957,
          1958,
          1959,
          1960,
          1961,
          1962,
          1963,
          1964,
          1965,
          1966,
          1967,
          1968,
          1969,
          1970,
          1971,
          1972,
          1973,
          1974,
          1975,
          1976,
          1977,
          1978,
          1979,
          1980,
          1981,
          1982,
          1983,
          1984,
          1985,
          1986,
          1987,
          1988,
          1989,
          1990,
          1991,
          1992,
          1993,
          1994,
          1995,
          1996,
          1997,
          1998,
          1999,
          2000,
          2001,
          2002,
          2003,
          2004,
          2005,
          2006,
          2007,
          2008,
          2009,
          2010,
          2011,
          2012,
          2013,
          2014
         ],
         "xaxis": "x",
         "y": [
          5.944477972,
          5.952720023,
          5.940860215,
          5.95026643,
          5.951383068,
          5.944846293,
          5.941967143,
          5.95106233,
          5.94943927,
          5.938284894,
          5.952582557,
          12.97850236,
          -4.201740115,
          -4.171896921,
          1.556480197,
          -8.528072838,
          -10.87425348,
          -0.43741275,
          -0.514114788,
          10.55153622,
          1.784803672,
          -12.40814963,
          4.232602479,
          -2.231571246,
          -0.477081384,
          -6.438575054,
          3.616636528,
          -2.840798914,
          -6.216944417,
          -12.33241115,
          7.949993931,
          10.17539915,
          1.959383611,
          -13.92253028,
          -4.953488372,
          -5.578664057,
          9.70458668,
          2.846344632,
          14.21681213,
          -6.374422378,
          7.388316151,
          0.11,
          -0.549395665,
          -7.533145842,
          -2.639582881,
          15.36315966,
          9.448742747,
          1.307767076,
          8.87047536,
          1.185707419,
          -11.7418844,
          1.291827398,
          6.24391108,
          11.40380127,
          -1.137384017,
          -16.00060551,
          19.326921,
          35.4800225,
          18.04671609,
          12.1743099,
          20.60262757,
          -28.50213688,
          -11.8067676,
          -10.90447887,
          7.201266764,
          5.682103785,
          -11.35479535,
          -8.356955722,
          4.5057024,
          -3.339660342,
          -6.922294859,
          -5.020231154,
          -10.84823995,
          -9.7931274,
          23.96925479,
          5.648570427,
          -7.249727068,
          -1.022813275,
          11.43314281,
          -1.435148115,
          10.38362042,
          24.18818835,
          40.76638415,
          17.48643148,
          11.37938502,
          0,
          2.119179547,
          -3.112803427,
          0.713958211,
          0,
          8.510015609,
          7.599868141,
          -10.25483916,
          -0.952735624,
          -2.885699962,
          0,
          3.961929343,
          3.249231915,
          -1.340547039,
          0.694613697,
          0.726128525,
          1.17746005,
          -4.203776274,
          2.060865254,
          7.824338769,
          13.12090131,
          6.693697414,
          0.119617553,
          0.455818017,
          3.676736584,
          3.36871659,
          2.942979233,
          2.424102664,
          5.740312478,
          10.64040499,
          9.899265451,
          10.29192345,
          11.61462645,
          11.27087249,
          9.90279235,
          20.5,
          10.4,
          14.9,
          15.982,
          17.06,
          12.108,
          23.9,
          25.185,
          15.185,
          20.129,
          21.219,
          14.737,
          21.142,
          11.042,
          9.046,
          9.361,
          7.095,
          6.167,
          5.041,
          3.745,
          2.849,
          2.431,
          3.21,
          0,
          8.106,
          8.826,
          4.202,
          10.959,
          11.698,
          16.24,
          11.69,
          11.09,
          8.65,
          6.914,
          10.099
         ],
         "yaxis": "y"
        },
        {
         "hovertemplate": "country=Kenya<br>year=%{x}<br>inflation_annual_cpi=%{y}<extra></extra>",
         "legendgroup": "Kenya",
         "line": {
          "color": "#19d3f3",
          "dash": "solid"
         },
         "marker": {
          "symbol": "circle"
         },
         "mode": "lines+markers",
         "name": "Kenya",
         "showlegend": true,
         "type": "scattergl",
         "visible": false,
         "x": [
          1948,
          1949,
          1950,
          1951,
          1952,
          1953,
          1954,
          1955,
          1956,
          1957,
          1958,
          1959,
          1960,
          1961,
          1962,
          1963,
          1964,
          1965,
          1966,
          1967,
          1968,
          1969,
          1970,
          1971,
          1972,
          1973,
          1974,
          1975,
          1976,
          1977,
          1978,
          1979,
          1980,
          1981,
          1982,
          1983,
          1984,
          1985,
          1986,
          1987,
          1988,
          1989,
          1990,
          1991,
          1992,
          1993,
          1994,
          1995,
          1996,
          1997,
          1998,
          1999,
          2000,
          2001,
          2002,
          2003,
          2004,
          2005,
          2006,
          2007,
          2008,
          2009,
          2010,
          2011,
          2012,
          2013,
          2014
         ],
         "xaxis": "x",
         "y": [
          9.339830607,
          3.522920204,
          8.553710537,
          10.87767339,
          6.450926123,
          3.032,
          4.410280301,
          6.369450435,
          1.786276086,
          2.630675184,
          0,
          0.856645697,
          0.846051758,
          2.520151341,
          2.740605244,
          0,
          -0.285715557,
          5.762329909,
          3.761913134,
          0.537398087,
          0.661865236,
          -0.131090559,
          1.832593812,
          5.614773537,
          4.52521913,
          12.66289775,
          16.41376144,
          19.7347384,
          9.527607326,
          18.01088176,
          15.35621451,
          8.080283232,
          13.866,
          7.895,
          13.821,
          11.603,
          20.667,
          11.398,
          10.284,
          13.007,
          4.804,
          7.617,
          11.2,
          19.104,
          27.332,
          45.979,
          28.814,
          1.554,
          8.862,
          11.924,
          6.716,
          5.753,
          9.955,
          5.824,
          2.156,
          5.983,
          8.381,
          7.823,
          6.041,
          4.265,
          15.101,
          10.552,
          4.309,
          14.022,
          9.378,
          5.717,
          6.878
         ],
         "yaxis": "y"
        },
        {
         "hovertemplate": "country=Mauritius<br>year=%{x}<br>inflation_annual_cpi=%{y}<extra></extra>",
         "legendgroup": "Mauritius",
         "line": {
          "color": "#FF6692",
          "dash": "solid"
         },
         "marker": {
          "symbol": "circle"
         },
         "mode": "lines+markers",
         "name": "Mauritius",
         "showlegend": true,
         "type": "scattergl",
         "visible": false,
         "x": [
          1947,
          1948,
          1949,
          1950,
          1951,
          1952,
          1953,
          1954,
          1955,
          1956,
          1957,
          1958,
          1959,
          1960,
          1961,
          1962,
          1963,
          1964,
          1965,
          1966,
          1967,
          1968,
          1969,
          1970,
          1971,
          1972,
          1973,
          1974,
          1975,
          1976,
          1977,
          1978,
          1979,
          1980,
          1981,
          1982,
          1983,
          1984,
          1985,
          1986,
          1987,
          1988,
          1989,
          1990,
          1991,
          1992,
          1993,
          1994,
          1995,
          1996,
          1997,
          1998,
          1999,
          2000,
          2001,
          2002,
          2003,
          2004,
          2005,
          2006,
          2007,
          2008,
          2009,
          2010,
          2011,
          2012,
          2013,
          2014
         ],
         "xaxis": "x",
         "y": [
          -9.090909091,
          31.99785465,
          1.023932388,
          4.904878735,
          11.15115499,
          1.941981994,
          -0.634431887,
          0.956872627,
          -0.315372291,
          2.857481221,
          -0.926032535,
          0.622571969,
          -0.618719992,
          1.8693761,
          -0.612777053,
          0.798570117,
          1.753672463,
          1.8269885,
          1.893322561,
          2.982014118,
          2.937830401,
          5.329676052,
          2.978677387,
          0.011228728,
          1.886196037,
          5.551930333,
          20.82296472,
          23.79801683,
          15.20534955,
          10.75945144,
          9.794534493,
          9.063188827,
          23.21616753,
          33.04,
          26.45,
          13.384,
          7.452,
          5.525,
          8.321,
          4.336,
          0.719,
          3.6,
          13.61,
          10.705,
          12.817,
          2.857,
          15.288,
          7.335,
          6.026,
          6.553,
          6.831,
          6.808,
          6.872,
          4.23,
          5.391,
          6.414,
          3.931,
          4.703,
          4.921,
          8.93,
          8.827,
          9.731,
          2.516,
          2.929,
          6.526,
          4.902,
          4.131,
          3.772
         ],
         "yaxis": "y"
        },
        {
         "hovertemplate": "country=Morocco<br>year=%{x}<br>inflation_annual_cpi=%{y}<extra></extra>",
         "legendgroup": "Morocco",
         "line": {
          "color": "#B6E880",
          "dash": "solid"
         },
         "marker": {
          "symbol": "circle"
         },
         "mode": "lines+markers",
         "name": "Morocco",
         "showlegend": true,
         "type": "scattergl",
         "visible": false,
         "x": [
          1940,
          1941,
          1942,
          1943,
          1944,
          1945,
          1946,
          1947,
          1948,
          1949,
          1950,
          1951,
          1952,
          1953,
          1954,
          1955,
          1956,
          1957,
          1958,
          1959,
          1960,
          1961,
          1962,
          1963,
          1964,
          1965,
          1966,
          1967,
          1968,
          1969,
          1970,
          1971,
          1972,
          1973,
          1974,
          1975,
          1976,
          1977,
          1978,
          1979,
          1980,
          1981,
          1982,
          1983,
          1984,
          1985,
          1986,
          1987,
          1988,
          1989,
          1990,
          1991,
          1992,
          1993,
          1994,
          1995,
          1996,
          1997,
          1998,
          1999,
          2000,
          2001,
          2002,
          2003,
          2004,
          2005,
          2006,
          2007,
          2008,
          2009,
          2010,
          2011,
          2012,
          2013,
          2014
         ],
         "xaxis": "x",
         "y": [
          25,
          32,
          38.1935295,
          28.50635593,
          34.8116396,
          18.98618075,
          56.75522894,
          57.47303544,
          40.14656285,
          22.99979203,
          1.625584232,
          23.2010648,
          5.194366741,
          -1.234239604,
          2.49932689,
          5.86226574,
          5.714750199,
          2.317242942,
          4.383973421,
          -2.171161818,
          2.219347442,
          2.27574134,
          5.408269117,
          5.738828475,
          4.233330742,
          2.481368989,
          -0.234959675,
          -1.126519599,
          1.138535071,
          1.691647635,
          1.915840245,
          4.397441072,
          3.211368966,
          7.193348119,
          15.97890765,
          7.00696628,
          10.97328486,
          10.81415052,
          9.720054887,
          8.651393052,
          9.408,
          12.493,
          10.528,
          6.208,
          12.448,
          7.729,
          8.734,
          2.699,
          2.369,
          3.138,
          6.026,
          8.991,
          5.74,
          5.183,
          5.142,
          6.124,
          2.987,
          1.041,
          2.745,
          0.69,
          1.923,
          0.613,
          2.779,
          1.163,
          1.493,
          0.983,
          3.285,
          2.036,
          3.891,
          0.972,
          0.994,
          0.907,
          1.287,
          1.881,
          0.443
         ],
         "yaxis": "y"
        },
        {
         "hovertemplate": "country=Nigeria<br>year=%{x}<br>inflation_annual_cpi=%{y}<extra></extra>",
         "legendgroup": "Nigeria",
         "line": {
          "color": "#FF97FF",
          "dash": "solid"
         },
         "marker": {
          "symbol": "circle"
         },
         "mode": "lines+markers",
         "name": "Nigeria",
         "showlegend": true,
         "type": "scattergl",
         "visible": true,
         "x": [
          1954,
          1955,
          1956,
          1957,
          1958,
          1959,
          1960,
          1961,
          1962,
          1963,
          1964,
          1965,
          1966,
          1967,
          1968,
          1969,
          1970,
          1971,
          1972,
          1973,
          1974,
          1975,
          1976,
          1977,
          1978,
          1979,
          1980,
          1981,
          1982,
          1983,
          1984,
          1985,
          1986,
          1987,
          1988,
          1989,
          1990,
          1992,
          1993,
          1994,
          1995,
          1996,
          1997,
          1998,
          1999,
          2000,
          2001,
          2002,
          2003,
          2004,
          2005,
          2006,
          2007,
          2008,
          2009,
          2010,
          2011,
          2012,
          2013,
          2014
         ],
         "xaxis": "x",
         "y": [
          3.10291645,
          6.173562277,
          6.862909067,
          1.546396847,
          -3.399990138,
          4.707596881,
          4.325727898,
          6.217386806,
          2.911602856,
          -1.028492383,
          0.938030761,
          4.601492449,
          8.140460297,
          -4.55304656,
          2.733415482,
          11.00320434,
          13.41347233,
          15.47842436,
          -0.008248214,
          11.67346946,
          11.25943742,
          38.50391131,
          18.33643443,
          22.3551061,
          15.78133117,
          10.06822352,
          9.97,
          20.555,
          5.882,
          22.222,
          40.909,
          3.226,
          6.25,
          11.765,
          34.211,
          49.02,
          7.895,
          44.565,
          57.143,
          57.416,
          72.729,
          29.292,
          10.673,
          7.862,
          6.618,
          6.938,
          18.869,
          12.883,
          14.033,
          15.001,
          17.856,
          8.218,
          5.413,
          11.581,
          12.543,
          13.72,
          10.841,
          12.225,
          8.495,
          8.048
         ],
         "yaxis": "y"
        },
        {
         "hovertemplate": "country=South Africa<br>year=%{x}<br>inflation_annual_cpi=%{y}<extra></extra>",
         "legendgroup": "South Africa",
         "line": {
          "color": "#FECB52",
          "dash": "solid"
         },
         "marker": {
          "symbol": "circle"
         },
         "mode": "lines+markers",
         "name": "South Africa",
         "showlegend": true,
         "type": "scattergl",
         "visible": false,
         "x": [
          1900,
          1901,
          1902,
          1903,
          1904,
          1905,
          1906,
          1907,
          1908,
          1909,
          1910,
          1911,
          1912,
          1913,
          1914,
          1915,
          1916,
          1917,
          1918,
          1919,
          1920,
          1921,
          1922,
          1923,
          1924,
          1925,
          1926,
          1927,
          1928,
          1929,
          1930,
          1931,
          1932,
          1933,
          1934,
          1935,
          1936,
          1937,
          1938,
          1939,
          1940,
          1941,
          1942,
          1943,
          1944,
          1945,
          1946,
          1947,
          1948,
          1949,
          1950,
          1951,
          1952,
          1953,
          1954,
          1955,
          1956,
          1957,
          1958,
          1959,
          1960,
          1961,
          1962,
          1963,
          1964,
          1965,
          1966,
          1967,
          1968,
          1969,
          1970,
          1971,
          1972,
          1973,
          1974,
          1975,
          1976,
          1977,
          1978,
          1979,
          1980,
          1981,
          1982,
          1983,
          1984,
          1985,
          1986,
          1987,
          1988,
          1989,
          1990,
          1991,
          1992,
          1993,
          1994,
          1995,
          1996,
          1997,
          1998,
          1999,
          2000,
          2001,
          2002,
          2003,
          2004,
          2005,
          2006,
          2007,
          2008,
          2009,
          2010,
          2011,
          2012,
          2013
         ],
         "xaxis": "x",
         "y": [
          4.109589041,
          9.204368175,
          2.414285714,
          -8.236853118,
          -5.130348864,
          -6.753725365,
          -7.251482086,
          -1.556276054,
          -1.590288887,
          4.838401224,
          15.38672018,
          3.999683819,
          2.561374173,
          1.252408478,
          1.236917222,
          4.87275882,
          5.81828209,
          9.889250814,
          7.001422812,
          0.93079949,
          35.18691332,
          -18.07365899,
          -3.95519429,
          0.758592218,
          0,
          -1.505761844,
          -1.523581717,
          2.323371,
          -0.758592218,
          -1.523581717,
          -2.328651389,
          -3.968211061,
          -5.432640883,
          2.39909513,
          -1.453403872,
          -0.44835113,
          0.906666667,
          5.63777308,
          -0.32243718,
          0.858895706,
          3.926122539,
          6.02851974,
          8.671651528,
          4.964211498,
          3.884733832,
          0.762291958,
          6.060606061,
          4.287695661,
          6.847285025,
          2.564102564,
          6.875866852,
          7.653375726,
          6.609004882,
          0.777385159,
          3.8457223,
          1.699035682,
          1.888446215,
          3.263731394,
          3.160578598,
          0.785513275,
          1.583062206,
          2.079449304,
          1.325278636,
          1.005222535,
          4.141937863,
          3.489437844,
          3.638360819,
          2.151507653,
          3.045535464,
          3.812391596,
          4.882526907,
          6.705448811,
          8.431511329,
          10.76861601,
          13.81223876,
          11.25107466,
          11.31771632,
          10.21066965,
          12.23442663,
          13.89287442,
          14.236,
          15.741,
          14.4,
          12.587,
          11.18,
          16.201,
          18.75,
          16.194,
          12.892,
          14.506,
          14.286,
          15.566,
          13.673,
          9.874,
          8.824,
          8.709,
          7.32,
          8.623,
          6.872,
          5.211,
          5.374,
          5.7,
          9.177,
          5.806,
          1.392,
          3.393,
          4.688,
          7.09,
          11.536,
          7.13,
          4.257,
          5,
          5.654,
          5.752
         ],
         "yaxis": "y"
        },
        {
         "hovertemplate": "country=Tunisia<br>year=%{x}<br>inflation_annual_cpi=%{y}<extra></extra>",
         "legendgroup": "Tunisia",
         "line": {
          "color": "#636efa",
          "dash": "solid"
         },
         "marker": {
          "symbol": "circle"
         },
         "mode": "lines+markers",
         "name": "Tunisia",
         "showlegend": true,
         "type": "scattergl",
         "visible": false,
         "x": [
          1940,
          1941,
          1942,
          1943,
          1944,
          1945,
          1946,
          1947,
          1948,
          1949,
          1950,
          1951,
          1952,
          1953,
          1954,
          1955,
          1956,
          1957,
          1958,
          1959,
          1960,
          1961,
          1962,
          1963,
          1964,
          1965,
          1966,
          1967,
          1968,
          1969,
          1970,
          1971,
          1972,
          1973,
          1974,
          1975,
          1976,
          1977,
          1978,
          1979,
          1980,
          1981,
          1982,
          1983,
          1984,
          1985,
          1986,
          1987,
          1988,
          1989,
          1990,
          1991,
          1992,
          1993,
          1994,
          1995,
          1996,
          1997,
          1998,
          1999,
          2000,
          2001,
          2002,
          2003,
          2004,
          2005,
          2006,
          2007,
          2008,
          2009,
          2010,
          2011,
          2012,
          2013,
          2014
         ],
         "xaxis": "x",
         "y": [
          22.01300157,
          24.58203197,
          24.99631323,
          72.10948561,
          37.61310666,
          13.77833126,
          49.61253886,
          67.09975712,
          69.14172635,
          4.156960191,
          3.502982107,
          15.03591871,
          7.006177993,
          -0.595293824,
          4.192011553,
          0,
          4.807532957,
          5.504844321,
          5.216941093,
          -8.264216667,
          1.801884462,
          -1.769991264,
          5.78395737,
          0.970776621,
          5.939573494,
          5.549985502,
          4.536102074,
          2.843700217,
          2.498763969,
          2.804694188,
          1.562639485,
          4.253194018,
          2.715966924,
          5.784875818,
          4.685641394,
          10.05684308,
          3.293128476,
          8.19487405,
          4.63026082,
          8.557119849,
          10.011,
          8.903,
          13.673,
          8.972,
          8.596,
          7.551,
          6.159,
          8.224,
          7.156,
          7.722,
          6.502,
          7.693,
          5.518,
          4.04,
          5.423,
          6.232,
          3.733,
          3.599,
          3.102,
          2.768,
          2.77,
          1.987,
          2.706,
          2.724,
          3.621,
          1.444,
          4.143,
          3.438,
          4.913,
          3.53,
          4.409,
          3.541,
          5.139,
          5.805,
          4.924
         ],
         "yaxis": "y"
        },
        {
         "hovertemplate": "country=Zambia<br>year=%{x}<br>inflation_annual_cpi=%{y}<extra></extra>",
         "legendgroup": "Zambia",
         "line": {
          "color": "#EF553B",
          "dash": "solid"
         },
         "marker": {
          "symbol": "circle"
         },
         "mode": "lines+markers",
         "name": "Zambia",
         "showlegend": true,
         "type": "scattergl",
         "visible": false,
         "x": [
          1943,
          1944,
          1945,
          1946,
          1947,
          1948,
          1949,
          1950,
          1951,
          1952,
          1953,
          1954,
          1955,
          1956,
          1957,
          1958,
          1959,
          1960,
          1961,
          1962,
          1963,
          1964,
          1965,
          1966,
          1967,
          1968,
          1969,
          1970,
          1971,
          1972,
          1973,
          1974,
          1975,
          1976,
          1977,
          1978,
          1979,
          1980,
          1981,
          1982,
          1983,
          1984,
          1985,
          1986,
          1987,
          1988,
          1989,
          1990,
          1991,
          1992,
          1993,
          1994,
          1995,
          1996,
          1997,
          1998,
          1999,
          2000,
          2001,
          2002,
          2003,
          2004,
          2005,
          2006,
          2007,
          2008,
          2009,
          2010,
          2011,
          2012,
          2013,
          2014
         ],
         "xaxis": "x",
         "y": [
          2.857142857,
          2.777777778,
          2.702702703,
          7.894736842,
          2.43902439,
          4.761904762,
          2.272727273,
          4.444444444,
          6.382978723,
          4,
          3.846153846,
          3.703703704,
          3.571428571,
          3.103448276,
          3.177257525,
          1.13452188,
          2.083333333,
          3.453689168,
          0.151745068,
          1.363636364,
          -0.448430493,
          3.003003003,
          8.163265306,
          10.2425876,
          5.012224939,
          10.71012806,
          2.523659306,
          2.564102564,
          6.52173913,
          4.761904762,
          6.493506494,
          7.926829268,
          10.16949153,
          18.97435897,
          19.82758621,
          16.18705036,
          9.59752322,
          11.729,
          13.997,
          12.495,
          19.692,
          20.019,
          37.43,
          54.8,
          47.028,
          54.042,
          128.294,
          109.558,
          97.701,
          165.725,
          183.263,
          54.614,
          34.905,
          43.095,
          24.41,
          24.456,
          26.79,
          26.1,
          21.357,
          22.239,
          21.4,
          17.969,
          18.325,
          9.017,
          10.655,
          12.449,
          13.392,
          8.5,
          8.658,
          6.575,
          6.978,
          7.811
         ],
         "yaxis": "y"
        },
        {
         "hovertemplate": "country=Zimbabwe<br>year=%{x}<br>inflation_annual_cpi=%{y}<extra></extra>",
         "legendgroup": "Zimbabwe",
         "line": {
          "color": "#00cc96",
          "dash": "solid"
         },
         "marker": {
          "symbol": "circle"
         },
         "mode": "lines+markers",
         "name": "Zimbabwe",
         "showlegend": true,
         "type": "scattergl",
         "visible": false,
         "x": [
          1921,
          1922,
          1923,
          1927,
          1928,
          1929,
          1930,
          1931,
          1932,
          1933,
          1934,
          1935,
          1936,
          1937,
          1938,
          1939,
          1940,
          1941,
          1942,
          1943,
          1944,
          1945,
          1946,
          1947,
          1948,
          1949,
          1950,
          1951,
          1952,
          1953,
          1954,
          1955,
          1956,
          1957,
          1958,
          1959,
          1960,
          1961,
          1962,
          1963,
          1964,
          1965,
          1966,
          1967,
          1968,
          1969,
          1970,
          1971,
          1972,
          1973,
          1974,
          1975,
          1976,
          1977,
          1978,
          1979,
          1980,
          1981,
          1982,
          1983,
          1984,
          1985,
          1986,
          1987,
          1988,
          1989,
          1990,
          1991,
          1992,
          1993,
          1994,
          1995,
          1996,
          1997,
          1998,
          1999,
          2000,
          2001,
          2002,
          2003,
          2004,
          2005,
          2006,
          2007,
          2008,
          2009,
          2010,
          2011,
          2012,
          2013
         ],
         "xaxis": "x",
         "y": [
          -17.24137931,
          -13.88888889,
          -4.032258065,
          0.847457627,
          0.840336134,
          0,
          -5,
          -7.01754386,
          -3.773584906,
          -2.941176471,
          -1.01010101,
          0,
          -1.020408163,
          6.18556701,
          -2.912621359,
          0.906344411,
          2.994011976,
          3.779069767,
          5.602240896,
          6.100795756,
          3,
          2.669902913,
          5.200945626,
          2.921348315,
          9.388646288,
          3.79241517,
          7.692307692,
          6.964285714,
          8.180300501,
          2.777777778,
          0,
          1.651651652,
          4.431314623,
          2.97029703,
          3.571428571,
          2.652519894,
          2.454780362,
          2.90037831,
          2.083333333,
          1.080432173,
          2.500022554,
          2.500003432,
          3.121953195,
          2.365179967,
          1.38631904,
          0.364644862,
          2.088991186,
          3.024884047,
          2.84975748,
          3.106641376,
          6.596092646,
          10.00764002,
          11.0416805,
          10.25640067,
          8.229915112,
          12.55279758,
          7.2,
          13.2,
          10.4,
          23.2,
          20.3,
          8.3,
          14.5,
          12.5,
          7.4,
          12.8,
          17.4,
          24,
          41.6,
          28.2,
          21.11354311,
          25.80873955,
          16.40028408,
          20.0650384,
          46.61127497,
          56.92320336,
          55.20369616,
          112.1184112,
          198.928606,
          598.7447505,
          132.7467739,
          585.8443656,
          1281.113605,
          66279.89237,
          21989695.22,
          -7.67,
          3.217,
          4.92,
          3.72,
          1.632
         ],
         "yaxis": "y"
        }
       ],
       "layout": {
        "height": 600,
        "legend": {
         "title": {
          "text": "Country"
         },
         "tracegroupgap": 0
        },
        "template": {
         "data": {
          "bar": [
           {
            "error_x": {
             "color": "#f2f5fa"
            },
            "error_y": {
             "color": "#f2f5fa"
            },
            "marker": {
             "line": {
              "color": "rgb(17,17,17)",
              "width": 0.5
             },
             "pattern": {
              "fillmode": "overlay",
              "size": 10,
              "solidity": 0.2
             }
            },
            "type": "bar"
           }
          ],
          "barpolar": [
           {
            "marker": {
             "line": {
              "color": "rgb(17,17,17)",
              "width": 0.5
             },
             "pattern": {
              "fillmode": "overlay",
              "size": 10,
              "solidity": 0.2
             }
            },
            "type": "barpolar"
           }
          ],
          "carpet": [
           {
            "aaxis": {
             "endlinecolor": "#A2B1C6",
             "gridcolor": "#506784",
             "linecolor": "#506784",
             "minorgridcolor": "#506784",
             "startlinecolor": "#A2B1C6"
            },
            "baxis": {
             "endlinecolor": "#A2B1C6",
             "gridcolor": "#506784",
             "linecolor": "#506784",
             "minorgridcolor": "#506784",
             "startlinecolor": "#A2B1C6"
            },
            "type": "carpet"
           }
          ],
          "choropleth": [
           {
            "colorbar": {
             "outlinewidth": 0,
             "ticks": ""
            },
            "type": "choropleth"
           }
          ],
          "contour": [
           {
            "colorbar": {
             "outlinewidth": 0,
             "ticks": ""
            },
            "colorscale": [
             [
              0,
              "#0d0887"
             ],
             [
              0.1111111111111111,
              "#46039f"
             ],
             [
              0.2222222222222222,
              "#7201a8"
             ],
             [
              0.3333333333333333,
              "#9c179e"
             ],
             [
              0.4444444444444444,
              "#bd3786"
             ],
             [
              0.5555555555555556,
              "#d8576b"
             ],
             [
              0.6666666666666666,
              "#ed7953"
             ],
             [
              0.7777777777777778,
              "#fb9f3a"
             ],
             [
              0.8888888888888888,
              "#fdca26"
             ],
             [
              1,
              "#f0f921"
             ]
            ],
            "type": "contour"
           }
          ],
          "contourcarpet": [
           {
            "colorbar": {
             "outlinewidth": 0,
             "ticks": ""
            },
            "type": "contourcarpet"
           }
          ],
          "heatmap": [
           {
            "colorbar": {
             "outlinewidth": 0,
             "ticks": ""
            },
            "colorscale": [
             [
              0,
              "#0d0887"
             ],
             [
              0.1111111111111111,
              "#46039f"
             ],
             [
              0.2222222222222222,
              "#7201a8"
             ],
             [
              0.3333333333333333,
              "#9c179e"
             ],
             [
              0.4444444444444444,
              "#bd3786"
             ],
             [
              0.5555555555555556,
              "#d8576b"
             ],
             [
              0.6666666666666666,
              "#ed7953"
             ],
             [
              0.7777777777777778,
              "#fb9f3a"
             ],
             [
              0.8888888888888888,
              "#fdca26"
             ],
             [
              1,
              "#f0f921"
             ]
            ],
            "type": "heatmap"
           }
          ],
          "heatmapgl": [
           {
            "colorbar": {
             "outlinewidth": 0,
             "ticks": ""
            },
            "colorscale": [
             [
              0,
              "#0d0887"
             ],
             [
              0.1111111111111111,
              "#46039f"
             ],
             [
              0.2222222222222222,
              "#7201a8"
             ],
             [
              0.3333333333333333,
              "#9c179e"
             ],
             [
              0.4444444444444444,
              "#bd3786"
             ],
             [
              0.5555555555555556,
              "#d8576b"
             ],
             [
              0.6666666666666666,
              "#ed7953"
             ],
             [
              0.7777777777777778,
              "#fb9f3a"
             ],
             [
              0.8888888888888888,
              "#fdca26"
             ],
             [
              1,
              "#f0f921"
             ]
            ],
            "type": "heatmapgl"
           }
          ],
          "histogram": [
           {
            "marker": {
             "pattern": {
              "fillmode": "overlay",
              "size": 10,
              "solidity": 0.2
             }
            },
            "type": "histogram"
           }
          ],
          "histogram2d": [
           {
            "colorbar": {
             "outlinewidth": 0,
             "ticks": ""
            },
            "colorscale": [
             [
              0,
              "#0d0887"
             ],
             [
              0.1111111111111111,
              "#46039f"
             ],
             [
              0.2222222222222222,
              "#7201a8"
             ],
             [
              0.3333333333333333,
              "#9c179e"
             ],
             [
              0.4444444444444444,
              "#bd3786"
             ],
             [
              0.5555555555555556,
              "#d8576b"
             ],
             [
              0.6666666666666666,
              "#ed7953"
             ],
             [
              0.7777777777777778,
              "#fb9f3a"
             ],
             [
              0.8888888888888888,
              "#fdca26"
             ],
             [
              1,
              "#f0f921"
             ]
            ],
            "type": "histogram2d"
           }
          ],
          "histogram2dcontour": [
           {
            "colorbar": {
             "outlinewidth": 0,
             "ticks": ""
            },
            "colorscale": [
             [
              0,
              "#0d0887"
             ],
             [
              0.1111111111111111,
              "#46039f"
             ],
             [
              0.2222222222222222,
              "#7201a8"
             ],
             [
              0.3333333333333333,
              "#9c179e"
             ],
             [
              0.4444444444444444,
              "#bd3786"
             ],
             [
              0.5555555555555556,
              "#d8576b"
             ],
             [
              0.6666666666666666,
              "#ed7953"
             ],
             [
              0.7777777777777778,
              "#fb9f3a"
             ],
             [
              0.8888888888888888,
              "#fdca26"
             ],
             [
              1,
              "#f0f921"
             ]
            ],
            "type": "histogram2dcontour"
           }
          ],
          "mesh3d": [
           {
            "colorbar": {
             "outlinewidth": 0,
             "ticks": ""
            },
            "type": "mesh3d"
           }
          ],
          "parcoords": [
           {
            "line": {
             "colorbar": {
              "outlinewidth": 0,
              "ticks": ""
             }
            },
            "type": "parcoords"
           }
          ],
          "pie": [
           {
            "automargin": true,
            "type": "pie"
           }
          ],
          "scatter": [
           {
            "marker": {
             "line": {
              "color": "#283442"
             }
            },
            "type": "scatter"
           }
          ],
          "scatter3d": [
           {
            "line": {
             "colorbar": {
              "outlinewidth": 0,
              "ticks": ""
             }
            },
            "marker": {
             "colorbar": {
              "outlinewidth": 0,
              "ticks": ""
             }
            },
            "type": "scatter3d"
           }
          ],
          "scattercarpet": [
           {
            "marker": {
             "colorbar": {
              "outlinewidth": 0,
              "ticks": ""
             }
            },
            "type": "scattercarpet"
           }
          ],
          "scattergeo": [
           {
            "marker": {
             "colorbar": {
              "outlinewidth": 0,
              "ticks": ""
             }
            },
            "type": "scattergeo"
           }
          ],
          "scattergl": [
           {
            "marker": {
             "line": {
              "color": "#283442"
             }
            },
            "type": "scattergl"
           }
          ],
          "scattermapbox": [
           {
            "marker": {
             "colorbar": {
              "outlinewidth": 0,
              "ticks": ""
             }
            },
            "type": "scattermapbox"
           }
          ],
          "scatterpolar": [
           {
            "marker": {
             "colorbar": {
              "outlinewidth": 0,
              "ticks": ""
             }
            },
            "type": "scatterpolar"
           }
          ],
          "scatterpolargl": [
           {
            "marker": {
             "colorbar": {
              "outlinewidth": 0,
              "ticks": ""
             }
            },
            "type": "scatterpolargl"
           }
          ],
          "scatterternary": [
           {
            "marker": {
             "colorbar": {
              "outlinewidth": 0,
              "ticks": ""
             }
            },
            "type": "scatterternary"
           }
          ],
          "surface": [
           {
            "colorbar": {
             "outlinewidth": 0,
             "ticks": ""
            },
            "colorscale": [
             [
              0,
              "#0d0887"
             ],
             [
              0.1111111111111111,
              "#46039f"
             ],
             [
              0.2222222222222222,
              "#7201a8"
             ],
             [
              0.3333333333333333,
              "#9c179e"
             ],
             [
              0.4444444444444444,
              "#bd3786"
             ],
             [
              0.5555555555555556,
              "#d8576b"
             ],
             [
              0.6666666666666666,
              "#ed7953"
             ],
             [
              0.7777777777777778,
              "#fb9f3a"
             ],
             [
              0.8888888888888888,
              "#fdca26"
             ],
             [
              1,
              "#f0f921"
             ]
            ],
            "type": "surface"
           }
          ],
          "table": [
           {
            "cells": {
             "fill": {
              "color": "#506784"
             },
             "line": {
              "color": "rgb(17,17,17)"
             }
            },
            "header": {
             "fill": {
              "color": "#2a3f5f"
             },
             "line": {
              "color": "rgb(17,17,17)"
             }
            },
            "type": "table"
           }
          ]
         },
         "layout": {
          "annotationdefaults": {
           "arrowcolor": "#f2f5fa",
           "arrowhead": 0,
           "arrowwidth": 1
          },
          "autotypenumbers": "strict",
          "coloraxis": {
           "colorbar": {
            "outlinewidth": 0,
            "ticks": ""
           }
          },
          "colorscale": {
           "diverging": [
            [
             0,
             "#8e0152"
            ],
            [
             0.1,
             "#c51b7d"
            ],
            [
             0.2,
             "#de77ae"
            ],
            [
             0.3,
             "#f1b6da"
            ],
            [
             0.4,
             "#fde0ef"
            ],
            [
             0.5,
             "#f7f7f7"
            ],
            [
             0.6,
             "#e6f5d0"
            ],
            [
             0.7,
             "#b8e186"
            ],
            [
             0.8,
             "#7fbc41"
            ],
            [
             0.9,
             "#4d9221"
            ],
            [
             1,
             "#276419"
            ]
           ],
           "sequential": [
            [
             0,
             "#0d0887"
            ],
            [
             0.1111111111111111,
             "#46039f"
            ],
            [
             0.2222222222222222,
             "#7201a8"
            ],
            [
             0.3333333333333333,
             "#9c179e"
            ],
            [
             0.4444444444444444,
             "#bd3786"
            ],
            [
             0.5555555555555556,
             "#d8576b"
            ],
            [
             0.6666666666666666,
             "#ed7953"
            ],
            [
             0.7777777777777778,
             "#fb9f3a"
            ],
            [
             0.8888888888888888,
             "#fdca26"
            ],
            [
             1,
             "#f0f921"
            ]
           ],
           "sequentialminus": [
            [
             0,
             "#0d0887"
            ],
            [
             0.1111111111111111,
             "#46039f"
            ],
            [
             0.2222222222222222,
             "#7201a8"
            ],
            [
             0.3333333333333333,
             "#9c179e"
            ],
            [
             0.4444444444444444,
             "#bd3786"
            ],
            [
             0.5555555555555556,
             "#d8576b"
            ],
            [
             0.6666666666666666,
             "#ed7953"
            ],
            [
             0.7777777777777778,
             "#fb9f3a"
            ],
            [
             0.8888888888888888,
             "#fdca26"
            ],
            [
             1,
             "#f0f921"
            ]
           ]
          },
          "colorway": [
           "#636efa",
           "#EF553B",
           "#00cc96",
           "#ab63fa",
           "#FFA15A",
           "#19d3f3",
           "#FF6692",
           "#B6E880",
           "#FF97FF",
           "#FECB52"
          ],
          "font": {
           "color": "#f2f5fa"
          },
          "geo": {
           "bgcolor": "rgb(17,17,17)",
           "lakecolor": "rgb(17,17,17)",
           "landcolor": "rgb(17,17,17)",
           "showlakes": true,
           "showland": true,
           "subunitcolor": "#506784"
          },
          "hoverlabel": {
           "align": "left"
          },
          "hovermode": "closest",
          "mapbox": {
           "style": "dark"
          },
          "paper_bgcolor": "rgb(17,17,17)",
          "plot_bgcolor": "rgb(17,17,17)",
          "polar": {
           "angularaxis": {
            "gridcolor": "#506784",
            "linecolor": "#506784",
            "ticks": ""
           },
           "bgcolor": "rgb(17,17,17)",
           "radialaxis": {
            "gridcolor": "#506784",
            "linecolor": "#506784",
            "ticks": ""
           }
          },
          "scene": {
           "xaxis": {
            "backgroundcolor": "rgb(17,17,17)",
            "gridcolor": "#506784",
            "gridwidth": 2,
            "linecolor": "#506784",
            "showbackground": true,
            "ticks": "",
            "zerolinecolor": "#C8D4E3"
           },
           "yaxis": {
            "backgroundcolor": "rgb(17,17,17)",
            "gridcolor": "#506784",
            "gridwidth": 2,
            "linecolor": "#506784",
            "showbackground": true,
            "ticks": "",
            "zerolinecolor": "#C8D4E3"
           },
           "zaxis": {
            "backgroundcolor": "rgb(17,17,17)",
            "gridcolor": "#506784",
            "gridwidth": 2,
            "linecolor": "#506784",
            "showbackground": true,
            "ticks": "",
            "zerolinecolor": "#C8D4E3"
           }
          },
          "shapedefaults": {
           "line": {
            "color": "#f2f5fa"
           }
          },
          "sliderdefaults": {
           "bgcolor": "#C8D4E3",
           "bordercolor": "rgb(17,17,17)",
           "borderwidth": 1,
           "tickwidth": 0
          },
          "ternary": {
           "aaxis": {
            "gridcolor": "#506784",
            "linecolor": "#506784",
            "ticks": ""
           },
           "baxis": {
            "gridcolor": "#506784",
            "linecolor": "#506784",
            "ticks": ""
           },
           "bgcolor": "rgb(17,17,17)",
           "caxis": {
            "gridcolor": "#506784",
            "linecolor": "#506784",
            "ticks": ""
           }
          },
          "title": {
           "x": 0.05
          },
          "updatemenudefaults": {
           "bgcolor": "#506784",
           "borderwidth": 0
          },
          "xaxis": {
           "automargin": true,
           "gridcolor": "#283442",
           "linecolor": "#506784",
           "ticks": "",
           "title": {
            "standoff": 15
           },
           "zerolinecolor": "#283442",
           "zerolinewidth": 2
          },
          "yaxis": {
           "automargin": true,
           "gridcolor": "#283442",
           "linecolor": "#506784",
           "ticks": "",
           "title": {
            "standoff": 15
           },
           "zerolinecolor": "#283442",
           "zerolinewidth": 2
          }
         }
        },
        "title": {
         "text": "Annual Inflation (CPI) by Year for Nigeria"
        },
        "updatemenus": [
         {
          "active": 8,
          "buttons": [
           {
            "args": [
             {
              "visible": [
               true,
               false,
               false,
               false,
               false,
               false,
               false,
               false,
               false,
               false,
               false,
               false,
               false
              ]
             },
             {
              "title": "Annual Inflation (CPI) by Year for Algeria"
             }
            ],
            "label": "Algeria",
            "method": "update"
           },
           {
            "args": [
             {
              "visible": [
               false,
               true,
               false,
               false,
               false,
               false,
               false,
               false,
               false,
               false,
               false,
               false,
               false
              ]
             },
             {
              "title": "Annual Inflation (CPI) by Year for Angola"
             }
            ],
            "label": "Angola",
            "method": "update"
           },
           {
            "args": [
             {
              "visible": [
               false,
               false,
               true,
               false,
               false,
               false,
               false,
               false,
               false,
               false,
               false,
               false,
               false
              ]
             },
             {
              "title": "Annual Inflation (CPI) by Year for Central African Republic"
             }
            ],
            "label": "Central African Republic",
            "method": "update"
           },
           {
            "args": [
             {
              "visible": [
               false,
               false,
               false,
               true,
               false,
               false,
               false,
               false,
               false,
               false,
               false,
               false,
               false
              ]
             },
             {
              "title": "Annual Inflation (CPI) by Year for Ivory Coast"
             }
            ],
            "label": "Ivory Coast",
            "method": "update"
           },
           {
            "args": [
             {
              "visible": [
               false,
               false,
               false,
               false,
               true,
               false,
               false,
               false,
               false,
               false,
               false,
               false,
               false
              ]
             },
             {
              "title": "Annual Inflation (CPI) by Year for Egypt"
             }
            ],
            "label": "Egypt",
            "method": "update"
           },
           {
            "args": [
             {
              "visible": [
               false,
               false,
               false,
               false,
               false,
               true,
               false,
               false,
               false,
               false,
               false,
               false,
               false
              ]
             },
             {
              "title": "Annual Inflation (CPI) by Year for Kenya"
             }
            ],
            "label": "Kenya",
            "method": "update"
           },
           {
            "args": [
             {
              "visible": [
               false,
               false,
               false,
               false,
               false,
               false,
               true,
               false,
               false,
               false,
               false,
               false,
               false
              ]
             },
             {
              "title": "Annual Inflation (CPI) by Year for Mauritius"
             }
            ],
            "label": "Mauritius",
            "method": "update"
           },
           {
            "args": [
             {
              "visible": [
               false,
               false,
               false,
               false,
               false,
               false,
               false,
               true,
               false,
               false,
               false,
               false,
               false
              ]
             },
             {
              "title": "Annual Inflation (CPI) by Year for Morocco"
             }
            ],
            "label": "Morocco",
            "method": "update"
           },
           {
            "args": [
             {
              "visible": [
               false,
               false,
               false,
               false,
               false,
               false,
               false,
               false,
               true,
               false,
               false,
               false,
               false
              ]
             },
             {
              "title": "Annual Inflation (CPI) by Year for Nigeria"
             }
            ],
            "label": "Nigeria",
            "method": "update"
           },
           {
            "args": [
             {
              "visible": [
               false,
               false,
               false,
               false,
               false,
               false,
               false,
               false,
               false,
               true,
               false,
               false,
               false
              ]
             },
             {
              "title": "Annual Inflation (CPI) by Year for South Africa"
             }
            ],
            "label": "South Africa",
            "method": "update"
           },
           {
            "args": [
             {
              "visible": [
               false,
               false,
               false,
               false,
               false,
               false,
               false,
               false,
               false,
               false,
               true,
               false,
               false
              ]
             },
             {
              "title": "Annual Inflation (CPI) by Year for Tunisia"
             }
            ],
            "label": "Tunisia",
            "method": "update"
           },
           {
            "args": [
             {
              "visible": [
               false,
               false,
               false,
               false,
               false,
               false,
               false,
               false,
               false,
               false,
               false,
               true,
               false
              ]
             },
             {
              "title": "Annual Inflation (CPI) by Year for Zambia"
             }
            ],
            "label": "Zambia",
            "method": "update"
           },
           {
            "args": [
             {
              "visible": [
               false,
               false,
               false,
               false,
               false,
               false,
               false,
               false,
               false,
               false,
               false,
               false,
               true
              ]
             },
             {
              "title": "Annual Inflation (CPI) by Year for Zimbabwe"
             }
            ],
            "label": "Zimbabwe",
            "method": "update"
           }
          ],
          "direction": "down",
          "showactive": true
         }
        ],
        "width": 1000,
        "xaxis": {
         "anchor": "y",
         "autorange": true,
         "domain": [
          0,
          1
         ],
         "range": [
          1950.2384378211716,
          2017.7615621788284
         ],
         "title": {
          "text": "Year"
         },
         "type": "linear"
        },
        "yaxis": {
         "anchor": "x",
         "autorange": true,
         "domain": [
          0,
          1
         ],
         "range": [
          -9.715612423319838,
          77.89156586331984
         ],
         "title": {
          "text": "Annual Inflation CPI"
         },
         "type": "linear"
        }
       }
      },
      "image/png": "[encoded data removed]",
      "text/html": [
       "<div>                            <div id=\"e8429aeb-a600-4bef-af4f-ca90aea61bde\" class=\"plotly-graph-div\" style=\"height:600px; width:1000px;\"></div>            <script type=\"text/javascript\">                require([\"plotly\"], function(Plotly) {                    window.PLOTLYENV=window.PLOTLYENV || {};                                    if (document.getElementById(\"e8429aeb-a600-4bef-af4f-ca90aea61bde\")) {                    Plotly.newPlot(                        \"e8429aeb-a600-4bef-af4f-ca90aea61bde\",                        [{\"hovertemplate\":\"country=Algeria\\u003cbr\\u003eyear=%{x}\\u003cbr\\u003einflation_annual_cpi=%{y}\\u003cextra\\u003e\\u003c\\u002fextra\\u003e\",\"legendgroup\":\"Algeria\",\"line\":{\"color\":\"#636efa\",\"dash\":\"solid\"},\"marker\":{\"symbol\":\"circle\"},\"mode\":\"lines+markers\",\"name\":\"Algeria\",\"showlegend\":true,\"x\":[1870,1871,1872,1873,1874,1875,1876,1877,1878,1879,1880,1881,1882,1883,1884,1939,1940,1941,1942,1943,1944,1945,1946,1947,1948,1949,1950,1951,1952,1953,1954,1955,1956,1957,1958,1959,1960,1961,1968,1969,1970,1971,1972,1973,1974,1975,1976,1977,1978,1979,1980,1981,1982,1983,1984,1985,1986,1987,1988,1989,1990,1991,1992,1993,1994,1995,1996,1997,1998,1999,2000,2001,2002,2003,2004,2005,2006,2007,2008,2009,2010,2011,2012,2013,2014],\"xaxis\":\"x\",\"y\":[3.441455696,14.14913958,-3.718592965,11.20389701,-3.848560701,-20.92417833,-1.769547325,29.11604525,-1.492537313,-16.83135705,3.881188119,12.61913839,-12.35612729,-1.390498262,-15.94202899,9.756097561,22.22222222,16.36363636,28.125,46.34146341,41.66666667,29.41176471,18.18181818,69.23076923,63.63636364,23.61111111,0.0,6.741573034,6.315789474,-0.99009901,1.0,0.0,1.98019802,2.912621359,12.26415094,9.243697479,5.384615385,2.919708029,6.599987838,2.626631862,3.656320975,6.172816266,4.734228715,8.961134756,8.87917187,12.09893382,17.17351914,11.45037883,9.668492611,14.60957788,9.668,14.61,6.593,7.835,6.31,10.432,14.007,5.857,5.938,9.172,9.272,25.9,31.7,20.5,29.0,29.8,18.7,5.7,4.95,2.6,0.3,4.2,1.43,4.259,3.972,1.382,2.315,3.674,4.855,5.743,3.913,4.522,8.916,3.255,2.917],\"yaxis\":\"y\",\"type\":\"scattergl\"},{\"hovertemplate\":\"country=Angola\\u003cbr\\u003eyear=%{x}\\u003cbr\\u003einflation_annual_cpi=%{y}\\u003cextra\\u003e\\u003c\\u002fextra\\u003e\",\"legendgroup\":\"Angola\",\"line\":{\"color\":\"#EF553B\",\"dash\":\"solid\"},\"marker\":{\"symbol\":\"circle\"},\"mode\":\"lines+markers\",\"name\":\"Angola\",\"showlegend\":true,\"x\":[1921,1922,1923,1924,1925,1926,1927,1928,1929,1930,1931,1932,1933,1934,1935,1936,1937,1938,1939,1940,1941,1942,1943,1944,1945,1946,1947,1948,1949,1950,1951,1952,1953,1954,1955,1956,1957,1958,1959,1960,1961,1962,1970,1971,1972,1973,1974,1975,1976,1977,1978,1979,1980,1991,1992,1993,1994,1995,1996,1997,1998,1999,2000,2001,2002,2003,2004,2005,2006,2007,2008,2009,2010,2011,2012,2013,2014],\"xaxis\":\"x\",\"y\":[29.62962963,45.71428571,68.62745098,126.744186,-27.17948718,-7.042253521,-17.42424242,-9.174311927,-5.050505051,-5.319148936,0.0,-2.247191011,2.298850575,3.370786517,5.434782609,-1.030927835,2.083333333,2.040816327,1.0,13.86138614,16.52173913,17.91044776,13.92405063,7.777777778,5.154639175,4.901960784,13.55140187,-16.87242798,-0.99009901,4.0,-7.692307692,3.125,0.0,-4.04040404,0.0,3.157894737,1.020408163,2.02020202,0.0,-0.99009901,2.0,5.882352941,7.965434021,5.777758599,15.79827455,15.67485015,27.41525989,29.00043489,80.69990445,69.00935079,48.46106867,101.3013176,46.70755462,85.265,299.097,1379.476,949.771,2672.23,4146.01,221.492,107.429,248.248,325.029,152.586,108.893,98.342,43.559,22.961,13.305,12.249,12.465,13.721,14.48,13.484,10.285,8.782,7.296],\"yaxis\":\"y\",\"type\":\"scattergl\"},{\"hovertemplate\":\"country=Central African Republic\\u003cbr\\u003eyear=%{x}\\u003cbr\\u003einflation_annual_cpi=%{y}\\u003cextra\\u003e\\u003c\\u002fextra\\u003e\",\"legendgroup\":\"Central African Republic\",\"line\":{\"color\":\"#00cc96\",\"dash\":\"solid\"},\"marker\":{\"symbol\":\"circle\"},\"mode\":\"lines+markers\",\"name\":\"Central African Republic\",\"showlegend\":true,\"x\":[1957,1958,1959,1960,1961,1962,1963,1964,1965,1966,1967,1968,1969,1970,1971,1972,1973,1974,1975,1976,1977,1978,1979,1980,1981,1982,1983,1984,1985,1986,1987,1988,1989,1990,1991,1992,1993,1994,1995,1996,1997,1998,1999,2000,2001,2002,2003,2004,2005,2006,2007,2008,2009,2010,2011,2012,2013,2014],\"xaxis\":\"x\",\"y\":[6.818181818,12.76595745,3.773584906,10.90909091,6.557377049,7.692307692,3.714285714,10.05509642,9.386733417,2.745995423,1.893095768,4.808743169,0.521376434,3.734439834,27.69953052,-8.823529412,5.64516129,9.541984733,16.02787456,10.51051051,11.14130435,11.49144254,9.210526316,13.3,14.66,13.243,14.558,2.604,10.457,2.411,-6.986,-3.934,0.645,-0.203,-2.848,-0.757,-2.909,24.55,19.2,3.723,1.597,-1.871,-1.415,3.202,3.843,2.298,4.353,-2.244,2.885,6.694,0.935,9.262,3.522,1.491,1.195,5.874,6.552,11.584],\"yaxis\":\"y\",\"type\":\"scattergl\"},{\"hovertemplate\":\"country=Ivory Coast\\u003cbr\\u003eyear=%{x}\\u003cbr\\u003einflation_annual_cpi=%{y}\\u003cextra\\u003e\\u003c\\u002fextra\\u003e\",\"legendgroup\":\"Ivory Coast\",\"line\":{\"color\":\"#ab63fa\",\"dash\":\"solid\"},\"marker\":{\"symbol\":\"circle\"},\"mode\":\"lines+markers\",\"name\":\"Ivory Coast\",\"showlegend\":true,\"x\":[1952,1953,1954,1955,1956,1957,1958,1959,1960,1961,1962,1963,1964,1965,1966,1967,1968,1969,1970,1971,1972,1973,1974,1975,1976,1977,1978,1979,1980,1981,1982,1983,1984,1985,1986,1987,1988,1989,1990,1991,1992,1993,1994,1995,1996,1997,1998,1999,2000,2001,2002,2003,2004,2005,2006,2007,2008,2009,2010,2011,2012,2013,2014],\"xaxis\":\"x\",\"y\":[16.21609969,2.326185353,-2.273304086,2.326185353,4.54479533,13.04340287,21.15476063,6.348281887,-2.152483452,14.43033046,-0.177568901,8.719549217,-3.169044947,1.757528693,4.665098294,2.766186537,7.747595621,2.502927383,8.075116891,-1.07225635,1.194615424,12.9325741,18.22418299,10.61769304,12.90885269,24.48243736,16.03173523,21.75954473,8.81,8.682,7.389,5.879,4.281,1.753,6.837,6.978,6.935,0.986,-0.658,1.575,4.218,2.13,25.956,14.1,2.7,6.301,5.219,0.92,-0.381,4.355,3.08,3.297,1.459,3.884,2.466,1.896,6.315,1.009,1.8,4.448,1.3,2.584,0.449],\"yaxis\":\"y\",\"type\":\"scattergl\"},{\"hovertemplate\":\"country=Egypt\\u003cbr\\u003eyear=%{x}\\u003cbr\\u003einflation_annual_cpi=%{y}\\u003cextra\\u003e\\u003c\\u002fextra\\u003e\",\"legendgroup\":\"Egypt\",\"line\":{\"color\":\"#FFA15A\",\"dash\":\"solid\"},\"marker\":{\"symbol\":\"circle\"},\"mode\":\"lines+markers\",\"name\":\"Egypt\",\"showlegend\":true,\"x\":[1860,1861,1862,1863,1864,1865,1866,1867,1868,1869,1870,1871,1872,1873,1874,1875,1876,1877,1878,1879,1880,1881,1882,1883,1884,1885,1886,1887,1888,1889,1890,1891,1892,1893,1894,1895,1896,1897,1898,1899,1900,1901,1902,1903,1904,1905,1906,1907,1908,1909,1910,1911,1912,1913,1914,1915,1916,1917,1918,1919,1920,1921,1922,1923,1924,1925,1926,1927,1928,1929,1930,1931,1932,1933,1934,1935,1936,1937,1938,1939,1940,1941,1942,1943,1944,1945,1946,1947,1948,1949,1950,1951,1952,1953,1954,1955,1956,1957,1958,1959,1960,1961,1962,1963,1964,1965,1966,1967,1968,1969,1970,1971,1972,1973,1974,1975,1976,1977,1978,1979,1980,1981,1982,1983,1984,1985,1986,1987,1988,1989,1990,1991,1992,1993,1994,1995,1996,1997,1998,1999,2000,2001,2002,2003,2004,2005,2006,2007,2008,2009,2010,2011,2012,2013,2014],\"xaxis\":\"x\",\"y\":[5.944477972,5.952720023,5.940860215,5.95026643,5.951383068,5.944846293,5.941967143,5.95106233,5.94943927,5.938284894,5.952582557,12.97850236,-4.201740115,-4.171896921,1.556480197,-8.528072838,-10.87425348,-0.43741275,-0.514114788,10.55153622,1.784803672,-12.40814963,4.232602479,-2.231571246,-0.477081384,-6.438575054,3.616636528,-2.840798914,-6.216944417,-12.33241115,7.949993931,10.17539915,1.959383611,-13.92253028,-4.953488372,-5.578664057,9.70458668,2.846344632,14.21681213,-6.374422378,7.388316151,0.11,-0.549395665,-7.533145842,-2.639582881,15.36315966,9.448742747,1.307767076,8.87047536,1.185707419,-11.7418844,1.291827398,6.24391108,11.40380127,-1.137384017,-16.00060551,19.326921,35.4800225,18.04671609,12.1743099,20.60262757,-28.50213688,-11.8067676,-10.90447887,7.201266764,5.682103785,-11.35479535,-8.356955722,4.5057024,-3.339660342,-6.922294859,-5.020231154,-10.84823995,-9.7931274,23.96925479,5.648570427,-7.249727068,-1.022813275,11.43314281,-1.435148115,10.38362042,24.18818835,40.76638415,17.48643148,11.37938502,0.0,2.119179547,-3.112803427,0.713958211,0.0,8.510015609,7.599868141,-10.25483916,-0.952735624,-2.885699962,0.0,3.961929343,3.249231915,-1.340547039,0.694613697,0.726128525,1.17746005,-4.203776274,2.060865254,7.824338769,13.12090131,6.693697414,0.119617553,0.455818017,3.676736584,3.36871659,2.942979233,2.424102664,5.740312478,10.64040499,9.899265451,10.29192345,11.61462645,11.27087249,9.90279235,20.5,10.4,14.9,15.982,17.06,12.108,23.9,25.185,15.185,20.129,21.219,14.737,21.142,11.042,9.046,9.361,7.095,6.167,5.041,3.745,2.849,2.431,3.21,0.0,8.106,8.826,4.202,10.959,11.698,16.24,11.69,11.09,8.65,6.914,10.099],\"yaxis\":\"y\",\"type\":\"scattergl\"},{\"hovertemplate\":\"country=Kenya\\u003cbr\\u003eyear=%{x}\\u003cbr\\u003einflation_annual_cpi=%{y}\\u003cextra\\u003e\\u003c\\u002fextra\\u003e\",\"legendgroup\":\"Kenya\",\"line\":{\"color\":\"#19d3f3\",\"dash\":\"solid\"},\"marker\":{\"symbol\":\"circle\"},\"mode\":\"lines+markers\",\"name\":\"Kenya\",\"showlegend\":true,\"x\":[1948,1949,1950,1951,1952,1953,1954,1955,1956,1957,1958,1959,1960,1961,1962,1963,1964,1965,1966,1967,1968,1969,1970,1971,1972,1973,1974,1975,1976,1977,1978,1979,1980,1981,1982,1983,1984,1985,1986,1987,1988,1989,1990,1991,1992,1993,1994,1995,1996,1997,1998,1999,2000,2001,2002,2003,2004,2005,2006,2007,2008,2009,2010,2011,2012,2013,2014],\"xaxis\":\"x\",\"y\":[9.339830607,3.522920204,8.553710537,10.87767339,6.450926123,3.032,4.410280301,6.369450435,1.786276086,2.630675184,0.0,0.856645697,0.846051758,2.520151341,2.740605244,0.0,-0.285715557,5.762329909,3.761913134,0.537398087,0.661865236,-0.131090559,1.832593812,5.614773537,4.52521913,12.66289775,16.41376144,19.7347384,9.527607326,18.01088176,15.35621451,8.080283232,13.866,7.895,13.821,11.603,20.667,11.398,10.284,13.007,4.804,7.617,11.2,19.104,27.332,45.979,28.814,1.554,8.862,11.924,6.716,5.753,9.955,5.824,2.156,5.983,8.381,7.823,6.041,4.265,15.101,10.552,4.309,14.022,9.378,5.717,6.878],\"yaxis\":\"y\",\"type\":\"scattergl\"},{\"hovertemplate\":\"country=Mauritius\\u003cbr\\u003eyear=%{x}\\u003cbr\\u003einflation_annual_cpi=%{y}\\u003cextra\\u003e\\u003c\\u002fextra\\u003e\",\"legendgroup\":\"Mauritius\",\"line\":{\"color\":\"#FF6692\",\"dash\":\"solid\"},\"marker\":{\"symbol\":\"circle\"},\"mode\":\"lines+markers\",\"name\":\"Mauritius\",\"showlegend\":true,\"x\":[1947,1948,1949,1950,1951,1952,1953,1954,1955,1956,1957,1958,1959,1960,1961,1962,1963,1964,1965,1966,1967,1968,1969,1970,1971,1972,1973,1974,1975,1976,1977,1978,1979,1980,1981,1982,1983,1984,1985,1986,1987,1988,1989,1990,1991,1992,1993,1994,1995,1996,1997,1998,1999,2000,2001,2002,2003,2004,2005,2006,2007,2008,2009,2010,2011,2012,2013,2014],\"xaxis\":\"x\",\"y\":[-9.090909091,31.99785465,1.023932388,4.904878735,11.15115499,1.941981994,-0.634431887,0.956872627,-0.315372291,2.857481221,-0.926032535,0.622571969,-0.618719992,1.8693761,-0.612777053,0.798570117,1.753672463,1.8269885,1.893322561,2.982014118,2.937830401,5.329676052,2.978677387,0.011228728,1.886196037,5.551930333,20.82296472,23.79801683,15.20534955,10.75945144,9.794534493,9.063188827,23.21616753,33.04,26.45,13.384,7.452,5.525,8.321,4.336,0.719,3.6,13.61,10.705,12.817,2.857,15.288,7.335,6.026,6.553,6.831,6.808,6.872,4.23,5.391,6.414,3.931,4.703,4.921,8.93,8.827,9.731,2.516,2.929,6.526,4.902,4.131,3.772],\"yaxis\":\"y\",\"type\":\"scattergl\"},{\"hovertemplate\":\"country=Morocco\\u003cbr\\u003eyear=%{x}\\u003cbr\\u003einflation_annual_cpi=%{y}\\u003cextra\\u003e\\u003c\\u002fextra\\u003e\",\"legendgroup\":\"Morocco\",\"line\":{\"color\":\"#B6E880\",\"dash\":\"solid\"},\"marker\":{\"symbol\":\"circle\"},\"mode\":\"lines+markers\",\"name\":\"Morocco\",\"showlegend\":true,\"x\":[1940,1941,1942,1943,1944,1945,1946,1947,1948,1949,1950,1951,1952,1953,1954,1955,1956,1957,1958,1959,1960,1961,1962,1963,1964,1965,1966,1967,1968,1969,1970,1971,1972,1973,1974,1975,1976,1977,1978,1979,1980,1981,1982,1983,1984,1985,1986,1987,1988,1989,1990,1991,1992,1993,1994,1995,1996,1997,1998,1999,2000,2001,2002,2003,2004,2005,2006,2007,2008,2009,2010,2011,2012,2013,2014],\"xaxis\":\"x\",\"y\":[25.0,32.0,38.1935295,28.50635593,34.8116396,18.98618075,56.75522894,57.47303544,40.14656285,22.99979203,1.625584232,23.2010648,5.194366741,-1.234239604,2.49932689,5.86226574,5.714750199,2.317242942,4.383973421,-2.171161818,2.219347442,2.27574134,5.408269117,5.738828475,4.233330742,2.481368989,-0.234959675,-1.126519599,1.138535071,1.691647635,1.915840245,4.397441072,3.211368966,7.193348119,15.97890765,7.00696628,10.97328486,10.81415052,9.720054887,8.651393052,9.408,12.493,10.528,6.208,12.448,7.729,8.734,2.699,2.369,3.138,6.026,8.991,5.74,5.183,5.142,6.124,2.987,1.041,2.745,0.69,1.923,0.613,2.779,1.163,1.493,0.983,3.285,2.036,3.891,0.972,0.994,0.907,1.287,1.881,0.443],\"yaxis\":\"y\",\"type\":\"scattergl\"},{\"hovertemplate\":\"country=Nigeria\\u003cbr\\u003eyear=%{x}\\u003cbr\\u003einflation_annual_cpi=%{y}\\u003cextra\\u003e\\u003c\\u002fextra\\u003e\",\"legendgroup\":\"Nigeria\",\"line\":{\"color\":\"#FF97FF\",\"dash\":\"solid\"},\"marker\":{\"symbol\":\"circle\"},\"mode\":\"lines+markers\",\"name\":\"Nigeria\",\"showlegend\":true,\"x\":[1954,1955,1956,1957,1958,1959,1960,1961,1962,1963,1964,1965,1966,1967,1968,1969,1970,1971,1972,1973,1974,1975,1976,1977,1978,1979,1980,1981,1982,1983,1984,1985,1986,1987,1988,1989,1990,1992,1993,1994,1995,1996,1997,1998,1999,2000,2001,2002,2003,2004,2005,2006,2007,2008,2009,2010,2011,2012,2013,2014],\"xaxis\":\"x\",\"y\":[3.10291645,6.173562277,6.862909067,1.546396847,-3.399990138,4.707596881,4.325727898,6.217386806,2.911602856,-1.028492383,0.938030761,4.601492449,8.140460297,-4.55304656,2.733415482,11.00320434,13.41347233,15.47842436,-0.008248214,11.67346946,11.25943742,38.50391131,18.33643443,22.3551061,15.78133117,10.06822352,9.97,20.555,5.882,22.222,40.909,3.226,6.25,11.765,34.211,49.02,7.895,44.565,57.143,57.416,72.729,29.292,10.673,7.862,6.618,6.938,18.869,12.883,14.033,15.001,17.856,8.218,5.413,11.581,12.543,13.72,10.841,12.225,8.495,8.048],\"yaxis\":\"y\",\"type\":\"scattergl\"},{\"hovertemplate\":\"country=South Africa\\u003cbr\\u003eyear=%{x}\\u003cbr\\u003einflation_annual_cpi=%{y}\\u003cextra\\u003e\\u003c\\u002fextra\\u003e\",\"legendgroup\":\"South Africa\",\"line\":{\"color\":\"#FECB52\",\"dash\":\"solid\"},\"marker\":{\"symbol\":\"circle\"},\"mode\":\"lines+markers\",\"name\":\"South Africa\",\"showlegend\":true,\"x\":[1900,1901,1902,1903,1904,1905,1906,1907,1908,1909,1910,1911,1912,1913,1914,1915,1916,1917,1918,1919,1920,1921,1922,1923,1924,1925,1926,1927,1928,1929,1930,1931,1932,1933,1934,1935,1936,1937,1938,1939,1940,1941,1942,1943,1944,1945,1946,1947,1948,1949,1950,1951,1952,1953,1954,1955,1956,1957,1958,1959,1960,1961,1962,1963,1964,1965,1966,1967,1968,1969,1970,1971,1972,1973,1974,1975,1976,1977,1978,1979,1980,1981,1982,1983,1984,1985,1986,1987,1988,1989,1990,1991,1992,1993,1994,1995,1996,1997,1998,1999,2000,2001,2002,2003,2004,2005,2006,2007,2008,2009,2010,2011,2012,2013],\"xaxis\":\"x\",\"y\":[4.109589041,9.204368175,2.414285714,-8.236853118,-5.130348864,-6.753725365,-7.251482086,-1.556276054,-1.590288887,4.838401224,15.38672018,3.999683819,2.561374173,1.252408478,1.236917222,4.87275882,5.81828209,9.889250814,7.001422812,0.93079949,35.18691332,-18.07365899,-3.95519429,0.758592218,0.0,-1.505761844,-1.523581717,2.323371,-0.758592218,-1.523581717,-2.328651389,-3.968211061,-5.432640883,2.39909513,-1.453403872,-0.44835113,0.906666667,5.63777308,-0.32243718,0.858895706,3.926122539,6.02851974,8.671651528,4.964211498,3.884733832,0.762291958,6.060606061,4.287695661,6.847285025,2.564102564,6.875866852,7.653375726,6.609004882,0.777385159,3.8457223,1.699035682,1.888446215,3.263731394,3.160578598,0.785513275,1.583062206,2.079449304,1.325278636,1.005222535,4.141937863,3.489437844,3.638360819,2.151507653,3.045535464,3.812391596,4.882526907,6.705448811,8.431511329,10.76861601,13.81223876,11.25107466,11.31771632,10.21066965,12.23442663,13.89287442,14.236,15.741,14.4,12.587,11.18,16.201,18.75,16.194,12.892,14.506,14.286,15.566,13.673,9.874,8.824,8.709,7.32,8.623,6.872,5.211,5.374,5.7,9.177,5.806,1.392,3.393,4.688,7.09,11.536,7.13,4.257,5.0,5.654,5.752],\"yaxis\":\"y\",\"type\":\"scattergl\"},{\"hovertemplate\":\"country=Tunisia\\u003cbr\\u003eyear=%{x}\\u003cbr\\u003einflation_annual_cpi=%{y}\\u003cextra\\u003e\\u003c\\u002fextra\\u003e\",\"legendgroup\":\"Tunisia\",\"line\":{\"color\":\"#636efa\",\"dash\":\"solid\"},\"marker\":{\"symbol\":\"circle\"},\"mode\":\"lines+markers\",\"name\":\"Tunisia\",\"showlegend\":true,\"x\":[1940,1941,1942,1943,1944,1945,1946,1947,1948,1949,1950,1951,1952,1953,1954,1955,1956,1957,1958,1959,1960,1961,1962,1963,1964,1965,1966,1967,1968,1969,1970,1971,1972,1973,1974,1975,1976,1977,1978,1979,1980,1981,1982,1983,1984,1985,1986,1987,1988,1989,1990,1991,1992,1993,1994,1995,1996,1997,1998,1999,2000,2001,2002,2003,2004,2005,2006,2007,2008,2009,2010,2011,2012,2013,2014],\"xaxis\":\"x\",\"y\":[22.01300157,24.58203197,24.99631323,72.10948561,37.61310666,13.77833126,49.61253886,67.09975712,69.14172635,4.156960191,3.502982107,15.03591871,7.006177993,-0.595293824,4.192011553,0.0,4.807532957,5.504844321,5.216941093,-8.264216667,1.801884462,-1.769991264,5.78395737,0.970776621,5.939573494,5.549985502,4.536102074,2.843700217,2.498763969,2.804694188,1.562639485,4.253194018,2.715966924,5.784875818,4.685641394,10.05684308,3.293128476,8.19487405,4.63026082,8.557119849,10.011,8.903,13.673,8.972,8.596,7.551,6.159,8.224,7.156,7.722,6.502,7.693,5.518,4.04,5.423,6.232,3.733,3.599,3.102,2.768,2.77,1.987,2.706,2.724,3.621,1.444,4.143,3.438,4.913,3.53,4.409,3.541,5.139,5.805,4.924],\"yaxis\":\"y\",\"type\":\"scattergl\"},{\"hovertemplate\":\"country=Zambia\\u003cbr\\u003eyear=%{x}\\u003cbr\\u003einflation_annual_cpi=%{y}\\u003cextra\\u003e\\u003c\\u002fextra\\u003e\",\"legendgroup\":\"Zambia\",\"line\":{\"color\":\"#EF553B\",\"dash\":\"solid\"},\"marker\":{\"symbol\":\"circle\"},\"mode\":\"lines+markers\",\"name\":\"Zambia\",\"showlegend\":true,\"x\":[1943,1944,1945,1946,1947,1948,1949,1950,1951,1952,1953,1954,1955,1956,1957,1958,1959,1960,1961,1962,1963,1964,1965,1966,1967,1968,1969,1970,1971,1972,1973,1974,1975,1976,1977,1978,1979,1980,1981,1982,1983,1984,1985,1986,1987,1988,1989,1990,1991,1992,1993,1994,1995,1996,1997,1998,1999,2000,2001,2002,2003,2004,2005,2006,2007,2008,2009,2010,2011,2012,2013,2014],\"xaxis\":\"x\",\"y\":[2.857142857,2.777777778,2.702702703,7.894736842,2.43902439,4.761904762,2.272727273,4.444444444,6.382978723,4.0,3.846153846,3.703703704,3.571428571,3.103448276,3.177257525,1.13452188,2.083333333,3.453689168,0.151745068,1.363636364,-0.448430493,3.003003003,8.163265306,10.2425876,5.012224939,10.71012806,2.523659306,2.564102564,6.52173913,4.761904762,6.493506494,7.926829268,10.16949153,18.97435897,19.82758621,16.18705036,9.59752322,11.729,13.997,12.495,19.692,20.019,37.43,54.8,47.028,54.042,128.294,109.558,97.701,165.725,183.263,54.614,34.905,43.095,24.41,24.456,26.79,26.1,21.357,22.239,21.4,17.969,18.325,9.017,10.655,12.449,13.392,8.5,8.658,6.575,6.978,7.811],\"yaxis\":\"y\",\"type\":\"scattergl\"},{\"hovertemplate\":\"country=Zimbabwe\\u003cbr\\u003eyear=%{x}\\u003cbr\\u003einflation_annual_cpi=%{y}\\u003cextra\\u003e\\u003c\\u002fextra\\u003e\",\"legendgroup\":\"Zimbabwe\",\"line\":{\"color\":\"#00cc96\",\"dash\":\"solid\"},\"marker\":{\"symbol\":\"circle\"},\"mode\":\"lines+markers\",\"name\":\"Zimbabwe\",\"showlegend\":true,\"x\":[1921,1922,1923,1927,1928,1929,1930,1931,1932,1933,1934,1935,1936,1937,1938,1939,1940,1941,1942,1943,1944,1945,1946,1947,1948,1949,1950,1951,1952,1953,1954,1955,1956,1957,1958,1959,1960,1961,1962,1963,1964,1965,1966,1967,1968,1969,1970,1971,1972,1973,1974,1975,1976,1977,1978,1979,1980,1981,1982,1983,1984,1985,1986,1987,1988,1989,1990,1991,1992,1993,1994,1995,1996,1997,1998,1999,2000,2001,2002,2003,2004,2005,2006,2007,2008,2009,2010,2011,2012,2013],\"xaxis\":\"x\",\"y\":[-17.24137931,-13.88888889,-4.032258065,0.847457627,0.840336134,0.0,-5.0,-7.01754386,-3.773584906,-2.941176471,-1.01010101,0.0,-1.020408163,6.18556701,-2.912621359,0.906344411,2.994011976,3.779069767,5.602240896,6.100795756,3.0,2.669902913,5.200945626,2.921348315,9.388646288,3.79241517,7.692307692,6.964285714,8.180300501,2.777777778,0.0,1.651651652,4.431314623,2.97029703,3.571428571,2.652519894,2.454780362,2.90037831,2.083333333,1.080432173,2.500022554,2.500003432,3.121953195,2.365179967,1.38631904,0.364644862,2.088991186,3.024884047,2.84975748,3.106641376,6.596092646,10.00764002,11.0416805,10.25640067,8.229915112,12.55279758,7.2,13.2,10.4,23.2,20.3,8.3,14.5,12.5,7.4,12.8,17.4,24.0,41.6,28.2,21.11354311,25.80873955,16.40028408,20.0650384,46.61127497,56.92320336,55.20369616,112.1184112,198.928606,598.7447505,132.7467739,585.8443656,1281.113605,66279.89237,21989695.22,-7.67,3.217,4.92,3.72,1.632],\"yaxis\":\"y\",\"type\":\"scattergl\"}],                        {\"template\":{\"data\":{\"barpolar\":[{\"marker\":{\"line\":{\"color\":\"rgb(17,17,17)\",\"width\":0.5},\"pattern\":{\"fillmode\":\"overlay\",\"size\":10,\"solidity\":0.2}},\"type\":\"barpolar\"}],\"bar\":[{\"error_x\":{\"color\":\"#f2f5fa\"},\"error_y\":{\"color\":\"#f2f5fa\"},\"marker\":{\"line\":{\"color\":\"rgb(17,17,17)\",\"width\":0.5},\"pattern\":{\"fillmode\":\"overlay\",\"size\":10,\"solidity\":0.2}},\"type\":\"bar\"}],\"carpet\":[{\"aaxis\":{\"endlinecolor\":\"#A2B1C6\",\"gridcolor\":\"#506784\",\"linecolor\":\"#506784\",\"minorgridcolor\":\"#506784\",\"startlinecolor\":\"#A2B1C6\"},\"baxis\":{\"endlinecolor\":\"#A2B1C6\",\"gridcolor\":\"#506784\",\"linecolor\":\"#506784\",\"minorgridcolor\":\"#506784\",\"startlinecolor\":\"#A2B1C6\"},\"type\":\"carpet\"}],\"choropleth\":[{\"colorbar\":{\"outlinewidth\":0,\"ticks\":\"\"},\"type\":\"choropleth\"}],\"contourcarpet\":[{\"colorbar\":{\"outlinewidth\":0,\"ticks\":\"\"},\"type\":\"contourcarpet\"}],\"contour\":[{\"colorbar\":{\"outlinewidth\":0,\"ticks\":\"\"},\"colorscale\":[[0.0,\"#0d0887\"],[0.1111111111111111,\"#46039f\"],[0.2222222222222222,\"#7201a8\"],[0.3333333333333333,\"#9c179e\"],[0.4444444444444444,\"#bd3786\"],[0.5555555555555556,\"#d8576b\"],[0.6666666666666666,\"#ed7953\"],[0.7777777777777778,\"#fb9f3a\"],[0.8888888888888888,\"#fdca26\"],[1.0,\"#f0f921\"]],\"type\":\"contour\"}],\"heatmapgl\":[{\"colorbar\":{\"outlinewidth\":0,\"ticks\":\"\"},\"colorscale\":[[0.0,\"#0d0887\"],[0.1111111111111111,\"#46039f\"],[0.2222222222222222,\"#7201a8\"],[0.3333333333333333,\"#9c179e\"],[0.4444444444444444,\"#bd3786\"],[0.5555555555555556,\"#d8576b\"],[0.6666666666666666,\"#ed7953\"],[0.7777777777777778,\"#fb9f3a\"],[0.8888888888888888,\"#fdca26\"],[1.0,\"#f0f921\"]],\"type\":\"heatmapgl\"}],\"heatmap\":[{\"colorbar\":{\"outlinewidth\":0,\"ticks\":\"\"},\"colorscale\":[[0.0,\"#0d0887\"],[0.1111111111111111,\"#46039f\"],[0.2222222222222222,\"#7201a8\"],[0.3333333333333333,\"#9c179e\"],[0.4444444444444444,\"#bd3786\"],[0.5555555555555556,\"#d8576b\"],[0.6666666666666666,\"#ed7953\"],[0.7777777777777778,\"#fb9f3a\"],[0.8888888888888888,\"#fdca26\"],[1.0,\"#f0f921\"]],\"type\":\"heatmap\"}],\"histogram2dcontour\":[{\"colorbar\":{\"outlinewidth\":0,\"ticks\":\"\"},\"colorscale\":[[0.0,\"#0d0887\"],[0.1111111111111111,\"#46039f\"],[0.2222222222222222,\"#7201a8\"],[0.3333333333333333,\"#9c179e\"],[0.4444444444444444,\"#bd3786\"],[0.5555555555555556,\"#d8576b\"],[0.6666666666666666,\"#ed7953\"],[0.7777777777777778,\"#fb9f3a\"],[0.8888888888888888,\"#fdca26\"],[1.0,\"#f0f921\"]],\"type\":\"histogram2dcontour\"}],\"histogram2d\":[{\"colorbar\":{\"outlinewidth\":0,\"ticks\":\"\"},\"colorscale\":[[0.0,\"#0d0887\"],[0.1111111111111111,\"#46039f\"],[0.2222222222222222,\"#7201a8\"],[0.3333333333333333,\"#9c179e\"],[0.4444444444444444,\"#bd3786\"],[0.5555555555555556,\"#d8576b\"],[0.6666666666666666,\"#ed7953\"],[0.7777777777777778,\"#fb9f3a\"],[0.8888888888888888,\"#fdca26\"],[1.0,\"#f0f921\"]],\"type\":\"histogram2d\"}],\"histogram\":[{\"marker\":{\"pattern\":{\"fillmode\":\"overlay\",\"size\":10,\"solidity\":0.2}},\"type\":\"histogram\"}],\"mesh3d\":[{\"colorbar\":{\"outlinewidth\":0,\"ticks\":\"\"},\"type\":\"mesh3d\"}],\"parcoords\":[{\"line\":{\"colorbar\":{\"outlinewidth\":0,\"ticks\":\"\"}},\"type\":\"parcoords\"}],\"pie\":[{\"automargin\":true,\"type\":\"pie\"}],\"scatter3d\":[{\"line\":{\"colorbar\":{\"outlinewidth\":0,\"ticks\":\"\"}},\"marker\":{\"colorbar\":{\"outlinewidth\":0,\"ticks\":\"\"}},\"type\":\"scatter3d\"}],\"scattercarpet\":[{\"marker\":{\"colorbar\":{\"outlinewidth\":0,\"ticks\":\"\"}},\"type\":\"scattercarpet\"}],\"scattergeo\":[{\"marker\":{\"colorbar\":{\"outlinewidth\":0,\"ticks\":\"\"}},\"type\":\"scattergeo\"}],\"scattergl\":[{\"marker\":{\"line\":{\"color\":\"#283442\"}},\"type\":\"scattergl\"}],\"scattermapbox\":[{\"marker\":{\"colorbar\":{\"outlinewidth\":0,\"ticks\":\"\"}},\"type\":\"scattermapbox\"}],\"scatterpolargl\":[{\"marker\":{\"colorbar\":{\"outlinewidth\":0,\"ticks\":\"\"}},\"type\":\"scatterpolargl\"}],\"scatterpolar\":[{\"marker\":{\"colorbar\":{\"outlinewidth\":0,\"ticks\":\"\"}},\"type\":\"scatterpolar\"}],\"scatter\":[{\"marker\":{\"line\":{\"color\":\"#283442\"}},\"type\":\"scatter\"}],\"scatterternary\":[{\"marker\":{\"colorbar\":{\"outlinewidth\":0,\"ticks\":\"\"}},\"type\":\"scatterternary\"}],\"surface\":[{\"colorbar\":{\"outlinewidth\":0,\"ticks\":\"\"},\"colorscale\":[[0.0,\"#0d0887\"],[0.1111111111111111,\"#46039f\"],[0.2222222222222222,\"#7201a8\"],[0.3333333333333333,\"#9c179e\"],[0.4444444444444444,\"#bd3786\"],[0.5555555555555556,\"#d8576b\"],[0.6666666666666666,\"#ed7953\"],[0.7777777777777778,\"#fb9f3a\"],[0.8888888888888888,\"#fdca26\"],[1.0,\"#f0f921\"]],\"type\":\"surface\"}],\"table\":[{\"cells\":{\"fill\":{\"color\":\"#506784\"},\"line\":{\"color\":\"rgb(17,17,17)\"}},\"header\":{\"fill\":{\"color\":\"#2a3f5f\"},\"line\":{\"color\":\"rgb(17,17,17)\"}},\"type\":\"table\"}]},\"layout\":{\"annotationdefaults\":{\"arrowcolor\":\"#f2f5fa\",\"arrowhead\":0,\"arrowwidth\":1},\"autotypenumbers\":\"strict\",\"coloraxis\":{\"colorbar\":{\"outlinewidth\":0,\"ticks\":\"\"}},\"colorscale\":{\"diverging\":[[0,\"#8e0152\"],[0.1,\"#c51b7d\"],[0.2,\"#de77ae\"],[0.3,\"#f1b6da\"],[0.4,\"#fde0ef\"],[0.5,\"#f7f7f7\"],[0.6,\"#e6f5d0\"],[0.7,\"#b8e186\"],[0.8,\"#7fbc41\"],[0.9,\"#4d9221\"],[1,\"#276419\"]],\"sequential\":[[0.0,\"#0d0887\"],[0.1111111111111111,\"#46039f\"],[0.2222222222222222,\"#7201a8\"],[0.3333333333333333,\"#9c179e\"],[0.4444444444444444,\"#bd3786\"],[0.5555555555555556,\"#d8576b\"],[0.6666666666666666,\"#ed7953\"],[0.7777777777777778,\"#fb9f3a\"],[0.8888888888888888,\"#fdca26\"],[1.0,\"#f0f921\"]],\"sequentialminus\":[[0.0,\"#0d0887\"],[0.1111111111111111,\"#46039f\"],[0.2222222222222222,\"#7201a8\"],[0.3333333333333333,\"#9c179e\"],[0.4444444444444444,\"#bd3786\"],[0.5555555555555556,\"#d8576b\"],[0.6666666666666666,\"#ed7953\"],[0.7777777777777778,\"#fb9f3a\"],[0.8888888888888888,\"#fdca26\"],[1.0,\"#f0f921\"]]},\"colorway\":[\"#636efa\",\"#EF553B\",\"#00cc96\",\"#ab63fa\",\"#FFA15A\",\"#19d3f3\",\"#FF6692\",\"#B6E880\",\"#FF97FF\",\"#FECB52\"],\"font\":{\"color\":\"#f2f5fa\"},\"geo\":{\"bgcolor\":\"rgb(17,17,17)\",\"lakecolor\":\"rgb(17,17,17)\",\"landcolor\":\"rgb(17,17,17)\",\"showlakes\":true,\"showland\":true,\"subunitcolor\":\"#506784\"},\"hoverlabel\":{\"align\":\"left\"},\"hovermode\":\"closest\",\"mapbox\":{\"style\":\"dark\"},\"paper_bgcolor\":\"rgb(17,17,17)\",\"plot_bgcolor\":\"rgb(17,17,17)\",\"polar\":{\"angularaxis\":{\"gridcolor\":\"#506784\",\"linecolor\":\"#506784\",\"ticks\":\"\"},\"bgcolor\":\"rgb(17,17,17)\",\"radialaxis\":{\"gridcolor\":\"#506784\",\"linecolor\":\"#506784\",\"ticks\":\"\"}},\"scene\":{\"xaxis\":{\"backgroundcolor\":\"rgb(17,17,17)\",\"gridcolor\":\"#506784\",\"gridwidth\":2,\"linecolor\":\"#506784\",\"showbackground\":true,\"ticks\":\"\",\"zerolinecolor\":\"#C8D4E3\"},\"yaxis\":{\"backgroundcolor\":\"rgb(17,17,17)\",\"gridcolor\":\"#506784\",\"gridwidth\":2,\"linecolor\":\"#506784\",\"showbackground\":true,\"ticks\":\"\",\"zerolinecolor\":\"#C8D4E3\"},\"zaxis\":{\"backgroundcolor\":\"rgb(17,17,17)\",\"gridcolor\":\"#506784\",\"gridwidth\":2,\"linecolor\":\"#506784\",\"showbackground\":true,\"ticks\":\"\",\"zerolinecolor\":\"#C8D4E3\"}},\"shapedefaults\":{\"line\":{\"color\":\"#f2f5fa\"}},\"sliderdefaults\":{\"bgcolor\":\"#C8D4E3\",\"bordercolor\":\"rgb(17,17,17)\",\"borderwidth\":1,\"tickwidth\":0},\"ternary\":{\"aaxis\":{\"gridcolor\":\"#506784\",\"linecolor\":\"#506784\",\"ticks\":\"\"},\"baxis\":{\"gridcolor\":\"#506784\",\"linecolor\":\"#506784\",\"ticks\":\"\"},\"bgcolor\":\"rgb(17,17,17)\",\"caxis\":{\"gridcolor\":\"#506784\",\"linecolor\":\"#506784\",\"ticks\":\"\"}},\"title\":{\"x\":0.05},\"updatemenudefaults\":{\"bgcolor\":\"#506784\",\"borderwidth\":0},\"xaxis\":{\"automargin\":true,\"gridcolor\":\"#283442\",\"linecolor\":\"#506784\",\"ticks\":\"\",\"title\":{\"standoff\":15},\"zerolinecolor\":\"#283442\",\"zerolinewidth\":2},\"yaxis\":{\"automargin\":true,\"gridcolor\":\"#283442\",\"linecolor\":\"#506784\",\"ticks\":\"\",\"title\":{\"standoff\":15},\"zerolinecolor\":\"#283442\",\"zerolinewidth\":2}}},\"xaxis\":{\"anchor\":\"y\",\"domain\":[0.0,1.0],\"title\":{\"text\":\"Year\"}},\"yaxis\":{\"anchor\":\"x\",\"domain\":[0.0,1.0],\"title\":{\"text\":\"Annual Inflation CPI\"}},\"legend\":{\"title\":{\"text\":\"Country\"},\"tracegroupgap\":0},\"title\":{\"text\":\"Annual Inflation (CPI) by Year for Each Country\"},\"height\":600,\"width\":1000,\"updatemenus\":[{\"buttons\":[{\"args\":[{\"visible\":[true,false,false,false,false,false,false,false,false,false,false,false,false]},{\"title\":\"Annual Inflation (CPI) by Year for Algeria\"}],\"label\":\"Algeria\",\"method\":\"update\"},{\"args\":[{\"visible\":[false,true,false,false,false,false,false,false,false,false,false,false,false]},{\"title\":\"Annual Inflation (CPI) by Year for Angola\"}],\"label\":\"Angola\",\"method\":\"update\"},{\"args\":[{\"visible\":[false,false,true,false,false,false,false,false,false,false,false,false,false]},{\"title\":\"Annual Inflation (CPI) by Year for Central African Republic\"}],\"label\":\"Central African Republic\",\"method\":\"update\"},{\"args\":[{\"visible\":[false,false,false,true,false,false,false,false,false,false,false,false,false]},{\"title\":\"Annual Inflation (CPI) by Year for Ivory Coast\"}],\"label\":\"Ivory Coast\",\"method\":\"update\"},{\"args\":[{\"visible\":[false,false,false,false,true,false,false,false,false,false,false,false,false]},{\"title\":\"Annual Inflation (CPI) by Year for Egypt\"}],\"label\":\"Egypt\",\"method\":\"update\"},{\"args\":[{\"visible\":[false,false,false,false,false,true,false,false,false,false,false,false,false]},{\"title\":\"Annual Inflation (CPI) by Year for Kenya\"}],\"label\":\"Kenya\",\"method\":\"update\"},{\"args\":[{\"visible\":[false,false,false,false,false,false,true,false,false,false,false,false,false]},{\"title\":\"Annual Inflation (CPI) by Year for Mauritius\"}],\"label\":\"Mauritius\",\"method\":\"update\"},{\"args\":[{\"visible\":[false,false,false,false,false,false,false,true,false,false,false,false,false]},{\"title\":\"Annual Inflation (CPI) by Year for Morocco\"}],\"label\":\"Morocco\",\"method\":\"update\"},{\"args\":[{\"visible\":[false,false,false,false,false,false,false,false,true,false,false,false,false]},{\"title\":\"Annual Inflation (CPI) by Year for Nigeria\"}],\"label\":\"Nigeria\",\"method\":\"update\"},{\"args\":[{\"visible\":[false,false,false,false,false,false,false,false,false,true,false,false,false]},{\"title\":\"Annual Inflation (CPI) by Year for South Africa\"}],\"label\":\"South Africa\",\"method\":\"update\"},{\"args\":[{\"visible\":[false,false,false,false,false,false,false,false,false,false,true,false,false]},{\"title\":\"Annual Inflation (CPI) by Year for Tunisia\"}],\"label\":\"Tunisia\",\"method\":\"update\"},{\"args\":[{\"visible\":[false,false,false,false,false,false,false,false,false,false,false,true,false]},{\"title\":\"Annual Inflation (CPI) by Year for Zambia\"}],\"label\":\"Zambia\",\"method\":\"update\"},{\"args\":[{\"visible\":[false,false,false,false,false,false,false,false,false,false,false,false,true]},{\"title\":\"Annual Inflation (CPI) by Year for Zimbabwe\"}],\"label\":\"Zimbabwe\",\"method\":\"update\"}],\"direction\":\"down\",\"showactive\":true}]},                        {\"responsive\": true}                    ).then(function(){\n",
       "                            \n",
       "var gd = document.getElementById('e8429aeb-a600-4bef-af4f-ca90aea61bde');\n",
       "var x = new MutationObserver(function (mutations, observer) {{\n",
       "        var display = window.getComputedStyle(gd).display;\n",
       "        if (!display || display === 'none') {{\n",
       "            console.log([gd, 'removed!']);\n",
       "            Plotly.purge(gd);\n",
       "            observer.disconnect();\n",
       "        }}\n",
       "}});\n",
       "\n",
       "// Listen for the removal of the full notebook cells\n",
       "var notebookContainer = gd.closest('#notebook-container');\n",
       "if (notebookContainer) {{\n",
       "    x.observe(notebookContainer, {childList: true});\n",
       "}}\n",
       "\n",
       "// Listen for the clearing of the current output cell\n",
       "var outputEl = gd.closest('.output');\n",
       "if (outputEl) {{\n",
       "    x.observe(outputEl, {childList: true});\n",
       "}}\n",
       "\n",
       "                        })                };                });            </script>        </div>"
      ]
     },
     "metadata": {},
     "output_type": "display_data"
    }
   ],
   "source": [
    "fig = px.line(df, x='year', y='inflation_annual_cpi', color='country', \n",
    "              title=\"Annual Inflation (CPI) by Year for Each Country\",\n",
    "              template='plotly_dark',\n",
    "              markers=True)\n",
    "\n",
    "fig.update_layout(\n",
    "    xaxis_title='Year',\n",
    "    yaxis_title='Annual Inflation CPI',\n",
    "    legend_title='Country',\n",
    "    height=600,\n",
    "    width=1000,\n",
    "    updatemenus=[\n",
    "        {\n",
    "            \"buttons\": [\n",
    "                {\n",
    "                    \"method\": \"update\",\n",
    "                    \"label\": country,\n",
    "                    \"args\": [\n",
    "                        {\"visible\": [c == country for c in df[\"country\"].unique()]},\n",
    "                        {\"title\": f\"Annual Inflation (CPI) by Year for {country}\"}\n",
    "                    ],\n",
    "                } for country in df[\"country\"].unique()\n",
    "            ],\n",
    "            \"direction\": \"down\",\n",
    "            \"showactive\": True,\n",
    "        }\n",
    "    ]\n",
    ")\n",
    "\n",
    "fig.show()"
   ]
  },
  {
   "cell_type": "code",
   "execution_count": 73,
   "id": "ffbbf697-2b82-4303-8f71-1970c9c526f5",
   "metadata": {},
   "outputs": [
    {
     "data": {
      "application/vnd.plotly.v1+json": {
       "config": {
        "plotlyServerURL": "https://plot.ly"
       },
       "data": [
        {
         "hovertemplate": "country=Algeria<br>year=%{x}<br>exch_usd=%{y}<extra></extra>",
         "legendgroup": "Algeria",
         "line": {
          "color": "#636efa",
          "dash": "solid"
         },
         "marker": {
          "symbol": "circle"
         },
         "mode": "lines+markers",
         "name": "Algeria",
         "showlegend": true,
         "type": "scattergl",
         "visible": false,
         "x": [
          1870,
          1871,
          1872,
          1873,
          1874,
          1875,
          1876,
          1877,
          1878,
          1879,
          1880,
          1881,
          1882,
          1883,
          1884,
          1939,
          1940,
          1941,
          1942,
          1943,
          1944,
          1945,
          1946,
          1947,
          1948,
          1949,
          1950,
          1951,
          1952,
          1953,
          1954,
          1955,
          1956,
          1957,
          1958,
          1959,
          1960,
          1961,
          1968,
          1969,
          1970,
          1971,
          1972,
          1973,
          1974,
          1975,
          1976,
          1977,
          1978,
          1979,
          1980,
          1981,
          1982,
          1983,
          1984,
          1985,
          1986,
          1987,
          1988,
          1989,
          1990,
          1991,
          1992,
          1993,
          1994,
          1995,
          1996,
          1997,
          1998,
          1999,
          2000,
          2001,
          2002,
          2003,
          2004,
          2005,
          2006,
          2007,
          2008,
          2009,
          2010,
          2011,
          2012,
          2013,
          2014
         ],
         "xaxis": "x",
         "y": [
          0.052264,
          0.052798,
          0.052274,
          0.05168,
          0.051308,
          0.051546,
          0.051867,
          0.051867,
          0.051948,
          0.052029,
          0.052356,
          0.052029,
          0.050761,
          0.052002,
          0.052165,
          0.44903,
          0.49189,
          0.44937,
          0.75,
          0.5,
          0.5,
          1.191,
          1.191,
          1.193,
          2.662,
          3.49,
          3.499,
          3.5,
          3.5,
          3.5,
          3.5,
          3.5,
          3.5,
          4.199,
          4.906,
          4.909,
          4.93706,
          4.93706,
          4.93706,
          4.93706,
          4.93706,
          4.644,
          4.556,
          4.185,
          3.997,
          4.125,
          4.359,
          4.035,
          3.8345,
          3.7555,
          3.9715,
          4.378,
          4.6355,
          4.9165,
          5.1227,
          4.7728,
          4.8235,
          4.9363,
          6.7308,
          8.0324,
          12.1908,
          21.3919,
          22.7814,
          24.123,
          42.8925,
          52.175,
          56.1859,
          58.4139,
          60.3531,
          69.3143,
          75.3428,
          77.8196,
          79.7234,
          72.6128,
          72.6137,
          73.3799,
          71.1582,
          66.8299,
          71.1826,
          72.7309,
          74.9437,
          76.0563,
          78.1025,
          78.1487013,
          87.9706983
         ],
         "yaxis": "y"
        },
        {
         "hovertemplate": "country=Angola<br>year=%{x}<br>exch_usd=%{y}<extra></extra>",
         "legendgroup": "Angola",
         "line": {
          "color": "#EF553B",
          "dash": "solid"
         },
         "marker": {
          "symbol": "circle"
         },
         "mode": "lines+markers",
         "name": "Angola",
         "showlegend": true,
         "type": "scattergl",
         "visible": false,
         "x": [
          1921,
          1922,
          1923,
          1924,
          1925,
          1926,
          1927,
          1928,
          1929,
          1930,
          1931,
          1932,
          1933,
          1934,
          1935,
          1936,
          1937,
          1938,
          1939,
          1940,
          1941,
          1942,
          1943,
          1944,
          1945,
          1946,
          1947,
          1948,
          1949,
          1950,
          1951,
          1952,
          1953,
          1954,
          1955,
          1956,
          1957,
          1958,
          1959,
          1960,
          1961,
          1962,
          1970,
          1971,
          1972,
          1973,
          1974,
          1975,
          1976,
          1977,
          1978,
          1979,
          1980,
          1991,
          1992,
          1993,
          1994,
          1995,
          1996,
          1997,
          1998,
          1999,
          2000,
          2001,
          2002,
          2003,
          2004,
          2005,
          2006,
          2007,
          2008,
          2009,
          2010,
          2011,
          2012,
          2013,
          2014
         ],
         "xaxis": "x",
         "y": [
          1.25e-08,
          2.21e-08,
          2.81e-08,
          2.08e-08,
          1.95e-08,
          1.95e-08,
          2.02e-08,
          2.27e-08,
          2.22e-08,
          2.23e-08,
          3.1e-08,
          3.31e-08,
          2.13e-08,
          2.22e-08,
          2.23e-08,
          2.25e-08,
          2.21e-08,
          2.36e-08,
          2.77e-08,
          2.51e-08,
          2.5e-08,
          2.5e-08,
          2.5e-08,
          2.5e-08,
          2.5e-08,
          2.63e-08,
          2.5e-08,
          2.58e-08,
          2.86e-08,
          2.91e-08,
          2.91e-08,
          2.9e-08,
          2.9e-08,
          2.88e-08,
          2.88e-08,
          2.88e-08,
          2.88e-08,
          2.88e-08,
          2.89e-08,
          2.88e-08,
          2.88e-08,
          2.89e-08,
          2.88e-08,
          2.76e-08,
          2.7e-08,
          2.58e-08,
          2.46e-08,
          2.75e-08,
          2.99e-08,
          2.99e-08,
          2.99e-08,
          2.99e-08,
          2.99e-08,
          1.8e-07,
          5.5e-07,
          6.5e-06,
          0.000509262,
          0.005692,
          0.201994,
          0.262376,
          0.6965,
          5.57992,
          16.81784,
          31.94936,
          58.66637,
          79.08149,
          85.98779,
          80.77951,
          80.26442,
          75.023,
          75.169,
          89.398,
          92.643,
          95.272,
          95.82588521,
          97.56,
          101.49
         ],
         "yaxis": "y"
        },
        {
         "hovertemplate": "country=Central African Republic<br>year=%{x}<br>exch_usd=%{y}<extra></extra>",
         "legendgroup": "Central African Republic",
         "line": {
          "color": "#00cc96",
          "dash": "solid"
         },
         "marker": {
          "symbol": "circle"
         },
         "mode": "lines+markers",
         "name": "Central African Republic",
         "showlegend": true,
         "type": "scattergl",
         "visible": false,
         "x": [
          1957,
          1958,
          1959,
          1960,
          1961,
          1962,
          1963,
          1964,
          1965,
          1966,
          1967,
          1968,
          1969,
          1970,
          1971,
          1972,
          1973,
          1974,
          1975,
          1976,
          1977,
          1978,
          1979,
          1980,
          1981,
          1982,
          1983,
          1984,
          1985,
          1986,
          1987,
          1988,
          1989,
          1990,
          1991,
          1992,
          1993,
          1994,
          1995,
          1996,
          1997,
          1998,
          1999,
          2000,
          2001,
          2002,
          2003,
          2004,
          2005,
          2006,
          2007,
          2008,
          2009,
          2010,
          2011,
          2012,
          2013,
          2014
         ],
         "xaxis": "x",
         "y": [
          209.9498515,
          245.2998265,
          245.4498264,
          245.1298266,
          245.0648267,
          245.0048267,
          245.0998266,
          245.0048267,
          245.0748266,
          247.5898249,
          245.4248264,
          247.404825,
          277.9148034,
          276.0248048,
          261.2248152,
          256.0498189,
          235.4248335,
          222.2248428,
          224.2748413,
          248.4873242,
          235.2498335,
          208.9998521,
          200.9998578,
          225.7998402,
          287.3997967,
          336.2497621,
          417.3747047,
          479.5996607,
          378.0497326,
          322.7497717,
          266.9998111,
          302.9497857,
          289.3997953,
          256.4498186,
          258.9998168,
          275.3248052,
          294.7747915,
          534.5996218,
          489.9996534,
          523.6996296,
          598.8095764,
          562.2096023,
          652.9534143,
          704.9511016,
          744.3061387,
          625.4953752,
          519.3642122,
          481.5777109,
          556.0371281,
          498.0690964,
          445.5926907,
          471.3350578,
          455.3359711,
          490.9122886,
          506.9611253,
          497.1631044,
          475.6413603,
          540.2825138
         ],
         "yaxis": "y"
        },
        {
         "hovertemplate": "country=Ivory Coast<br>year=%{x}<br>exch_usd=%{y}<extra></extra>",
         "legendgroup": "Ivory Coast",
         "line": {
          "color": "#ab63fa",
          "dash": "solid"
         },
         "marker": {
          "symbol": "circle"
         },
         "mode": "lines+markers",
         "name": "Ivory Coast",
         "showlegend": true,
         "type": "scattergl",
         "visible": false,
         "x": [
          1952,
          1953,
          1954,
          1955,
          1956,
          1957,
          1958,
          1959,
          1960,
          1961,
          1962,
          1963,
          1964,
          1965,
          1966,
          1967,
          1968,
          1969,
          1970,
          1971,
          1972,
          1973,
          1974,
          1975,
          1976,
          1977,
          1978,
          1979,
          1980,
          1981,
          1982,
          1983,
          1984,
          1985,
          1986,
          1987,
          1988,
          1989,
          1990,
          1991,
          1992,
          1993,
          1994,
          1995,
          1996,
          1997,
          1998,
          1999,
          2000,
          2001,
          2002,
          2003,
          2004,
          2005,
          2006,
          2007,
          2008,
          2009,
          2010,
          2011,
          2012,
          2013,
          2014
         ],
         "xaxis": "x",
         "y": [
          0,
          0,
          0,
          0,
          0,
          0,
          0,
          0,
          0,
          0,
          0,
          0,
          0,
          0,
          0,
          0,
          0,
          0,
          278,
          264,
          255.5,
          238,
          222,
          220,
          247,
          236,
          243.5,
          205,
          221,
          290,
          352,
          450,
          486.5,
          380,
          319,
          277,
          310,
          305,
          267,
          265,
          278,
          297,
          540,
          495,
          525.7,
          616,
          576,
          0,
          0,
          0,
          0,
          0,
          0,
          0,
          0,
          0,
          0,
          0,
          0,
          0,
          0,
          0,
          0
         ],
         "yaxis": "y"
        },
        {
         "hovertemplate": "country=Egypt<br>year=%{x}<br>exch_usd=%{y}<extra></extra>",
         "legendgroup": "Egypt",
         "line": {
          "color": "#FFA15A",
          "dash": "solid"
         },
         "marker": {
          "symbol": "circle"
         },
         "mode": "lines+markers",
         "name": "Egypt",
         "showlegend": true,
         "type": "scattergl",
         "visible": false,
         "x": [
          1860,
          1861,
          1862,
          1863,
          1864,
          1865,
          1866,
          1867,
          1868,
          1869,
          1870,
          1871,
          1872,
          1873,
          1874,
          1875,
          1876,
          1877,
          1878,
          1879,
          1880,
          1881,
          1882,
          1883,
          1884,
          1885,
          1886,
          1887,
          1888,
          1889,
          1890,
          1891,
          1892,
          1893,
          1894,
          1895,
          1896,
          1897,
          1898,
          1899,
          1900,
          1901,
          1902,
          1903,
          1904,
          1905,
          1906,
          1907,
          1908,
          1909,
          1910,
          1911,
          1912,
          1913,
          1914,
          1915,
          1916,
          1917,
          1918,
          1919,
          1920,
          1921,
          1922,
          1923,
          1924,
          1925,
          1926,
          1927,
          1928,
          1929,
          1930,
          1931,
          1932,
          1933,
          1934,
          1935,
          1936,
          1937,
          1938,
          1939,
          1940,
          1941,
          1942,
          1943,
          1944,
          1945,
          1946,
          1947,
          1948,
          1949,
          1950,
          1951,
          1952,
          1953,
          1954,
          1955,
          1956,
          1957,
          1958,
          1959,
          1960,
          1961,
          1962,
          1963,
          1964,
          1965,
          1966,
          1967,
          1968,
          1969,
          1970,
          1971,
          1972,
          1973,
          1974,
          1975,
          1976,
          1977,
          1978,
          1979,
          1980,
          1981,
          1982,
          1983,
          1984,
          1985,
          1986,
          1987,
          1988,
          1989,
          1990,
          1991,
          1992,
          1993,
          1994,
          1995,
          1996,
          1997,
          1998,
          1999,
          2000,
          2001,
          2002,
          2003,
          2004,
          2005,
          2006,
          2007,
          2008,
          2009,
          2010,
          2011,
          2012,
          2013,
          2014
         ],
         "xaxis": "x",
         "y": [
          0.20661157,
          0.20661157,
          0.20661157,
          0.20661157,
          0.20661157,
          0.20661157,
          0.20661157,
          0.20661157,
          0.20661157,
          0.1967,
          0.196,
          0.1978,
          0.1984,
          0.197,
          0.198,
          0.1941,
          0.1983,
          0.1955,
          0.1967,
          0.1981,
          0.201,
          0.2,
          0.1998,
          0.1998,
          0.2003,
          0.1991,
          0.2007,
          0.1999,
          0.1987,
          0.2005,
          0.2003,
          0.201,
          0.1993,
          0.1983,
          0.199,
          0.1971,
          0.1976,
          0.1986,
          0.1985,
          0.1951,
          0.1999,
          0.1975,
          0.1988,
          0.2009,
          0.1994,
          0.201,
          0.2003,
          0.2006,
          0.1994,
          0.1995,
          0.1999,
          0.1996,
          0.1998,
          0.2007,
          0.1996,
          0.206,
          0.2049,
          0.2049,
          0.2042,
          0.2554,
          0.2787,
          0.2343,
          0.2112,
          0.2244,
          0.2074,
          0.2008,
          0.2011,
          0.1998,
          0.201,
          0.1998,
          0.2008,
          0.289,
          0.2975,
          0.1906,
          0.1971,
          0.1979,
          0.1987,
          0.1952,
          0.2088,
          0.2481,
          0.2416,
          0.2416,
          0.2416,
          0.2416,
          0.2416,
          0.2416,
          0.2416,
          0.2416,
          0.2416,
          0.3484,
          0.3484,
          0.3484,
          0.3484,
          0.3484,
          0.3484,
          0.3484,
          0.3484,
          0.3509,
          0.3509,
          0.3509,
          0.3509,
          0.3509,
          0.4348,
          0.4348,
          0.4348,
          0.4348,
          0.4348,
          0.4348,
          0.4348,
          0.4348,
          0.4348,
          0.4348,
          0.4348,
          0.4348,
          0.3913,
          0.3913,
          0.3913,
          0.3913,
          0.3913,
          0.7,
          0.699999999,
          0.699999999,
          0.699999999,
          0.699999999,
          0.7,
          0.7,
          0.7,
          0.7,
          0.7,
          1.1,
          2,
          3.33221,
          3.33861,
          3.3718,
          3.391,
          3.39,
          3.388,
          3.388,
          3.388,
          3.405,
          3.69,
          4.49,
          4.5,
          6.1532,
          6.1314,
          5.7322,
          5.7036,
          5.5038,
          5.5041,
          5.4754,
          5.7926,
          6.0169,
          6.3057,
          6.94,
          7.15
         ],
         "yaxis": "y"
        },
        {
         "hovertemplate": "country=Kenya<br>year=%{x}<br>exch_usd=%{y}<extra></extra>",
         "legendgroup": "Kenya",
         "line": {
          "color": "#19d3f3",
          "dash": "solid"
         },
         "marker": {
          "symbol": "circle"
         },
         "mode": "lines+markers",
         "name": "Kenya",
         "showlegend": true,
         "type": "scattergl",
         "visible": false,
         "x": [
          1948,
          1949,
          1950,
          1951,
          1952,
          1953,
          1954,
          1955,
          1956,
          1957,
          1958,
          1959,
          1960,
          1961,
          1962,
          1963,
          1964,
          1965,
          1966,
          1967,
          1968,
          1969,
          1970,
          1971,
          1972,
          1973,
          1974,
          1975,
          1976,
          1977,
          1978,
          1979,
          1980,
          1981,
          1982,
          1983,
          1984,
          1985,
          1986,
          1987,
          1988,
          1989,
          1990,
          1991,
          1992,
          1993,
          1994,
          1995,
          1996,
          1997,
          1998,
          1999,
          2000,
          2001,
          2002,
          2003,
          2004,
          2005,
          2006,
          2007,
          2008,
          2009,
          2010,
          2011,
          2012,
          2013,
          2014
         ],
         "xaxis": "x",
         "y": [
          4.9582,
          4.9582,
          7.1428,
          7.1428,
          7.1428,
          7.1428,
          7.1429,
          7.1429,
          7.1429,
          7.1429,
          7.1429,
          7.1429,
          7.1429,
          7.1429,
          7.1429,
          7.1429,
          7.1429,
          7.1429,
          7.1429,
          7.1429,
          7.1429,
          7.1429,
          7.1429,
          7.1429,
          7.1429,
          6.9,
          7.1429,
          7.1429,
          8.27,
          7.9471,
          7.1588,
          7.3276,
          7.568499999,
          10.2862,
          12.7249,
          13.7959,
          15.7813,
          16.2843,
          16.0422,
          16.5149,
          18.5994,
          21.601,
          24.0841,
          28.0741,
          36.2163,
          68.1631,
          44.8389,
          55.9389,
          55.0211,
          62.6778,
          61.9056,
          72.9306,
          78.0361,
          78.6,
          77.0722,
          76.1389,
          77.3444,
          72.3667,
          69.3967,
          62.675,
          77.71111111,
          75.82,
          80.75194444,
          85.0681,
          86.0008,
          86.31,
          89.35
         ],
         "yaxis": "y"
        },
        {
         "hovertemplate": "country=Mauritius<br>year=%{x}<br>exch_usd=%{y}<extra></extra>",
         "legendgroup": "Mauritius",
         "line": {
          "color": "#FF6692",
          "dash": "solid"
         },
         "marker": {
          "symbol": "circle"
         },
         "mode": "lines+markers",
         "name": "Mauritius",
         "showlegend": true,
         "type": "scattergl",
         "visible": false,
         "x": [
          1947,
          1948,
          1949,
          1950,
          1951,
          1952,
          1953,
          1954,
          1955,
          1956,
          1957,
          1958,
          1959,
          1960,
          1961,
          1962,
          1963,
          1964,
          1965,
          1966,
          1967,
          1968,
          1969,
          1970,
          1971,
          1972,
          1973,
          1974,
          1975,
          1976,
          1977,
          1978,
          1979,
          1980,
          1981,
          1982,
          1983,
          1984,
          1985,
          1986,
          1987,
          1988,
          1989,
          1990,
          1991,
          1992,
          1993,
          1994,
          1995,
          1996,
          1997,
          1998,
          1999,
          2000,
          2001,
          2002,
          2003,
          2004,
          2005,
          2006,
          2007,
          2008,
          2009,
          2010,
          2011,
          2012,
          2013,
          2014
         ],
         "xaxis": "x",
         "y": [
          3.3085,
          3.3085,
          4.7619,
          4.7619,
          4.79201,
          4.74495,
          4.74292,
          4.78754,
          4.75544,
          4.78651,
          4.66297,
          4.75764,
          4.76189,
          4.75544,
          4.74816,
          4.75764,
          4.76768,
          4.77879,
          4.75714,
          4.77862,
          5.541,
          5.59189,
          5.55392,
          5.57016,
          5.22362,
          5.6783,
          5.7392,
          5.6774,
          6.5892,
          6.639,
          6.3503,
          5.921,
          7.5855,
          7.8349,
          10.3293,
          10.8605,
          12.7233,
          15.6033,
          14.31,
          13.1367,
          12.1752,
          13.8337,
          14.996,
          14.322,
          14.7939,
          16.998,
          18.6558,
          17.8626,
          17.6641,
          17.9715,
          22.265,
          24.7835,
          25.468,
          27.8817,
          30.3942,
          29.1968,
          26.0877,
          28.2044,
          30.6666,
          34.3368,
          28.2162,
          31.7555,
          30.2905,
          30.39,
          29.33,
          30.52,
          30.12512987,
          31.7374584
         ],
         "yaxis": "y"
        },
        {
         "hovertemplate": "country=Morocco<br>year=%{x}<br>exch_usd=%{y}<extra></extra>",
         "legendgroup": "Morocco",
         "line": {
          "color": "#B6E880",
          "dash": "solid"
         },
         "marker": {
          "symbol": "circle"
         },
         "mode": "lines+markers",
         "name": "Morocco",
         "showlegend": true,
         "type": "scattergl",
         "visible": false,
         "x": [
          1940,
          1941,
          1942,
          1943,
          1944,
          1945,
          1946,
          1947,
          1948,
          1949,
          1950,
          1951,
          1952,
          1953,
          1954,
          1955,
          1956,
          1957,
          1958,
          1959,
          1960,
          1961,
          1962,
          1963,
          1964,
          1965,
          1966,
          1967,
          1968,
          1969,
          1970,
          1971,
          1972,
          1973,
          1974,
          1975,
          1976,
          1977,
          1978,
          1979,
          1980,
          1981,
          1982,
          1983,
          1984,
          1985,
          1986,
          1987,
          1988,
          1989,
          1990,
          1991,
          1992,
          1993,
          1994,
          1995,
          1996,
          1997,
          1998,
          1999,
          2000,
          2001,
          2002,
          2003,
          2004,
          2005,
          2006,
          2007,
          2008,
          2009,
          2010,
          2011,
          2012,
          2013,
          2014
         ],
         "xaxis": "x",
         "y": [
          0.917,
          0.917,
          0.75,
          0.5,
          0.5674,
          0.5657,
          1.2228,
          1.2228,
          1.2228,
          2.197,
          3.5824,
          3.5824,
          3.5824,
          3.5824,
          3.5824,
          3.5824,
          3.5824,
          3.5875,
          4.2958,
          4.908,
          5.0605,
          5.0605,
          5.0241,
          5.0226,
          5.0226,
          5.0235,
          5.0265,
          5.0276,
          5.0409,
          5.0493,
          5.0269,
          4.76,
          4.5569,
          3.8851,
          4.1548,
          3.8379,
          4.2041,
          4.32,
          3.88645,
          3.7388,
          4.334149999,
          5.333349999,
          6.267549999,
          8.060999999,
          9.551199999,
          9.621299999,
          8.7117,
          7.8003,
          8.2106,
          8.1218,
          8.0429,
          8.1499,
          9.0487,
          9.6512,
          8.9596,
          8.4689,
          8.7995,
          9.7141,
          9.2551,
          10.087,
          10.619,
          11.56,
          10.167,
          8.7499,
          8.2177,
          9.2494,
          8.4566,
          7.7132,
          8.0982,
          7.8601,
          8.3569,
          8.5772,
          8.4335,
          8.15,
          8.82
         ],
         "yaxis": "y"
        },
        {
         "hovertemplate": "country=Nigeria<br>year=%{x}<br>exch_usd=%{y}<extra></extra>",
         "legendgroup": "Nigeria",
         "line": {
          "color": "#FF97FF",
          "dash": "solid"
         },
         "marker": {
          "symbol": "circle"
         },
         "mode": "lines+markers",
         "name": "Nigeria",
         "showlegend": true,
         "type": "scattergl",
         "visible": true,
         "x": [
          1954,
          1955,
          1956,
          1957,
          1958,
          1959,
          1960,
          1961,
          1962,
          1963,
          1964,
          1965,
          1966,
          1967,
          1968,
          1969,
          1970,
          1971,
          1972,
          1973,
          1974,
          1975,
          1976,
          1977,
          1978,
          1979,
          1980,
          1981,
          1982,
          1983,
          1984,
          1985,
          1986,
          1987,
          1988,
          1989,
          1990,
          1992,
          1993,
          1994,
          1995,
          1996,
          1997,
          1998,
          1999,
          2000,
          2001,
          2002,
          2003,
          2004,
          2005,
          2006,
          2007,
          2008,
          2009,
          2010,
          2011,
          2012,
          2013,
          2014
         ],
         "xaxis": "x",
         "y": [
          0,
          0,
          0,
          0,
          0,
          0,
          0,
          0,
          0,
          0,
          0,
          0,
          0,
          0,
          0,
          0,
          0,
          0,
          0,
          0.657894999,
          0.616218881,
          0.614665929,
          0.631074088,
          0.651380928,
          0.64808814,
          0.570613409,
          0.544454729,
          0.636902109,
          0.670241287,
          0.748559024,
          0.808276754,
          0.99960016,
          3.316749585,
          4.140786749,
          5.353319058,
          7.651109411,
          9.00090009,
          19.64636542,
          21.88183807,
          21.99736032,
          21.88662727,
          21.8861,
          21.886,
          21.886,
          97.95,
          109.55,
          112.95,
          126.4,
          136.5,
          132.35,
          129,
          128.27,
          117.968,
          132.5625,
          149.581,
          150.6617,
          158.267,
          155.27,
          155.2,
          155.25
         ],
         "yaxis": "y"
        },
        {
         "hovertemplate": "country=South Africa<br>year=%{x}<br>exch_usd=%{y}<extra></extra>",
         "legendgroup": "South Africa",
         "line": {
          "color": "#FECB52",
          "dash": "solid"
         },
         "marker": {
          "symbol": "circle"
         },
         "mode": "lines+markers",
         "name": "South Africa",
         "showlegend": true,
         "type": "scattergl",
         "visible": false,
         "x": [
          1900,
          1901,
          1902,
          1903,
          1904,
          1905,
          1906,
          1907,
          1908,
          1909,
          1910,
          1911,
          1912,
          1913,
          1914,
          1915,
          1916,
          1917,
          1918,
          1919,
          1920,
          1921,
          1922,
          1923,
          1924,
          1925,
          1926,
          1927,
          1928,
          1929,
          1930,
          1931,
          1932,
          1933,
          1934,
          1935,
          1936,
          1937,
          1938,
          1939,
          1940,
          1941,
          1942,
          1943,
          1944,
          1945,
          1946,
          1947,
          1948,
          1949,
          1950,
          1951,
          1952,
          1953,
          1954,
          1955,
          1956,
          1957,
          1958,
          1959,
          1960,
          1961,
          1962,
          1963,
          1964,
          1965,
          1966,
          1967,
          1968,
          1969,
          1970,
          1971,
          1972,
          1973,
          1974,
          1975,
          1976,
          1977,
          1978,
          1979,
          1980,
          1981,
          1982,
          1983,
          1984,
          1985,
          1986,
          1987,
          1988,
          1989,
          1990,
          1991,
          1992,
          1993,
          1994,
          1995,
          1996,
          1997,
          1998,
          1999,
          2000,
          2001,
          2002,
          2003,
          2004,
          2005,
          2006,
          2007,
          2008,
          2009,
          2010,
          2011,
          2012,
          2013
         ],
         "xaxis": "x",
         "y": [
          0.2061,
          0.2045,
          0.2049,
          0.2047,
          0.20455,
          0.20485,
          0.2053,
          0.20405,
          0.2052,
          0.2049,
          0.2048,
          0.2051,
          0.20485,
          0.20485,
          0.18925,
          0.2063,
          0.20965,
          0.20985,
          0.2098,
          0.20985,
          0.2532,
          0.2406,
          0.21695,
          0.21295,
          0.21295,
          0.20575,
          0.2056,
          0.2065,
          0.2065,
          0.2065,
          0.2065,
          0.2065,
          0.2084,
          0.19635,
          0.1963,
          0.20385,
          0.2008,
          0.202,
          0.2012,
          0.21565,
          0.25125,
          0.25125,
          0.25125,
          0.25125,
          0.25125,
          0.2497,
          0.2497,
          0.3077,
          0.28985,
          0.31745,
          0.35715,
          0.35715,
          0.35715,
          0.35715,
          0.35715,
          0.35715,
          0.35715,
          0.3568,
          0.3554,
          0.35555,
          0.3557,
          0.3557,
          0.3557,
          0.3573,
          0.3576,
          0.3571,
          0.3571,
          0.7093,
          0.7119,
          0.7149,
          0.7131,
          0.696,
          0.7394,
          0.6667,
          0.6678,
          0.6725,
          0.8673,
          0.8681,
          0.8684,
          0.8244,
          0.745378653,
          0.956571648,
          1.076310408,
          1.221896383,
          1.984914649,
          2.557544764,
          2.183406114,
          1.929943067,
          2.377725468,
          2.536011361,
          2.562525625,
          2.743032697,
          3.053,
          3.3975,
          3.5435,
          3.6475,
          4.6825,
          4.8675,
          5.86,
          6.1545,
          7.5685,
          12.1265,
          8.64,
          6.64,
          5.63,
          6.325,
          6.97,
          6.81,
          9.305,
          7.38,
          6.6316,
          8.1429,
          8.50115,
          10.48985
         ],
         "yaxis": "y"
        },
        {
         "hovertemplate": "country=Tunisia<br>year=%{x}<br>exch_usd=%{y}<extra></extra>",
         "legendgroup": "Tunisia",
         "line": {
          "color": "#636efa",
          "dash": "solid"
         },
         "marker": {
          "symbol": "circle"
         },
         "mode": "lines+markers",
         "name": "Tunisia",
         "showlegend": true,
         "type": "scattergl",
         "visible": false,
         "x": [
          1940,
          1941,
          1942,
          1943,
          1944,
          1945,
          1946,
          1947,
          1948,
          1949,
          1950,
          1951,
          1952,
          1953,
          1954,
          1955,
          1956,
          1957,
          1958,
          1959,
          1960,
          1961,
          1962,
          1963,
          1964,
          1965,
          1966,
          1967,
          1968,
          1969,
          1970,
          1971,
          1972,
          1973,
          1974,
          1975,
          1976,
          1977,
          1978,
          1979,
          1980,
          1981,
          1982,
          1983,
          1984,
          1985,
          1986,
          1987,
          1988,
          1989,
          1990,
          1991,
          1992,
          1993,
          1994,
          1995,
          1996,
          1997,
          1998,
          1999,
          2000,
          2001,
          2002,
          2003,
          2004,
          2005,
          2006,
          2007,
          2008,
          2009,
          2010,
          2011,
          2012,
          2013,
          2014
         ],
         "xaxis": "x",
         "y": [
          49.189,
          44.937,
          129.831,
          50,
          55.355,
          55.191,
          119.3,
          119.3,
          119.3,
          214.34,
          349.5,
          349.5,
          349.5,
          349.5,
          349.5,
          349.5,
          349.5,
          350,
          0.4197,
          0.42,
          0.42,
          0.42,
          0.42,
          0.42,
          0.42,
          0.52,
          0.52,
          0.52,
          0.52,
          0.52,
          0.52,
          0.48,
          0.475,
          0.3865,
          0.425,
          0.4712,
          0.5587,
          0.4275,
          0.46,
          0.405,
          0.418699999,
          0.515649999,
          0.615749999,
          0.7271,
          0.8666,
          0.75695,
          0.8402,
          0.77785,
          0.89845,
          0.9046,
          0.83675,
          0.8645,
          0.95065,
          1.0466,
          0.9912,
          0.9508,
          0.9985,
          1.1475,
          1.101,
          1.2525,
          1.3853,
          1.4683,
          1.3341,
          1.2083,
          1.1994,
          1.3634,
          1.2971,
          1.2207,
          1.3099,
          1.3173,
          1.4379,
          1.4993,
          1.5506,
          1.653095696,
          1.862411798
         ],
         "yaxis": "y"
        },
        {
         "hovertemplate": "country=Zambia<br>year=%{x}<br>exch_usd=%{y}<extra></extra>",
         "legendgroup": "Zambia",
         "line": {
          "color": "#EF553B",
          "dash": "solid"
         },
         "marker": {
          "symbol": "circle"
         },
         "mode": "lines+markers",
         "name": "Zambia",
         "showlegend": true,
         "type": "scattergl",
         "visible": false,
         "x": [
          1943,
          1944,
          1945,
          1946,
          1947,
          1948,
          1949,
          1950,
          1951,
          1952,
          1953,
          1954,
          1955,
          1956,
          1957,
          1958,
          1959,
          1960,
          1961,
          1962,
          1963,
          1964,
          1965,
          1966,
          1967,
          1968,
          1969,
          1970,
          1971,
          1972,
          1973,
          1974,
          1975,
          1976,
          1977,
          1978,
          1979,
          1980,
          1981,
          1982,
          1983,
          1984,
          1985,
          1986,
          1987,
          1988,
          1989,
          1990,
          1991,
          1992,
          1993,
          1994,
          1995,
          1996,
          1997,
          1998,
          1999,
          2000,
          2001,
          2002,
          2003,
          2004,
          2005,
          2006,
          2007,
          2008,
          2009,
          2010,
          2011,
          2012,
          2013,
          2014
         ],
         "xaxis": "x",
         "y": [
          0.0004976,
          0.0004976,
          0.0004968,
          0.0004968,
          0.0004958,
          0.000496,
          0.0007142,
          0.000714,
          0.000719,
          0.0007118,
          0.0007116,
          0.000718,
          0.0007136,
          0.000718,
          0.000712,
          0.0007138,
          0.0007144,
          0.0007134,
          0.0007122,
          0.0007136,
          0.000715,
          0.0007168,
          0.0007136,
          0.0007168,
          0.0007104,
          0.0007168,
          0.0007126,
          0.0007141,
          0.0007143,
          0.0007143,
          0.0006429,
          0.0006429,
          0.0006429,
          0.0007934,
          0.0007589,
          0.0007862,
          0.0007775,
          0.0008031,
          0.00088,
          0.0009285,
          0.001236,
          0.002105,
          0.00563,
          0.01448,
          0.0077,
          0.0095,
          0.01841,
          0.0459,
          0.08733,
          0.31496,
          0.561,
          0.699,
          0.978,
          1.287,
          1.44,
          2.425,
          2.76,
          4.45,
          3.735,
          4.5,
          4.4,
          4.6,
          3.34,
          4.41722,
          3.83,
          4.83226,
          4.631,
          4.7899,
          5.11398,
          5.1466133,
          5.52,
          6.3856
         ],
         "yaxis": "y"
        },
        {
         "hovertemplate": "country=Zimbabwe<br>year=%{x}<br>exch_usd=%{y}<extra></extra>",
         "legendgroup": "Zimbabwe",
         "line": {
          "color": "#00cc96",
          "dash": "solid"
         },
         "marker": {
          "symbol": "circle"
         },
         "mode": "lines+markers",
         "name": "Zimbabwe",
         "showlegend": true,
         "type": "scattergl",
         "visible": false,
         "x": [
          1921,
          1922,
          1923,
          1927,
          1928,
          1929,
          1930,
          1931,
          1932,
          1933,
          1934,
          1935,
          1936,
          1937,
          1938,
          1939,
          1940,
          1941,
          1942,
          1943,
          1944,
          1945,
          1946,
          1947,
          1948,
          1949,
          1950,
          1951,
          1952,
          1953,
          1954,
          1955,
          1956,
          1957,
          1958,
          1959,
          1960,
          1961,
          1962,
          1963,
          1964,
          1965,
          1966,
          1967,
          1968,
          1969,
          1970,
          1971,
          1972,
          1973,
          1974,
          1975,
          1976,
          1977,
          1978,
          1979,
          1980,
          1981,
          1982,
          1983,
          1984,
          1985,
          1986,
          1987,
          1988,
          1989,
          1990,
          1991,
          1992,
          1993,
          1994,
          1995,
          1996,
          1997,
          1998,
          1999,
          2000,
          2001,
          2002,
          2003,
          2004,
          2005,
          2006,
          2007,
          2008,
          2009,
          2010,
          2011,
          2012,
          2013
         ],
         "xaxis": "x",
         "y": [
          4.81e-27,
          4.34e-27,
          4.59e-27,
          4.1000000000000006e-27,
          4.12e-27,
          4.1000000000000006e-27,
          4.12e-27,
          5.9300000000000006e-27,
          6.100000000000001e-27,
          3.91e-27,
          4.0400000000000005e-27,
          4.06e-27,
          4.08e-27,
          4e-27,
          4.28e-27,
          5.09e-27,
          4.9600000000000006e-27,
          4.9600000000000006e-27,
          4.9600000000000006e-27,
          4.9600000000000006e-27,
          4.9600000000000006e-27,
          4.9600000000000006e-27,
          4.9600000000000006e-27,
          4.9600000000000006e-27,
          4.9600000000000006e-27,
          7.140000000000001e-27,
          7.140000000000001e-27,
          7.140000000000001e-27,
          7.140000000000001e-27,
          7.140000000000001e-27,
          7.140000000000001e-27,
          7.140000000000001e-27,
          7.18e-27,
          7.1e-27,
          7.1e-27,
          7.12e-27,
          7.150000000000001e-27,
          7.11e-27,
          7.140000000000001e-27,
          7.140000000000001e-27,
          7.140000000000001e-27,
          7.140000000000001e-27,
          7.140000000000001e-27,
          7.140000000000001e-27,
          7.140000000000001e-27,
          7.140000000000001e-27,
          7.16e-27,
          6.71e-27,
          6.520000000000001e-27,
          6.06e-27,
          5.490000000000001e-27,
          6.25e-27,
          6.190000000000001e-27,
          6.470000000000001e-27,
          6.750000000000001e-27,
          6.740000000000001e-27,
          6.31e-27,
          7.23e-27,
          7.39e-27,
          1.11e-26,
          1.4500000000000002e-26,
          1.63e-26,
          1.68e-26,
          1.6e-26,
          1.93e-26,
          2.22e-26,
          2.61e-26,
          5.04e-26,
          5.37e-26,
          6.81e-26,
          8.38e-26,
          9.31e-26,
          1.08e-25,
          1.83e-25,
          3.71e-25,
          3.72e-25,
          5.5e-25,
          5.51e-25,
          5.5e-25,
          7.949999999999999e-24,
          5.600000000000001e-23,
          8.46e-22,
          3e-19,
          1.9e-16,
          0.002,
          354.8,
          378.2,
          361.9,
          361.9,
          361.9
         ],
         "yaxis": "y"
        }
       ],
       "layout": {
        "height": 600,
        "legend": {
         "title": {
          "text": "Country"
         },
         "tracegroupgap": 0
        },
        "template": {
         "data": {
          "bar": [
           {
            "error_x": {
             "color": "#f2f5fa"
            },
            "error_y": {
             "color": "#f2f5fa"
            },
            "marker": {
             "line": {
              "color": "rgb(17,17,17)",
              "width": 0.5
             },
             "pattern": {
              "fillmode": "overlay",
              "size": 10,
              "solidity": 0.2
             }
            },
            "type": "bar"
           }
          ],
          "barpolar": [
           {
            "marker": {
             "line": {
              "color": "rgb(17,17,17)",
              "width": 0.5
             },
             "pattern": {
              "fillmode": "overlay",
              "size": 10,
              "solidity": 0.2
             }
            },
            "type": "barpolar"
           }
          ],
          "carpet": [
           {
            "aaxis": {
             "endlinecolor": "#A2B1C6",
             "gridcolor": "#506784",
             "linecolor": "#506784",
             "minorgridcolor": "#506784",
             "startlinecolor": "#A2B1C6"
            },
            "baxis": {
             "endlinecolor": "#A2B1C6",
             "gridcolor": "#506784",
             "linecolor": "#506784",
             "minorgridcolor": "#506784",
             "startlinecolor": "#A2B1C6"
            },
            "type": "carpet"
           }
          ],
          "choropleth": [
           {
            "colorbar": {
             "outlinewidth": 0,
             "ticks": ""
            },
            "type": "choropleth"
           }
          ],
          "contour": [
           {
            "colorbar": {
             "outlinewidth": 0,
             "ticks": ""
            },
            "colorscale": [
             [
              0,
              "#0d0887"
             ],
             [
              0.1111111111111111,
              "#46039f"
             ],
             [
              0.2222222222222222,
              "#7201a8"
             ],
             [
              0.3333333333333333,
              "#9c179e"
             ],
             [
              0.4444444444444444,
              "#bd3786"
             ],
             [
              0.5555555555555556,
              "#d8576b"
             ],
             [
              0.6666666666666666,
              "#ed7953"
             ],
             [
              0.7777777777777778,
              "#fb9f3a"
             ],
             [
              0.8888888888888888,
              "#fdca26"
             ],
             [
              1,
              "#f0f921"
             ]
            ],
            "type": "contour"
           }
          ],
          "contourcarpet": [
           {
            "colorbar": {
             "outlinewidth": 0,
             "ticks": ""
            },
            "type": "contourcarpet"
           }
          ],
          "heatmap": [
           {
            "colorbar": {
             "outlinewidth": 0,
             "ticks": ""
            },
            "colorscale": [
             [
              0,
              "#0d0887"
             ],
             [
              0.1111111111111111,
              "#46039f"
             ],
             [
              0.2222222222222222,
              "#7201a8"
             ],
             [
              0.3333333333333333,
              "#9c179e"
             ],
             [
              0.4444444444444444,
              "#bd3786"
             ],
             [
              0.5555555555555556,
              "#d8576b"
             ],
             [
              0.6666666666666666,
              "#ed7953"
             ],
             [
              0.7777777777777778,
              "#fb9f3a"
             ],
             [
              0.8888888888888888,
              "#fdca26"
             ],
             [
              1,
              "#f0f921"
             ]
            ],
            "type": "heatmap"
           }
          ],
          "heatmapgl": [
           {
            "colorbar": {
             "outlinewidth": 0,
             "ticks": ""
            },
            "colorscale": [
             [
              0,
              "#0d0887"
             ],
             [
              0.1111111111111111,
              "#46039f"
             ],
             [
              0.2222222222222222,
              "#7201a8"
             ],
             [
              0.3333333333333333,
              "#9c179e"
             ],
             [
              0.4444444444444444,
              "#bd3786"
             ],
             [
              0.5555555555555556,
              "#d8576b"
             ],
             [
              0.6666666666666666,
              "#ed7953"
             ],
             [
              0.7777777777777778,
              "#fb9f3a"
             ],
             [
              0.8888888888888888,
              "#fdca26"
             ],
             [
              1,
              "#f0f921"
             ]
            ],
            "type": "heatmapgl"
           }
          ],
          "histogram": [
           {
            "marker": {
             "pattern": {
              "fillmode": "overlay",
              "size": 10,
              "solidity": 0.2
             }
            },
            "type": "histogram"
           }
          ],
          "histogram2d": [
           {
            "colorbar": {
             "outlinewidth": 0,
             "ticks": ""
            },
            "colorscale": [
             [
              0,
              "#0d0887"
             ],
             [
              0.1111111111111111,
              "#46039f"
             ],
             [
              0.2222222222222222,
              "#7201a8"
             ],
             [
              0.3333333333333333,
              "#9c179e"
             ],
             [
              0.4444444444444444,
              "#bd3786"
             ],
             [
              0.5555555555555556,
              "#d8576b"
             ],
             [
              0.6666666666666666,
              "#ed7953"
             ],
             [
              0.7777777777777778,
              "#fb9f3a"
             ],
             [
              0.8888888888888888,
              "#fdca26"
             ],
             [
              1,
              "#f0f921"
             ]
            ],
            "type": "histogram2d"
           }
          ],
          "histogram2dcontour": [
           {
            "colorbar": {
             "outlinewidth": 0,
             "ticks": ""
            },
            "colorscale": [
             [
              0,
              "#0d0887"
             ],
             [
              0.1111111111111111,
              "#46039f"
             ],
             [
              0.2222222222222222,
              "#7201a8"
             ],
             [
              0.3333333333333333,
              "#9c179e"
             ],
             [
              0.4444444444444444,
              "#bd3786"
             ],
             [
              0.5555555555555556,
              "#d8576b"
             ],
             [
              0.6666666666666666,
              "#ed7953"
             ],
             [
              0.7777777777777778,
              "#fb9f3a"
             ],
             [
              0.8888888888888888,
              "#fdca26"
             ],
             [
              1,
              "#f0f921"
             ]
            ],
            "type": "histogram2dcontour"
           }
          ],
          "mesh3d": [
           {
            "colorbar": {
             "outlinewidth": 0,
             "ticks": ""
            },
            "type": "mesh3d"
           }
          ],
          "parcoords": [
           {
            "line": {
             "colorbar": {
              "outlinewidth": 0,
              "ticks": ""
             }
            },
            "type": "parcoords"
           }
          ],
          "pie": [
           {
            "automargin": true,
            "type": "pie"
           }
          ],
          "scatter": [
           {
            "marker": {
             "line": {
              "color": "#283442"
             }
            },
            "type": "scatter"
           }
          ],
          "scatter3d": [
           {
            "line": {
             "colorbar": {
              "outlinewidth": 0,
              "ticks": ""
             }
            },
            "marker": {
             "colorbar": {
              "outlinewidth": 0,
              "ticks": ""
             }
            },
            "type": "scatter3d"
           }
          ],
          "scattercarpet": [
           {
            "marker": {
             "colorbar": {
              "outlinewidth": 0,
              "ticks": ""
             }
            },
            "type": "scattercarpet"
           }
          ],
          "scattergeo": [
           {
            "marker": {
             "colorbar": {
              "outlinewidth": 0,
              "ticks": ""
             }
            },
            "type": "scattergeo"
           }
          ],
          "scattergl": [
           {
            "marker": {
             "line": {
              "color": "#283442"
             }
            },
            "type": "scattergl"
           }
          ],
          "scattermapbox": [
           {
            "marker": {
             "colorbar": {
              "outlinewidth": 0,
              "ticks": ""
             }
            },
            "type": "scattermapbox"
           }
          ],
          "scatterpolar": [
           {
            "marker": {
             "colorbar": {
              "outlinewidth": 0,
              "ticks": ""
             }
            },
            "type": "scatterpolar"
           }
          ],
          "scatterpolargl": [
           {
            "marker": {
             "colorbar": {
              "outlinewidth": 0,
              "ticks": ""
             }
            },
            "type": "scatterpolargl"
           }
          ],
          "scatterternary": [
           {
            "marker": {
             "colorbar": {
              "outlinewidth": 0,
              "ticks": ""
             }
            },
            "type": "scatterternary"
           }
          ],
          "surface": [
           {
            "colorbar": {
             "outlinewidth": 0,
             "ticks": ""
            },
            "colorscale": [
             [
              0,
              "#0d0887"
             ],
             [
              0.1111111111111111,
              "#46039f"
             ],
             [
              0.2222222222222222,
              "#7201a8"
             ],
             [
              0.3333333333333333,
              "#9c179e"
             ],
             [
              0.4444444444444444,
              "#bd3786"
             ],
             [
              0.5555555555555556,
              "#d8576b"
             ],
             [
              0.6666666666666666,
              "#ed7953"
             ],
             [
              0.7777777777777778,
              "#fb9f3a"
             ],
             [
              0.8888888888888888,
              "#fdca26"
             ],
             [
              1,
              "#f0f921"
             ]
            ],
            "type": "surface"
           }
          ],
          "table": [
           {
            "cells": {
             "fill": {
              "color": "#506784"
             },
             "line": {
              "color": "rgb(17,17,17)"
             }
            },
            "header": {
             "fill": {
              "color": "#2a3f5f"
             },
             "line": {
              "color": "rgb(17,17,17)"
             }
            },
            "type": "table"
           }
          ]
         },
         "layout": {
          "annotationdefaults": {
           "arrowcolor": "#f2f5fa",
           "arrowhead": 0,
           "arrowwidth": 1
          },
          "autotypenumbers": "strict",
          "coloraxis": {
           "colorbar": {
            "outlinewidth": 0,
            "ticks": ""
           }
          },
          "colorscale": {
           "diverging": [
            [
             0,
             "#8e0152"
            ],
            [
             0.1,
             "#c51b7d"
            ],
            [
             0.2,
             "#de77ae"
            ],
            [
             0.3,
             "#f1b6da"
            ],
            [
             0.4,
             "#fde0ef"
            ],
            [
             0.5,
             "#f7f7f7"
            ],
            [
             0.6,
             "#e6f5d0"
            ],
            [
             0.7,
             "#b8e186"
            ],
            [
             0.8,
             "#7fbc41"
            ],
            [
             0.9,
             "#4d9221"
            ],
            [
             1,
             "#276419"
            ]
           ],
           "sequential": [
            [
             0,
             "#0d0887"
            ],
            [
             0.1111111111111111,
             "#46039f"
            ],
            [
             0.2222222222222222,
             "#7201a8"
            ],
            [
             0.3333333333333333,
             "#9c179e"
            ],
            [
             0.4444444444444444,
             "#bd3786"
            ],
            [
             0.5555555555555556,
             "#d8576b"
            ],
            [
             0.6666666666666666,
             "#ed7953"
            ],
            [
             0.7777777777777778,
             "#fb9f3a"
            ],
            [
             0.8888888888888888,
             "#fdca26"
            ],
            [
             1,
             "#f0f921"
            ]
           ],
           "sequentialminus": [
            [
             0,
             "#0d0887"
            ],
            [
             0.1111111111111111,
             "#46039f"
            ],
            [
             0.2222222222222222,
             "#7201a8"
            ],
            [
             0.3333333333333333,
             "#9c179e"
            ],
            [
             0.4444444444444444,
             "#bd3786"
            ],
            [
             0.5555555555555556,
             "#d8576b"
            ],
            [
             0.6666666666666666,
             "#ed7953"
            ],
            [
             0.7777777777777778,
             "#fb9f3a"
            ],
            [
             0.8888888888888888,
             "#fdca26"
            ],
            [
             1,
             "#f0f921"
            ]
           ]
          },
          "colorway": [
           "#636efa",
           "#EF553B",
           "#00cc96",
           "#ab63fa",
           "#FFA15A",
           "#19d3f3",
           "#FF6692",
           "#B6E880",
           "#FF97FF",
           "#FECB52"
          ],
          "font": {
           "color": "#f2f5fa"
          },
          "geo": {
           "bgcolor": "rgb(17,17,17)",
           "lakecolor": "rgb(17,17,17)",
           "landcolor": "rgb(17,17,17)",
           "showlakes": true,
           "showland": true,
           "subunitcolor": "#506784"
          },
          "hoverlabel": {
           "align": "left"
          },
          "hovermode": "closest",
          "mapbox": {
           "style": "dark"
          },
          "paper_bgcolor": "rgb(17,17,17)",
          "plot_bgcolor": "rgb(17,17,17)",
          "polar": {
           "angularaxis": {
            "gridcolor": "#506784",
            "linecolor": "#506784",
            "ticks": ""
           },
           "bgcolor": "rgb(17,17,17)",
           "radialaxis": {
            "gridcolor": "#506784",
            "linecolor": "#506784",
            "ticks": ""
           }
          },
          "scene": {
           "xaxis": {
            "backgroundcolor": "rgb(17,17,17)",
            "gridcolor": "#506784",
            "gridwidth": 2,
            "linecolor": "#506784",
            "showbackground": true,
            "ticks": "",
            "zerolinecolor": "#C8D4E3"
           },
           "yaxis": {
            "backgroundcolor": "rgb(17,17,17)",
            "gridcolor": "#506784",
            "gridwidth": 2,
            "linecolor": "#506784",
            "showbackground": true,
            "ticks": "",
            "zerolinecolor": "#C8D4E3"
           },
           "zaxis": {
            "backgroundcolor": "rgb(17,17,17)",
            "gridcolor": "#506784",
            "gridwidth": 2,
            "linecolor": "#506784",
            "showbackground": true,
            "ticks": "",
            "zerolinecolor": "#C8D4E3"
           }
          },
          "shapedefaults": {
           "line": {
            "color": "#f2f5fa"
           }
          },
          "sliderdefaults": {
           "bgcolor": "#C8D4E3",
           "bordercolor": "rgb(17,17,17)",
           "borderwidth": 1,
           "tickwidth": 0
          },
          "ternary": {
           "aaxis": {
            "gridcolor": "#506784",
            "linecolor": "#506784",
            "ticks": ""
           },
           "baxis": {
            "gridcolor": "#506784",
            "linecolor": "#506784",
            "ticks": ""
           },
           "bgcolor": "rgb(17,17,17)",
           "caxis": {
            "gridcolor": "#506784",
            "linecolor": "#506784",
            "ticks": ""
           }
          },
          "title": {
           "x": 0.05
          },
          "updatemenudefaults": {
           "bgcolor": "#506784",
           "borderwidth": 0
          },
          "xaxis": {
           "automargin": true,
           "gridcolor": "#283442",
           "linecolor": "#506784",
           "ticks": "",
           "title": {
            "standoff": 15
           },
           "zerolinecolor": "#283442",
           "zerolinewidth": 2
          },
          "yaxis": {
           "automargin": true,
           "gridcolor": "#283442",
           "linecolor": "#506784",
           "ticks": "",
           "title": {
            "standoff": 15
           },
           "zerolinecolor": "#283442",
           "zerolinewidth": 2
          }
         }
        },
        "title": {
         "text": "Exchange Rate (USD) by Year for Nigeria"
        },
        "updatemenus": [
         {
          "active": 8,
          "buttons": [
           {
            "args": [
             {
              "visible": [
               true,
               false,
               false,
               false,
               false,
               false,
               false,
               false,
               false,
               false,
               false,
               false,
               false
              ]
             },
             {
              "title": "Exchange Rate (USD) by Year for Algeria"
             }
            ],
            "label": "Algeria",
            "method": "update"
           },
           {
            "args": [
             {
              "visible": [
               false,
               true,
               false,
               false,
               false,
               false,
               false,
               false,
               false,
               false,
               false,
               false,
               false
              ]
             },
             {
              "title": "Exchange Rate (USD) by Year for Angola"
             }
            ],
            "label": "Angola",
            "method": "update"
           },
           {
            "args": [
             {
              "visible": [
               false,
               false,
               true,
               false,
               false,
               false,
               false,
               false,
               false,
               false,
               false,
               false,
               false
              ]
             },
             {
              "title": "Exchange Rate (USD) by Year for Central African Republic"
             }
            ],
            "label": "Central African Republic",
            "method": "update"
           },
           {
            "args": [
             {
              "visible": [
               false,
               false,
               false,
               true,
               false,
               false,
               false,
               false,
               false,
               false,
               false,
               false,
               false
              ]
             },
             {
              "title": "Exchange Rate (USD) by Year for Ivory Coast"
             }
            ],
            "label": "Ivory Coast",
            "method": "update"
           },
           {
            "args": [
             {
              "visible": [
               false,
               false,
               false,
               false,
               true,
               false,
               false,
               false,
               false,
               false,
               false,
               false,
               false
              ]
             },
             {
              "title": "Exchange Rate (USD) by Year for Egypt"
             }
            ],
            "label": "Egypt",
            "method": "update"
           },
           {
            "args": [
             {
              "visible": [
               false,
               false,
               false,
               false,
               false,
               true,
               false,
               false,
               false,
               false,
               false,
               false,
               false
              ]
             },
             {
              "title": "Exchange Rate (USD) by Year for Kenya"
             }
            ],
            "label": "Kenya",
            "method": "update"
           },
           {
            "args": [
             {
              "visible": [
               false,
               false,
               false,
               false,
               false,
               false,
               true,
               false,
               false,
               false,
               false,
               false,
               false
              ]
             },
             {
              "title": "Exchange Rate (USD) by Year for Mauritius"
             }
            ],
            "label": "Mauritius",
            "method": "update"
           },
           {
            "args": [
             {
              "visible": [
               false,
               false,
               false,
               false,
               false,
               false,
               false,
               true,
               false,
               false,
               false,
               false,
               false
              ]
             },
             {
              "title": "Exchange Rate (USD) by Year for Morocco"
             }
            ],
            "label": "Morocco",
            "method": "update"
           },
           {
            "args": [
             {
              "visible": [
               false,
               false,
               false,
               false,
               false,
               false,
               false,
               false,
               true,
               false,
               false,
               false,
               false
              ]
             },
             {
              "title": "Exchange Rate (USD) by Year for Nigeria"
             }
            ],
            "label": "Nigeria",
            "method": "update"
           },
           {
            "args": [
             {
              "visible": [
               false,
               false,
               false,
               false,
               false,
               false,
               false,
               false,
               false,
               true,
               false,
               false,
               false
              ]
             },
             {
              "title": "Exchange Rate (USD) by Year for South Africa"
             }
            ],
            "label": "South Africa",
            "method": "update"
           },
           {
            "args": [
             {
              "visible": [
               false,
               false,
               false,
               false,
               false,
               false,
               false,
               false,
               false,
               false,
               true,
               false,
               false
              ]
             },
             {
              "title": "Exchange Rate (USD) by Year for Tunisia"
             }
            ],
            "label": "Tunisia",
            "method": "update"
           },
           {
            "args": [
             {
              "visible": [
               false,
               false,
               false,
               false,
               false,
               false,
               false,
               false,
               false,
               false,
               false,
               true,
               false
              ]
             },
             {
              "title": "Exchange Rate (USD) by Year for Zambia"
             }
            ],
            "label": "Zambia",
            "method": "update"
           },
           {
            "args": [
             {
              "visible": [
               false,
               false,
               false,
               false,
               false,
               false,
               false,
               false,
               false,
               false,
               false,
               false,
               true
              ]
             },
             {
              "title": "Exchange Rate (USD) by Year for Zimbabwe"
             }
            ],
            "label": "Zimbabwe",
            "method": "update"
           }
          ],
          "direction": "down",
          "showactive": true
         }
        ],
        "width": 1000,
        "xaxis": {
         "anchor": "y",
         "autorange": true,
         "domain": [
          0,
          1
         ],
         "range": [
          1950.2384378211716,
          2017.7615621788284
         ],
         "title": {
          "text": "Year"
         },
         "type": "linear"
        },
        "yaxis": {
         "anchor": "x",
         "autorange": true,
         "domain": [
          0,
          1
         ],
         "range": [
          -10.572491902834008,
          168.839491902834
         ],
         "title": {
          "text": "Exchange Rate (USD)"
         },
         "type": "linear"
        }
       }
      },
      "image/png": "[encoded data removed]",
      "text/html": [
       "<div>                            <div id=\"b515ac32-1680-44bf-aded-214dccd4f702\" class=\"plotly-graph-div\" style=\"height:600px; width:1000px;\"></div>            <script type=\"text/javascript\">                require([\"plotly\"], function(Plotly) {                    window.PLOTLYENV=window.PLOTLYENV || {};                                    if (document.getElementById(\"b515ac32-1680-44bf-aded-214dccd4f702\")) {                    Plotly.newPlot(                        \"b515ac32-1680-44bf-aded-214dccd4f702\",                        [{\"hovertemplate\":\"country=Algeria\\u003cbr\\u003eyear=%{x}\\u003cbr\\u003eexch_usd=%{y}\\u003cextra\\u003e\\u003c\\u002fextra\\u003e\",\"legendgroup\":\"Algeria\",\"line\":{\"color\":\"#636efa\",\"dash\":\"solid\"},\"marker\":{\"symbol\":\"circle\"},\"mode\":\"lines+markers\",\"name\":\"Algeria\",\"showlegend\":true,\"x\":[1870,1871,1872,1873,1874,1875,1876,1877,1878,1879,1880,1881,1882,1883,1884,1939,1940,1941,1942,1943,1944,1945,1946,1947,1948,1949,1950,1951,1952,1953,1954,1955,1956,1957,1958,1959,1960,1961,1968,1969,1970,1971,1972,1973,1974,1975,1976,1977,1978,1979,1980,1981,1982,1983,1984,1985,1986,1987,1988,1989,1990,1991,1992,1993,1994,1995,1996,1997,1998,1999,2000,2001,2002,2003,2004,2005,2006,2007,2008,2009,2010,2011,2012,2013,2014],\"xaxis\":\"x\",\"y\":[0.052264,0.052798,0.052274,0.05168,0.051308,0.051546,0.051867,0.051867,0.051948,0.052029,0.052356,0.052029,0.050761,0.052002,0.052165,0.44903,0.49189,0.44937,0.75,0.5,0.5,1.191,1.191,1.193,2.662,3.49,3.499,3.5,3.5,3.5,3.5,3.5,3.5,4.199,4.906,4.909,4.93706,4.93706,4.93706,4.93706,4.93706,4.644,4.556,4.185,3.997,4.125,4.359,4.035,3.8345,3.7555,3.9715,4.378,4.6355,4.9165,5.1227,4.7728,4.8235,4.9363,6.7308,8.0324,12.1908,21.3919,22.7814,24.123,42.8925,52.175,56.1859,58.4139,60.3531,69.3143,75.3428,77.8196,79.7234,72.6128,72.6137,73.3799,71.1582,66.8299,71.1826,72.7309,74.9437,76.0563,78.1025,78.1487013,87.9706983],\"yaxis\":\"y\",\"type\":\"scattergl\"},{\"hovertemplate\":\"country=Angola\\u003cbr\\u003eyear=%{x}\\u003cbr\\u003eexch_usd=%{y}\\u003cextra\\u003e\\u003c\\u002fextra\\u003e\",\"legendgroup\":\"Angola\",\"line\":{\"color\":\"#EF553B\",\"dash\":\"solid\"},\"marker\":{\"symbol\":\"circle\"},\"mode\":\"lines+markers\",\"name\":\"Angola\",\"showlegend\":true,\"x\":[1921,1922,1923,1924,1925,1926,1927,1928,1929,1930,1931,1932,1933,1934,1935,1936,1937,1938,1939,1940,1941,1942,1943,1944,1945,1946,1947,1948,1949,1950,1951,1952,1953,1954,1955,1956,1957,1958,1959,1960,1961,1962,1970,1971,1972,1973,1974,1975,1976,1977,1978,1979,1980,1991,1992,1993,1994,1995,1996,1997,1998,1999,2000,2001,2002,2003,2004,2005,2006,2007,2008,2009,2010,2011,2012,2013,2014],\"xaxis\":\"x\",\"y\":[1.25e-08,2.21e-08,2.81e-08,2.08e-08,1.95e-08,1.95e-08,2.02e-08,2.27e-08,2.22e-08,2.23e-08,3.1e-08,3.31e-08,2.13e-08,2.22e-08,2.23e-08,2.25e-08,2.21e-08,2.36e-08,2.77e-08,2.51e-08,2.5e-08,2.5e-08,2.5e-08,2.5e-08,2.5e-08,2.63e-08,2.5e-08,2.58e-08,2.86e-08,2.91e-08,2.91e-08,2.9e-08,2.9e-08,2.88e-08,2.88e-08,2.88e-08,2.88e-08,2.88e-08,2.89e-08,2.88e-08,2.88e-08,2.89e-08,2.88e-08,2.76e-08,2.7e-08,2.58e-08,2.46e-08,2.75e-08,2.99e-08,2.99e-08,2.99e-08,2.99e-08,2.99e-08,1.8e-07,5.5e-07,6.5e-06,0.000509262,0.005692,0.201994,0.262376,0.6965,5.57992,16.81784,31.94936,58.66637,79.08149,85.98779,80.77951,80.26442,75.023,75.169,89.398,92.643,95.272,95.82588521,97.56,101.49],\"yaxis\":\"y\",\"type\":\"scattergl\"},{\"hovertemplate\":\"country=Central African Republic\\u003cbr\\u003eyear=%{x}\\u003cbr\\u003eexch_usd=%{y}\\u003cextra\\u003e\\u003c\\u002fextra\\u003e\",\"legendgroup\":\"Central African Republic\",\"line\":{\"color\":\"#00cc96\",\"dash\":\"solid\"},\"marker\":{\"symbol\":\"circle\"},\"mode\":\"lines+markers\",\"name\":\"Central African Republic\",\"showlegend\":true,\"x\":[1957,1958,1959,1960,1961,1962,1963,1964,1965,1966,1967,1968,1969,1970,1971,1972,1973,1974,1975,1976,1977,1978,1979,1980,1981,1982,1983,1984,1985,1986,1987,1988,1989,1990,1991,1992,1993,1994,1995,1996,1997,1998,1999,2000,2001,2002,2003,2004,2005,2006,2007,2008,2009,2010,2011,2012,2013,2014],\"xaxis\":\"x\",\"y\":[209.9498515,245.2998265,245.4498264,245.1298266,245.0648267,245.0048267,245.0998266,245.0048267,245.0748266,247.5898249,245.4248264,247.404825,277.9148034,276.0248048,261.2248152,256.0498189,235.4248335,222.2248428,224.2748413,248.4873242,235.2498335,208.9998521,200.9998578,225.7998402,287.3997967,336.2497621,417.3747047,479.5996607,378.0497326,322.7497717,266.9998111,302.9497857,289.3997953,256.4498186,258.9998168,275.3248052,294.7747915,534.5996218,489.9996534,523.6996296,598.8095764,562.2096023,652.9534143,704.9511016,744.3061387,625.4953752,519.3642122,481.5777109,556.0371281,498.0690964,445.5926907,471.3350578,455.3359711,490.9122886,506.9611253,497.1631044,475.6413603,540.2825138],\"yaxis\":\"y\",\"type\":\"scattergl\"},{\"hovertemplate\":\"country=Ivory Coast\\u003cbr\\u003eyear=%{x}\\u003cbr\\u003eexch_usd=%{y}\\u003cextra\\u003e\\u003c\\u002fextra\\u003e\",\"legendgroup\":\"Ivory Coast\",\"line\":{\"color\":\"#ab63fa\",\"dash\":\"solid\"},\"marker\":{\"symbol\":\"circle\"},\"mode\":\"lines+markers\",\"name\":\"Ivory Coast\",\"showlegend\":true,\"x\":[1952,1953,1954,1955,1956,1957,1958,1959,1960,1961,1962,1963,1964,1965,1966,1967,1968,1969,1970,1971,1972,1973,1974,1975,1976,1977,1978,1979,1980,1981,1982,1983,1984,1985,1986,1987,1988,1989,1990,1991,1992,1993,1994,1995,1996,1997,1998,1999,2000,2001,2002,2003,2004,2005,2006,2007,2008,2009,2010,2011,2012,2013,2014],\"xaxis\":\"x\",\"y\":[0.0,0.0,0.0,0.0,0.0,0.0,0.0,0.0,0.0,0.0,0.0,0.0,0.0,0.0,0.0,0.0,0.0,0.0,278.0,264.0,255.5,238.0,222.0,220.0,247.0,236.0,243.5,205.0,221.0,290.0,352.0,450.0,486.5,380.0,319.0,277.0,310.0,305.0,267.0,265.0,278.0,297.0,540.0,495.0,525.7,616.0,576.0,0.0,0.0,0.0,0.0,0.0,0.0,0.0,0.0,0.0,0.0,0.0,0.0,0.0,0.0,0.0,0.0],\"yaxis\":\"y\",\"type\":\"scattergl\"},{\"hovertemplate\":\"country=Egypt\\u003cbr\\u003eyear=%{x}\\u003cbr\\u003eexch_usd=%{y}\\u003cextra\\u003e\\u003c\\u002fextra\\u003e\",\"legendgroup\":\"Egypt\",\"line\":{\"color\":\"#FFA15A\",\"dash\":\"solid\"},\"marker\":{\"symbol\":\"circle\"},\"mode\":\"lines+markers\",\"name\":\"Egypt\",\"showlegend\":true,\"x\":[1860,1861,1862,1863,1864,1865,1866,1867,1868,1869,1870,1871,1872,1873,1874,1875,1876,1877,1878,1879,1880,1881,1882,1883,1884,1885,1886,1887,1888,1889,1890,1891,1892,1893,1894,1895,1896,1897,1898,1899,1900,1901,1902,1903,1904,1905,1906,1907,1908,1909,1910,1911,1912,1913,1914,1915,1916,1917,1918,1919,1920,1921,1922,1923,1924,1925,1926,1927,1928,1929,1930,1931,1932,1933,1934,1935,1936,1937,1938,1939,1940,1941,1942,1943,1944,1945,1946,1947,1948,1949,1950,1951,1952,1953,1954,1955,1956,1957,1958,1959,1960,1961,1962,1963,1964,1965,1966,1967,1968,1969,1970,1971,1972,1973,1974,1975,1976,1977,1978,1979,1980,1981,1982,1983,1984,1985,1986,1987,1988,1989,1990,1991,1992,1993,1994,1995,1996,1997,1998,1999,2000,2001,2002,2003,2004,2005,2006,2007,2008,2009,2010,2011,2012,2013,2014],\"xaxis\":\"x\",\"y\":[0.20661157,0.20661157,0.20661157,0.20661157,0.20661157,0.20661157,0.20661157,0.20661157,0.20661157,0.1967,0.196,0.1978,0.1984,0.197,0.198,0.1941,0.1983,0.1955,0.1967,0.1981,0.201,0.2,0.1998,0.1998,0.2003,0.1991,0.2007,0.1999,0.1987,0.2005,0.2003,0.201,0.1993,0.1983,0.199,0.1971,0.1976,0.1986,0.1985,0.1951,0.1999,0.1975,0.1988,0.2009,0.1994,0.201,0.2003,0.2006,0.1994,0.1995,0.1999,0.1996,0.1998,0.2007,0.1996,0.206,0.2049,0.2049,0.2042,0.2554,0.2787,0.2343,0.2112,0.2244,0.2074,0.2008,0.2011,0.1998,0.201,0.1998,0.2008,0.289,0.2975,0.1906,0.1971,0.1979,0.1987,0.1952,0.2088,0.2481,0.2416,0.2416,0.2416,0.2416,0.2416,0.2416,0.2416,0.2416,0.2416,0.3484,0.3484,0.3484,0.3484,0.3484,0.3484,0.3484,0.3484,0.3509,0.3509,0.3509,0.3509,0.3509,0.4348,0.4348,0.4348,0.4348,0.4348,0.4348,0.4348,0.4348,0.4348,0.4348,0.4348,0.4348,0.3913,0.3913,0.3913,0.3913,0.3913,0.7,0.699999999,0.699999999,0.699999999,0.699999999,0.7,0.7,0.7,0.7,0.7,1.1,2.0,3.33221,3.33861,3.3718,3.391,3.39,3.388,3.388,3.388,3.405,3.69,4.49,4.5,6.1532,6.1314,5.7322,5.7036,5.5038,5.5041,5.4754,5.7926,6.0169,6.3057,6.94,7.15],\"yaxis\":\"y\",\"type\":\"scattergl\"},{\"hovertemplate\":\"country=Kenya\\u003cbr\\u003eyear=%{x}\\u003cbr\\u003eexch_usd=%{y}\\u003cextra\\u003e\\u003c\\u002fextra\\u003e\",\"legendgroup\":\"Kenya\",\"line\":{\"color\":\"#19d3f3\",\"dash\":\"solid\"},\"marker\":{\"symbol\":\"circle\"},\"mode\":\"lines+markers\",\"name\":\"Kenya\",\"showlegend\":true,\"x\":[1948,1949,1950,1951,1952,1953,1954,1955,1956,1957,1958,1959,1960,1961,1962,1963,1964,1965,1966,1967,1968,1969,1970,1971,1972,1973,1974,1975,1976,1977,1978,1979,1980,1981,1982,1983,1984,1985,1986,1987,1988,1989,1990,1991,1992,1993,1994,1995,1996,1997,1998,1999,2000,2001,2002,2003,2004,2005,2006,2007,2008,2009,2010,2011,2012,2013,2014],\"xaxis\":\"x\",\"y\":[4.9582,4.9582,7.1428,7.1428,7.1428,7.1428,7.1429,7.1429,7.1429,7.1429,7.1429,7.1429,7.1429,7.1429,7.1429,7.1429,7.1429,7.1429,7.1429,7.1429,7.1429,7.1429,7.1429,7.1429,7.1429,6.9,7.1429,7.1429,8.27,7.9471,7.1588,7.3276,7.568499999,10.2862,12.7249,13.7959,15.7813,16.2843,16.0422,16.5149,18.5994,21.601,24.0841,28.0741,36.2163,68.1631,44.8389,55.9389,55.0211,62.6778,61.9056,72.9306,78.0361,78.6,77.0722,76.1389,77.3444,72.3667,69.3967,62.675,77.71111111,75.82,80.75194444,85.0681,86.0008,86.31,89.35],\"yaxis\":\"y\",\"type\":\"scattergl\"},{\"hovertemplate\":\"country=Mauritius\\u003cbr\\u003eyear=%{x}\\u003cbr\\u003eexch_usd=%{y}\\u003cextra\\u003e\\u003c\\u002fextra\\u003e\",\"legendgroup\":\"Mauritius\",\"line\":{\"color\":\"#FF6692\",\"dash\":\"solid\"},\"marker\":{\"symbol\":\"circle\"},\"mode\":\"lines+markers\",\"name\":\"Mauritius\",\"showlegend\":true,\"x\":[1947,1948,1949,1950,1951,1952,1953,1954,1955,1956,1957,1958,1959,1960,1961,1962,1963,1964,1965,1966,1967,1968,1969,1970,1971,1972,1973,1974,1975,1976,1977,1978,1979,1980,1981,1982,1983,1984,1985,1986,1987,1988,1989,1990,1991,1992,1993,1994,1995,1996,1997,1998,1999,2000,2001,2002,2003,2004,2005,2006,2007,2008,2009,2010,2011,2012,2013,2014],\"xaxis\":\"x\",\"y\":[3.3085,3.3085,4.7619,4.7619,4.79201,4.74495,4.74292,4.78754,4.75544,4.78651,4.66297,4.75764,4.76189,4.75544,4.74816,4.75764,4.76768,4.77879,4.75714,4.77862,5.541,5.59189,5.55392,5.57016,5.22362,5.6783,5.7392,5.6774,6.5892,6.639,6.3503,5.921,7.5855,7.8349,10.3293,10.8605,12.7233,15.6033,14.31,13.1367,12.1752,13.8337,14.996,14.322,14.7939,16.998,18.6558,17.8626,17.6641,17.9715,22.265,24.7835,25.468,27.8817,30.3942,29.1968,26.0877,28.2044,30.6666,34.3368,28.2162,31.7555,30.2905,30.39,29.33,30.52,30.12512987,31.7374584],\"yaxis\":\"y\",\"type\":\"scattergl\"},{\"hovertemplate\":\"country=Morocco\\u003cbr\\u003eyear=%{x}\\u003cbr\\u003eexch_usd=%{y}\\u003cextra\\u003e\\u003c\\u002fextra\\u003e\",\"legendgroup\":\"Morocco\",\"line\":{\"color\":\"#B6E880\",\"dash\":\"solid\"},\"marker\":{\"symbol\":\"circle\"},\"mode\":\"lines+markers\",\"name\":\"Morocco\",\"showlegend\":true,\"x\":[1940,1941,1942,1943,1944,1945,1946,1947,1948,1949,1950,1951,1952,1953,1954,1955,1956,1957,1958,1959,1960,1961,1962,1963,1964,1965,1966,1967,1968,1969,1970,1971,1972,1973,1974,1975,1976,1977,1978,1979,1980,1981,1982,1983,1984,1985,1986,1987,1988,1989,1990,1991,1992,1993,1994,1995,1996,1997,1998,1999,2000,2001,2002,2003,2004,2005,2006,2007,2008,2009,2010,2011,2012,2013,2014],\"xaxis\":\"x\",\"y\":[0.917,0.917,0.75,0.5,0.5674,0.5657,1.2228,1.2228,1.2228,2.197,3.5824,3.5824,3.5824,3.5824,3.5824,3.5824,3.5824,3.5875,4.2958,4.908,5.0605,5.0605,5.0241,5.0226,5.0226,5.0235,5.0265,5.0276,5.0409,5.0493,5.0269,4.76,4.5569,3.8851,4.1548,3.8379,4.2041,4.32,3.88645,3.7388,4.334149999,5.333349999,6.267549999,8.060999999,9.551199999,9.621299999,8.7117,7.8003,8.2106,8.1218,8.0429,8.1499,9.0487,9.6512,8.9596,8.4689,8.7995,9.7141,9.2551,10.087,10.619,11.56,10.167,8.7499,8.2177,9.2494,8.4566,7.7132,8.0982,7.8601,8.3569,8.5772,8.4335,8.15,8.82],\"yaxis\":\"y\",\"type\":\"scattergl\"},{\"hovertemplate\":\"country=Nigeria\\u003cbr\\u003eyear=%{x}\\u003cbr\\u003eexch_usd=%{y}\\u003cextra\\u003e\\u003c\\u002fextra\\u003e\",\"legendgroup\":\"Nigeria\",\"line\":{\"color\":\"#FF97FF\",\"dash\":\"solid\"},\"marker\":{\"symbol\":\"circle\"},\"mode\":\"lines+markers\",\"name\":\"Nigeria\",\"showlegend\":true,\"x\":[1954,1955,1956,1957,1958,1959,1960,1961,1962,1963,1964,1965,1966,1967,1968,1969,1970,1971,1972,1973,1974,1975,1976,1977,1978,1979,1980,1981,1982,1983,1984,1985,1986,1987,1988,1989,1990,1992,1993,1994,1995,1996,1997,1998,1999,2000,2001,2002,2003,2004,2005,2006,2007,2008,2009,2010,2011,2012,2013,2014],\"xaxis\":\"x\",\"y\":[0.0,0.0,0.0,0.0,0.0,0.0,0.0,0.0,0.0,0.0,0.0,0.0,0.0,0.0,0.0,0.0,0.0,0.0,0.0,0.657894999,0.616218881,0.614665929,0.631074088,0.651380928,0.64808814,0.570613409,0.544454729,0.636902109,0.670241287,0.748559024,0.808276754,0.99960016,3.316749585,4.140786749,5.353319058,7.651109411,9.00090009,19.64636542,21.88183807,21.99736032,21.88662727,21.8861,21.886,21.886,97.95,109.55,112.95,126.4,136.5,132.35,129.0,128.27,117.968,132.5625,149.581,150.6617,158.267,155.27,155.2,155.25],\"yaxis\":\"y\",\"type\":\"scattergl\"},{\"hovertemplate\":\"country=South Africa\\u003cbr\\u003eyear=%{x}\\u003cbr\\u003eexch_usd=%{y}\\u003cextra\\u003e\\u003c\\u002fextra\\u003e\",\"legendgroup\":\"South Africa\",\"line\":{\"color\":\"#FECB52\",\"dash\":\"solid\"},\"marker\":{\"symbol\":\"circle\"},\"mode\":\"lines+markers\",\"name\":\"South Africa\",\"showlegend\":true,\"x\":[1900,1901,1902,1903,1904,1905,1906,1907,1908,1909,1910,1911,1912,1913,1914,1915,1916,1917,1918,1919,1920,1921,1922,1923,1924,1925,1926,1927,1928,1929,1930,1931,1932,1933,1934,1935,1936,1937,1938,1939,1940,1941,1942,1943,1944,1945,1946,1947,1948,1949,1950,1951,1952,1953,1954,1955,1956,1957,1958,1959,1960,1961,1962,1963,1964,1965,1966,1967,1968,1969,1970,1971,1972,1973,1974,1975,1976,1977,1978,1979,1980,1981,1982,1983,1984,1985,1986,1987,1988,1989,1990,1991,1992,1993,1994,1995,1996,1997,1998,1999,2000,2001,2002,2003,2004,2005,2006,2007,2008,2009,2010,2011,2012,2013],\"xaxis\":\"x\",\"y\":[0.2061,0.2045,0.2049,0.2047,0.20455,0.20485,0.2053,0.20405,0.2052,0.2049,0.2048,0.2051,0.20485,0.20485,0.18925,0.2063,0.20965,0.20985,0.2098,0.20985,0.2532,0.2406,0.21695,0.21295,0.21295,0.20575,0.2056,0.2065,0.2065,0.2065,0.2065,0.2065,0.2084,0.19635,0.1963,0.20385,0.2008,0.202,0.2012,0.21565,0.25125,0.25125,0.25125,0.25125,0.25125,0.2497,0.2497,0.3077,0.28985,0.31745,0.35715,0.35715,0.35715,0.35715,0.35715,0.35715,0.35715,0.3568,0.3554,0.35555,0.3557,0.3557,0.3557,0.3573,0.3576,0.3571,0.3571,0.7093,0.7119,0.7149,0.7131,0.696,0.7394,0.6667,0.6678,0.6725,0.8673,0.8681,0.8684,0.8244,0.745378653,0.956571648,1.076310408,1.221896383,1.984914649,2.557544764,2.183406114,1.929943067,2.377725468,2.536011361,2.562525625,2.743032697,3.053,3.3975,3.5435,3.6475,4.6825,4.8675,5.86,6.1545,7.5685,12.1265,8.64,6.64,5.63,6.325,6.97,6.81,9.305,7.38,6.6316,8.1429,8.50115,10.48985],\"yaxis\":\"y\",\"type\":\"scattergl\"},{\"hovertemplate\":\"country=Tunisia\\u003cbr\\u003eyear=%{x}\\u003cbr\\u003eexch_usd=%{y}\\u003cextra\\u003e\\u003c\\u002fextra\\u003e\",\"legendgroup\":\"Tunisia\",\"line\":{\"color\":\"#636efa\",\"dash\":\"solid\"},\"marker\":{\"symbol\":\"circle\"},\"mode\":\"lines+markers\",\"name\":\"Tunisia\",\"showlegend\":true,\"x\":[1940,1941,1942,1943,1944,1945,1946,1947,1948,1949,1950,1951,1952,1953,1954,1955,1956,1957,1958,1959,1960,1961,1962,1963,1964,1965,1966,1967,1968,1969,1970,1971,1972,1973,1974,1975,1976,1977,1978,1979,1980,1981,1982,1983,1984,1985,1986,1987,1988,1989,1990,1991,1992,1993,1994,1995,1996,1997,1998,1999,2000,2001,2002,2003,2004,2005,2006,2007,2008,2009,2010,2011,2012,2013,2014],\"xaxis\":\"x\",\"y\":[49.189,44.937,129.831,50.0,55.355,55.191,119.3,119.3,119.3,214.34,349.5,349.5,349.5,349.5,349.5,349.5,349.5,350.0,0.4197,0.42,0.42,0.42,0.42,0.42,0.42,0.52,0.52,0.52,0.52,0.52,0.52,0.48,0.475,0.3865,0.425,0.4712,0.5587,0.4275,0.46,0.405,0.418699999,0.515649999,0.615749999,0.7271,0.8666,0.75695,0.8402,0.77785,0.89845,0.9046,0.83675,0.8645,0.95065,1.0466,0.9912,0.9508,0.9985,1.1475,1.101,1.2525,1.3853,1.4683,1.3341,1.2083,1.1994,1.3634,1.2971,1.2207,1.3099,1.3173,1.4379,1.4993,1.5506,1.653095696,1.862411798],\"yaxis\":\"y\",\"type\":\"scattergl\"},{\"hovertemplate\":\"country=Zambia\\u003cbr\\u003eyear=%{x}\\u003cbr\\u003eexch_usd=%{y}\\u003cextra\\u003e\\u003c\\u002fextra\\u003e\",\"legendgroup\":\"Zambia\",\"line\":{\"color\":\"#EF553B\",\"dash\":\"solid\"},\"marker\":{\"symbol\":\"circle\"},\"mode\":\"lines+markers\",\"name\":\"Zambia\",\"showlegend\":true,\"x\":[1943,1944,1945,1946,1947,1948,1949,1950,1951,1952,1953,1954,1955,1956,1957,1958,1959,1960,1961,1962,1963,1964,1965,1966,1967,1968,1969,1970,1971,1972,1973,1974,1975,1976,1977,1978,1979,1980,1981,1982,1983,1984,1985,1986,1987,1988,1989,1990,1991,1992,1993,1994,1995,1996,1997,1998,1999,2000,2001,2002,2003,2004,2005,2006,2007,2008,2009,2010,2011,2012,2013,2014],\"xaxis\":\"x\",\"y\":[0.0004976,0.0004976,0.0004968,0.0004968,0.0004958,0.000496,0.0007142,0.000714,0.000719,0.0007118,0.0007116,0.000718,0.0007136,0.000718,0.000712,0.0007138,0.0007144,0.0007134,0.0007122,0.0007136,0.000715,0.0007168,0.0007136,0.0007168,0.0007104,0.0007168,0.0007126,0.0007141,0.0007143,0.0007143,0.0006429,0.0006429,0.0006429,0.0007934,0.0007589,0.0007862,0.0007775,0.0008031,0.00088,0.0009285,0.001236,0.002105,0.00563,0.01448,0.0077,0.0095,0.01841,0.0459,0.08733,0.31496,0.561,0.699,0.978,1.287,1.44,2.425,2.76,4.45,3.735,4.5,4.4,4.6,3.34,4.41722,3.83,4.83226,4.631,4.7899,5.11398,5.1466133,5.52,6.3856],\"yaxis\":\"y\",\"type\":\"scattergl\"},{\"hovertemplate\":\"country=Zimbabwe\\u003cbr\\u003eyear=%{x}\\u003cbr\\u003eexch_usd=%{y}\\u003cextra\\u003e\\u003c\\u002fextra\\u003e\",\"legendgroup\":\"Zimbabwe\",\"line\":{\"color\":\"#00cc96\",\"dash\":\"solid\"},\"marker\":{\"symbol\":\"circle\"},\"mode\":\"lines+markers\",\"name\":\"Zimbabwe\",\"showlegend\":true,\"x\":[1921,1922,1923,1927,1928,1929,1930,1931,1932,1933,1934,1935,1936,1937,1938,1939,1940,1941,1942,1943,1944,1945,1946,1947,1948,1949,1950,1951,1952,1953,1954,1955,1956,1957,1958,1959,1960,1961,1962,1963,1964,1965,1966,1967,1968,1969,1970,1971,1972,1973,1974,1975,1976,1977,1978,1979,1980,1981,1982,1983,1984,1985,1986,1987,1988,1989,1990,1991,1992,1993,1994,1995,1996,1997,1998,1999,2000,2001,2002,2003,2004,2005,2006,2007,2008,2009,2010,2011,2012,2013],\"xaxis\":\"x\",\"y\":[4.81e-27,4.34e-27,4.59e-27,4.1000000000000006e-27,4.12e-27,4.1000000000000006e-27,4.12e-27,5.9300000000000006e-27,6.100000000000001e-27,3.91e-27,4.0400000000000005e-27,4.06e-27,4.08e-27,4e-27,4.28e-27,5.09e-27,4.9600000000000006e-27,4.9600000000000006e-27,4.9600000000000006e-27,4.9600000000000006e-27,4.9600000000000006e-27,4.9600000000000006e-27,4.9600000000000006e-27,4.9600000000000006e-27,4.9600000000000006e-27,7.140000000000001e-27,7.140000000000001e-27,7.140000000000001e-27,7.140000000000001e-27,7.140000000000001e-27,7.140000000000001e-27,7.140000000000001e-27,7.18e-27,7.1e-27,7.1e-27,7.12e-27,7.150000000000001e-27,7.11e-27,7.140000000000001e-27,7.140000000000001e-27,7.140000000000001e-27,7.140000000000001e-27,7.140000000000001e-27,7.140000000000001e-27,7.140000000000001e-27,7.140000000000001e-27,7.16e-27,6.71e-27,6.520000000000001e-27,6.06e-27,5.490000000000001e-27,6.25e-27,6.190000000000001e-27,6.470000000000001e-27,6.750000000000001e-27,6.740000000000001e-27,6.31e-27,7.23e-27,7.39e-27,1.11e-26,1.4500000000000002e-26,1.63e-26,1.68e-26,1.6e-26,1.93e-26,2.22e-26,2.61e-26,5.04e-26,5.37e-26,6.81e-26,8.38e-26,9.31e-26,1.08e-25,1.83e-25,3.71e-25,3.72e-25,5.5e-25,5.51e-25,5.5e-25,7.949999999999999e-24,5.600000000000001e-23,8.46e-22,3e-19,1.9e-16,0.002,354.8,378.2,361.9,361.9,361.9],\"yaxis\":\"y\",\"type\":\"scattergl\"}],                        {\"template\":{\"data\":{\"barpolar\":[{\"marker\":{\"line\":{\"color\":\"rgb(17,17,17)\",\"width\":0.5},\"pattern\":{\"fillmode\":\"overlay\",\"size\":10,\"solidity\":0.2}},\"type\":\"barpolar\"}],\"bar\":[{\"error_x\":{\"color\":\"#f2f5fa\"},\"error_y\":{\"color\":\"#f2f5fa\"},\"marker\":{\"line\":{\"color\":\"rgb(17,17,17)\",\"width\":0.5},\"pattern\":{\"fillmode\":\"overlay\",\"size\":10,\"solidity\":0.2}},\"type\":\"bar\"}],\"carpet\":[{\"aaxis\":{\"endlinecolor\":\"#A2B1C6\",\"gridcolor\":\"#506784\",\"linecolor\":\"#506784\",\"minorgridcolor\":\"#506784\",\"startlinecolor\":\"#A2B1C6\"},\"baxis\":{\"endlinecolor\":\"#A2B1C6\",\"gridcolor\":\"#506784\",\"linecolor\":\"#506784\",\"minorgridcolor\":\"#506784\",\"startlinecolor\":\"#A2B1C6\"},\"type\":\"carpet\"}],\"choropleth\":[{\"colorbar\":{\"outlinewidth\":0,\"ticks\":\"\"},\"type\":\"choropleth\"}],\"contourcarpet\":[{\"colorbar\":{\"outlinewidth\":0,\"ticks\":\"\"},\"type\":\"contourcarpet\"}],\"contour\":[{\"colorbar\":{\"outlinewidth\":0,\"ticks\":\"\"},\"colorscale\":[[0.0,\"#0d0887\"],[0.1111111111111111,\"#46039f\"],[0.2222222222222222,\"#7201a8\"],[0.3333333333333333,\"#9c179e\"],[0.4444444444444444,\"#bd3786\"],[0.5555555555555556,\"#d8576b\"],[0.6666666666666666,\"#ed7953\"],[0.7777777777777778,\"#fb9f3a\"],[0.8888888888888888,\"#fdca26\"],[1.0,\"#f0f921\"]],\"type\":\"contour\"}],\"heatmapgl\":[{\"colorbar\":{\"outlinewidth\":0,\"ticks\":\"\"},\"colorscale\":[[0.0,\"#0d0887\"],[0.1111111111111111,\"#46039f\"],[0.2222222222222222,\"#7201a8\"],[0.3333333333333333,\"#9c179e\"],[0.4444444444444444,\"#bd3786\"],[0.5555555555555556,\"#d8576b\"],[0.6666666666666666,\"#ed7953\"],[0.7777777777777778,\"#fb9f3a\"],[0.8888888888888888,\"#fdca26\"],[1.0,\"#f0f921\"]],\"type\":\"heatmapgl\"}],\"heatmap\":[{\"colorbar\":{\"outlinewidth\":0,\"ticks\":\"\"},\"colorscale\":[[0.0,\"#0d0887\"],[0.1111111111111111,\"#46039f\"],[0.2222222222222222,\"#7201a8\"],[0.3333333333333333,\"#9c179e\"],[0.4444444444444444,\"#bd3786\"],[0.5555555555555556,\"#d8576b\"],[0.6666666666666666,\"#ed7953\"],[0.7777777777777778,\"#fb9f3a\"],[0.8888888888888888,\"#fdca26\"],[1.0,\"#f0f921\"]],\"type\":\"heatmap\"}],\"histogram2dcontour\":[{\"colorbar\":{\"outlinewidth\":0,\"ticks\":\"\"},\"colorscale\":[[0.0,\"#0d0887\"],[0.1111111111111111,\"#46039f\"],[0.2222222222222222,\"#7201a8\"],[0.3333333333333333,\"#9c179e\"],[0.4444444444444444,\"#bd3786\"],[0.5555555555555556,\"#d8576b\"],[0.6666666666666666,\"#ed7953\"],[0.7777777777777778,\"#fb9f3a\"],[0.8888888888888888,\"#fdca26\"],[1.0,\"#f0f921\"]],\"type\":\"histogram2dcontour\"}],\"histogram2d\":[{\"colorbar\":{\"outlinewidth\":0,\"ticks\":\"\"},\"colorscale\":[[0.0,\"#0d0887\"],[0.1111111111111111,\"#46039f\"],[0.2222222222222222,\"#7201a8\"],[0.3333333333333333,\"#9c179e\"],[0.4444444444444444,\"#bd3786\"],[0.5555555555555556,\"#d8576b\"],[0.6666666666666666,\"#ed7953\"],[0.7777777777777778,\"#fb9f3a\"],[0.8888888888888888,\"#fdca26\"],[1.0,\"#f0f921\"]],\"type\":\"histogram2d\"}],\"histogram\":[{\"marker\":{\"pattern\":{\"fillmode\":\"overlay\",\"size\":10,\"solidity\":0.2}},\"type\":\"histogram\"}],\"mesh3d\":[{\"colorbar\":{\"outlinewidth\":0,\"ticks\":\"\"},\"type\":\"mesh3d\"}],\"parcoords\":[{\"line\":{\"colorbar\":{\"outlinewidth\":0,\"ticks\":\"\"}},\"type\":\"parcoords\"}],\"pie\":[{\"automargin\":true,\"type\":\"pie\"}],\"scatter3d\":[{\"line\":{\"colorbar\":{\"outlinewidth\":0,\"ticks\":\"\"}},\"marker\":{\"colorbar\":{\"outlinewidth\":0,\"ticks\":\"\"}},\"type\":\"scatter3d\"}],\"scattercarpet\":[{\"marker\":{\"colorbar\":{\"outlinewidth\":0,\"ticks\":\"\"}},\"type\":\"scattercarpet\"}],\"scattergeo\":[{\"marker\":{\"colorbar\":{\"outlinewidth\":0,\"ticks\":\"\"}},\"type\":\"scattergeo\"}],\"scattergl\":[{\"marker\":{\"line\":{\"color\":\"#283442\"}},\"type\":\"scattergl\"}],\"scattermapbox\":[{\"marker\":{\"colorbar\":{\"outlinewidth\":0,\"ticks\":\"\"}},\"type\":\"scattermapbox\"}],\"scatterpolargl\":[{\"marker\":{\"colorbar\":{\"outlinewidth\":0,\"ticks\":\"\"}},\"type\":\"scatterpolargl\"}],\"scatterpolar\":[{\"marker\":{\"colorbar\":{\"outlinewidth\":0,\"ticks\":\"\"}},\"type\":\"scatterpolar\"}],\"scatter\":[{\"marker\":{\"line\":{\"color\":\"#283442\"}},\"type\":\"scatter\"}],\"scatterternary\":[{\"marker\":{\"colorbar\":{\"outlinewidth\":0,\"ticks\":\"\"}},\"type\":\"scatterternary\"}],\"surface\":[{\"colorbar\":{\"outlinewidth\":0,\"ticks\":\"\"},\"colorscale\":[[0.0,\"#0d0887\"],[0.1111111111111111,\"#46039f\"],[0.2222222222222222,\"#7201a8\"],[0.3333333333333333,\"#9c179e\"],[0.4444444444444444,\"#bd3786\"],[0.5555555555555556,\"#d8576b\"],[0.6666666666666666,\"#ed7953\"],[0.7777777777777778,\"#fb9f3a\"],[0.8888888888888888,\"#fdca26\"],[1.0,\"#f0f921\"]],\"type\":\"surface\"}],\"table\":[{\"cells\":{\"fill\":{\"color\":\"#506784\"},\"line\":{\"color\":\"rgb(17,17,17)\"}},\"header\":{\"fill\":{\"color\":\"#2a3f5f\"},\"line\":{\"color\":\"rgb(17,17,17)\"}},\"type\":\"table\"}]},\"layout\":{\"annotationdefaults\":{\"arrowcolor\":\"#f2f5fa\",\"arrowhead\":0,\"arrowwidth\":1},\"autotypenumbers\":\"strict\",\"coloraxis\":{\"colorbar\":{\"outlinewidth\":0,\"ticks\":\"\"}},\"colorscale\":{\"diverging\":[[0,\"#8e0152\"],[0.1,\"#c51b7d\"],[0.2,\"#de77ae\"],[0.3,\"#f1b6da\"],[0.4,\"#fde0ef\"],[0.5,\"#f7f7f7\"],[0.6,\"#e6f5d0\"],[0.7,\"#b8e186\"],[0.8,\"#7fbc41\"],[0.9,\"#4d9221\"],[1,\"#276419\"]],\"sequential\":[[0.0,\"#0d0887\"],[0.1111111111111111,\"#46039f\"],[0.2222222222222222,\"#7201a8\"],[0.3333333333333333,\"#9c179e\"],[0.4444444444444444,\"#bd3786\"],[0.5555555555555556,\"#d8576b\"],[0.6666666666666666,\"#ed7953\"],[0.7777777777777778,\"#fb9f3a\"],[0.8888888888888888,\"#fdca26\"],[1.0,\"#f0f921\"]],\"sequentialminus\":[[0.0,\"#0d0887\"],[0.1111111111111111,\"#46039f\"],[0.2222222222222222,\"#7201a8\"],[0.3333333333333333,\"#9c179e\"],[0.4444444444444444,\"#bd3786\"],[0.5555555555555556,\"#d8576b\"],[0.6666666666666666,\"#ed7953\"],[0.7777777777777778,\"#fb9f3a\"],[0.8888888888888888,\"#fdca26\"],[1.0,\"#f0f921\"]]},\"colorway\":[\"#636efa\",\"#EF553B\",\"#00cc96\",\"#ab63fa\",\"#FFA15A\",\"#19d3f3\",\"#FF6692\",\"#B6E880\",\"#FF97FF\",\"#FECB52\"],\"font\":{\"color\":\"#f2f5fa\"},\"geo\":{\"bgcolor\":\"rgb(17,17,17)\",\"lakecolor\":\"rgb(17,17,17)\",\"landcolor\":\"rgb(17,17,17)\",\"showlakes\":true,\"showland\":true,\"subunitcolor\":\"#506784\"},\"hoverlabel\":{\"align\":\"left\"},\"hovermode\":\"closest\",\"mapbox\":{\"style\":\"dark\"},\"paper_bgcolor\":\"rgb(17,17,17)\",\"plot_bgcolor\":\"rgb(17,17,17)\",\"polar\":{\"angularaxis\":{\"gridcolor\":\"#506784\",\"linecolor\":\"#506784\",\"ticks\":\"\"},\"bgcolor\":\"rgb(17,17,17)\",\"radialaxis\":{\"gridcolor\":\"#506784\",\"linecolor\":\"#506784\",\"ticks\":\"\"}},\"scene\":{\"xaxis\":{\"backgroundcolor\":\"rgb(17,17,17)\",\"gridcolor\":\"#506784\",\"gridwidth\":2,\"linecolor\":\"#506784\",\"showbackground\":true,\"ticks\":\"\",\"zerolinecolor\":\"#C8D4E3\"},\"yaxis\":{\"backgroundcolor\":\"rgb(17,17,17)\",\"gridcolor\":\"#506784\",\"gridwidth\":2,\"linecolor\":\"#506784\",\"showbackground\":true,\"ticks\":\"\",\"zerolinecolor\":\"#C8D4E3\"},\"zaxis\":{\"backgroundcolor\":\"rgb(17,17,17)\",\"gridcolor\":\"#506784\",\"gridwidth\":2,\"linecolor\":\"#506784\",\"showbackground\":true,\"ticks\":\"\",\"zerolinecolor\":\"#C8D4E3\"}},\"shapedefaults\":{\"line\":{\"color\":\"#f2f5fa\"}},\"sliderdefaults\":{\"bgcolor\":\"#C8D4E3\",\"bordercolor\":\"rgb(17,17,17)\",\"borderwidth\":1,\"tickwidth\":0},\"ternary\":{\"aaxis\":{\"gridcolor\":\"#506784\",\"linecolor\":\"#506784\",\"ticks\":\"\"},\"baxis\":{\"gridcolor\":\"#506784\",\"linecolor\":\"#506784\",\"ticks\":\"\"},\"bgcolor\":\"rgb(17,17,17)\",\"caxis\":{\"gridcolor\":\"#506784\",\"linecolor\":\"#506784\",\"ticks\":\"\"}},\"title\":{\"x\":0.05},\"updatemenudefaults\":{\"bgcolor\":\"#506784\",\"borderwidth\":0},\"xaxis\":{\"automargin\":true,\"gridcolor\":\"#283442\",\"linecolor\":\"#506784\",\"ticks\":\"\",\"title\":{\"standoff\":15},\"zerolinecolor\":\"#283442\",\"zerolinewidth\":2},\"yaxis\":{\"automargin\":true,\"gridcolor\":\"#283442\",\"linecolor\":\"#506784\",\"ticks\":\"\",\"title\":{\"standoff\":15},\"zerolinecolor\":\"#283442\",\"zerolinewidth\":2}}},\"xaxis\":{\"anchor\":\"y\",\"domain\":[0.0,1.0],\"title\":{\"text\":\"Year\"}},\"yaxis\":{\"anchor\":\"x\",\"domain\":[0.0,1.0],\"title\":{\"text\":\"Exchange Rate (USD)\"}},\"legend\":{\"title\":{\"text\":\"Country\"},\"tracegroupgap\":0},\"title\":{\"text\":\"Exchange Rate (USD) by Year for Each Country\"},\"height\":600,\"width\":1000,\"updatemenus\":[{\"buttons\":[{\"args\":[{\"visible\":[true,false,false,false,false,false,false,false,false,false,false,false,false]},{\"title\":\"Exchange Rate (USD) by Year for Algeria\"}],\"label\":\"Algeria\",\"method\":\"update\"},{\"args\":[{\"visible\":[false,true,false,false,false,false,false,false,false,false,false,false,false]},{\"title\":\"Exchange Rate (USD) by Year for Angola\"}],\"label\":\"Angola\",\"method\":\"update\"},{\"args\":[{\"visible\":[false,false,true,false,false,false,false,false,false,false,false,false,false]},{\"title\":\"Exchange Rate (USD) by Year for Central African Republic\"}],\"label\":\"Central African Republic\",\"method\":\"update\"},{\"args\":[{\"visible\":[false,false,false,true,false,false,false,false,false,false,false,false,false]},{\"title\":\"Exchange Rate (USD) by Year for Ivory Coast\"}],\"label\":\"Ivory Coast\",\"method\":\"update\"},{\"args\":[{\"visible\":[false,false,false,false,true,false,false,false,false,false,false,false,false]},{\"title\":\"Exchange Rate (USD) by Year for Egypt\"}],\"label\":\"Egypt\",\"method\":\"update\"},{\"args\":[{\"visible\":[false,false,false,false,false,true,false,false,false,false,false,false,false]},{\"title\":\"Exchange Rate (USD) by Year for Kenya\"}],\"label\":\"Kenya\",\"method\":\"update\"},{\"args\":[{\"visible\":[false,false,false,false,false,false,true,false,false,false,false,false,false]},{\"title\":\"Exchange Rate (USD) by Year for Mauritius\"}],\"label\":\"Mauritius\",\"method\":\"update\"},{\"args\":[{\"visible\":[false,false,false,false,false,false,false,true,false,false,false,false,false]},{\"title\":\"Exchange Rate (USD) by Year for Morocco\"}],\"label\":\"Morocco\",\"method\":\"update\"},{\"args\":[{\"visible\":[false,false,false,false,false,false,false,false,true,false,false,false,false]},{\"title\":\"Exchange Rate (USD) by Year for Nigeria\"}],\"label\":\"Nigeria\",\"method\":\"update\"},{\"args\":[{\"visible\":[false,false,false,false,false,false,false,false,false,true,false,false,false]},{\"title\":\"Exchange Rate (USD) by Year for South Africa\"}],\"label\":\"South Africa\",\"method\":\"update\"},{\"args\":[{\"visible\":[false,false,false,false,false,false,false,false,false,false,true,false,false]},{\"title\":\"Exchange Rate (USD) by Year for Tunisia\"}],\"label\":\"Tunisia\",\"method\":\"update\"},{\"args\":[{\"visible\":[false,false,false,false,false,false,false,false,false,false,false,true,false]},{\"title\":\"Exchange Rate (USD) by Year for Zambia\"}],\"label\":\"Zambia\",\"method\":\"update\"},{\"args\":[{\"visible\":[false,false,false,false,false,false,false,false,false,false,false,false,true]},{\"title\":\"Exchange Rate (USD) by Year for Zimbabwe\"}],\"label\":\"Zimbabwe\",\"method\":\"update\"}],\"direction\":\"down\",\"showactive\":true}]},                        {\"responsive\": true}                    ).then(function(){\n",
       "                            \n",
       "var gd = document.getElementById('b515ac32-1680-44bf-aded-214dccd4f702');\n",
       "var x = new MutationObserver(function (mutations, observer) {{\n",
       "        var display = window.getComputedStyle(gd).display;\n",
       "        if (!display || display === 'none') {{\n",
       "            console.log([gd, 'removed!']);\n",
       "            Plotly.purge(gd);\n",
       "            observer.disconnect();\n",
       "        }}\n",
       "}});\n",
       "\n",
       "// Listen for the removal of the full notebook cells\n",
       "var notebookContainer = gd.closest('#notebook-container');\n",
       "if (notebookContainer) {{\n",
       "    x.observe(notebookContainer, {childList: true});\n",
       "}}\n",
       "\n",
       "// Listen for the clearing of the current output cell\n",
       "var outputEl = gd.closest('.output');\n",
       "if (outputEl) {{\n",
       "    x.observe(outputEl, {childList: true});\n",
       "}}\n",
       "\n",
       "                        })                };                });            </script>        </div>"
      ]
     },
     "metadata": {},
     "output_type": "display_data"
    }
   ],
   "source": [
    "fig = px.line(df, x='year', y='exch_usd', color='country', \n",
    "              title=\"Exchange Rate (USD) by Year for Each Country\",\n",
    "               template='plotly_dark',\n",
    "              markers=True)\n",
    "\n",
    "fig.update_layout(\n",
    "    xaxis_title='Year',\n",
    "    yaxis_title='Exchange Rate (USD)',\n",
    "    legend_title='Country',\n",
    "    height=600,\n",
    "    width=1000,\n",
    "    updatemenus=[\n",
    "        {\n",
    "            \"buttons\": [\n",
    "                {\n",
    "                    \"method\": \"update\",\n",
    "                    \"label\": country,\n",
    "                    \"args\": [\n",
    "                        {\"visible\": [c == country for c in df[\"country\"].unique()]},\n",
    "                        {\"title\": f\"Exchange Rate (USD) by Year for {country}\"}\n",
    "                    ],\n",
    "                } for country in df[\"country\"].unique()\n",
    "            ],\n",
    "            \"direction\": \"down\",\n",
    "            \"showactive\": True,\n",
    "        }\n",
    "    ]\n",
    ")\n",
    "\n",
    "fig.show()"
   ]
  },
  {
   "cell_type": "code",
   "execution_count": 74,
   "id": "4eaeaa23-297c-4bd9-be7c-ba4d144a56db",
   "metadata": {},
   "outputs": [
    {
     "data": {
      "application/vnd.plotly.v1+json": {
       "config": {
        "plotlyServerURL": "https://plot.ly"
       },
       "data": [
        {
         "alignmentgroup": "True",
         "hovertemplate": "country=%{x}<br>Inflation Annual CPI=%{y}<extra></extra>",
         "legendgroup": "",
         "marker": {
          "color": "#636efa",
          "pattern": {
           "shape": ""
          }
         },
         "name": "",
         "offsetgroup": "",
         "orientation": "v",
         "showlegend": false,
         "textposition": "auto",
         "type": "bar",
         "x": [
          "Nigeria",
          "Angola",
          "Kenya",
          "Algeria",
          "Egypt"
         ],
         "xaxis": "x",
         "y": [
          12.225,
          10.285,
          9.378,
          8.916,
          8.65
         ],
         "yaxis": "y"
        }
       ],
       "layout": {
        "barmode": "relative",
        "height": 600,
        "legend": {
         "tracegroupgap": 0
        },
        "template": {
         "data": {
          "bar": [
           {
            "error_x": {
             "color": "#2a3f5f"
            },
            "error_y": {
             "color": "#2a3f5f"
            },
            "marker": {
             "line": {
              "color": "#E5ECF6",
              "width": 0.5
             },
             "pattern": {
              "fillmode": "overlay",
              "size": 10,
              "solidity": 0.2
             }
            },
            "type": "bar"
           }
          ],
          "barpolar": [
           {
            "marker": {
             "line": {
              "color": "#E5ECF6",
              "width": 0.5
             },
             "pattern": {
              "fillmode": "overlay",
              "size": 10,
              "solidity": 0.2
             }
            },
            "type": "barpolar"
           }
          ],
          "carpet": [
           {
            "aaxis": {
             "endlinecolor": "#2a3f5f",
             "gridcolor": "white",
             "linecolor": "white",
             "minorgridcolor": "white",
             "startlinecolor": "#2a3f5f"
            },
            "baxis": {
             "endlinecolor": "#2a3f5f",
             "gridcolor": "white",
             "linecolor": "white",
             "minorgridcolor": "white",
             "startlinecolor": "#2a3f5f"
            },
            "type": "carpet"
           }
          ],
          "choropleth": [
           {
            "colorbar": {
             "outlinewidth": 0,
             "ticks": ""
            },
            "type": "choropleth"
           }
          ],
          "contour": [
           {
            "colorbar": {
             "outlinewidth": 0,
             "ticks": ""
            },
            "colorscale": [
             [
              0,
              "#0d0887"
             ],
             [
              0.1111111111111111,
              "#46039f"
             ],
             [
              0.2222222222222222,
              "#7201a8"
             ],
             [
              0.3333333333333333,
              "#9c179e"
             ],
             [
              0.4444444444444444,
              "#bd3786"
             ],
             [
              0.5555555555555556,
              "#d8576b"
             ],
             [
              0.6666666666666666,
              "#ed7953"
             ],
             [
              0.7777777777777778,
              "#fb9f3a"
             ],
             [
              0.8888888888888888,
              "#fdca26"
             ],
             [
              1,
              "#f0f921"
             ]
            ],
            "type": "contour"
           }
          ],
          "contourcarpet": [
           {
            "colorbar": {
             "outlinewidth": 0,
             "ticks": ""
            },
            "type": "contourcarpet"
           }
          ],
          "heatmap": [
           {
            "colorbar": {
             "outlinewidth": 0,
             "ticks": ""
            },
            "colorscale": [
             [
              0,
              "#0d0887"
             ],
             [
              0.1111111111111111,
              "#46039f"
             ],
             [
              0.2222222222222222,
              "#7201a8"
             ],
             [
              0.3333333333333333,
              "#9c179e"
             ],
             [
              0.4444444444444444,
              "#bd3786"
             ],
             [
              0.5555555555555556,
              "#d8576b"
             ],
             [
              0.6666666666666666,
              "#ed7953"
             ],
             [
              0.7777777777777778,
              "#fb9f3a"
             ],
             [
              0.8888888888888888,
              "#fdca26"
             ],
             [
              1,
              "#f0f921"
             ]
            ],
            "type": "heatmap"
           }
          ],
          "heatmapgl": [
           {
            "colorbar": {
             "outlinewidth": 0,
             "ticks": ""
            },
            "colorscale": [
             [
              0,
              "#0d0887"
             ],
             [
              0.1111111111111111,
              "#46039f"
             ],
             [
              0.2222222222222222,
              "#7201a8"
             ],
             [
              0.3333333333333333,
              "#9c179e"
             ],
             [
              0.4444444444444444,
              "#bd3786"
             ],
             [
              0.5555555555555556,
              "#d8576b"
             ],
             [
              0.6666666666666666,
              "#ed7953"
             ],
             [
              0.7777777777777778,
              "#fb9f3a"
             ],
             [
              0.8888888888888888,
              "#fdca26"
             ],
             [
              1,
              "#f0f921"
             ]
            ],
            "type": "heatmapgl"
           }
          ],
          "histogram": [
           {
            "marker": {
             "pattern": {
              "fillmode": "overlay",
              "size": 10,
              "solidity": 0.2
             }
            },
            "type": "histogram"
           }
          ],
          "histogram2d": [
           {
            "colorbar": {
             "outlinewidth": 0,
             "ticks": ""
            },
            "colorscale": [
             [
              0,
              "#0d0887"
             ],
             [
              0.1111111111111111,
              "#46039f"
             ],
             [
              0.2222222222222222,
              "#7201a8"
             ],
             [
              0.3333333333333333,
              "#9c179e"
             ],
             [
              0.4444444444444444,
              "#bd3786"
             ],
             [
              0.5555555555555556,
              "#d8576b"
             ],
             [
              0.6666666666666666,
              "#ed7953"
             ],
             [
              0.7777777777777778,
              "#fb9f3a"
             ],
             [
              0.8888888888888888,
              "#fdca26"
             ],
             [
              1,
              "#f0f921"
             ]
            ],
            "type": "histogram2d"
           }
          ],
          "histogram2dcontour": [
           {
            "colorbar": {
             "outlinewidth": 0,
             "ticks": ""
            },
            "colorscale": [
             [
              0,
              "#0d0887"
             ],
             [
              0.1111111111111111,
              "#46039f"
             ],
             [
              0.2222222222222222,
              "#7201a8"
             ],
             [
              0.3333333333333333,
              "#9c179e"
             ],
             [
              0.4444444444444444,
              "#bd3786"
             ],
             [
              0.5555555555555556,
              "#d8576b"
             ],
             [
              0.6666666666666666,
              "#ed7953"
             ],
             [
              0.7777777777777778,
              "#fb9f3a"
             ],
             [
              0.8888888888888888,
              "#fdca26"
             ],
             [
              1,
              "#f0f921"
             ]
            ],
            "type": "histogram2dcontour"
           }
          ],
          "mesh3d": [
           {
            "colorbar": {
             "outlinewidth": 0,
             "ticks": ""
            },
            "type": "mesh3d"
           }
          ],
          "parcoords": [
           {
            "line": {
             "colorbar": {
              "outlinewidth": 0,
              "ticks": ""
             }
            },
            "type": "parcoords"
           }
          ],
          "pie": [
           {
            "automargin": true,
            "type": "pie"
           }
          ],
          "scatter": [
           {
            "fillpattern": {
             "fillmode": "overlay",
             "size": 10,
             "solidity": 0.2
            },
            "type": "scatter"
           }
          ],
          "scatter3d": [
           {
            "line": {
             "colorbar": {
              "outlinewidth": 0,
              "ticks": ""
             }
            },
            "marker": {
             "colorbar": {
              "outlinewidth": 0,
              "ticks": ""
             }
            },
            "type": "scatter3d"
           }
          ],
          "scattercarpet": [
           {
            "marker": {
             "colorbar": {
              "outlinewidth": 0,
              "ticks": ""
             }
            },
            "type": "scattercarpet"
           }
          ],
          "scattergeo": [
           {
            "marker": {
             "colorbar": {
              "outlinewidth": 0,
              "ticks": ""
             }
            },
            "type": "scattergeo"
           }
          ],
          "scattergl": [
           {
            "marker": {
             "colorbar": {
              "outlinewidth": 0,
              "ticks": ""
             }
            },
            "type": "scattergl"
           }
          ],
          "scattermapbox": [
           {
            "marker": {
             "colorbar": {
              "outlinewidth": 0,
              "ticks": ""
             }
            },
            "type": "scattermapbox"
           }
          ],
          "scatterpolar": [
           {
            "marker": {
             "colorbar": {
              "outlinewidth": 0,
              "ticks": ""
             }
            },
            "type": "scatterpolar"
           }
          ],
          "scatterpolargl": [
           {
            "marker": {
             "colorbar": {
              "outlinewidth": 0,
              "ticks": ""
             }
            },
            "type": "scatterpolargl"
           }
          ],
          "scatterternary": [
           {
            "marker": {
             "colorbar": {
              "outlinewidth": 0,
              "ticks": ""
             }
            },
            "type": "scatterternary"
           }
          ],
          "surface": [
           {
            "colorbar": {
             "outlinewidth": 0,
             "ticks": ""
            },
            "colorscale": [
             [
              0,
              "#0d0887"
             ],
             [
              0.1111111111111111,
              "#46039f"
             ],
             [
              0.2222222222222222,
              "#7201a8"
             ],
             [
              0.3333333333333333,
              "#9c179e"
             ],
             [
              0.4444444444444444,
              "#bd3786"
             ],
             [
              0.5555555555555556,
              "#d8576b"
             ],
             [
              0.6666666666666666,
              "#ed7953"
             ],
             [
              0.7777777777777778,
              "#fb9f3a"
             ],
             [
              0.8888888888888888,
              "#fdca26"
             ],
             [
              1,
              "#f0f921"
             ]
            ],
            "type": "surface"
           }
          ],
          "table": [
           {
            "cells": {
             "fill": {
              "color": "#EBF0F8"
             },
             "line": {
              "color": "white"
             }
            },
            "header": {
             "fill": {
              "color": "#C8D4E3"
             },
             "line": {
              "color": "white"
             }
            },
            "type": "table"
           }
          ]
         },
         "layout": {
          "annotationdefaults": {
           "arrowcolor": "#2a3f5f",
           "arrowhead": 0,
           "arrowwidth": 1
          },
          "autotypenumbers": "strict",
          "coloraxis": {
           "colorbar": {
            "outlinewidth": 0,
            "ticks": ""
           }
          },
          "colorscale": {
           "diverging": [
            [
             0,
             "#8e0152"
            ],
            [
             0.1,
             "#c51b7d"
            ],
            [
             0.2,
             "#de77ae"
            ],
            [
             0.3,
             "#f1b6da"
            ],
            [
             0.4,
             "#fde0ef"
            ],
            [
             0.5,
             "#f7f7f7"
            ],
            [
             0.6,
             "#e6f5d0"
            ],
            [
             0.7,
             "#b8e186"
            ],
            [
             0.8,
             "#7fbc41"
            ],
            [
             0.9,
             "#4d9221"
            ],
            [
             1,
             "#276419"
            ]
           ],
           "sequential": [
            [
             0,
             "#0d0887"
            ],
            [
             0.1111111111111111,
             "#46039f"
            ],
            [
             0.2222222222222222,
             "#7201a8"
            ],
            [
             0.3333333333333333,
             "#9c179e"
            ],
            [
             0.4444444444444444,
             "#bd3786"
            ],
            [
             0.5555555555555556,
             "#d8576b"
            ],
            [
             0.6666666666666666,
             "#ed7953"
            ],
            [
             0.7777777777777778,
             "#fb9f3a"
            ],
            [
             0.8888888888888888,
             "#fdca26"
            ],
            [
             1,
             "#f0f921"
            ]
           ],
           "sequentialminus": [
            [
             0,
             "#0d0887"
            ],
            [
             0.1111111111111111,
             "#46039f"
            ],
            [
             0.2222222222222222,
             "#7201a8"
            ],
            [
             0.3333333333333333,
             "#9c179e"
            ],
            [
             0.4444444444444444,
             "#bd3786"
            ],
            [
             0.5555555555555556,
             "#d8576b"
            ],
            [
             0.6666666666666666,
             "#ed7953"
            ],
            [
             0.7777777777777778,
             "#fb9f3a"
            ],
            [
             0.8888888888888888,
             "#fdca26"
            ],
            [
             1,
             "#f0f921"
            ]
           ]
          },
          "colorway": [
           "#636efa",
           "#EF553B",
           "#00cc96",
           "#ab63fa",
           "#FFA15A",
           "#19d3f3",
           "#FF6692",
           "#B6E880",
           "#FF97FF",
           "#FECB52"
          ],
          "font": {
           "color": "#2a3f5f"
          },
          "geo": {
           "bgcolor": "white",
           "lakecolor": "white",
           "landcolor": "#E5ECF6",
           "showlakes": true,
           "showland": true,
           "subunitcolor": "white"
          },
          "hoverlabel": {
           "align": "left"
          },
          "hovermode": "closest",
          "mapbox": {
           "style": "light"
          },
          "paper_bgcolor": "white",
          "plot_bgcolor": "#E5ECF6",
          "polar": {
           "angularaxis": {
            "gridcolor": "white",
            "linecolor": "white",
            "ticks": ""
           },
           "bgcolor": "#E5ECF6",
           "radialaxis": {
            "gridcolor": "white",
            "linecolor": "white",
            "ticks": ""
           }
          },
          "scene": {
           "xaxis": {
            "backgroundcolor": "#E5ECF6",
            "gridcolor": "white",
            "gridwidth": 2,
            "linecolor": "white",
            "showbackground": true,
            "ticks": "",
            "zerolinecolor": "white"
           },
           "yaxis": {
            "backgroundcolor": "#E5ECF6",
            "gridcolor": "white",
            "gridwidth": 2,
            "linecolor": "white",
            "showbackground": true,
            "ticks": "",
            "zerolinecolor": "white"
           },
           "zaxis": {
            "backgroundcolor": "#E5ECF6",
            "gridcolor": "white",
            "gridwidth": 2,
            "linecolor": "white",
            "showbackground": true,
            "ticks": "",
            "zerolinecolor": "white"
           }
          },
          "shapedefaults": {
           "line": {
            "color": "#2a3f5f"
           }
          },
          "ternary": {
           "aaxis": {
            "gridcolor": "white",
            "linecolor": "white",
            "ticks": ""
           },
           "baxis": {
            "gridcolor": "white",
            "linecolor": "white",
            "ticks": ""
           },
           "bgcolor": "#E5ECF6",
           "caxis": {
            "gridcolor": "white",
            "linecolor": "white",
            "ticks": ""
           }
          },
          "title": {
           "x": 0.05
          },
          "xaxis": {
           "automargin": true,
           "gridcolor": "white",
           "linecolor": "white",
           "ticks": "",
           "title": {
            "standoff": 15
           },
           "zerolinecolor": "white",
           "zerolinewidth": 2
          },
          "yaxis": {
           "automargin": true,
           "gridcolor": "white",
           "linecolor": "white",
           "ticks": "",
           "title": {
            "standoff": 15
           },
           "zerolinecolor": "white",
           "zerolinewidth": 2
          }
         }
        },
        "title": {
         "text": "Top 5 Countries with Highest Annual Inflation (CPI) for 2012"
        },
        "updatemenus": [
         {
          "active": 152,
          "buttons": [
           {
            "args": [
             {
              "x": [
               [
                "Egypt"
               ]
              ],
              "y": [
               [
                5.944477972
               ]
              ]
             },
             {
              "title": "Top 5 Countries with Highest Annual Inflation (CPI) for 1860"
             }
            ],
            "label": "1860",
            "method": "update"
           },
           {
            "args": [
             {
              "x": [
               [
                "Egypt"
               ]
              ],
              "y": [
               [
                5.952720023
               ]
              ]
             },
             {
              "title": "Top 5 Countries with Highest Annual Inflation (CPI) for 1861"
             }
            ],
            "label": "1861",
            "method": "update"
           },
           {
            "args": [
             {
              "x": [
               [
                "Egypt"
               ]
              ],
              "y": [
               [
                5.940860215
               ]
              ]
             },
             {
              "title": "Top 5 Countries with Highest Annual Inflation (CPI) for 1862"
             }
            ],
            "label": "1862",
            "method": "update"
           },
           {
            "args": [
             {
              "x": [
               [
                "Egypt"
               ]
              ],
              "y": [
               [
                5.95026643
               ]
              ]
             },
             {
              "title": "Top 5 Countries with Highest Annual Inflation (CPI) for 1863"
             }
            ],
            "label": "1863",
            "method": "update"
           },
           {
            "args": [
             {
              "x": [
               [
                "Egypt"
               ]
              ],
              "y": [
               [
                5.951383068
               ]
              ]
             },
             {
              "title": "Top 5 Countries with Highest Annual Inflation (CPI) for 1864"
             }
            ],
            "label": "1864",
            "method": "update"
           },
           {
            "args": [
             {
              "x": [
               [
                "Egypt"
               ]
              ],
              "y": [
               [
                5.944846293
               ]
              ]
             },
             {
              "title": "Top 5 Countries with Highest Annual Inflation (CPI) for 1865"
             }
            ],
            "label": "1865",
            "method": "update"
           },
           {
            "args": [
             {
              "x": [
               [
                "Egypt"
               ]
              ],
              "y": [
               [
                5.941967143
               ]
              ]
             },
             {
              "title": "Top 5 Countries with Highest Annual Inflation (CPI) for 1866"
             }
            ],
            "label": "1866",
            "method": "update"
           },
           {
            "args": [
             {
              "x": [
               [
                "Egypt"
               ]
              ],
              "y": [
               [
                5.95106233
               ]
              ]
             },
             {
              "title": "Top 5 Countries with Highest Annual Inflation (CPI) for 1867"
             }
            ],
            "label": "1867",
            "method": "update"
           },
           {
            "args": [
             {
              "x": [
               [
                "Egypt"
               ]
              ],
              "y": [
               [
                5.94943927
               ]
              ]
             },
             {
              "title": "Top 5 Countries with Highest Annual Inflation (CPI) for 1868"
             }
            ],
            "label": "1868",
            "method": "update"
           },
           {
            "args": [
             {
              "x": [
               [
                "Egypt"
               ]
              ],
              "y": [
               [
                5.938284894
               ]
              ]
             },
             {
              "title": "Top 5 Countries with Highest Annual Inflation (CPI) for 1869"
             }
            ],
            "label": "1869",
            "method": "update"
           },
           {
            "args": [
             {
              "x": [
               [
                "Egypt",
                "Algeria"
               ]
              ],
              "y": [
               [
                5.952582557,
                3.441455696
               ]
              ]
             },
             {
              "title": "Top 5 Countries with Highest Annual Inflation (CPI) for 1870"
             }
            ],
            "label": "1870",
            "method": "update"
           },
           {
            "args": [
             {
              "x": [
               [
                "Algeria",
                "Egypt"
               ]
              ],
              "y": [
               [
                14.14913958,
                12.97850236
               ]
              ]
             },
             {
              "title": "Top 5 Countries with Highest Annual Inflation (CPI) for 1871"
             }
            ],
            "label": "1871",
            "method": "update"
           },
           {
            "args": [
             {
              "x": [
               [
                "Algeria",
                "Egypt"
               ]
              ],
              "y": [
               [
                -3.718592965,
                -4.201740115
               ]
              ]
             },
             {
              "title": "Top 5 Countries with Highest Annual Inflation (CPI) for 1872"
             }
            ],
            "label": "1872",
            "method": "update"
           },
           {
            "args": [
             {
              "x": [
               [
                "Algeria",
                "Egypt"
               ]
              ],
              "y": [
               [
                11.20389701,
                -4.171896921
               ]
              ]
             },
             {
              "title": "Top 5 Countries with Highest Annual Inflation (CPI) for 1873"
             }
            ],
            "label": "1873",
            "method": "update"
           },
           {
            "args": [
             {
              "x": [
               [
                "Egypt",
                "Algeria"
               ]
              ],
              "y": [
               [
                1.556480197,
                -3.848560701
               ]
              ]
             },
             {
              "title": "Top 5 Countries with Highest Annual Inflation (CPI) for 1874"
             }
            ],
            "label": "1874",
            "method": "update"
           },
           {
            "args": [
             {
              "x": [
               [
                "Egypt",
                "Algeria"
               ]
              ],
              "y": [
               [
                -8.528072838,
                -20.92417833
               ]
              ]
             },
             {
              "title": "Top 5 Countries with Highest Annual Inflation (CPI) for 1875"
             }
            ],
            "label": "1875",
            "method": "update"
           },
           {
            "args": [
             {
              "x": [
               [
                "Algeria",
                "Egypt"
               ]
              ],
              "y": [
               [
                -1.769547325,
                -10.87425348
               ]
              ]
             },
             {
              "title": "Top 5 Countries with Highest Annual Inflation (CPI) for 1876"
             }
            ],
            "label": "1876",
            "method": "update"
           },
           {
            "args": [
             {
              "x": [
               [
                "Algeria",
                "Egypt"
               ]
              ],
              "y": [
               [
                29.11604525,
                -0.43741275
               ]
              ]
             },
             {
              "title": "Top 5 Countries with Highest Annual Inflation (CPI) for 1877"
             }
            ],
            "label": "1877",
            "method": "update"
           },
           {
            "args": [
             {
              "x": [
               [
                "Egypt",
                "Algeria"
               ]
              ],
              "y": [
               [
                -0.514114788,
                -1.492537313
               ]
              ]
             },
             {
              "title": "Top 5 Countries with Highest Annual Inflation (CPI) for 1878"
             }
            ],
            "label": "1878",
            "method": "update"
           },
           {
            "args": [
             {
              "x": [
               [
                "Egypt",
                "Algeria"
               ]
              ],
              "y": [
               [
                10.55153622,
                -16.83135705
               ]
              ]
             },
             {
              "title": "Top 5 Countries with Highest Annual Inflation (CPI) for 1879"
             }
            ],
            "label": "1879",
            "method": "update"
           },
           {
            "args": [
             {
              "x": [
               [
                "Algeria",
                "Egypt"
               ]
              ],
              "y": [
               [
                3.881188119,
                1.784803672
               ]
              ]
             },
             {
              "title": "Top 5 Countries with Highest Annual Inflation (CPI) for 1880"
             }
            ],
            "label": "1880",
            "method": "update"
           },
           {
            "args": [
             {
              "x": [
               [
                "Algeria",
                "Egypt"
               ]
              ],
              "y": [
               [
                12.61913839,
                -12.40814963
               ]
              ]
             },
             {
              "title": "Top 5 Countries with Highest Annual Inflation (CPI) for 1881"
             }
            ],
            "label": "1881",
            "method": "update"
           },
           {
            "args": [
             {
              "x": [
               [
                "Egypt",
                "Algeria"
               ]
              ],
              "y": [
               [
                4.232602479,
                -12.35612729
               ]
              ]
             },
             {
              "title": "Top 5 Countries with Highest Annual Inflation (CPI) for 1882"
             }
            ],
            "label": "1882",
            "method": "update"
           },
           {
            "args": [
             {
              "x": [
               [
                "Algeria",
                "Egypt"
               ]
              ],
              "y": [
               [
                -1.390498262,
                -2.231571246
               ]
              ]
             },
             {
              "title": "Top 5 Countries with Highest Annual Inflation (CPI) for 1883"
             }
            ],
            "label": "1883",
            "method": "update"
           },
           {
            "args": [
             {
              "x": [
               [
                "Egypt",
                "Algeria"
               ]
              ],
              "y": [
               [
                -0.477081384,
                -15.94202899
               ]
              ]
             },
             {
              "title": "Top 5 Countries with Highest Annual Inflation (CPI) for 1884"
             }
            ],
            "label": "1884",
            "method": "update"
           },
           {
            "args": [
             {
              "x": [
               [
                "Egypt"
               ]
              ],
              "y": [
               [
                -6.438575054
               ]
              ]
             },
             {
              "title": "Top 5 Countries with Highest Annual Inflation (CPI) for 1885"
             }
            ],
            "label": "1885",
            "method": "update"
           },
           {
            "args": [
             {
              "x": [
               [
                "Egypt"
               ]
              ],
              "y": [
               [
                3.616636528
               ]
              ]
             },
             {
              "title": "Top 5 Countries with Highest Annual Inflation (CPI) for 1886"
             }
            ],
            "label": "1886",
            "method": "update"
           },
           {
            "args": [
             {
              "x": [
               [
                "Egypt"
               ]
              ],
              "y": [
               [
                -2.840798914
               ]
              ]
             },
             {
              "title": "Top 5 Countries with Highest Annual Inflation (CPI) for 1887"
             }
            ],
            "label": "1887",
            "method": "update"
           },
           {
            "args": [
             {
              "x": [
               [
                "Egypt"
               ]
              ],
              "y": [
               [
                -6.216944417
               ]
              ]
             },
             {
              "title": "Top 5 Countries with Highest Annual Inflation (CPI) for 1888"
             }
            ],
            "label": "1888",
            "method": "update"
           },
           {
            "args": [
             {
              "x": [
               [
                "Egypt"
               ]
              ],
              "y": [
               [
                -12.33241115
               ]
              ]
             },
             {
              "title": "Top 5 Countries with Highest Annual Inflation (CPI) for 1889"
             }
            ],
            "label": "1889",
            "method": "update"
           },
           {
            "args": [
             {
              "x": [
               [
                "Egypt"
               ]
              ],
              "y": [
               [
                7.949993931
               ]
              ]
             },
             {
              "title": "Top 5 Countries with Highest Annual Inflation (CPI) for 1890"
             }
            ],
            "label": "1890",
            "method": "update"
           },
           {
            "args": [
             {
              "x": [
               [
                "Egypt"
               ]
              ],
              "y": [
               [
                10.17539915
               ]
              ]
             },
             {
              "title": "Top 5 Countries with Highest Annual Inflation (CPI) for 1891"
             }
            ],
            "label": "1891",
            "method": "update"
           },
           {
            "args": [
             {
              "x": [
               [
                "Egypt"
               ]
              ],
              "y": [
               [
                1.959383611
               ]
              ]
             },
             {
              "title": "Top 5 Countries with Highest Annual Inflation (CPI) for 1892"
             }
            ],
            "label": "1892",
            "method": "update"
           },
           {
            "args": [
             {
              "x": [
               [
                "Egypt"
               ]
              ],
              "y": [
               [
                -13.92253028
               ]
              ]
             },
             {
              "title": "Top 5 Countries with Highest Annual Inflation (CPI) for 1893"
             }
            ],
            "label": "1893",
            "method": "update"
           },
           {
            "args": [
             {
              "x": [
               [
                "Egypt"
               ]
              ],
              "y": [
               [
                -4.953488372
               ]
              ]
             },
             {
              "title": "Top 5 Countries with Highest Annual Inflation (CPI) for 1894"
             }
            ],
            "label": "1894",
            "method": "update"
           },
           {
            "args": [
             {
              "x": [
               [
                "Egypt"
               ]
              ],
              "y": [
               [
                -5.578664057
               ]
              ]
             },
             {
              "title": "Top 5 Countries with Highest Annual Inflation (CPI) for 1895"
             }
            ],
            "label": "1895",
            "method": "update"
           },
           {
            "args": [
             {
              "x": [
               [
                "Egypt"
               ]
              ],
              "y": [
               [
                9.70458668
               ]
              ]
             },
             {
              "title": "Top 5 Countries with Highest Annual Inflation (CPI) for 1896"
             }
            ],
            "label": "1896",
            "method": "update"
           },
           {
            "args": [
             {
              "x": [
               [
                "Egypt"
               ]
              ],
              "y": [
               [
                2.846344632
               ]
              ]
             },
             {
              "title": "Top 5 Countries with Highest Annual Inflation (CPI) for 1897"
             }
            ],
            "label": "1897",
            "method": "update"
           },
           {
            "args": [
             {
              "x": [
               [
                "Egypt"
               ]
              ],
              "y": [
               [
                14.21681213
               ]
              ]
             },
             {
              "title": "Top 5 Countries with Highest Annual Inflation (CPI) for 1898"
             }
            ],
            "label": "1898",
            "method": "update"
           },
           {
            "args": [
             {
              "x": [
               [
                "Egypt"
               ]
              ],
              "y": [
               [
                -6.374422378
               ]
              ]
             },
             {
              "title": "Top 5 Countries with Highest Annual Inflation (CPI) for 1899"
             }
            ],
            "label": "1899",
            "method": "update"
           },
           {
            "args": [
             {
              "x": [
               [
                "Egypt",
                "South Africa"
               ]
              ],
              "y": [
               [
                7.388316151,
                4.109589041
               ]
              ]
             },
             {
              "title": "Top 5 Countries with Highest Annual Inflation (CPI) for 1900"
             }
            ],
            "label": "1900",
            "method": "update"
           },
           {
            "args": [
             {
              "x": [
               [
                "South Africa",
                "Egypt"
               ]
              ],
              "y": [
               [
                9.204368175,
                0.11
               ]
              ]
             },
             {
              "title": "Top 5 Countries with Highest Annual Inflation (CPI) for 1901"
             }
            ],
            "label": "1901",
            "method": "update"
           },
           {
            "args": [
             {
              "x": [
               [
                "South Africa",
                "Egypt"
               ]
              ],
              "y": [
               [
                2.414285714,
                -0.549395665
               ]
              ]
             },
             {
              "title": "Top 5 Countries with Highest Annual Inflation (CPI) for 1902"
             }
            ],
            "label": "1902",
            "method": "update"
           },
           {
            "args": [
             {
              "x": [
               [
                "Egypt",
                "South Africa"
               ]
              ],
              "y": [
               [
                -7.533145842,
                -8.236853118
               ]
              ]
             },
             {
              "title": "Top 5 Countries with Highest Annual Inflation (CPI) for 1903"
             }
            ],
            "label": "1903",
            "method": "update"
           },
           {
            "args": [
             {
              "x": [
               [
                "Egypt",
                "South Africa"
               ]
              ],
              "y": [
               [
                -2.639582881,
                -5.130348864
               ]
              ]
             },
             {
              "title": "Top 5 Countries with Highest Annual Inflation (CPI) for 1904"
             }
            ],
            "label": "1904",
            "method": "update"
           },
           {
            "args": [
             {
              "x": [
               [
                "Egypt",
                "South Africa"
               ]
              ],
              "y": [
               [
                15.36315966,
                -6.753725365
               ]
              ]
             },
             {
              "title": "Top 5 Countries with Highest Annual Inflation (CPI) for 1905"
             }
            ],
            "label": "1905",
            "method": "update"
           },
           {
            "args": [
             {
              "x": [
               [
                "Egypt",
                "South Africa"
               ]
              ],
              "y": [
               [
                9.448742747,
                -7.251482086
               ]
              ]
             },
             {
              "title": "Top 5 Countries with Highest Annual Inflation (CPI) for 1906"
             }
            ],
            "label": "1906",
            "method": "update"
           },
           {
            "args": [
             {
              "x": [
               [
                "Egypt",
                "South Africa"
               ]
              ],
              "y": [
               [
                1.307767076,
                -1.556276054
               ]
              ]
             },
             {
              "title": "Top 5 Countries with Highest Annual Inflation (CPI) for 1907"
             }
            ],
            "label": "1907",
            "method": "update"
           },
           {
            "args": [
             {
              "x": [
               [
                "Egypt",
                "South Africa"
               ]
              ],
              "y": [
               [
                8.87047536,
                -1.590288887
               ]
              ]
             },
             {
              "title": "Top 5 Countries with Highest Annual Inflation (CPI) for 1908"
             }
            ],
            "label": "1908",
            "method": "update"
           },
           {
            "args": [
             {
              "x": [
               [
                "South Africa",
                "Egypt"
               ]
              ],
              "y": [
               [
                4.838401224,
                1.185707419
               ]
              ]
             },
             {
              "title": "Top 5 Countries with Highest Annual Inflation (CPI) for 1909"
             }
            ],
            "label": "1909",
            "method": "update"
           },
           {
            "args": [
             {
              "x": [
               [
                "South Africa",
                "Egypt"
               ]
              ],
              "y": [
               [
                15.38672018,
                -11.7418844
               ]
              ]
             },
             {
              "title": "Top 5 Countries with Highest Annual Inflation (CPI) for 1910"
             }
            ],
            "label": "1910",
            "method": "update"
           },
           {
            "args": [
             {
              "x": [
               [
                "South Africa",
                "Egypt"
               ]
              ],
              "y": [
               [
                3.999683819,
                1.291827398
               ]
              ]
             },
             {
              "title": "Top 5 Countries with Highest Annual Inflation (CPI) for 1911"
             }
            ],
            "label": "1911",
            "method": "update"
           },
           {
            "args": [
             {
              "x": [
               [
                "Egypt",
                "South Africa"
               ]
              ],
              "y": [
               [
                6.24391108,
                2.561374173
               ]
              ]
             },
             {
              "title": "Top 5 Countries with Highest Annual Inflation (CPI) for 1912"
             }
            ],
            "label": "1912",
            "method": "update"
           },
           {
            "args": [
             {
              "x": [
               [
                "Egypt",
                "South Africa"
               ]
              ],
              "y": [
               [
                11.40380127,
                1.252408478
               ]
              ]
             },
             {
              "title": "Top 5 Countries with Highest Annual Inflation (CPI) for 1913"
             }
            ],
            "label": "1913",
            "method": "update"
           },
           {
            "args": [
             {
              "x": [
               [
                "South Africa",
                "Egypt"
               ]
              ],
              "y": [
               [
                1.236917222,
                -1.137384017
               ]
              ]
             },
             {
              "title": "Top 5 Countries with Highest Annual Inflation (CPI) for 1914"
             }
            ],
            "label": "1914",
            "method": "update"
           },
           {
            "args": [
             {
              "x": [
               [
                "South Africa",
                "Egypt"
               ]
              ],
              "y": [
               [
                4.87275882,
                -16.00060551
               ]
              ]
             },
             {
              "title": "Top 5 Countries with Highest Annual Inflation (CPI) for 1915"
             }
            ],
            "label": "1915",
            "method": "update"
           },
           {
            "args": [
             {
              "x": [
               [
                "Egypt",
                "South Africa"
               ]
              ],
              "y": [
               [
                19.326921,
                5.81828209
               ]
              ]
             },
             {
              "title": "Top 5 Countries with Highest Annual Inflation (CPI) for 1916"
             }
            ],
            "label": "1916",
            "method": "update"
           },
           {
            "args": [
             {
              "x": [
               [
                "Egypt",
                "South Africa"
               ]
              ],
              "y": [
               [
                35.4800225,
                9.889250814
               ]
              ]
             },
             {
              "title": "Top 5 Countries with Highest Annual Inflation (CPI) for 1917"
             }
            ],
            "label": "1917",
            "method": "update"
           },
           {
            "args": [
             {
              "x": [
               [
                "Egypt",
                "South Africa"
               ]
              ],
              "y": [
               [
                18.04671609,
                7.001422812
               ]
              ]
             },
             {
              "title": "Top 5 Countries with Highest Annual Inflation (CPI) for 1918"
             }
            ],
            "label": "1918",
            "method": "update"
           },
           {
            "args": [
             {
              "x": [
               [
                "Egypt",
                "South Africa"
               ]
              ],
              "y": [
               [
                12.1743099,
                0.93079949
               ]
              ]
             },
             {
              "title": "Top 5 Countries with Highest Annual Inflation (CPI) for 1919"
             }
            ],
            "label": "1919",
            "method": "update"
           },
           {
            "args": [
             {
              "x": [
               [
                "South Africa",
                "Egypt"
               ]
              ],
              "y": [
               [
                35.18691332,
                20.60262757
               ]
              ]
             },
             {
              "title": "Top 5 Countries with Highest Annual Inflation (CPI) for 1920"
             }
            ],
            "label": "1920",
            "method": "update"
           },
           {
            "args": [
             {
              "x": [
               [
                "Angola",
                "Zimbabwe",
                "South Africa",
                "Egypt"
               ]
              ],
              "y": [
               [
                29.62962963,
                -17.24137931,
                -18.07365899,
                -28.50213688
               ]
              ]
             },
             {
              "title": "Top 5 Countries with Highest Annual Inflation (CPI) for 1921"
             }
            ],
            "label": "1921",
            "method": "update"
           },
           {
            "args": [
             {
              "x": [
               [
                "Angola",
                "South Africa",
                "Egypt",
                "Zimbabwe"
               ]
              ],
              "y": [
               [
                45.71428571,
                -3.95519429,
                -11.8067676,
                -13.88888889
               ]
              ]
             },
             {
              "title": "Top 5 Countries with Highest Annual Inflation (CPI) for 1922"
             }
            ],
            "label": "1922",
            "method": "update"
           },
           {
            "args": [
             {
              "x": [
               [
                "Angola",
                "South Africa",
                "Zimbabwe",
                "Egypt"
               ]
              ],
              "y": [
               [
                68.62745098,
                0.758592218,
                -4.032258065,
                -10.90447887
               ]
              ]
             },
             {
              "title": "Top 5 Countries with Highest Annual Inflation (CPI) for 1923"
             }
            ],
            "label": "1923",
            "method": "update"
           },
           {
            "args": [
             {
              "x": [
               [
                "Angola",
                "Egypt",
                "South Africa"
               ]
              ],
              "y": [
               [
                126.744186,
                7.201266764,
                0
               ]
              ]
             },
             {
              "title": "Top 5 Countries with Highest Annual Inflation (CPI) for 1924"
             }
            ],
            "label": "1924",
            "method": "update"
           },
           {
            "args": [
             {
              "x": [
               [
                "Egypt",
                "South Africa",
                "Angola"
               ]
              ],
              "y": [
               [
                5.682103785,
                -1.505761844,
                -27.17948718
               ]
              ]
             },
             {
              "title": "Top 5 Countries with Highest Annual Inflation (CPI) for 1925"
             }
            ],
            "label": "1925",
            "method": "update"
           },
           {
            "args": [
             {
              "x": [
               [
                "South Africa",
                "Angola",
                "Egypt"
               ]
              ],
              "y": [
               [
                -1.523581717,
                -7.042253521,
                -11.35479535
               ]
              ]
             },
             {
              "title": "Top 5 Countries with Highest Annual Inflation (CPI) for 1926"
             }
            ],
            "label": "1926",
            "method": "update"
           },
           {
            "args": [
             {
              "x": [
               [
                "South Africa",
                "Zimbabwe",
                "Egypt",
                "Angola"
               ]
              ],
              "y": [
               [
                2.323371,
                0.847457627,
                -8.356955722,
                -17.42424242
               ]
              ]
             },
             {
              "title": "Top 5 Countries with Highest Annual Inflation (CPI) for 1927"
             }
            ],
            "label": "1927",
            "method": "update"
           },
           {
            "args": [
             {
              "x": [
               [
                "Egypt",
                "Zimbabwe",
                "South Africa",
                "Angola"
               ]
              ],
              "y": [
               [
                4.5057024,
                0.840336134,
                -0.758592218,
                -9.174311927
               ]
              ]
             },
             {
              "title": "Top 5 Countries with Highest Annual Inflation (CPI) for 1928"
             }
            ],
            "label": "1928",
            "method": "update"
           },
           {
            "args": [
             {
              "x": [
               [
                "Zimbabwe",
                "South Africa",
                "Egypt",
                "Angola"
               ]
              ],
              "y": [
               [
                0,
                -1.523581717,
                -3.339660342,
                -5.050505051
               ]
              ]
             },
             {
              "title": "Top 5 Countries with Highest Annual Inflation (CPI) for 1929"
             }
            ],
            "label": "1929",
            "method": "update"
           },
           {
            "args": [
             {
              "x": [
               [
                "South Africa",
                "Zimbabwe",
                "Angola",
                "Egypt"
               ]
              ],
              "y": [
               [
                -2.328651389,
                -5,
                -5.319148936,
                -6.922294859
               ]
              ]
             },
             {
              "title": "Top 5 Countries with Highest Annual Inflation (CPI) for 1930"
             }
            ],
            "label": "1930",
            "method": "update"
           },
           {
            "args": [
             {
              "x": [
               [
                "Angola",
                "South Africa",
                "Egypt",
                "Zimbabwe"
               ]
              ],
              "y": [
               [
                0,
                -3.968211061,
                -5.020231154,
                -7.01754386
               ]
              ]
             },
             {
              "title": "Top 5 Countries with Highest Annual Inflation (CPI) for 1931"
             }
            ],
            "label": "1931",
            "method": "update"
           },
           {
            "args": [
             {
              "x": [
               [
                "Angola",
                "Zimbabwe",
                "South Africa",
                "Egypt"
               ]
              ],
              "y": [
               [
                -2.247191011,
                -3.773584906,
                -5.432640883,
                -10.84823995
               ]
              ]
             },
             {
              "title": "Top 5 Countries with Highest Annual Inflation (CPI) for 1932"
             }
            ],
            "label": "1932",
            "method": "update"
           },
           {
            "args": [
             {
              "x": [
               [
                "South Africa",
                "Angola",
                "Zimbabwe",
                "Egypt"
               ]
              ],
              "y": [
               [
                2.39909513,
                2.298850575,
                -2.941176471,
                -9.7931274
               ]
              ]
             },
             {
              "title": "Top 5 Countries with Highest Annual Inflation (CPI) for 1933"
             }
            ],
            "label": "1933",
            "method": "update"
           },
           {
            "args": [
             {
              "x": [
               [
                "Egypt",
                "Angola",
                "Zimbabwe",
                "South Africa"
               ]
              ],
              "y": [
               [
                23.96925479,
                3.370786517,
                -1.01010101,
                -1.453403872
               ]
              ]
             },
             {
              "title": "Top 5 Countries with Highest Annual Inflation (CPI) for 1934"
             }
            ],
            "label": "1934",
            "method": "update"
           },
           {
            "args": [
             {
              "x": [
               [
                "Egypt",
                "Angola",
                "Zimbabwe",
                "South Africa"
               ]
              ],
              "y": [
               [
                5.648570427,
                5.434782609,
                0,
                -0.44835113
               ]
              ]
             },
             {
              "title": "Top 5 Countries with Highest Annual Inflation (CPI) for 1935"
             }
            ],
            "label": "1935",
            "method": "update"
           },
           {
            "args": [
             {
              "x": [
               [
                "South Africa",
                "Zimbabwe",
                "Angola",
                "Egypt"
               ]
              ],
              "y": [
               [
                0.906666667,
                -1.020408163,
                -1.030927835,
                -7.249727068
               ]
              ]
             },
             {
              "title": "Top 5 Countries with Highest Annual Inflation (CPI) for 1936"
             }
            ],
            "label": "1936",
            "method": "update"
           },
           {
            "args": [
             {
              "x": [
               [
                "Zimbabwe",
                "South Africa",
                "Angola",
                "Egypt"
               ]
              ],
              "y": [
               [
                6.18556701,
                5.63777308,
                2.083333333,
                -1.022813275
               ]
              ]
             },
             {
              "title": "Top 5 Countries with Highest Annual Inflation (CPI) for 1937"
             }
            ],
            "label": "1937",
            "method": "update"
           },
           {
            "args": [
             {
              "x": [
               [
                "Egypt",
                "Angola",
                "South Africa",
                "Zimbabwe"
               ]
              ],
              "y": [
               [
                11.43314281,
                2.040816327,
                -0.32243718,
                -2.912621359
               ]
              ]
             },
             {
              "title": "Top 5 Countries with Highest Annual Inflation (CPI) for 1938"
             }
            ],
            "label": "1938",
            "method": "update"
           },
           {
            "args": [
             {
              "x": [
               [
                "Algeria",
                "Angola",
                "Zimbabwe",
                "South Africa",
                "Egypt"
               ]
              ],
              "y": [
               [
                9.756097561,
                1,
                0.906344411,
                0.858895706,
                -1.435148115
               ]
              ]
             },
             {
              "title": "Top 5 Countries with Highest Annual Inflation (CPI) for 1939"
             }
            ],
            "label": "1939",
            "method": "update"
           },
           {
            "args": [
             {
              "x": [
               [
                "Morocco",
                "Algeria",
                "Tunisia",
                "Angola",
                "Egypt"
               ]
              ],
              "y": [
               [
                25,
                22.22222222,
                22.01300157,
                13.86138614,
                10.38362042
               ]
              ]
             },
             {
              "title": "Top 5 Countries with Highest Annual Inflation (CPI) for 1940"
             }
            ],
            "label": "1940",
            "method": "update"
           },
           {
            "args": [
             {
              "x": [
               [
                "Morocco",
                "Tunisia",
                "Egypt",
                "Angola",
                "Algeria"
               ]
              ],
              "y": [
               [
                32,
                24.58203197,
                24.18818835,
                16.52173913,
                16.36363636
               ]
              ]
             },
             {
              "title": "Top 5 Countries with Highest Annual Inflation (CPI) for 1941"
             }
            ],
            "label": "1941",
            "method": "update"
           },
           {
            "args": [
             {
              "x": [
               [
                "Egypt",
                "Morocco",
                "Algeria",
                "Tunisia",
                "Angola"
               ]
              ],
              "y": [
               [
                40.76638415,
                38.1935295,
                28.125,
                24.99631323,
                17.91044776
               ]
              ]
             },
             {
              "title": "Top 5 Countries with Highest Annual Inflation (CPI) for 1942"
             }
            ],
            "label": "1942",
            "method": "update"
           },
           {
            "args": [
             {
              "x": [
               [
                "Tunisia",
                "Algeria",
                "Morocco",
                "Egypt",
                "Angola"
               ]
              ],
              "y": [
               [
                72.10948561,
                46.34146341,
                28.50635593,
                17.48643148,
                13.92405063
               ]
              ]
             },
             {
              "title": "Top 5 Countries with Highest Annual Inflation (CPI) for 1943"
             }
            ],
            "label": "1943",
            "method": "update"
           },
           {
            "args": [
             {
              "x": [
               [
                "Algeria",
                "Tunisia",
                "Morocco",
                "Egypt",
                "Angola"
               ]
              ],
              "y": [
               [
                41.66666667,
                37.61310666,
                34.8116396,
                11.37938502,
                7.777777778
               ]
              ]
             },
             {
              "title": "Top 5 Countries with Highest Annual Inflation (CPI) for 1944"
             }
            ],
            "label": "1944",
            "method": "update"
           },
           {
            "args": [
             {
              "x": [
               [
                "Algeria",
                "Morocco",
                "Tunisia",
                "Angola",
                "Zambia"
               ]
              ],
              "y": [
               [
                29.41176471,
                18.98618075,
                13.77833126,
                5.154639175,
                2.702702703
               ]
              ]
             },
             {
              "title": "Top 5 Countries with Highest Annual Inflation (CPI) for 1945"
             }
            ],
            "label": "1945",
            "method": "update"
           },
           {
            "args": [
             {
              "x": [
               [
                "Morocco",
                "Tunisia",
                "Algeria",
                "Zambia",
                "South Africa"
               ]
              ],
              "y": [
               [
                56.75522894,
                49.61253886,
                18.18181818,
                7.894736842,
                6.060606061
               ]
              ]
             },
             {
              "title": "Top 5 Countries with Highest Annual Inflation (CPI) for 1946"
             }
            ],
            "label": "1946",
            "method": "update"
           },
           {
            "args": [
             {
              "x": [
               [
                "Algeria",
                "Tunisia",
                "Morocco",
                "Angola",
                "South Africa"
               ]
              ],
              "y": [
               [
                69.23076923,
                67.09975712,
                57.47303544,
                13.55140187,
                4.287695661
               ]
              ]
             },
             {
              "title": "Top 5 Countries with Highest Annual Inflation (CPI) for 1947"
             }
            ],
            "label": "1947",
            "method": "update"
           },
           {
            "args": [
             {
              "x": [
               [
                "Tunisia",
                "Algeria",
                "Morocco",
                "Mauritius",
                "Zimbabwe"
               ]
              ],
              "y": [
               [
                69.14172635,
                63.63636364,
                40.14656285,
                31.99785465,
                9.388646288
               ]
              ]
             },
             {
              "title": "Top 5 Countries with Highest Annual Inflation (CPI) for 1948"
             }
            ],
            "label": "1948",
            "method": "update"
           },
           {
            "args": [
             {
              "x": [
               [
                "Algeria",
                "Morocco",
                "Tunisia",
                "Zimbabwe",
                "Kenya"
               ]
              ],
              "y": [
               [
                23.61111111,
                22.99979203,
                4.156960191,
                3.79241517,
                3.522920204
               ]
              ]
             },
             {
              "title": "Top 5 Countries with Highest Annual Inflation (CPI) for 1949"
             }
            ],
            "label": "1949",
            "method": "update"
           },
           {
            "args": [
             {
              "x": [
               [
                "Kenya",
                "Egypt",
                "Zimbabwe",
                "South Africa",
                "Mauritius"
               ]
              ],
              "y": [
               [
                8.553710537,
                8.510015609,
                7.692307692,
                6.875866852,
                4.904878735
               ]
              ]
             },
             {
              "title": "Top 5 Countries with Highest Annual Inflation (CPI) for 1950"
             }
            ],
            "label": "1950",
            "method": "update"
           },
           {
            "args": [
             {
              "x": [
               [
                "Morocco",
                "Tunisia",
                "Mauritius",
                "Kenya",
                "South Africa"
               ]
              ],
              "y": [
               [
                23.2010648,
                15.03591871,
                11.15115499,
                10.87767339,
                7.653375726
               ]
              ]
             },
             {
              "title": "Top 5 Countries with Highest Annual Inflation (CPI) for 1951"
             }
            ],
            "label": "1951",
            "method": "update"
           },
           {
            "args": [
             {
              "x": [
               [
                "Ivory Coast",
                "Zimbabwe",
                "Tunisia",
                "South Africa",
                "Kenya"
               ]
              ],
              "y": [
               [
                16.21609969,
                8.180300501,
                7.006177993,
                6.609004882,
                6.450926123
               ]
              ]
             },
             {
              "title": "Top 5 Countries with Highest Annual Inflation (CPI) for 1952"
             }
            ],
            "label": "1952",
            "method": "update"
           },
           {
            "args": [
             {
              "x": [
               [
                "Zambia",
                "Kenya",
                "Zimbabwe",
                "Ivory Coast",
                "South Africa"
               ]
              ],
              "y": [
               [
                3.846153846,
                3.032,
                2.777777778,
                2.326185353,
                0.777385159
               ]
              ]
             },
             {
              "title": "Top 5 Countries with Highest Annual Inflation (CPI) for 1953"
             }
            ],
            "label": "1953",
            "method": "update"
           },
           {
            "args": [
             {
              "x": [
               [
                "Kenya",
                "Tunisia",
                "South Africa",
                "Zambia",
                "Nigeria"
               ]
              ],
              "y": [
               [
                4.410280301,
                4.192011553,
                3.8457223,
                3.703703704,
                3.10291645
               ]
              ]
             },
             {
              "title": "Top 5 Countries with Highest Annual Inflation (CPI) for 1954"
             }
            ],
            "label": "1954",
            "method": "update"
           },
           {
            "args": [
             {
              "x": [
               [
                "Kenya",
                "Nigeria",
                "Morocco",
                "Zambia",
                "Ivory Coast"
               ]
              ],
              "y": [
               [
                6.369450435,
                6.173562277,
                5.86226574,
                3.571428571,
                2.326185353
               ]
              ]
             },
             {
              "title": "Top 5 Countries with Highest Annual Inflation (CPI) for 1955"
             }
            ],
            "label": "1955",
            "method": "update"
           },
           {
            "args": [
             {
              "x": [
               [
                "Nigeria",
                "Morocco",
                "Tunisia",
                "Ivory Coast",
                "Zimbabwe"
               ]
              ],
              "y": [
               [
                6.862909067,
                5.714750199,
                4.807532957,
                4.54479533,
                4.431314623
               ]
              ]
             },
             {
              "title": "Top 5 Countries with Highest Annual Inflation (CPI) for 1956"
             }
            ],
            "label": "1956",
            "method": "update"
           },
           {
            "args": [
             {
              "x": [
               [
                "Ivory Coast",
                "Central African Republic",
                "Tunisia",
                "South Africa",
                "Egypt"
               ]
              ],
              "y": [
               [
                13.04340287,
                6.818181818,
                5.504844321,
                3.263731394,
                3.249231915
               ]
              ]
             },
             {
              "title": "Top 5 Countries with Highest Annual Inflation (CPI) for 1957"
             }
            ],
            "label": "1957",
            "method": "update"
           },
           {
            "args": [
             {
              "x": [
               [
                "Ivory Coast",
                "Central African Republic",
                "Algeria",
                "Tunisia",
                "Morocco"
               ]
              ],
              "y": [
               [
                21.15476063,
                12.76595745,
                12.26415094,
                5.216941093,
                4.383973421
               ]
              ]
             },
             {
              "title": "Top 5 Countries with Highest Annual Inflation (CPI) for 1958"
             }
            ],
            "label": "1958",
            "method": "update"
           },
           {
            "args": [
             {
              "x": [
               [
                "Algeria",
                "Ivory Coast",
                "Nigeria",
                "Central African Republic",
                "Zimbabwe"
               ]
              ],
              "y": [
               [
                9.243697479,
                6.348281887,
                4.707596881,
                3.773584906,
                2.652519894
               ]
              ]
             },
             {
              "title": "Top 5 Countries with Highest Annual Inflation (CPI) for 1959"
             }
            ],
            "label": "1959",
            "method": "update"
           },
           {
            "args": [
             {
              "x": [
               [
                "Central African Republic",
                "Algeria",
                "Nigeria",
                "Zambia",
                "Zimbabwe"
               ]
              ],
              "y": [
               [
                10.90909091,
                5.384615385,
                4.325727898,
                3.453689168,
                2.454780362
               ]
              ]
             },
             {
              "title": "Top 5 Countries with Highest Annual Inflation (CPI) for 1960"
             }
            ],
            "label": "1960",
            "method": "update"
           },
           {
            "args": [
             {
              "x": [
               [
                "Ivory Coast",
                "Central African Republic",
                "Nigeria",
                "Algeria",
                "Zimbabwe"
               ]
              ],
              "y": [
               [
                14.43033046,
                6.557377049,
                6.217386806,
                2.919708029,
                2.90037831
               ]
              ]
             },
             {
              "title": "Top 5 Countries with Highest Annual Inflation (CPI) for 1961"
             }
            ],
            "label": "1961",
            "method": "update"
           },
           {
            "args": [
             {
              "x": [
               [
                "Central African Republic",
                "Angola",
                "Tunisia",
                "Morocco",
                "Nigeria"
               ]
              ],
              "y": [
               [
                7.692307692,
                5.882352941,
                5.78395737,
                5.408269117,
                2.911602856
               ]
              ]
             },
             {
              "title": "Top 5 Countries with Highest Annual Inflation (CPI) for 1962"
             }
            ],
            "label": "1962",
            "method": "update"
           },
           {
            "args": [
             {
              "x": [
               [
                "Ivory Coast",
                "Morocco",
                "Central African Republic",
                "Egypt",
                "Mauritius"
               ]
              ],
              "y": [
               [
                8.719549217,
                5.738828475,
                3.714285714,
                2.060865254,
                1.753672463
               ]
              ]
             },
             {
              "title": "Top 5 Countries with Highest Annual Inflation (CPI) for 1963"
             }
            ],
            "label": "1963",
            "method": "update"
           },
           {
            "args": [
             {
              "x": [
               [
                "Central African Republic",
                "Egypt",
                "Tunisia",
                "Morocco",
                "South Africa"
               ]
              ],
              "y": [
               [
                10.05509642,
                7.824338769,
                5.939573494,
                4.233330742,
                4.141937863
               ]
              ]
             },
             {
              "title": "Top 5 Countries with Highest Annual Inflation (CPI) for 1964"
             }
            ],
            "label": "1964",
            "method": "update"
           },
           {
            "args": [
             {
              "x": [
               [
                "Egypt",
                "Central African Republic",
                "Zambia",
                "Kenya",
                "Tunisia"
               ]
              ],
              "y": [
               [
                13.12090131,
                9.386733417,
                8.163265306,
                5.762329909,
                5.549985502
               ]
              ]
             },
             {
              "title": "Top 5 Countries with Highest Annual Inflation (CPI) for 1965"
             }
            ],
            "label": "1965",
            "method": "update"
           },
           {
            "args": [
             {
              "x": [
               [
                "Zambia",
                "Nigeria",
                "Egypt",
                "Ivory Coast",
                "Tunisia"
               ]
              ],
              "y": [
               [
                10.2425876,
                8.140460297,
                6.693697414,
                4.665098294,
                4.536102074
               ]
              ]
             },
             {
              "title": "Top 5 Countries with Highest Annual Inflation (CPI) for 1966"
             }
            ],
            "label": "1966",
            "method": "update"
           },
           {
            "args": [
             {
              "x": [
               [
                "Zambia",
                "Mauritius",
                "Tunisia",
                "Ivory Coast",
                "Zimbabwe"
               ]
              ],
              "y": [
               [
                5.012224939,
                2.937830401,
                2.843700217,
                2.766186537,
                2.365179967
               ]
              ]
             },
             {
              "title": "Top 5 Countries with Highest Annual Inflation (CPI) for 1967"
             }
            ],
            "label": "1967",
            "method": "update"
           },
           {
            "args": [
             {
              "x": [
               [
                "Zambia",
                "Ivory Coast",
                "Algeria",
                "Mauritius",
                "Central African Republic"
               ]
              ],
              "y": [
               [
                10.71012806,
                7.747595621,
                6.599987838,
                5.329676052,
                4.808743169
               ]
              ]
             },
             {
              "title": "Top 5 Countries with Highest Annual Inflation (CPI) for 1968"
             }
            ],
            "label": "1968",
            "method": "update"
           },
           {
            "args": [
             {
              "x": [
               [
                "Nigeria",
                "South Africa",
                "Egypt",
                "Mauritius",
                "Tunisia"
               ]
              ],
              "y": [
               [
                11.00320434,
                3.812391596,
                3.676736584,
                2.978677387,
                2.804694188
               ]
              ]
             },
             {
              "title": "Top 5 Countries with Highest Annual Inflation (CPI) for 1969"
             }
            ],
            "label": "1969",
            "method": "update"
           },
           {
            "args": [
             {
              "x": [
               [
                "Nigeria",
                "Ivory Coast",
                "Angola",
                "South Africa",
                "Central African Republic"
               ]
              ],
              "y": [
               [
                13.41347233,
                8.075116891,
                7.965434021,
                4.882526907,
                3.734439834
               ]
              ]
             },
             {
              "title": "Top 5 Countries with Highest Annual Inflation (CPI) for 1970"
             }
            ],
            "label": "1970",
            "method": "update"
           },
           {
            "args": [
             {
              "x": [
               [
                "Central African Republic",
                "Nigeria",
                "South Africa",
                "Zambia",
                "Algeria"
               ]
              ],
              "y": [
               [
                27.69953052,
                15.47842436,
                6.705448811,
                6.52173913,
                6.172816266
               ]
              ]
             },
             {
              "title": "Top 5 Countries with Highest Annual Inflation (CPI) for 1971"
             }
            ],
            "label": "1971",
            "method": "update"
           },
           {
            "args": [
             {
              "x": [
               [
                "Angola",
                "South Africa",
                "Mauritius",
                "Zambia",
                "Algeria"
               ]
              ],
              "y": [
               [
                15.79827455,
                8.431511329,
                5.551930333,
                4.761904762,
                4.734228715
               ]
              ]
             },
             {
              "title": "Top 5 Countries with Highest Annual Inflation (CPI) for 1972"
             }
            ],
            "label": "1972",
            "method": "update"
           },
           {
            "args": [
             {
              "x": [
               [
                "Mauritius",
                "Angola",
                "Ivory Coast",
                "Kenya",
                "Nigeria"
               ]
              ],
              "y": [
               [
                20.82296472,
                15.67485015,
                12.9325741,
                12.66289775,
                11.67346946
               ]
              ]
             },
             {
              "title": "Top 5 Countries with Highest Annual Inflation (CPI) for 1973"
             }
            ],
            "label": "1973",
            "method": "update"
           },
           {
            "args": [
             {
              "x": [
               [
                "Angola",
                "Mauritius",
                "Ivory Coast",
                "Kenya",
                "Morocco"
               ]
              ],
              "y": [
               [
                27.41525989,
                23.79801683,
                18.22418299,
                16.41376144,
                15.97890765
               ]
              ]
             },
             {
              "title": "Top 5 Countries with Highest Annual Inflation (CPI) for 1974"
             }
            ],
            "label": "1974",
            "method": "update"
           },
           {
            "args": [
             {
              "x": [
               [
                "Nigeria",
                "Angola",
                "Kenya",
                "Central African Republic",
                "Mauritius"
               ]
              ],
              "y": [
               [
                38.50391131,
                29.00043489,
                19.7347384,
                16.02787456,
                15.20534955
               ]
              ]
             },
             {
              "title": "Top 5 Countries with Highest Annual Inflation (CPI) for 1975"
             }
            ],
            "label": "1975",
            "method": "update"
           },
           {
            "args": [
             {
              "x": [
               [
                "Angola",
                "Zambia",
                "Nigeria",
                "Algeria",
                "Ivory Coast"
               ]
              ],
              "y": [
               [
                80.69990445,
                18.97435897,
                18.33643443,
                17.17351914,
                12.90885269
               ]
              ]
             },
             {
              "title": "Top 5 Countries with Highest Annual Inflation (CPI) for 1976"
             }
            ],
            "label": "1976",
            "method": "update"
           },
           {
            "args": [
             {
              "x": [
               [
                "Angola",
                "Ivory Coast",
                "Nigeria",
                "Zambia",
                "Kenya"
               ]
              ],
              "y": [
               [
                69.00935079,
                24.48243736,
                22.3551061,
                19.82758621,
                18.01088176
               ]
              ]
             },
             {
              "title": "Top 5 Countries with Highest Annual Inflation (CPI) for 1977"
             }
            ],
            "label": "1977",
            "method": "update"
           },
           {
            "args": [
             {
              "x": [
               [
                "Angola",
                "Zambia",
                "Ivory Coast",
                "Nigeria",
                "Kenya"
               ]
              ],
              "y": [
               [
                48.46106867,
                16.18705036,
                16.03173523,
                15.78133117,
                15.35621451
               ]
              ]
             },
             {
              "title": "Top 5 Countries with Highest Annual Inflation (CPI) for 1978"
             }
            ],
            "label": "1978",
            "method": "update"
           },
           {
            "args": [
             {
              "x": [
               [
                "Angola",
                "Mauritius",
                "Ivory Coast",
                "Algeria",
                "South Africa"
               ]
              ],
              "y": [
               [
                101.3013176,
                23.21616753,
                21.75954473,
                14.60957788,
                13.89287442
               ]
              ]
             },
             {
              "title": "Top 5 Countries with Highest Annual Inflation (CPI) for 1979"
             }
            ],
            "label": "1979",
            "method": "update"
           },
           {
            "args": [
             {
              "x": [
               [
                "Angola",
                "Mauritius",
                "Egypt",
                "South Africa",
                "Kenya"
               ]
              ],
              "y": [
               [
                46.70755462,
                33.04,
                20.5,
                14.236,
                13.866
               ]
              ]
             },
             {
              "title": "Top 5 Countries with Highest Annual Inflation (CPI) for 1980"
             }
            ],
            "label": "1980",
            "method": "update"
           },
           {
            "args": [
             {
              "x": [
               [
                "Mauritius",
                "Nigeria",
                "South Africa",
                "Central African Republic",
                "Algeria"
               ]
              ],
              "y": [
               [
                26.45,
                20.555,
                15.741,
                14.66,
                14.61
               ]
              ]
             },
             {
              "title": "Top 5 Countries with Highest Annual Inflation (CPI) for 1981"
             }
            ],
            "label": "1981",
            "method": "update"
           },
           {
            "args": [
             {
              "x": [
               [
                "Egypt",
                "South Africa",
                "Kenya",
                "Tunisia",
                "Mauritius"
               ]
              ],
              "y": [
               [
                14.9,
                14.4,
                13.821,
                13.673,
                13.384
               ]
              ]
             },
             {
              "title": "Top 5 Countries with Highest Annual Inflation (CPI) for 1982"
             }
            ],
            "label": "1982",
            "method": "update"
           },
           {
            "args": [
             {
              "x": [
               [
                "Zimbabwe",
                "Nigeria",
                "Zambia",
                "Egypt",
                "Central African Republic"
               ]
              ],
              "y": [
               [
                23.2,
                22.222,
                19.692,
                15.982,
                14.558
               ]
              ]
             },
             {
              "title": "Top 5 Countries with Highest Annual Inflation (CPI) for 1983"
             }
            ],
            "label": "1983",
            "method": "update"
           },
           {
            "args": [
             {
              "x": [
               [
                "Nigeria",
                "Kenya",
                "Zimbabwe",
                "Zambia",
                "Egypt"
               ]
              ],
              "y": [
               [
                40.909,
                20.667,
                20.3,
                20.019,
                17.06
               ]
              ]
             },
             {
              "title": "Top 5 Countries with Highest Annual Inflation (CPI) for 1984"
             }
            ],
            "label": "1984",
            "method": "update"
           },
           {
            "args": [
             {
              "x": [
               [
                "Zambia",
                "South Africa",
                "Egypt",
                "Kenya",
                "Central African Republic"
               ]
              ],
              "y": [
               [
                37.43,
                16.201,
                12.108,
                11.398,
                10.457
               ]
              ]
             },
             {
              "title": "Top 5 Countries with Highest Annual Inflation (CPI) for 1985"
             }
            ],
            "label": "1985",
            "method": "update"
           },
           {
            "args": [
             {
              "x": [
               [
                "Zambia",
                "Egypt",
                "South Africa",
                "Zimbabwe",
                "Algeria"
               ]
              ],
              "y": [
               [
                54.8,
                23.9,
                18.75,
                14.5,
                14.007
               ]
              ]
             },
             {
              "title": "Top 5 Countries with Highest Annual Inflation (CPI) for 1986"
             }
            ],
            "label": "1986",
            "method": "update"
           },
           {
            "args": [
             {
              "x": [
               [
                "Zambia",
                "Egypt",
                "South Africa",
                "Kenya",
                "Zimbabwe"
               ]
              ],
              "y": [
               [
                47.028,
                25.185,
                16.194,
                13.007,
                12.5
               ]
              ]
             },
             {
              "title": "Top 5 Countries with Highest Annual Inflation (CPI) for 1987"
             }
            ],
            "label": "1987",
            "method": "update"
           },
           {
            "args": [
             {
              "x": [
               [
                "Zambia",
                "Nigeria",
                "Egypt",
                "South Africa",
                "Zimbabwe"
               ]
              ],
              "y": [
               [
                54.042,
                34.211,
                15.185,
                12.892,
                7.4
               ]
              ]
             },
             {
              "title": "Top 5 Countries with Highest Annual Inflation (CPI) for 1988"
             }
            ],
            "label": "1988",
            "method": "update"
           },
           {
            "args": [
             {
              "x": [
               [
                "Zambia",
                "Nigeria",
                "Egypt",
                "South Africa",
                "Mauritius"
               ]
              ],
              "y": [
               [
                128.294,
                49.02,
                20.129,
                14.506,
                13.61
               ]
              ]
             },
             {
              "title": "Top 5 Countries with Highest Annual Inflation (CPI) for 1989"
             }
            ],
            "label": "1989",
            "method": "update"
           },
           {
            "args": [
             {
              "x": [
               [
                "Zambia",
                "Egypt",
                "Zimbabwe",
                "South Africa",
                "Kenya"
               ]
              ],
              "y": [
               [
                109.558,
                21.219,
                17.4,
                14.286,
                11.2
               ]
              ]
             },
             {
              "title": "Top 5 Countries with Highest Annual Inflation (CPI) for 1990"
             }
            ],
            "label": "1990",
            "method": "update"
           },
           {
            "args": [
             {
              "x": [
               [
                "Zambia",
                "Angola",
                "Algeria",
                "Zimbabwe",
                "Kenya"
               ]
              ],
              "y": [
               [
                97.701,
                85.265,
                25.9,
                24,
                19.104
               ]
              ]
             },
             {
              "title": "Top 5 Countries with Highest Annual Inflation (CPI) for 1991"
             }
            ],
            "label": "1991",
            "method": "update"
           },
           {
            "args": [
             {
              "x": [
               [
                "Angola",
                "Zambia",
                "Nigeria",
                "Zimbabwe",
                "Algeria"
               ]
              ],
              "y": [
               [
                299.097,
                165.725,
                44.565,
                41.6,
                31.7
               ]
              ]
             },
             {
              "title": "Top 5 Countries with Highest Annual Inflation (CPI) for 1992"
             }
            ],
            "label": "1992",
            "method": "update"
           },
           {
            "args": [
             {
              "x": [
               [
                "Angola",
                "Zambia",
                "Nigeria",
                "Kenya",
                "Zimbabwe"
               ]
              ],
              "y": [
               [
                1379.476,
                183.263,
                57.143,
                45.979,
                28.2
               ]
              ]
             },
             {
              "title": "Top 5 Countries with Highest Annual Inflation (CPI) for 1993"
             }
            ],
            "label": "1993",
            "method": "update"
           },
           {
            "args": [
             {
              "x": [
               [
                "Angola",
                "Nigeria",
                "Zambia",
                "Algeria",
                "Kenya"
               ]
              ],
              "y": [
               [
                949.771,
                57.416,
                54.614,
                29,
                28.814
               ]
              ]
             },
             {
              "title": "Top 5 Countries with Highest Annual Inflation (CPI) for 1994"
             }
            ],
            "label": "1994",
            "method": "update"
           },
           {
            "args": [
             {
              "x": [
               [
                "Angola",
                "Nigeria",
                "Zambia",
                "Algeria",
                "Zimbabwe"
               ]
              ],
              "y": [
               [
                2672.23,
                72.729,
                34.905,
                29.8,
                25.80873955
               ]
              ]
             },
             {
              "title": "Top 5 Countries with Highest Annual Inflation (CPI) for 1995"
             }
            ],
            "label": "1995",
            "method": "update"
           },
           {
            "args": [
             {
              "x": [
               [
                "Angola",
                "Zambia",
                "Nigeria",
                "Algeria",
                "Zimbabwe"
               ]
              ],
              "y": [
               [
                4146.01,
                43.095,
                29.292,
                18.7,
                16.40028408
               ]
              ]
             },
             {
              "title": "Top 5 Countries with Highest Annual Inflation (CPI) for 1996"
             }
            ],
            "label": "1996",
            "method": "update"
           },
           {
            "args": [
             {
              "x": [
               [
                "Angola",
                "Zambia",
                "Zimbabwe",
                "Kenya",
                "Nigeria"
               ]
              ],
              "y": [
               [
                221.492,
                24.41,
                20.0650384,
                11.924,
                10.673
               ]
              ]
             },
             {
              "title": "Top 5 Countries with Highest Annual Inflation (CPI) for 1997"
             }
            ],
            "label": "1997",
            "method": "update"
           },
           {
            "args": [
             {
              "x": [
               [
                "Angola",
                "Zimbabwe",
                "Zambia",
                "Nigeria",
                "South Africa"
               ]
              ],
              "y": [
               [
                107.429,
                46.61127497,
                24.456,
                7.862,
                6.872
               ]
              ]
             },
             {
              "title": "Top 5 Countries with Highest Annual Inflation (CPI) for 1998"
             }
            ],
            "label": "1998",
            "method": "update"
           },
           {
            "args": [
             {
              "x": [
               [
                "Angola",
                "Zimbabwe",
                "Zambia",
                "Mauritius",
                "Nigeria"
               ]
              ],
              "y": [
               [
                248.248,
                56.92320336,
                26.79,
                6.872,
                6.618
               ]
              ]
             },
             {
              "title": "Top 5 Countries with Highest Annual Inflation (CPI) for 1999"
             }
            ],
            "label": "1999",
            "method": "update"
           },
           {
            "args": [
             {
              "x": [
               [
                "Angola",
                "Zimbabwe",
                "Zambia",
                "Kenya",
                "Nigeria"
               ]
              ],
              "y": [
               [
                325.029,
                55.20369616,
                26.1,
                9.955,
                6.938
               ]
              ]
             },
             {
              "title": "Top 5 Countries with Highest Annual Inflation (CPI) for 2000"
             }
            ],
            "label": "2000",
            "method": "update"
           },
           {
            "args": [
             {
              "x": [
               [
                "Angola",
                "Zimbabwe",
                "Zambia",
                "Nigeria",
                "Kenya"
               ]
              ],
              "y": [
               [
                152.586,
                112.1184112,
                21.357,
                18.869,
                5.824
               ]
              ]
             },
             {
              "title": "Top 5 Countries with Highest Annual Inflation (CPI) for 2001"
             }
            ],
            "label": "2001",
            "method": "update"
           },
           {
            "args": [
             {
              "x": [
               [
                "Zimbabwe",
                "Angola",
                "Zambia",
                "Nigeria",
                "South Africa"
               ]
              ],
              "y": [
               [
                198.928606,
                108.893,
                22.239,
                12.883,
                9.177
               ]
              ]
             },
             {
              "title": "Top 5 Countries with Highest Annual Inflation (CPI) for 2002"
             }
            ],
            "label": "2002",
            "method": "update"
           },
           {
            "args": [
             {
              "x": [
               [
                "Zimbabwe",
                "Angola",
                "Zambia",
                "Nigeria",
                "Kenya"
               ]
              ],
              "y": [
               [
                598.7447505,
                98.342,
                21.4,
                14.033,
                5.983
               ]
              ]
             },
             {
              "title": "Top 5 Countries with Highest Annual Inflation (CPI) for 2003"
             }
            ],
            "label": "2003",
            "method": "update"
           },
           {
            "args": [
             {
              "x": [
               [
                "Zimbabwe",
                "Angola",
                "Zambia",
                "Nigeria",
                "Kenya"
               ]
              ],
              "y": [
               [
                132.7467739,
                43.559,
                17.969,
                15.001,
                8.381
               ]
              ]
             },
             {
              "title": "Top 5 Countries with Highest Annual Inflation (CPI) for 2004"
             }
            ],
            "label": "2004",
            "method": "update"
           },
           {
            "args": [
             {
              "x": [
               [
                "Zimbabwe",
                "Angola",
                "Zambia",
                "Nigeria",
                "Egypt"
               ]
              ],
              "y": [
               [
                585.8443656,
                22.961,
                18.325,
                17.856,
                8.826
               ]
              ]
             },
             {
              "title": "Top 5 Countries with Highest Annual Inflation (CPI) for 2005"
             }
            ],
            "label": "2005",
            "method": "update"
           },
           {
            "args": [
             {
              "x": [
               [
                "Zimbabwe",
                "Angola",
                "Zambia",
                "Mauritius",
                "Nigeria"
               ]
              ],
              "y": [
               [
                1281.113605,
                13.305,
                9.017,
                8.93,
                8.218
               ]
              ]
             },
             {
              "title": "Top 5 Countries with Highest Annual Inflation (CPI) for 2006"
             }
            ],
            "label": "2006",
            "method": "update"
           },
           {
            "args": [
             {
              "x": [
               [
                "Zimbabwe",
                "Angola",
                "Egypt",
                "Zambia",
                "Mauritius"
               ]
              ],
              "y": [
               [
                66279.89237,
                12.249,
                10.959,
                10.655,
                8.827
               ]
              ]
             },
             {
              "title": "Top 5 Countries with Highest Annual Inflation (CPI) for 2007"
             }
            ],
            "label": "2007",
            "method": "update"
           },
           {
            "args": [
             {
              "x": [
               [
                "Zimbabwe",
                "Kenya",
                "Angola",
                "Zambia",
                "Egypt"
               ]
              ],
              "y": [
               [
                21989695.22,
                15.101,
                12.465,
                12.449,
                11.698
               ]
              ]
             },
             {
              "title": "Top 5 Countries with Highest Annual Inflation (CPI) for 2008"
             }
            ],
            "label": "2008",
            "method": "update"
           },
           {
            "args": [
             {
              "x": [
               [
                "Egypt",
                "Angola",
                "Zambia",
                "Nigeria",
                "Kenya"
               ]
              ],
              "y": [
               [
                16.24,
                13.721,
                13.392,
                12.543,
                10.552
               ]
              ]
             },
             {
              "title": "Top 5 Countries with Highest Annual Inflation (CPI) for 2009"
             }
            ],
            "label": "2009",
            "method": "update"
           },
           {
            "args": [
             {
              "x": [
               [
                "Angola",
                "Nigeria",
                "Egypt",
                "Zambia",
                "Tunisia"
               ]
              ],
              "y": [
               [
                14.48,
                13.72,
                11.69,
                8.5,
                4.409
               ]
              ]
             },
             {
              "title": "Top 5 Countries with Highest Annual Inflation (CPI) for 2010"
             }
            ],
            "label": "2010",
            "method": "update"
           },
           {
            "args": [
             {
              "x": [
               [
                "Kenya",
                "Angola",
                "Egypt",
                "Nigeria",
                "Zambia"
               ]
              ],
              "y": [
               [
                14.022,
                13.484,
                11.09,
                10.841,
                8.658
               ]
              ]
             },
             {
              "title": "Top 5 Countries with Highest Annual Inflation (CPI) for 2011"
             }
            ],
            "label": "2011",
            "method": "update"
           },
           {
            "args": [
             {
              "x": [
               [
                "Nigeria",
                "Angola",
                "Kenya",
                "Algeria",
                "Egypt"
               ]
              ],
              "y": [
               [
                12.225,
                10.285,
                9.378,
                8.916,
                8.65
               ]
              ]
             },
             {
              "title": "Top 5 Countries with Highest Annual Inflation (CPI) for 2012"
             }
            ],
            "label": "2012",
            "method": "update"
           },
           {
            "args": [
             {
              "x": [
               [
                "Angola",
                "Nigeria",
                "Zambia",
                "Egypt",
                "Central African Republic"
               ]
              ],
              "y": [
               [
                8.782,
                8.495,
                6.978,
                6.914,
                6.552
               ]
              ]
             },
             {
              "title": "Top 5 Countries with Highest Annual Inflation (CPI) for 2013"
             }
            ],
            "label": "2013",
            "method": "update"
           },
           {
            "args": [
             {
              "x": [
               [
                "Central African Republic",
                "Egypt",
                "Nigeria",
                "Zambia",
                "Angola"
               ]
              ],
              "y": [
               [
                11.584,
                10.099,
                8.048,
                7.811,
                7.296
               ]
              ]
             },
             {
              "title": "Top 5 Countries with Highest Annual Inflation (CPI) for 2014"
             }
            ],
            "label": "2014",
            "method": "update"
           }
          ],
          "direction": "down",
          "showactive": true
         }
        ],
        "width": 900,
        "xaxis": {
         "anchor": "y",
         "autorange": true,
         "domain": [
          0,
          1
         ],
         "range": [
          -0.5,
          4.5
         ],
         "title": {
          "text": "Country"
         },
         "type": "category"
        },
        "yaxis": {
         "anchor": "x",
         "autorange": true,
         "domain": [
          0,
          1
         ],
         "range": [
          0,
          12.868421052631579
         ],
         "title": {
          "text": "Inflation Annual CPI"
         },
         "type": "linear"
        }
       }
      },
      "image/png": "[encoded data removed]",
      "text/html": [
       "<div>                            <div id=\"ecc5aa93-296c-427f-bf24-92708d98517d\" class=\"plotly-graph-div\" style=\"height:600px; width:900px;\"></div>            <script type=\"text/javascript\">                require([\"plotly\"], function(Plotly) {                    window.PLOTLYENV=window.PLOTLYENV || {};                                    if (document.getElementById(\"ecc5aa93-296c-427f-bf24-92708d98517d\")) {                    Plotly.newPlot(                        \"ecc5aa93-296c-427f-bf24-92708d98517d\",                        [{\"alignmentgroup\":\"True\",\"hovertemplate\":\"country=%{x}\\u003cbr\\u003eInflation Annual CPI=%{y}\\u003cextra\\u003e\\u003c\\u002fextra\\u003e\",\"legendgroup\":\"\",\"marker\":{\"color\":\"#636efa\",\"pattern\":{\"shape\":\"\"}},\"name\":\"\",\"offsetgroup\":\"\",\"orientation\":\"v\",\"showlegend\":false,\"textposition\":\"auto\",\"x\":[\"Egypt\"],\"xaxis\":\"x\",\"y\":[5.944477972],\"yaxis\":\"y\",\"type\":\"bar\"}],                        {\"template\":{\"data\":{\"histogram2dcontour\":[{\"type\":\"histogram2dcontour\",\"colorbar\":{\"outlinewidth\":0,\"ticks\":\"\"},\"colorscale\":[[0.0,\"#0d0887\"],[0.1111111111111111,\"#46039f\"],[0.2222222222222222,\"#7201a8\"],[0.3333333333333333,\"#9c179e\"],[0.4444444444444444,\"#bd3786\"],[0.5555555555555556,\"#d8576b\"],[0.6666666666666666,\"#ed7953\"],[0.7777777777777778,\"#fb9f3a\"],[0.8888888888888888,\"#fdca26\"],[1.0,\"#f0f921\"]]}],\"choropleth\":[{\"type\":\"choropleth\",\"colorbar\":{\"outlinewidth\":0,\"ticks\":\"\"}}],\"histogram2d\":[{\"type\":\"histogram2d\",\"colorbar\":{\"outlinewidth\":0,\"ticks\":\"\"},\"colorscale\":[[0.0,\"#0d0887\"],[0.1111111111111111,\"#46039f\"],[0.2222222222222222,\"#7201a8\"],[0.3333333333333333,\"#9c179e\"],[0.4444444444444444,\"#bd3786\"],[0.5555555555555556,\"#d8576b\"],[0.6666666666666666,\"#ed7953\"],[0.7777777777777778,\"#fb9f3a\"],[0.8888888888888888,\"#fdca26\"],[1.0,\"#f0f921\"]]}],\"heatmap\":[{\"type\":\"heatmap\",\"colorbar\":{\"outlinewidth\":0,\"ticks\":\"\"},\"colorscale\":[[0.0,\"#0d0887\"],[0.1111111111111111,\"#46039f\"],[0.2222222222222222,\"#7201a8\"],[0.3333333333333333,\"#9c179e\"],[0.4444444444444444,\"#bd3786\"],[0.5555555555555556,\"#d8576b\"],[0.6666666666666666,\"#ed7953\"],[0.7777777777777778,\"#fb9f3a\"],[0.8888888888888888,\"#fdca26\"],[1.0,\"#f0f921\"]]}],\"heatmapgl\":[{\"type\":\"heatmapgl\",\"colorbar\":{\"outlinewidth\":0,\"ticks\":\"\"},\"colorscale\":[[0.0,\"#0d0887\"],[0.1111111111111111,\"#46039f\"],[0.2222222222222222,\"#7201a8\"],[0.3333333333333333,\"#9c179e\"],[0.4444444444444444,\"#bd3786\"],[0.5555555555555556,\"#d8576b\"],[0.6666666666666666,\"#ed7953\"],[0.7777777777777778,\"#fb9f3a\"],[0.8888888888888888,\"#fdca26\"],[1.0,\"#f0f921\"]]}],\"contourcarpet\":[{\"type\":\"contourcarpet\",\"colorbar\":{\"outlinewidth\":0,\"ticks\":\"\"}}],\"contour\":[{\"type\":\"contour\",\"colorbar\":{\"outlinewidth\":0,\"ticks\":\"\"},\"colorscale\":[[0.0,\"#0d0887\"],[0.1111111111111111,\"#46039f\"],[0.2222222222222222,\"#7201a8\"],[0.3333333333333333,\"#9c179e\"],[0.4444444444444444,\"#bd3786\"],[0.5555555555555556,\"#d8576b\"],[0.6666666666666666,\"#ed7953\"],[0.7777777777777778,\"#fb9f3a\"],[0.8888888888888888,\"#fdca26\"],[1.0,\"#f0f921\"]]}],\"surface\":[{\"type\":\"surface\",\"colorbar\":{\"outlinewidth\":0,\"ticks\":\"\"},\"colorscale\":[[0.0,\"#0d0887\"],[0.1111111111111111,\"#46039f\"],[0.2222222222222222,\"#7201a8\"],[0.3333333333333333,\"#9c179e\"],[0.4444444444444444,\"#bd3786\"],[0.5555555555555556,\"#d8576b\"],[0.6666666666666666,\"#ed7953\"],[0.7777777777777778,\"#fb9f3a\"],[0.8888888888888888,\"#fdca26\"],[1.0,\"#f0f921\"]]}],\"mesh3d\":[{\"type\":\"mesh3d\",\"colorbar\":{\"outlinewidth\":0,\"ticks\":\"\"}}],\"scatter\":[{\"fillpattern\":{\"fillmode\":\"overlay\",\"size\":10,\"solidity\":0.2},\"type\":\"scatter\"}],\"parcoords\":[{\"type\":\"parcoords\",\"line\":{\"colorbar\":{\"outlinewidth\":0,\"ticks\":\"\"}}}],\"scatterpolargl\":[{\"type\":\"scatterpolargl\",\"marker\":{\"colorbar\":{\"outlinewidth\":0,\"ticks\":\"\"}}}],\"bar\":[{\"error_x\":{\"color\":\"#2a3f5f\"},\"error_y\":{\"color\":\"#2a3f5f\"},\"marker\":{\"line\":{\"color\":\"#E5ECF6\",\"width\":0.5},\"pattern\":{\"fillmode\":\"overlay\",\"size\":10,\"solidity\":0.2}},\"type\":\"bar\"}],\"scattergeo\":[{\"type\":\"scattergeo\",\"marker\":{\"colorbar\":{\"outlinewidth\":0,\"ticks\":\"\"}}}],\"scatterpolar\":[{\"type\":\"scatterpolar\",\"marker\":{\"colorbar\":{\"outlinewidth\":0,\"ticks\":\"\"}}}],\"histogram\":[{\"marker\":{\"pattern\":{\"fillmode\":\"overlay\",\"size\":10,\"solidity\":0.2}},\"type\":\"histogram\"}],\"scattergl\":[{\"type\":\"scattergl\",\"marker\":{\"colorbar\":{\"outlinewidth\":0,\"ticks\":\"\"}}}],\"scatter3d\":[{\"type\":\"scatter3d\",\"line\":{\"colorbar\":{\"outlinewidth\":0,\"ticks\":\"\"}},\"marker\":{\"colorbar\":{\"outlinewidth\":0,\"ticks\":\"\"}}}],\"scattermapbox\":[{\"type\":\"scattermapbox\",\"marker\":{\"colorbar\":{\"outlinewidth\":0,\"ticks\":\"\"}}}],\"scatterternary\":[{\"type\":\"scatterternary\",\"marker\":{\"colorbar\":{\"outlinewidth\":0,\"ticks\":\"\"}}}],\"scattercarpet\":[{\"type\":\"scattercarpet\",\"marker\":{\"colorbar\":{\"outlinewidth\":0,\"ticks\":\"\"}}}],\"carpet\":[{\"aaxis\":{\"endlinecolor\":\"#2a3f5f\",\"gridcolor\":\"white\",\"linecolor\":\"white\",\"minorgridcolor\":\"white\",\"startlinecolor\":\"#2a3f5f\"},\"baxis\":{\"endlinecolor\":\"#2a3f5f\",\"gridcolor\":\"white\",\"linecolor\":\"white\",\"minorgridcolor\":\"white\",\"startlinecolor\":\"#2a3f5f\"},\"type\":\"carpet\"}],\"table\":[{\"cells\":{\"fill\":{\"color\":\"#EBF0F8\"},\"line\":{\"color\":\"white\"}},\"header\":{\"fill\":{\"color\":\"#C8D4E3\"},\"line\":{\"color\":\"white\"}},\"type\":\"table\"}],\"barpolar\":[{\"marker\":{\"line\":{\"color\":\"#E5ECF6\",\"width\":0.5},\"pattern\":{\"fillmode\":\"overlay\",\"size\":10,\"solidity\":0.2}},\"type\":\"barpolar\"}],\"pie\":[{\"automargin\":true,\"type\":\"pie\"}]},\"layout\":{\"autotypenumbers\":\"strict\",\"colorway\":[\"#636efa\",\"#EF553B\",\"#00cc96\",\"#ab63fa\",\"#FFA15A\",\"#19d3f3\",\"#FF6692\",\"#B6E880\",\"#FF97FF\",\"#FECB52\"],\"font\":{\"color\":\"#2a3f5f\"},\"hovermode\":\"closest\",\"hoverlabel\":{\"align\":\"left\"},\"paper_bgcolor\":\"white\",\"plot_bgcolor\":\"#E5ECF6\",\"polar\":{\"bgcolor\":\"#E5ECF6\",\"angularaxis\":{\"gridcolor\":\"white\",\"linecolor\":\"white\",\"ticks\":\"\"},\"radialaxis\":{\"gridcolor\":\"white\",\"linecolor\":\"white\",\"ticks\":\"\"}},\"ternary\":{\"bgcolor\":\"#E5ECF6\",\"aaxis\":{\"gridcolor\":\"white\",\"linecolor\":\"white\",\"ticks\":\"\"},\"baxis\":{\"gridcolor\":\"white\",\"linecolor\":\"white\",\"ticks\":\"\"},\"caxis\":{\"gridcolor\":\"white\",\"linecolor\":\"white\",\"ticks\":\"\"}},\"coloraxis\":{\"colorbar\":{\"outlinewidth\":0,\"ticks\":\"\"}},\"colorscale\":{\"sequential\":[[0.0,\"#0d0887\"],[0.1111111111111111,\"#46039f\"],[0.2222222222222222,\"#7201a8\"],[0.3333333333333333,\"#9c179e\"],[0.4444444444444444,\"#bd3786\"],[0.5555555555555556,\"#d8576b\"],[0.6666666666666666,\"#ed7953\"],[0.7777777777777778,\"#fb9f3a\"],[0.8888888888888888,\"#fdca26\"],[1.0,\"#f0f921\"]],\"sequentialminus\":[[0.0,\"#0d0887\"],[0.1111111111111111,\"#46039f\"],[0.2222222222222222,\"#7201a8\"],[0.3333333333333333,\"#9c179e\"],[0.4444444444444444,\"#bd3786\"],[0.5555555555555556,\"#d8576b\"],[0.6666666666666666,\"#ed7953\"],[0.7777777777777778,\"#fb9f3a\"],[0.8888888888888888,\"#fdca26\"],[1.0,\"#f0f921\"]],\"diverging\":[[0,\"#8e0152\"],[0.1,\"#c51b7d\"],[0.2,\"#de77ae\"],[0.3,\"#f1b6da\"],[0.4,\"#fde0ef\"],[0.5,\"#f7f7f7\"],[0.6,\"#e6f5d0\"],[0.7,\"#b8e186\"],[0.8,\"#7fbc41\"],[0.9,\"#4d9221\"],[1,\"#276419\"]]},\"xaxis\":{\"gridcolor\":\"white\",\"linecolor\":\"white\",\"ticks\":\"\",\"title\":{\"standoff\":15},\"zerolinecolor\":\"white\",\"automargin\":true,\"zerolinewidth\":2},\"yaxis\":{\"gridcolor\":\"white\",\"linecolor\":\"white\",\"ticks\":\"\",\"title\":{\"standoff\":15},\"zerolinecolor\":\"white\",\"automargin\":true,\"zerolinewidth\":2},\"scene\":{\"xaxis\":{\"backgroundcolor\":\"#E5ECF6\",\"gridcolor\":\"white\",\"linecolor\":\"white\",\"showbackground\":true,\"ticks\":\"\",\"zerolinecolor\":\"white\",\"gridwidth\":2},\"yaxis\":{\"backgroundcolor\":\"#E5ECF6\",\"gridcolor\":\"white\",\"linecolor\":\"white\",\"showbackground\":true,\"ticks\":\"\",\"zerolinecolor\":\"white\",\"gridwidth\":2},\"zaxis\":{\"backgroundcolor\":\"#E5ECF6\",\"gridcolor\":\"white\",\"linecolor\":\"white\",\"showbackground\":true,\"ticks\":\"\",\"zerolinecolor\":\"white\",\"gridwidth\":2}},\"shapedefaults\":{\"line\":{\"color\":\"#2a3f5f\"}},\"annotationdefaults\":{\"arrowcolor\":\"#2a3f5f\",\"arrowhead\":0,\"arrowwidth\":1},\"geo\":{\"bgcolor\":\"white\",\"landcolor\":\"#E5ECF6\",\"subunitcolor\":\"white\",\"showland\":true,\"showlakes\":true,\"lakecolor\":\"white\"},\"title\":{\"x\":0.05},\"mapbox\":{\"style\":\"light\"}}},\"xaxis\":{\"anchor\":\"y\",\"domain\":[0.0,1.0],\"title\":{\"text\":\"Country\"}},\"yaxis\":{\"anchor\":\"x\",\"domain\":[0.0,1.0],\"title\":{\"text\":\"Inflation Annual CPI\"}},\"legend\":{\"tracegroupgap\":0},\"title\":{\"text\":\"Top 5 Countries with Highest Annual Inflation (CPI) for 1860\"},\"barmode\":\"relative\",\"updatemenus\":[{\"buttons\":[{\"args\":[{\"x\":[[\"Egypt\"]],\"y\":[[5.944477972]]},{\"title\":\"Top 5 Countries with Highest Annual Inflation (CPI) for 1860\"}],\"label\":\"1860\",\"method\":\"update\"},{\"args\":[{\"x\":[[\"Egypt\"]],\"y\":[[5.952720023]]},{\"title\":\"Top 5 Countries with Highest Annual Inflation (CPI) for 1861\"}],\"label\":\"1861\",\"method\":\"update\"},{\"args\":[{\"x\":[[\"Egypt\"]],\"y\":[[5.940860215]]},{\"title\":\"Top 5 Countries with Highest Annual Inflation (CPI) for 1862\"}],\"label\":\"1862\",\"method\":\"update\"},{\"args\":[{\"x\":[[\"Egypt\"]],\"y\":[[5.95026643]]},{\"title\":\"Top 5 Countries with Highest Annual Inflation (CPI) for 1863\"}],\"label\":\"1863\",\"method\":\"update\"},{\"args\":[{\"x\":[[\"Egypt\"]],\"y\":[[5.951383068]]},{\"title\":\"Top 5 Countries with Highest Annual Inflation (CPI) for 1864\"}],\"label\":\"1864\",\"method\":\"update\"},{\"args\":[{\"x\":[[\"Egypt\"]],\"y\":[[5.944846293]]},{\"title\":\"Top 5 Countries with Highest Annual Inflation (CPI) for 1865\"}],\"label\":\"1865\",\"method\":\"update\"},{\"args\":[{\"x\":[[\"Egypt\"]],\"y\":[[5.941967143]]},{\"title\":\"Top 5 Countries with Highest Annual Inflation (CPI) for 1866\"}],\"label\":\"1866\",\"method\":\"update\"},{\"args\":[{\"x\":[[\"Egypt\"]],\"y\":[[5.95106233]]},{\"title\":\"Top 5 Countries with Highest Annual Inflation (CPI) for 1867\"}],\"label\":\"1867\",\"method\":\"update\"},{\"args\":[{\"x\":[[\"Egypt\"]],\"y\":[[5.94943927]]},{\"title\":\"Top 5 Countries with Highest Annual Inflation (CPI) for 1868\"}],\"label\":\"1868\",\"method\":\"update\"},{\"args\":[{\"x\":[[\"Egypt\"]],\"y\":[[5.938284894]]},{\"title\":\"Top 5 Countries with Highest Annual Inflation (CPI) for 1869\"}],\"label\":\"1869\",\"method\":\"update\"},{\"args\":[{\"x\":[[\"Egypt\",\"Algeria\"]],\"y\":[[5.952582557,3.441455696]]},{\"title\":\"Top 5 Countries with Highest Annual Inflation (CPI) for 1870\"}],\"label\":\"1870\",\"method\":\"update\"},{\"args\":[{\"x\":[[\"Algeria\",\"Egypt\"]],\"y\":[[14.14913958,12.97850236]]},{\"title\":\"Top 5 Countries with Highest Annual Inflation (CPI) for 1871\"}],\"label\":\"1871\",\"method\":\"update\"},{\"args\":[{\"x\":[[\"Algeria\",\"Egypt\"]],\"y\":[[-3.718592965,-4.201740115]]},{\"title\":\"Top 5 Countries with Highest Annual Inflation (CPI) for 1872\"}],\"label\":\"1872\",\"method\":\"update\"},{\"args\":[{\"x\":[[\"Algeria\",\"Egypt\"]],\"y\":[[11.20389701,-4.171896921]]},{\"title\":\"Top 5 Countries with Highest Annual Inflation (CPI) for 1873\"}],\"label\":\"1873\",\"method\":\"update\"},{\"args\":[{\"x\":[[\"Egypt\",\"Algeria\"]],\"y\":[[1.556480197,-3.848560701]]},{\"title\":\"Top 5 Countries with Highest Annual Inflation (CPI) for 1874\"}],\"label\":\"1874\",\"method\":\"update\"},{\"args\":[{\"x\":[[\"Egypt\",\"Algeria\"]],\"y\":[[-8.528072838,-20.92417833]]},{\"title\":\"Top 5 Countries with Highest Annual Inflation (CPI) for 1875\"}],\"label\":\"1875\",\"method\":\"update\"},{\"args\":[{\"x\":[[\"Algeria\",\"Egypt\"]],\"y\":[[-1.769547325,-10.87425348]]},{\"title\":\"Top 5 Countries with Highest Annual Inflation (CPI) for 1876\"}],\"label\":\"1876\",\"method\":\"update\"},{\"args\":[{\"x\":[[\"Algeria\",\"Egypt\"]],\"y\":[[29.11604525,-0.43741275]]},{\"title\":\"Top 5 Countries with Highest Annual Inflation (CPI) for 1877\"}],\"label\":\"1877\",\"method\":\"update\"},{\"args\":[{\"x\":[[\"Egypt\",\"Algeria\"]],\"y\":[[-0.514114788,-1.492537313]]},{\"title\":\"Top 5 Countries with Highest Annual Inflation (CPI) for 1878\"}],\"label\":\"1878\",\"method\":\"update\"},{\"args\":[{\"x\":[[\"Egypt\",\"Algeria\"]],\"y\":[[10.55153622,-16.83135705]]},{\"title\":\"Top 5 Countries with Highest Annual Inflation (CPI) for 1879\"}],\"label\":\"1879\",\"method\":\"update\"},{\"args\":[{\"x\":[[\"Algeria\",\"Egypt\"]],\"y\":[[3.881188119,1.784803672]]},{\"title\":\"Top 5 Countries with Highest Annual Inflation (CPI) for 1880\"}],\"label\":\"1880\",\"method\":\"update\"},{\"args\":[{\"x\":[[\"Algeria\",\"Egypt\"]],\"y\":[[12.61913839,-12.40814963]]},{\"title\":\"Top 5 Countries with Highest Annual Inflation (CPI) for 1881\"}],\"label\":\"1881\",\"method\":\"update\"},{\"args\":[{\"x\":[[\"Egypt\",\"Algeria\"]],\"y\":[[4.232602479,-12.35612729]]},{\"title\":\"Top 5 Countries with Highest Annual Inflation (CPI) for 1882\"}],\"label\":\"1882\",\"method\":\"update\"},{\"args\":[{\"x\":[[\"Algeria\",\"Egypt\"]],\"y\":[[-1.390498262,-2.231571246]]},{\"title\":\"Top 5 Countries with Highest Annual Inflation (CPI) for 1883\"}],\"label\":\"1883\",\"method\":\"update\"},{\"args\":[{\"x\":[[\"Egypt\",\"Algeria\"]],\"y\":[[-0.477081384,-15.94202899]]},{\"title\":\"Top 5 Countries with Highest Annual Inflation (CPI) for 1884\"}],\"label\":\"1884\",\"method\":\"update\"},{\"args\":[{\"x\":[[\"Egypt\"]],\"y\":[[-6.438575054]]},{\"title\":\"Top 5 Countries with Highest Annual Inflation (CPI) for 1885\"}],\"label\":\"1885\",\"method\":\"update\"},{\"args\":[{\"x\":[[\"Egypt\"]],\"y\":[[3.616636528]]},{\"title\":\"Top 5 Countries with Highest Annual Inflation (CPI) for 1886\"}],\"label\":\"1886\",\"method\":\"update\"},{\"args\":[{\"x\":[[\"Egypt\"]],\"y\":[[-2.840798914]]},{\"title\":\"Top 5 Countries with Highest Annual Inflation (CPI) for 1887\"}],\"label\":\"1887\",\"method\":\"update\"},{\"args\":[{\"x\":[[\"Egypt\"]],\"y\":[[-6.216944417]]},{\"title\":\"Top 5 Countries with Highest Annual Inflation (CPI) for 1888\"}],\"label\":\"1888\",\"method\":\"update\"},{\"args\":[{\"x\":[[\"Egypt\"]],\"y\":[[-12.33241115]]},{\"title\":\"Top 5 Countries with Highest Annual Inflation (CPI) for 1889\"}],\"label\":\"1889\",\"method\":\"update\"},{\"args\":[{\"x\":[[\"Egypt\"]],\"y\":[[7.949993931]]},{\"title\":\"Top 5 Countries with Highest Annual Inflation (CPI) for 1890\"}],\"label\":\"1890\",\"method\":\"update\"},{\"args\":[{\"x\":[[\"Egypt\"]],\"y\":[[10.17539915]]},{\"title\":\"Top 5 Countries with Highest Annual Inflation (CPI) for 1891\"}],\"label\":\"1891\",\"method\":\"update\"},{\"args\":[{\"x\":[[\"Egypt\"]],\"y\":[[1.959383611]]},{\"title\":\"Top 5 Countries with Highest Annual Inflation (CPI) for 1892\"}],\"label\":\"1892\",\"method\":\"update\"},{\"args\":[{\"x\":[[\"Egypt\"]],\"y\":[[-13.92253028]]},{\"title\":\"Top 5 Countries with Highest Annual Inflation (CPI) for 1893\"}],\"label\":\"1893\",\"method\":\"update\"},{\"args\":[{\"x\":[[\"Egypt\"]],\"y\":[[-4.953488372]]},{\"title\":\"Top 5 Countries with Highest Annual Inflation (CPI) for 1894\"}],\"label\":\"1894\",\"method\":\"update\"},{\"args\":[{\"x\":[[\"Egypt\"]],\"y\":[[-5.578664057]]},{\"title\":\"Top 5 Countries with Highest Annual Inflation (CPI) for 1895\"}],\"label\":\"1895\",\"method\":\"update\"},{\"args\":[{\"x\":[[\"Egypt\"]],\"y\":[[9.70458668]]},{\"title\":\"Top 5 Countries with Highest Annual Inflation (CPI) for 1896\"}],\"label\":\"1896\",\"method\":\"update\"},{\"args\":[{\"x\":[[\"Egypt\"]],\"y\":[[2.846344632]]},{\"title\":\"Top 5 Countries with Highest Annual Inflation (CPI) for 1897\"}],\"label\":\"1897\",\"method\":\"update\"},{\"args\":[{\"x\":[[\"Egypt\"]],\"y\":[[14.21681213]]},{\"title\":\"Top 5 Countries with Highest Annual Inflation (CPI) for 1898\"}],\"label\":\"1898\",\"method\":\"update\"},{\"args\":[{\"x\":[[\"Egypt\"]],\"y\":[[-6.374422378]]},{\"title\":\"Top 5 Countries with Highest Annual Inflation (CPI) for 1899\"}],\"label\":\"1899\",\"method\":\"update\"},{\"args\":[{\"x\":[[\"Egypt\",\"South Africa\"]],\"y\":[[7.388316151,4.109589041]]},{\"title\":\"Top 5 Countries with Highest Annual Inflation (CPI) for 1900\"}],\"label\":\"1900\",\"method\":\"update\"},{\"args\":[{\"x\":[[\"South Africa\",\"Egypt\"]],\"y\":[[9.204368175,0.11]]},{\"title\":\"Top 5 Countries with Highest Annual Inflation (CPI) for 1901\"}],\"label\":\"1901\",\"method\":\"update\"},{\"args\":[{\"x\":[[\"South Africa\",\"Egypt\"]],\"y\":[[2.414285714,-0.549395665]]},{\"title\":\"Top 5 Countries with Highest Annual Inflation (CPI) for 1902\"}],\"label\":\"1902\",\"method\":\"update\"},{\"args\":[{\"x\":[[\"Egypt\",\"South Africa\"]],\"y\":[[-7.533145842,-8.236853118]]},{\"title\":\"Top 5 Countries with Highest Annual Inflation (CPI) for 1903\"}],\"label\":\"1903\",\"method\":\"update\"},{\"args\":[{\"x\":[[\"Egypt\",\"South Africa\"]],\"y\":[[-2.639582881,-5.130348864]]},{\"title\":\"Top 5 Countries with Highest Annual Inflation (CPI) for 1904\"}],\"label\":\"1904\",\"method\":\"update\"},{\"args\":[{\"x\":[[\"Egypt\",\"South Africa\"]],\"y\":[[15.36315966,-6.753725365]]},{\"title\":\"Top 5 Countries with Highest Annual Inflation (CPI) for 1905\"}],\"label\":\"1905\",\"method\":\"update\"},{\"args\":[{\"x\":[[\"Egypt\",\"South Africa\"]],\"y\":[[9.448742747,-7.251482086]]},{\"title\":\"Top 5 Countries with Highest Annual Inflation (CPI) for 1906\"}],\"label\":\"1906\",\"method\":\"update\"},{\"args\":[{\"x\":[[\"Egypt\",\"South Africa\"]],\"y\":[[1.307767076,-1.556276054]]},{\"title\":\"Top 5 Countries with Highest Annual Inflation (CPI) for 1907\"}],\"label\":\"1907\",\"method\":\"update\"},{\"args\":[{\"x\":[[\"Egypt\",\"South Africa\"]],\"y\":[[8.87047536,-1.590288887]]},{\"title\":\"Top 5 Countries with Highest Annual Inflation (CPI) for 1908\"}],\"label\":\"1908\",\"method\":\"update\"},{\"args\":[{\"x\":[[\"South Africa\",\"Egypt\"]],\"y\":[[4.838401224,1.185707419]]},{\"title\":\"Top 5 Countries with Highest Annual Inflation (CPI) for 1909\"}],\"label\":\"1909\",\"method\":\"update\"},{\"args\":[{\"x\":[[\"South Africa\",\"Egypt\"]],\"y\":[[15.38672018,-11.7418844]]},{\"title\":\"Top 5 Countries with Highest Annual Inflation (CPI) for 1910\"}],\"label\":\"1910\",\"method\":\"update\"},{\"args\":[{\"x\":[[\"South Africa\",\"Egypt\"]],\"y\":[[3.999683819,1.291827398]]},{\"title\":\"Top 5 Countries with Highest Annual Inflation (CPI) for 1911\"}],\"label\":\"1911\",\"method\":\"update\"},{\"args\":[{\"x\":[[\"Egypt\",\"South Africa\"]],\"y\":[[6.24391108,2.561374173]]},{\"title\":\"Top 5 Countries with Highest Annual Inflation (CPI) for 1912\"}],\"label\":\"1912\",\"method\":\"update\"},{\"args\":[{\"x\":[[\"Egypt\",\"South Africa\"]],\"y\":[[11.40380127,1.252408478]]},{\"title\":\"Top 5 Countries with Highest Annual Inflation (CPI) for 1913\"}],\"label\":\"1913\",\"method\":\"update\"},{\"args\":[{\"x\":[[\"South Africa\",\"Egypt\"]],\"y\":[[1.236917222,-1.137384017]]},{\"title\":\"Top 5 Countries with Highest Annual Inflation (CPI) for 1914\"}],\"label\":\"1914\",\"method\":\"update\"},{\"args\":[{\"x\":[[\"South Africa\",\"Egypt\"]],\"y\":[[4.87275882,-16.00060551]]},{\"title\":\"Top 5 Countries with Highest Annual Inflation (CPI) for 1915\"}],\"label\":\"1915\",\"method\":\"update\"},{\"args\":[{\"x\":[[\"Egypt\",\"South Africa\"]],\"y\":[[19.326921,5.81828209]]},{\"title\":\"Top 5 Countries with Highest Annual Inflation (CPI) for 1916\"}],\"label\":\"1916\",\"method\":\"update\"},{\"args\":[{\"x\":[[\"Egypt\",\"South Africa\"]],\"y\":[[35.4800225,9.889250814]]},{\"title\":\"Top 5 Countries with Highest Annual Inflation (CPI) for 1917\"}],\"label\":\"1917\",\"method\":\"update\"},{\"args\":[{\"x\":[[\"Egypt\",\"South Africa\"]],\"y\":[[18.04671609,7.001422812]]},{\"title\":\"Top 5 Countries with Highest Annual Inflation (CPI) for 1918\"}],\"label\":\"1918\",\"method\":\"update\"},{\"args\":[{\"x\":[[\"Egypt\",\"South Africa\"]],\"y\":[[12.1743099,0.93079949]]},{\"title\":\"Top 5 Countries with Highest Annual Inflation (CPI) for 1919\"}],\"label\":\"1919\",\"method\":\"update\"},{\"args\":[{\"x\":[[\"South Africa\",\"Egypt\"]],\"y\":[[35.18691332,20.60262757]]},{\"title\":\"Top 5 Countries with Highest Annual Inflation (CPI) for 1920\"}],\"label\":\"1920\",\"method\":\"update\"},{\"args\":[{\"x\":[[\"Angola\",\"Zimbabwe\",\"South Africa\",\"Egypt\"]],\"y\":[[29.62962963,-17.24137931,-18.07365899,-28.50213688]]},{\"title\":\"Top 5 Countries with Highest Annual Inflation (CPI) for 1921\"}],\"label\":\"1921\",\"method\":\"update\"},{\"args\":[{\"x\":[[\"Angola\",\"South Africa\",\"Egypt\",\"Zimbabwe\"]],\"y\":[[45.71428571,-3.95519429,-11.8067676,-13.88888889]]},{\"title\":\"Top 5 Countries with Highest Annual Inflation (CPI) for 1922\"}],\"label\":\"1922\",\"method\":\"update\"},{\"args\":[{\"x\":[[\"Angola\",\"South Africa\",\"Zimbabwe\",\"Egypt\"]],\"y\":[[68.62745098,0.758592218,-4.032258065,-10.90447887]]},{\"title\":\"Top 5 Countries with Highest Annual Inflation (CPI) for 1923\"}],\"label\":\"1923\",\"method\":\"update\"},{\"args\":[{\"x\":[[\"Angola\",\"Egypt\",\"South Africa\"]],\"y\":[[126.744186,7.201266764,0.0]]},{\"title\":\"Top 5 Countries with Highest Annual Inflation (CPI) for 1924\"}],\"label\":\"1924\",\"method\":\"update\"},{\"args\":[{\"x\":[[\"Egypt\",\"South Africa\",\"Angola\"]],\"y\":[[5.682103785,-1.505761844,-27.17948718]]},{\"title\":\"Top 5 Countries with Highest Annual Inflation (CPI) for 1925\"}],\"label\":\"1925\",\"method\":\"update\"},{\"args\":[{\"x\":[[\"South Africa\",\"Angola\",\"Egypt\"]],\"y\":[[-1.523581717,-7.042253521,-11.35479535]]},{\"title\":\"Top 5 Countries with Highest Annual Inflation (CPI) for 1926\"}],\"label\":\"1926\",\"method\":\"update\"},{\"args\":[{\"x\":[[\"South Africa\",\"Zimbabwe\",\"Egypt\",\"Angola\"]],\"y\":[[2.323371,0.847457627,-8.356955722,-17.42424242]]},{\"title\":\"Top 5 Countries with Highest Annual Inflation (CPI) for 1927\"}],\"label\":\"1927\",\"method\":\"update\"},{\"args\":[{\"x\":[[\"Egypt\",\"Zimbabwe\",\"South Africa\",\"Angola\"]],\"y\":[[4.5057024,0.840336134,-0.758592218,-9.174311927]]},{\"title\":\"Top 5 Countries with Highest Annual Inflation (CPI) for 1928\"}],\"label\":\"1928\",\"method\":\"update\"},{\"args\":[{\"x\":[[\"Zimbabwe\",\"South Africa\",\"Egypt\",\"Angola\"]],\"y\":[[0.0,-1.523581717,-3.339660342,-5.050505051]]},{\"title\":\"Top 5 Countries with Highest Annual Inflation (CPI) for 1929\"}],\"label\":\"1929\",\"method\":\"update\"},{\"args\":[{\"x\":[[\"South Africa\",\"Zimbabwe\",\"Angola\",\"Egypt\"]],\"y\":[[-2.328651389,-5.0,-5.319148936,-6.922294859]]},{\"title\":\"Top 5 Countries with Highest Annual Inflation (CPI) for 1930\"}],\"label\":\"1930\",\"method\":\"update\"},{\"args\":[{\"x\":[[\"Angola\",\"South Africa\",\"Egypt\",\"Zimbabwe\"]],\"y\":[[0.0,-3.968211061,-5.020231154,-7.01754386]]},{\"title\":\"Top 5 Countries with Highest Annual Inflation (CPI) for 1931\"}],\"label\":\"1931\",\"method\":\"update\"},{\"args\":[{\"x\":[[\"Angola\",\"Zimbabwe\",\"South Africa\",\"Egypt\"]],\"y\":[[-2.247191011,-3.773584906,-5.432640883,-10.84823995]]},{\"title\":\"Top 5 Countries with Highest Annual Inflation (CPI) for 1932\"}],\"label\":\"1932\",\"method\":\"update\"},{\"args\":[{\"x\":[[\"South Africa\",\"Angola\",\"Zimbabwe\",\"Egypt\"]],\"y\":[[2.39909513,2.298850575,-2.941176471,-9.7931274]]},{\"title\":\"Top 5 Countries with Highest Annual Inflation (CPI) for 1933\"}],\"label\":\"1933\",\"method\":\"update\"},{\"args\":[{\"x\":[[\"Egypt\",\"Angola\",\"Zimbabwe\",\"South Africa\"]],\"y\":[[23.96925479,3.370786517,-1.01010101,-1.453403872]]},{\"title\":\"Top 5 Countries with Highest Annual Inflation (CPI) for 1934\"}],\"label\":\"1934\",\"method\":\"update\"},{\"args\":[{\"x\":[[\"Egypt\",\"Angola\",\"Zimbabwe\",\"South Africa\"]],\"y\":[[5.648570427,5.434782609,0.0,-0.44835113]]},{\"title\":\"Top 5 Countries with Highest Annual Inflation (CPI) for 1935\"}],\"label\":\"1935\",\"method\":\"update\"},{\"args\":[{\"x\":[[\"South Africa\",\"Zimbabwe\",\"Angola\",\"Egypt\"]],\"y\":[[0.906666667,-1.020408163,-1.030927835,-7.249727068]]},{\"title\":\"Top 5 Countries with Highest Annual Inflation (CPI) for 1936\"}],\"label\":\"1936\",\"method\":\"update\"},{\"args\":[{\"x\":[[\"Zimbabwe\",\"South Africa\",\"Angola\",\"Egypt\"]],\"y\":[[6.18556701,5.63777308,2.083333333,-1.022813275]]},{\"title\":\"Top 5 Countries with Highest Annual Inflation (CPI) for 1937\"}],\"label\":\"1937\",\"method\":\"update\"},{\"args\":[{\"x\":[[\"Egypt\",\"Angola\",\"South Africa\",\"Zimbabwe\"]],\"y\":[[11.43314281,2.040816327,-0.32243718,-2.912621359]]},{\"title\":\"Top 5 Countries with Highest Annual Inflation (CPI) for 1938\"}],\"label\":\"1938\",\"method\":\"update\"},{\"args\":[{\"x\":[[\"Algeria\",\"Angola\",\"Zimbabwe\",\"South Africa\",\"Egypt\"]],\"y\":[[9.756097561,1.0,0.906344411,0.858895706,-1.435148115]]},{\"title\":\"Top 5 Countries with Highest Annual Inflation (CPI) for 1939\"}],\"label\":\"1939\",\"method\":\"update\"},{\"args\":[{\"x\":[[\"Morocco\",\"Algeria\",\"Tunisia\",\"Angola\",\"Egypt\"]],\"y\":[[25.0,22.22222222,22.01300157,13.86138614,10.38362042]]},{\"title\":\"Top 5 Countries with Highest Annual Inflation (CPI) for 1940\"}],\"label\":\"1940\",\"method\":\"update\"},{\"args\":[{\"x\":[[\"Morocco\",\"Tunisia\",\"Egypt\",\"Angola\",\"Algeria\"]],\"y\":[[32.0,24.58203197,24.18818835,16.52173913,16.36363636]]},{\"title\":\"Top 5 Countries with Highest Annual Inflation (CPI) for 1941\"}],\"label\":\"1941\",\"method\":\"update\"},{\"args\":[{\"x\":[[\"Egypt\",\"Morocco\",\"Algeria\",\"Tunisia\",\"Angola\"]],\"y\":[[40.76638415,38.1935295,28.125,24.99631323,17.91044776]]},{\"title\":\"Top 5 Countries with Highest Annual Inflation (CPI) for 1942\"}],\"label\":\"1942\",\"method\":\"update\"},{\"args\":[{\"x\":[[\"Tunisia\",\"Algeria\",\"Morocco\",\"Egypt\",\"Angola\"]],\"y\":[[72.10948561,46.34146341,28.50635593,17.48643148,13.92405063]]},{\"title\":\"Top 5 Countries with Highest Annual Inflation (CPI) for 1943\"}],\"label\":\"1943\",\"method\":\"update\"},{\"args\":[{\"x\":[[\"Algeria\",\"Tunisia\",\"Morocco\",\"Egypt\",\"Angola\"]],\"y\":[[41.66666667,37.61310666,34.8116396,11.37938502,7.777777778]]},{\"title\":\"Top 5 Countries with Highest Annual Inflation (CPI) for 1944\"}],\"label\":\"1944\",\"method\":\"update\"},{\"args\":[{\"x\":[[\"Algeria\",\"Morocco\",\"Tunisia\",\"Angola\",\"Zambia\"]],\"y\":[[29.41176471,18.98618075,13.77833126,5.154639175,2.702702703]]},{\"title\":\"Top 5 Countries with Highest Annual Inflation (CPI) for 1945\"}],\"label\":\"1945\",\"method\":\"update\"},{\"args\":[{\"x\":[[\"Morocco\",\"Tunisia\",\"Algeria\",\"Zambia\",\"South Africa\"]],\"y\":[[56.75522894,49.61253886,18.18181818,7.894736842,6.060606061]]},{\"title\":\"Top 5 Countries with Highest Annual Inflation (CPI) for 1946\"}],\"label\":\"1946\",\"method\":\"update\"},{\"args\":[{\"x\":[[\"Algeria\",\"Tunisia\",\"Morocco\",\"Angola\",\"South Africa\"]],\"y\":[[69.23076923,67.09975712,57.47303544,13.55140187,4.287695661]]},{\"title\":\"Top 5 Countries with Highest Annual Inflation (CPI) for 1947\"}],\"label\":\"1947\",\"method\":\"update\"},{\"args\":[{\"x\":[[\"Tunisia\",\"Algeria\",\"Morocco\",\"Mauritius\",\"Zimbabwe\"]],\"y\":[[69.14172635,63.63636364,40.14656285,31.99785465,9.388646288]]},{\"title\":\"Top 5 Countries with Highest Annual Inflation (CPI) for 1948\"}],\"label\":\"1948\",\"method\":\"update\"},{\"args\":[{\"x\":[[\"Algeria\",\"Morocco\",\"Tunisia\",\"Zimbabwe\",\"Kenya\"]],\"y\":[[23.61111111,22.99979203,4.156960191,3.79241517,3.522920204]]},{\"title\":\"Top 5 Countries with Highest Annual Inflation (CPI) for 1949\"}],\"label\":\"1949\",\"method\":\"update\"},{\"args\":[{\"x\":[[\"Kenya\",\"Egypt\",\"Zimbabwe\",\"South Africa\",\"Mauritius\"]],\"y\":[[8.553710537,8.510015609,7.692307692,6.875866852,4.904878735]]},{\"title\":\"Top 5 Countries with Highest Annual Inflation (CPI) for 1950\"}],\"label\":\"1950\",\"method\":\"update\"},{\"args\":[{\"x\":[[\"Morocco\",\"Tunisia\",\"Mauritius\",\"Kenya\",\"South Africa\"]],\"y\":[[23.2010648,15.03591871,11.15115499,10.87767339,7.653375726]]},{\"title\":\"Top 5 Countries with Highest Annual Inflation (CPI) for 1951\"}],\"label\":\"1951\",\"method\":\"update\"},{\"args\":[{\"x\":[[\"Ivory Coast\",\"Zimbabwe\",\"Tunisia\",\"South Africa\",\"Kenya\"]],\"y\":[[16.21609969,8.180300501,7.006177993,6.609004882,6.450926123]]},{\"title\":\"Top 5 Countries with Highest Annual Inflation (CPI) for 1952\"}],\"label\":\"1952\",\"method\":\"update\"},{\"args\":[{\"x\":[[\"Zambia\",\"Kenya\",\"Zimbabwe\",\"Ivory Coast\",\"South Africa\"]],\"y\":[[3.846153846,3.032,2.777777778,2.326185353,0.777385159]]},{\"title\":\"Top 5 Countries with Highest Annual Inflation (CPI) for 1953\"}],\"label\":\"1953\",\"method\":\"update\"},{\"args\":[{\"x\":[[\"Kenya\",\"Tunisia\",\"South Africa\",\"Zambia\",\"Nigeria\"]],\"y\":[[4.410280301,4.192011553,3.8457223,3.703703704,3.10291645]]},{\"title\":\"Top 5 Countries with Highest Annual Inflation (CPI) for 1954\"}],\"label\":\"1954\",\"method\":\"update\"},{\"args\":[{\"x\":[[\"Kenya\",\"Nigeria\",\"Morocco\",\"Zambia\",\"Ivory Coast\"]],\"y\":[[6.369450435,6.173562277,5.86226574,3.571428571,2.326185353]]},{\"title\":\"Top 5 Countries with Highest Annual Inflation (CPI) for 1955\"}],\"label\":\"1955\",\"method\":\"update\"},{\"args\":[{\"x\":[[\"Nigeria\",\"Morocco\",\"Tunisia\",\"Ivory Coast\",\"Zimbabwe\"]],\"y\":[[6.862909067,5.714750199,4.807532957,4.54479533,4.431314623]]},{\"title\":\"Top 5 Countries with Highest Annual Inflation (CPI) for 1956\"}],\"label\":\"1956\",\"method\":\"update\"},{\"args\":[{\"x\":[[\"Ivory Coast\",\"Central African Republic\",\"Tunisia\",\"South Africa\",\"Egypt\"]],\"y\":[[13.04340287,6.818181818,5.504844321,3.263731394,3.249231915]]},{\"title\":\"Top 5 Countries with Highest Annual Inflation (CPI) for 1957\"}],\"label\":\"1957\",\"method\":\"update\"},{\"args\":[{\"x\":[[\"Ivory Coast\",\"Central African Republic\",\"Algeria\",\"Tunisia\",\"Morocco\"]],\"y\":[[21.15476063,12.76595745,12.26415094,5.216941093,4.383973421]]},{\"title\":\"Top 5 Countries with Highest Annual Inflation (CPI) for 1958\"}],\"label\":\"1958\",\"method\":\"update\"},{\"args\":[{\"x\":[[\"Algeria\",\"Ivory Coast\",\"Nigeria\",\"Central African Republic\",\"Zimbabwe\"]],\"y\":[[9.243697479,6.348281887,4.707596881,3.773584906,2.652519894]]},{\"title\":\"Top 5 Countries with Highest Annual Inflation (CPI) for 1959\"}],\"label\":\"1959\",\"method\":\"update\"},{\"args\":[{\"x\":[[\"Central African Republic\",\"Algeria\",\"Nigeria\",\"Zambia\",\"Zimbabwe\"]],\"y\":[[10.90909091,5.384615385,4.325727898,3.453689168,2.454780362]]},{\"title\":\"Top 5 Countries with Highest Annual Inflation (CPI) for 1960\"}],\"label\":\"1960\",\"method\":\"update\"},{\"args\":[{\"x\":[[\"Ivory Coast\",\"Central African Republic\",\"Nigeria\",\"Algeria\",\"Zimbabwe\"]],\"y\":[[14.43033046,6.557377049,6.217386806,2.919708029,2.90037831]]},{\"title\":\"Top 5 Countries with Highest Annual Inflation (CPI) for 1961\"}],\"label\":\"1961\",\"method\":\"update\"},{\"args\":[{\"x\":[[\"Central African Republic\",\"Angola\",\"Tunisia\",\"Morocco\",\"Nigeria\"]],\"y\":[[7.692307692,5.882352941,5.78395737,5.408269117,2.911602856]]},{\"title\":\"Top 5 Countries with Highest Annual Inflation (CPI) for 1962\"}],\"label\":\"1962\",\"method\":\"update\"},{\"args\":[{\"x\":[[\"Ivory Coast\",\"Morocco\",\"Central African Republic\",\"Egypt\",\"Mauritius\"]],\"y\":[[8.719549217,5.738828475,3.714285714,2.060865254,1.753672463]]},{\"title\":\"Top 5 Countries with Highest Annual Inflation (CPI) for 1963\"}],\"label\":\"1963\",\"method\":\"update\"},{\"args\":[{\"x\":[[\"Central African Republic\",\"Egypt\",\"Tunisia\",\"Morocco\",\"South Africa\"]],\"y\":[[10.05509642,7.824338769,5.939573494,4.233330742,4.141937863]]},{\"title\":\"Top 5 Countries with Highest Annual Inflation (CPI) for 1964\"}],\"label\":\"1964\",\"method\":\"update\"},{\"args\":[{\"x\":[[\"Egypt\",\"Central African Republic\",\"Zambia\",\"Kenya\",\"Tunisia\"]],\"y\":[[13.12090131,9.386733417,8.163265306,5.762329909,5.549985502]]},{\"title\":\"Top 5 Countries with Highest Annual Inflation (CPI) for 1965\"}],\"label\":\"1965\",\"method\":\"update\"},{\"args\":[{\"x\":[[\"Zambia\",\"Nigeria\",\"Egypt\",\"Ivory Coast\",\"Tunisia\"]],\"y\":[[10.2425876,8.140460297,6.693697414,4.665098294,4.536102074]]},{\"title\":\"Top 5 Countries with Highest Annual Inflation (CPI) for 1966\"}],\"label\":\"1966\",\"method\":\"update\"},{\"args\":[{\"x\":[[\"Zambia\",\"Mauritius\",\"Tunisia\",\"Ivory Coast\",\"Zimbabwe\"]],\"y\":[[5.012224939,2.937830401,2.843700217,2.766186537,2.365179967]]},{\"title\":\"Top 5 Countries with Highest Annual Inflation (CPI) for 1967\"}],\"label\":\"1967\",\"method\":\"update\"},{\"args\":[{\"x\":[[\"Zambia\",\"Ivory Coast\",\"Algeria\",\"Mauritius\",\"Central African Republic\"]],\"y\":[[10.71012806,7.747595621,6.599987838,5.329676052,4.808743169]]},{\"title\":\"Top 5 Countries with Highest Annual Inflation (CPI) for 1968\"}],\"label\":\"1968\",\"method\":\"update\"},{\"args\":[{\"x\":[[\"Nigeria\",\"South Africa\",\"Egypt\",\"Mauritius\",\"Tunisia\"]],\"y\":[[11.00320434,3.812391596,3.676736584,2.978677387,2.804694188]]},{\"title\":\"Top 5 Countries with Highest Annual Inflation (CPI) for 1969\"}],\"label\":\"1969\",\"method\":\"update\"},{\"args\":[{\"x\":[[\"Nigeria\",\"Ivory Coast\",\"Angola\",\"South Africa\",\"Central African Republic\"]],\"y\":[[13.41347233,8.075116891,7.965434021,4.882526907,3.734439834]]},{\"title\":\"Top 5 Countries with Highest Annual Inflation (CPI) for 1970\"}],\"label\":\"1970\",\"method\":\"update\"},{\"args\":[{\"x\":[[\"Central African Republic\",\"Nigeria\",\"South Africa\",\"Zambia\",\"Algeria\"]],\"y\":[[27.69953052,15.47842436,6.705448811,6.52173913,6.172816266]]},{\"title\":\"Top 5 Countries with Highest Annual Inflation (CPI) for 1971\"}],\"label\":\"1971\",\"method\":\"update\"},{\"args\":[{\"x\":[[\"Angola\",\"South Africa\",\"Mauritius\",\"Zambia\",\"Algeria\"]],\"y\":[[15.79827455,8.431511329,5.551930333,4.761904762,4.734228715]]},{\"title\":\"Top 5 Countries with Highest Annual Inflation (CPI) for 1972\"}],\"label\":\"1972\",\"method\":\"update\"},{\"args\":[{\"x\":[[\"Mauritius\",\"Angola\",\"Ivory Coast\",\"Kenya\",\"Nigeria\"]],\"y\":[[20.82296472,15.67485015,12.9325741,12.66289775,11.67346946]]},{\"title\":\"Top 5 Countries with Highest Annual Inflation (CPI) for 1973\"}],\"label\":\"1973\",\"method\":\"update\"},{\"args\":[{\"x\":[[\"Angola\",\"Mauritius\",\"Ivory Coast\",\"Kenya\",\"Morocco\"]],\"y\":[[27.41525989,23.79801683,18.22418299,16.41376144,15.97890765]]},{\"title\":\"Top 5 Countries with Highest Annual Inflation (CPI) for 1974\"}],\"label\":\"1974\",\"method\":\"update\"},{\"args\":[{\"x\":[[\"Nigeria\",\"Angola\",\"Kenya\",\"Central African Republic\",\"Mauritius\"]],\"y\":[[38.50391131,29.00043489,19.7347384,16.02787456,15.20534955]]},{\"title\":\"Top 5 Countries with Highest Annual Inflation (CPI) for 1975\"}],\"label\":\"1975\",\"method\":\"update\"},{\"args\":[{\"x\":[[\"Angola\",\"Zambia\",\"Nigeria\",\"Algeria\",\"Ivory Coast\"]],\"y\":[[80.69990445,18.97435897,18.33643443,17.17351914,12.90885269]]},{\"title\":\"Top 5 Countries with Highest Annual Inflation (CPI) for 1976\"}],\"label\":\"1976\",\"method\":\"update\"},{\"args\":[{\"x\":[[\"Angola\",\"Ivory Coast\",\"Nigeria\",\"Zambia\",\"Kenya\"]],\"y\":[[69.00935079,24.48243736,22.3551061,19.82758621,18.01088176]]},{\"title\":\"Top 5 Countries with Highest Annual Inflation (CPI) for 1977\"}],\"label\":\"1977\",\"method\":\"update\"},{\"args\":[{\"x\":[[\"Angola\",\"Zambia\",\"Ivory Coast\",\"Nigeria\",\"Kenya\"]],\"y\":[[48.46106867,16.18705036,16.03173523,15.78133117,15.35621451]]},{\"title\":\"Top 5 Countries with Highest Annual Inflation (CPI) for 1978\"}],\"label\":\"1978\",\"method\":\"update\"},{\"args\":[{\"x\":[[\"Angola\",\"Mauritius\",\"Ivory Coast\",\"Algeria\",\"South Africa\"]],\"y\":[[101.3013176,23.21616753,21.75954473,14.60957788,13.89287442]]},{\"title\":\"Top 5 Countries with Highest Annual Inflation (CPI) for 1979\"}],\"label\":\"1979\",\"method\":\"update\"},{\"args\":[{\"x\":[[\"Angola\",\"Mauritius\",\"Egypt\",\"South Africa\",\"Kenya\"]],\"y\":[[46.70755462,33.04,20.5,14.236,13.866]]},{\"title\":\"Top 5 Countries with Highest Annual Inflation (CPI) for 1980\"}],\"label\":\"1980\",\"method\":\"update\"},{\"args\":[{\"x\":[[\"Mauritius\",\"Nigeria\",\"South Africa\",\"Central African Republic\",\"Algeria\"]],\"y\":[[26.45,20.555,15.741,14.66,14.61]]},{\"title\":\"Top 5 Countries with Highest Annual Inflation (CPI) for 1981\"}],\"label\":\"1981\",\"method\":\"update\"},{\"args\":[{\"x\":[[\"Egypt\",\"South Africa\",\"Kenya\",\"Tunisia\",\"Mauritius\"]],\"y\":[[14.9,14.4,13.821,13.673,13.384]]},{\"title\":\"Top 5 Countries with Highest Annual Inflation (CPI) for 1982\"}],\"label\":\"1982\",\"method\":\"update\"},{\"args\":[{\"x\":[[\"Zimbabwe\",\"Nigeria\",\"Zambia\",\"Egypt\",\"Central African Republic\"]],\"y\":[[23.2,22.222,19.692,15.982,14.558]]},{\"title\":\"Top 5 Countries with Highest Annual Inflation (CPI) for 1983\"}],\"label\":\"1983\",\"method\":\"update\"},{\"args\":[{\"x\":[[\"Nigeria\",\"Kenya\",\"Zimbabwe\",\"Zambia\",\"Egypt\"]],\"y\":[[40.909,20.667,20.3,20.019,17.06]]},{\"title\":\"Top 5 Countries with Highest Annual Inflation (CPI) for 1984\"}],\"label\":\"1984\",\"method\":\"update\"},{\"args\":[{\"x\":[[\"Zambia\",\"South Africa\",\"Egypt\",\"Kenya\",\"Central African Republic\"]],\"y\":[[37.43,16.201,12.108,11.398,10.457]]},{\"title\":\"Top 5 Countries with Highest Annual Inflation (CPI) for 1985\"}],\"label\":\"1985\",\"method\":\"update\"},{\"args\":[{\"x\":[[\"Zambia\",\"Egypt\",\"South Africa\",\"Zimbabwe\",\"Algeria\"]],\"y\":[[54.8,23.9,18.75,14.5,14.007]]},{\"title\":\"Top 5 Countries with Highest Annual Inflation (CPI) for 1986\"}],\"label\":\"1986\",\"method\":\"update\"},{\"args\":[{\"x\":[[\"Zambia\",\"Egypt\",\"South Africa\",\"Kenya\",\"Zimbabwe\"]],\"y\":[[47.028,25.185,16.194,13.007,12.5]]},{\"title\":\"Top 5 Countries with Highest Annual Inflation (CPI) for 1987\"}],\"label\":\"1987\",\"method\":\"update\"},{\"args\":[{\"x\":[[\"Zambia\",\"Nigeria\",\"Egypt\",\"South Africa\",\"Zimbabwe\"]],\"y\":[[54.042,34.211,15.185,12.892,7.4]]},{\"title\":\"Top 5 Countries with Highest Annual Inflation (CPI) for 1988\"}],\"label\":\"1988\",\"method\":\"update\"},{\"args\":[{\"x\":[[\"Zambia\",\"Nigeria\",\"Egypt\",\"South Africa\",\"Mauritius\"]],\"y\":[[128.294,49.02,20.129,14.506,13.61]]},{\"title\":\"Top 5 Countries with Highest Annual Inflation (CPI) for 1989\"}],\"label\":\"1989\",\"method\":\"update\"},{\"args\":[{\"x\":[[\"Zambia\",\"Egypt\",\"Zimbabwe\",\"South Africa\",\"Kenya\"]],\"y\":[[109.558,21.219,17.4,14.286,11.2]]},{\"title\":\"Top 5 Countries with Highest Annual Inflation (CPI) for 1990\"}],\"label\":\"1990\",\"method\":\"update\"},{\"args\":[{\"x\":[[\"Zambia\",\"Angola\",\"Algeria\",\"Zimbabwe\",\"Kenya\"]],\"y\":[[97.701,85.265,25.9,24.0,19.104]]},{\"title\":\"Top 5 Countries with Highest Annual Inflation (CPI) for 1991\"}],\"label\":\"1991\",\"method\":\"update\"},{\"args\":[{\"x\":[[\"Angola\",\"Zambia\",\"Nigeria\",\"Zimbabwe\",\"Algeria\"]],\"y\":[[299.097,165.725,44.565,41.6,31.7]]},{\"title\":\"Top 5 Countries with Highest Annual Inflation (CPI) for 1992\"}],\"label\":\"1992\",\"method\":\"update\"},{\"args\":[{\"x\":[[\"Angola\",\"Zambia\",\"Nigeria\",\"Kenya\",\"Zimbabwe\"]],\"y\":[[1379.476,183.263,57.143,45.979,28.2]]},{\"title\":\"Top 5 Countries with Highest Annual Inflation (CPI) for 1993\"}],\"label\":\"1993\",\"method\":\"update\"},{\"args\":[{\"x\":[[\"Angola\",\"Nigeria\",\"Zambia\",\"Algeria\",\"Kenya\"]],\"y\":[[949.771,57.416,54.614,29.0,28.814]]},{\"title\":\"Top 5 Countries with Highest Annual Inflation (CPI) for 1994\"}],\"label\":\"1994\",\"method\":\"update\"},{\"args\":[{\"x\":[[\"Angola\",\"Nigeria\",\"Zambia\",\"Algeria\",\"Zimbabwe\"]],\"y\":[[2672.23,72.729,34.905,29.8,25.80873955]]},{\"title\":\"Top 5 Countries with Highest Annual Inflation (CPI) for 1995\"}],\"label\":\"1995\",\"method\":\"update\"},{\"args\":[{\"x\":[[\"Angola\",\"Zambia\",\"Nigeria\",\"Algeria\",\"Zimbabwe\"]],\"y\":[[4146.01,43.095,29.292,18.7,16.40028408]]},{\"title\":\"Top 5 Countries with Highest Annual Inflation (CPI) for 1996\"}],\"label\":\"1996\",\"method\":\"update\"},{\"args\":[{\"x\":[[\"Angola\",\"Zambia\",\"Zimbabwe\",\"Kenya\",\"Nigeria\"]],\"y\":[[221.492,24.41,20.0650384,11.924,10.673]]},{\"title\":\"Top 5 Countries with Highest Annual Inflation (CPI) for 1997\"}],\"label\":\"1997\",\"method\":\"update\"},{\"args\":[{\"x\":[[\"Angola\",\"Zimbabwe\",\"Zambia\",\"Nigeria\",\"South Africa\"]],\"y\":[[107.429,46.61127497,24.456,7.862,6.872]]},{\"title\":\"Top 5 Countries with Highest Annual Inflation (CPI) for 1998\"}],\"label\":\"1998\",\"method\":\"update\"},{\"args\":[{\"x\":[[\"Angola\",\"Zimbabwe\",\"Zambia\",\"Mauritius\",\"Nigeria\"]],\"y\":[[248.248,56.92320336,26.79,6.872,6.618]]},{\"title\":\"Top 5 Countries with Highest Annual Inflation (CPI) for 1999\"}],\"label\":\"1999\",\"method\":\"update\"},{\"args\":[{\"x\":[[\"Angola\",\"Zimbabwe\",\"Zambia\",\"Kenya\",\"Nigeria\"]],\"y\":[[325.029,55.20369616,26.1,9.955,6.938]]},{\"title\":\"Top 5 Countries with Highest Annual Inflation (CPI) for 2000\"}],\"label\":\"2000\",\"method\":\"update\"},{\"args\":[{\"x\":[[\"Angola\",\"Zimbabwe\",\"Zambia\",\"Nigeria\",\"Kenya\"]],\"y\":[[152.586,112.1184112,21.357,18.869,5.824]]},{\"title\":\"Top 5 Countries with Highest Annual Inflation (CPI) for 2001\"}],\"label\":\"2001\",\"method\":\"update\"},{\"args\":[{\"x\":[[\"Zimbabwe\",\"Angola\",\"Zambia\",\"Nigeria\",\"South Africa\"]],\"y\":[[198.928606,108.893,22.239,12.883,9.177]]},{\"title\":\"Top 5 Countries with Highest Annual Inflation (CPI) for 2002\"}],\"label\":\"2002\",\"method\":\"update\"},{\"args\":[{\"x\":[[\"Zimbabwe\",\"Angola\",\"Zambia\",\"Nigeria\",\"Kenya\"]],\"y\":[[598.7447505,98.342,21.4,14.033,5.983]]},{\"title\":\"Top 5 Countries with Highest Annual Inflation (CPI) for 2003\"}],\"label\":\"2003\",\"method\":\"update\"},{\"args\":[{\"x\":[[\"Zimbabwe\",\"Angola\",\"Zambia\",\"Nigeria\",\"Kenya\"]],\"y\":[[132.7467739,43.559,17.969,15.001,8.381]]},{\"title\":\"Top 5 Countries with Highest Annual Inflation (CPI) for 2004\"}],\"label\":\"2004\",\"method\":\"update\"},{\"args\":[{\"x\":[[\"Zimbabwe\",\"Angola\",\"Zambia\",\"Nigeria\",\"Egypt\"]],\"y\":[[585.8443656,22.961,18.325,17.856,8.826]]},{\"title\":\"Top 5 Countries with Highest Annual Inflation (CPI) for 2005\"}],\"label\":\"2005\",\"method\":\"update\"},{\"args\":[{\"x\":[[\"Zimbabwe\",\"Angola\",\"Zambia\",\"Mauritius\",\"Nigeria\"]],\"y\":[[1281.113605,13.305,9.017,8.93,8.218]]},{\"title\":\"Top 5 Countries with Highest Annual Inflation (CPI) for 2006\"}],\"label\":\"2006\",\"method\":\"update\"},{\"args\":[{\"x\":[[\"Zimbabwe\",\"Angola\",\"Egypt\",\"Zambia\",\"Mauritius\"]],\"y\":[[66279.89237,12.249,10.959,10.655,8.827]]},{\"title\":\"Top 5 Countries with Highest Annual Inflation (CPI) for 2007\"}],\"label\":\"2007\",\"method\":\"update\"},{\"args\":[{\"x\":[[\"Zimbabwe\",\"Kenya\",\"Angola\",\"Zambia\",\"Egypt\"]],\"y\":[[21989695.22,15.101,12.465,12.449,11.698]]},{\"title\":\"Top 5 Countries with Highest Annual Inflation (CPI) for 2008\"}],\"label\":\"2008\",\"method\":\"update\"},{\"args\":[{\"x\":[[\"Egypt\",\"Angola\",\"Zambia\",\"Nigeria\",\"Kenya\"]],\"y\":[[16.24,13.721,13.392,12.543,10.552]]},{\"title\":\"Top 5 Countries with Highest Annual Inflation (CPI) for 2009\"}],\"label\":\"2009\",\"method\":\"update\"},{\"args\":[{\"x\":[[\"Angola\",\"Nigeria\",\"Egypt\",\"Zambia\",\"Tunisia\"]],\"y\":[[14.48,13.72,11.69,8.5,4.409]]},{\"title\":\"Top 5 Countries with Highest Annual Inflation (CPI) for 2010\"}],\"label\":\"2010\",\"method\":\"update\"},{\"args\":[{\"x\":[[\"Kenya\",\"Angola\",\"Egypt\",\"Nigeria\",\"Zambia\"]],\"y\":[[14.022,13.484,11.09,10.841,8.658]]},{\"title\":\"Top 5 Countries with Highest Annual Inflation (CPI) for 2011\"}],\"label\":\"2011\",\"method\":\"update\"},{\"args\":[{\"x\":[[\"Nigeria\",\"Angola\",\"Kenya\",\"Algeria\",\"Egypt\"]],\"y\":[[12.225,10.285,9.378,8.916,8.65]]},{\"title\":\"Top 5 Countries with Highest Annual Inflation (CPI) for 2012\"}],\"label\":\"2012\",\"method\":\"update\"},{\"args\":[{\"x\":[[\"Angola\",\"Nigeria\",\"Zambia\",\"Egypt\",\"Central African Republic\"]],\"y\":[[8.782,8.495,6.978,6.914,6.552]]},{\"title\":\"Top 5 Countries with Highest Annual Inflation (CPI) for 2013\"}],\"label\":\"2013\",\"method\":\"update\"},{\"args\":[{\"x\":[[\"Central African Republic\",\"Egypt\",\"Nigeria\",\"Zambia\",\"Angola\"]],\"y\":[[11.584,10.099,8.048,7.811,7.296]]},{\"title\":\"Top 5 Countries with Highest Annual Inflation (CPI) for 2014\"}],\"label\":\"2014\",\"method\":\"update\"}],\"direction\":\"down\",\"showactive\":true}],\"height\":600,\"width\":900},                        {\"responsive\": true}                    ).then(function(){\n",
       "                            \n",
       "var gd = document.getElementById('ecc5aa93-296c-427f-bf24-92708d98517d');\n",
       "var x = new MutationObserver(function (mutations, observer) {{\n",
       "        var display = window.getComputedStyle(gd).display;\n",
       "        if (!display || display === 'none') {{\n",
       "            console.log([gd, 'removed!']);\n",
       "            Plotly.purge(gd);\n",
       "            observer.disconnect();\n",
       "        }}\n",
       "}});\n",
       "\n",
       "// Listen for the removal of the full notebook cells\n",
       "var notebookContainer = gd.closest('#notebook-container');\n",
       "if (notebookContainer) {{\n",
       "    x.observe(notebookContainer, {childList: true});\n",
       "}}\n",
       "\n",
       "// Listen for the clearing of the current output cell\n",
       "var outputEl = gd.closest('.output');\n",
       "if (outputEl) {{\n",
       "    x.observe(outputEl, {childList: true});\n",
       "}}\n",
       "\n",
       "                        })                };                });            </script>        </div>"
      ]
     },
     "metadata": {},
     "output_type": "display_data"
    }
   ],
   "source": [
    "df_top5 = df.sort_values(['year', 'inflation_annual_cpi'], ascending=[True, False]) \\\n",
    "             .groupby('year').head(5)\n",
    "\n",
    "years = df_top5['year'].unique()\n",
    "\n",
    "fig = px.bar(df_top5[df_top5['year'] == years[0]], x='country', y='inflation_annual_cpi',\n",
    "             title=f\"Top 5 Countries with Highest Annual Inflation (CPI) for {years[0]}\",\n",
    "             labels={'inflation_annual_cpi': 'Inflation Annual CPI'})\n",
    "\n",
    "dropdown_buttons = [\n",
    "    {\n",
    "        'label': str(year),\n",
    "        'method': 'update',\n",
    "        'args': [\n",
    "            {'x': [df_top5[df_top5['year'] == year]['country']],  # Update x-axis\n",
    "             'y': [df_top5[df_top5['year'] == year]['inflation_annual_cpi']]},  # Update y-axis\n",
    "            {'title': f\"Top 5 Countries with Highest Annual Inflation (CPI) for {year}\"}  # Update title\n",
    "        ]\n",
    "    }\n",
    "    for year in years\n",
    "]\n",
    "\n",
    "fig.update_layout(\n",
    "    updatemenus=[\n",
    "        {\n",
    "            'buttons': dropdown_buttons,\n",
    "            'direction': 'down',\n",
    "            'showactive': True,\n",
    "        }\n",
    "    ],\n",
    "    xaxis_title=\"Country\",\n",
    "    yaxis_title=\"Inflation Annual CPI\",\n",
    "    height=600,\n",
    "    width=900\n",
    ")\n",
    "\n",
    "fig.show()"
   ]
  },
  {
   "cell_type": "code",
   "execution_count": 82,
   "id": "36cac133-6779-4b3c-8028-97e9d156bf12",
   "metadata": {},
   "outputs": [],
   "source": [
    "from sklearn.preprocessing import LabelEncoder\n",
    "le=LabelEncoder()\n",
    "df['banking_crisis']=le.fit_transform(df['banking_crisis'])\n",
    "df['country_code']=le.fit_transform(df['country_code'])"
   ]
  },
  {
   "cell_type": "code",
   "execution_count": 83,
   "id": "76c7472f-4b2a-4f7c-b266-e0c7cb99f71d",
   "metadata": {},
   "outputs": [
    {
     "data": {
      "text/plain": [
       "0        3\n",
       "1        3\n",
       "2        3\n",
       "3        3\n",
       "4        3\n",
       "        ..\n",
       "1054    12\n",
       "1055    12\n",
       "1056    12\n",
       "1057    12\n",
       "1058    12\n",
       "Name: country_code, Length: 1059, dtype: int32"
      ]
     },
     "execution_count": 83,
     "metadata": {},
     "output_type": "execute_result"
    }
   ],
   "source": [
    "df['country_code']"
   ]
  },
  {
   "cell_type": "code",
   "execution_count": 86,
   "id": "4e7be5d3-3e90-4867-aa4b-662418fb7f11",
   "metadata": {},
   "outputs": [],
   "source": [
    "df = df.drop('country', axis = 1)"
   ]
  },
  {
   "cell_type": "code",
   "execution_count": 87,
   "id": "0f30846d-eccc-4756-a9db-e8e6bcceb927",
   "metadata": {},
   "outputs": [
    {
     "data": {
      "text/html": [
       "<div>\n",
       "<style scoped>\n",
       "    .dataframe tbody tr th:only-of-type {\n",
       "        vertical-align: middle;\n",
       "    }\n",
       "\n",
       "    .dataframe tbody tr th {\n",
       "        vertical-align: top;\n",
       "    }\n",
       "\n",
       "    .dataframe thead th {\n",
       "        text-align: right;\n",
       "    }\n",
       "</style>\n",
       "<table border=\"1\" class=\"dataframe\">\n",
       "  <thead>\n",
       "    <tr style=\"text-align: right;\">\n",
       "      <th></th>\n",
       "      <th>country_number</th>\n",
       "      <th>country_code</th>\n",
       "      <th>year</th>\n",
       "      <th>systemic_crisis</th>\n",
       "      <th>exch_usd</th>\n",
       "      <th>domestic_debt_in_default</th>\n",
       "      <th>sovereign_external_debt_default</th>\n",
       "      <th>gdp_weighted_default</th>\n",
       "      <th>inflation_annual_cpi</th>\n",
       "      <th>independence</th>\n",
       "      <th>currency_crises</th>\n",
       "      <th>inflation_crises</th>\n",
       "      <th>banking_crisis</th>\n",
       "    </tr>\n",
       "  </thead>\n",
       "  <tbody>\n",
       "    <tr>\n",
       "      <th>0</th>\n",
       "      <td>1</td>\n",
       "      <td>3</td>\n",
       "      <td>1870</td>\n",
       "      <td>1</td>\n",
       "      <td>0.052264</td>\n",
       "      <td>0</td>\n",
       "      <td>0</td>\n",
       "      <td>0.0</td>\n",
       "      <td>3.441456</td>\n",
       "      <td>0</td>\n",
       "      <td>0</td>\n",
       "      <td>0</td>\n",
       "      <td>0</td>\n",
       "    </tr>\n",
       "    <tr>\n",
       "      <th>1</th>\n",
       "      <td>1</td>\n",
       "      <td>3</td>\n",
       "      <td>1871</td>\n",
       "      <td>0</td>\n",
       "      <td>0.052798</td>\n",
       "      <td>0</td>\n",
       "      <td>0</td>\n",
       "      <td>0.0</td>\n",
       "      <td>14.149140</td>\n",
       "      <td>0</td>\n",
       "      <td>0</td>\n",
       "      <td>0</td>\n",
       "      <td>1</td>\n",
       "    </tr>\n",
       "    <tr>\n",
       "      <th>2</th>\n",
       "      <td>1</td>\n",
       "      <td>3</td>\n",
       "      <td>1872</td>\n",
       "      <td>0</td>\n",
       "      <td>0.052274</td>\n",
       "      <td>0</td>\n",
       "      <td>0</td>\n",
       "      <td>0.0</td>\n",
       "      <td>-3.718593</td>\n",
       "      <td>0</td>\n",
       "      <td>0</td>\n",
       "      <td>0</td>\n",
       "      <td>1</td>\n",
       "    </tr>\n",
       "    <tr>\n",
       "      <th>3</th>\n",
       "      <td>1</td>\n",
       "      <td>3</td>\n",
       "      <td>1873</td>\n",
       "      <td>0</td>\n",
       "      <td>0.051680</td>\n",
       "      <td>0</td>\n",
       "      <td>0</td>\n",
       "      <td>0.0</td>\n",
       "      <td>11.203897</td>\n",
       "      <td>0</td>\n",
       "      <td>0</td>\n",
       "      <td>0</td>\n",
       "      <td>1</td>\n",
       "    </tr>\n",
       "    <tr>\n",
       "      <th>4</th>\n",
       "      <td>1</td>\n",
       "      <td>3</td>\n",
       "      <td>1874</td>\n",
       "      <td>0</td>\n",
       "      <td>0.051308</td>\n",
       "      <td>0</td>\n",
       "      <td>0</td>\n",
       "      <td>0.0</td>\n",
       "      <td>-3.848561</td>\n",
       "      <td>0</td>\n",
       "      <td>0</td>\n",
       "      <td>0</td>\n",
       "      <td>1</td>\n",
       "    </tr>\n",
       "    <tr>\n",
       "      <th>...</th>\n",
       "      <td>...</td>\n",
       "      <td>...</td>\n",
       "      <td>...</td>\n",
       "      <td>...</td>\n",
       "      <td>...</td>\n",
       "      <td>...</td>\n",
       "      <td>...</td>\n",
       "      <td>...</td>\n",
       "      <td>...</td>\n",
       "      <td>...</td>\n",
       "      <td>...</td>\n",
       "      <td>...</td>\n",
       "      <td>...</td>\n",
       "    </tr>\n",
       "    <tr>\n",
       "      <th>1054</th>\n",
       "      <td>70</td>\n",
       "      <td>12</td>\n",
       "      <td>2009</td>\n",
       "      <td>1</td>\n",
       "      <td>354.800000</td>\n",
       "      <td>1</td>\n",
       "      <td>1</td>\n",
       "      <td>0.0</td>\n",
       "      <td>-7.670000</td>\n",
       "      <td>1</td>\n",
       "      <td>1</td>\n",
       "      <td>0</td>\n",
       "      <td>0</td>\n",
       "    </tr>\n",
       "    <tr>\n",
       "      <th>1055</th>\n",
       "      <td>70</td>\n",
       "      <td>12</td>\n",
       "      <td>2010</td>\n",
       "      <td>0</td>\n",
       "      <td>378.200000</td>\n",
       "      <td>1</td>\n",
       "      <td>1</td>\n",
       "      <td>0.0</td>\n",
       "      <td>3.217000</td>\n",
       "      <td>1</td>\n",
       "      <td>0</td>\n",
       "      <td>0</td>\n",
       "      <td>1</td>\n",
       "    </tr>\n",
       "    <tr>\n",
       "      <th>1056</th>\n",
       "      <td>70</td>\n",
       "      <td>12</td>\n",
       "      <td>2011</td>\n",
       "      <td>0</td>\n",
       "      <td>361.900000</td>\n",
       "      <td>1</td>\n",
       "      <td>1</td>\n",
       "      <td>0.0</td>\n",
       "      <td>4.920000</td>\n",
       "      <td>1</td>\n",
       "      <td>0</td>\n",
       "      <td>0</td>\n",
       "      <td>1</td>\n",
       "    </tr>\n",
       "    <tr>\n",
       "      <th>1057</th>\n",
       "      <td>70</td>\n",
       "      <td>12</td>\n",
       "      <td>2012</td>\n",
       "      <td>0</td>\n",
       "      <td>361.900000</td>\n",
       "      <td>1</td>\n",
       "      <td>1</td>\n",
       "      <td>0.0</td>\n",
       "      <td>3.720000</td>\n",
       "      <td>1</td>\n",
       "      <td>0</td>\n",
       "      <td>0</td>\n",
       "      <td>1</td>\n",
       "    </tr>\n",
       "    <tr>\n",
       "      <th>1058</th>\n",
       "      <td>70</td>\n",
       "      <td>12</td>\n",
       "      <td>2013</td>\n",
       "      <td>0</td>\n",
       "      <td>361.900000</td>\n",
       "      <td>1</td>\n",
       "      <td>1</td>\n",
       "      <td>0.0</td>\n",
       "      <td>1.632000</td>\n",
       "      <td>1</td>\n",
       "      <td>0</td>\n",
       "      <td>0</td>\n",
       "      <td>1</td>\n",
       "    </tr>\n",
       "  </tbody>\n",
       "</table>\n",
       "<p>1059 rows × 13 columns</p>\n",
       "</div>"
      ],
      "text/plain": [
       "      country_number  country_code  year  systemic_crisis    exch_usd  \\\n",
       "0                  1             3  1870                1    0.052264   \n",
       "1                  1             3  1871                0    0.052798   \n",
       "2                  1             3  1872                0    0.052274   \n",
       "3                  1             3  1873                0    0.051680   \n",
       "4                  1             3  1874                0    0.051308   \n",
       "...              ...           ...   ...              ...         ...   \n",
       "1054              70            12  2009                1  354.800000   \n",
       "1055              70            12  2010                0  378.200000   \n",
       "1056              70            12  2011                0  361.900000   \n",
       "1057              70            12  2012                0  361.900000   \n",
       "1058              70            12  2013                0  361.900000   \n",
       "\n",
       "      domestic_debt_in_default  sovereign_external_debt_default  \\\n",
       "0                            0                                0   \n",
       "1                            0                                0   \n",
       "2                            0                                0   \n",
       "3                            0                                0   \n",
       "4                            0                                0   \n",
       "...                        ...                              ...   \n",
       "1054                         1                                1   \n",
       "1055                         1                                1   \n",
       "1056                         1                                1   \n",
       "1057                         1                                1   \n",
       "1058                         1                                1   \n",
       "\n",
       "      gdp_weighted_default  inflation_annual_cpi  independence  \\\n",
       "0                      0.0              3.441456             0   \n",
       "1                      0.0             14.149140             0   \n",
       "2                      0.0             -3.718593             0   \n",
       "3                      0.0             11.203897             0   \n",
       "4                      0.0             -3.848561             0   \n",
       "...                    ...                   ...           ...   \n",
       "1054                   0.0             -7.670000             1   \n",
       "1055                   0.0              3.217000             1   \n",
       "1056                   0.0              4.920000             1   \n",
       "1057                   0.0              3.720000             1   \n",
       "1058                   0.0              1.632000             1   \n",
       "\n",
       "      currency_crises  inflation_crises  banking_crisis  \n",
       "0                   0                 0               0  \n",
       "1                   0                 0               1  \n",
       "2                   0                 0               1  \n",
       "3                   0                 0               1  \n",
       "4                   0                 0               1  \n",
       "...               ...               ...             ...  \n",
       "1054                1                 0               0  \n",
       "1055                0                 0               1  \n",
       "1056                0                 0               1  \n",
       "1057                0                 0               1  \n",
       "1058                0                 0               1  \n",
       "\n",
       "[1059 rows x 13 columns]"
      ]
     },
     "execution_count": 87,
     "metadata": {},
     "output_type": "execute_result"
    }
   ],
   "source": [
    "df"
   ]
  },
  {
   "cell_type": "code",
   "execution_count": 88,
   "id": "de471584-6787-496b-9eae-cc0d04d488d6",
   "metadata": {},
   "outputs": [],
   "source": [
    "X=df.drop('banking_crisis',axis=1)\n",
    "y=df['banking_crisis']"
   ]
  },
  {
   "cell_type": "code",
   "execution_count": 89,
   "id": "055dd29c-e531-43a8-a39e-e193db5074a9",
   "metadata": {},
   "outputs": [],
   "source": [
    "from sklearn.model_selection import train_test_split\n",
    "X_train, X_test, y_train, y_test = train_test_split(X,y, test_size = 0.20, random_state=42)"
   ]
  },
  {
   "cell_type": "code",
   "execution_count": 90,
   "id": "e11a673e-cd03-4837-ab9e-fe4519936e60",
   "metadata": {},
   "outputs": [],
   "source": [
    "from sklearn.preprocessing import MinMaxScaler\n",
    "\n",
    "mmscaler = MinMaxScaler(feature_range=(0, 1))\n",
    "\n",
    "X_train = mmscaler.fit_transform(X_train)\n",
    "\n",
    "X_test = mmscaler.transform(X_test)\n",
    "\n",
    "X_train = pd.DataFrame(X_train)\n",
    "X_test = pd.DataFrame(X_test)\n"
   ]
  },
  {
   "cell_type": "code",
   "execution_count": 94,
   "id": "d37a2d78-f1f6-4469-8774-e6f62868dcce",
   "metadata": {},
   "outputs": [],
   "source": [
    "from sklearn.tree import DecisionTreeClassifier\n",
    "from sklearn.metrics import accuracy_score, confusion_matrix, classification_report, roc_auc_score, f1_score"
   ]
  },
  {
   "cell_type": "code",
   "execution_count": 97,
   "id": "b9ab7abb-6ddf-4756-b3d9-213ed80531d5",
   "metadata": {},
   "outputs": [
    {
     "name": "stdout",
     "output_type": "stream",
     "text": [
      "Accuracy: 0.96\n",
      "Confusion Matrix:\n",
      "[[ 17   1]\n",
      " [  7 187]]\n",
      "Classification Report:\n",
      "              precision    recall  f1-score   support\n",
      "\n",
      "           0       0.71      0.94      0.81        18\n",
      "           1       0.99      0.96      0.98       194\n",
      "\n",
      "    accuracy                           0.96       212\n",
      "   macro avg       0.85      0.95      0.89       212\n",
      "weighted avg       0.97      0.96      0.96       212\n",
      "\n",
      "F1 Score: 0.98\n",
      "ROC AUC Score: 0.95\n"
     ]
    }
   ],
   "source": [
    "model=DecisionTreeClassifier()\n",
    "model.fit(X_train, y_train)\n",
    "y_pred=model.predict(X_test)\n",
    "\n",
    "accuracy = accuracy_score(y_test, y_pred)\n",
    "print(f'Accuracy: {accuracy:.2f}')\n",
    "\n",
    "conf_matrix = confusion_matrix(y_test, y_pred)\n",
    "print(f'Confusion Matrix:\\n{conf_matrix}')\n",
    "\n",
    "class_report = classification_report(y_test, y_pred)\n",
    "print(f'Classification Report:\\n{class_report}')\n",
    "\n",
    "f1 = f1_score(y_test, y_pred)\n",
    "print(f'F1 Score: {f1:.2f}')\n",
    "\n",
    "roc_auc = roc_auc_score(y_test, model.predict_proba(X_test)[:, 1]) \n",
    "print(f'ROC AUC Score: {roc_auc:.2f}')"
   ]
  },
  {
   "cell_type": "code",
   "execution_count": null,
   "id": "436709fc-32b3-446b-8f90-51b3c329d5b1",
   "metadata": {},
   "outputs": [],
   "source": []
  }
 ],
 "metadata": {
  "kernelspec": {
   "display_name": "Python 3 (ipykernel)",
   "language": "python",
   "name": "python3"
  },
  "language_info": {
   "codemirror_mode": {
    "name": "ipython",
    "version": 3
   },
   "file_extension": ".py",
   "mimetype": "text/x-python",
   "name": "python",
   "nbconvert_exporter": "python",
   "pygments_lexer": "ipython3",
   "version": "3.12.4"
  }
 },
 "nbformat": 4,
 "nbformat_minor": 5
}
